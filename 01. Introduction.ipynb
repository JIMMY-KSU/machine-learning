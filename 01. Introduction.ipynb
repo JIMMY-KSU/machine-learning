{
 "cells": [
  {
   "cell_type": "markdown",
   "metadata": {},
   "source": [
    "<div align='left' style=\"width:400px;height:120px;overflow:hidden;\">\n",
    "<a href='http://www.uff.br'>\n",
    "<img align='left' style='display: block;height: 92%' src='imgs/UFF.png' alt='UFF logo' title='UFF logo'/>\n",
    "</a>\n",
    "<a href='http://www.ic.uff.br'>\n",
    "<img align='left' style='display: block;height: 100%' src='imgs/logo-ic.png' alt='IC logo' title='IC logo'/>\n",
    "</a>\n",
    "</div>"
   ]
  },
  {
   "cell_type": "markdown",
   "metadata": {},
   "source": [
    "# Machine Learning: Introduction"
   ]
  },
  {
   "cell_type": "markdown",
   "metadata": {},
   "source": [
    "### [Luis Martí](http://lmarti.com)\n",
    "#### [Instituto de Computação](http://www.ic.uff)\n",
    "#### [Universidade Federal Fluminense](http://www.uff.br)\n",
    "#### [`http://lmarti.com/2016-1-ml`](http://lmarti.com/2016-1-ml)"
   ]
  },
  {
   "cell_type": "markdown",
   "metadata": {
    "slideshow": {
     "slide_type": "slide"
    }
   },
   "source": [
    "### About the notebook/slides\n",
    "\n",
    "* The slides are _programmed_ as a [Jupyter](http://jupyter.org)/[IPython](https://ipython.org/) notebook.\n",
    "* **Feel free to try them and experiment on your own by launching the notebooks.**\n",
    "\n",
    "* You can run the notebook online: [![Binder](http://mybinder.org/badge.svg)](http://mybinder.org/repo/lmarti/machine-learning)"
   ]
  },
  {
   "cell_type": "markdown",
   "metadata": {
    "slideshow": {
     "slide_type": "skip"
    }
   },
   "source": [
    "If you are using [nbviewer](http://nbviewer.jupyter.org) you can change to slides mode by clicking on the icon:\n",
    "\n",
    "<div class=\"container-fluid\">\n",
    "  <div class=\"row\">\n",
    "      <div class=\"col-md-3\"><span/></div>\n",
    "      <div class=\"col-md-6\">\n",
    "      <div class='well well-sm'>\n",
    "              <img src='imgs/view-as-slides.png'/>\n",
    "      </div>\n",
    "      </div>\n",
    "      <div class=\"col-md-3\" align='center'><span/></div>\n",
    "  </div>\n",
    "</div>"
   ]
  },
  {
   "cell_type": "markdown",
   "metadata": {
    "slideshow": {
     "slide_type": "slide"
    }
   },
   "source": [
    "## [Machine learning](https://en.wikipedia.org/wiki/Machine_learning)\n",
    "\n",
    "Programs with **parameters** that **automatically** **adjust** by **adapting** to previously seen **data**.\n",
    "<br/>\n",
    "<div class=\"container-fluid\">\n",
    "  <div class=\"row\">\n",
    "      <div class=\"col-md-3\"><span/></div>\n",
    "      <div class=\"col-md-6\">\n",
    "          <div class='well'>\n",
    "              <img class='img-thumbnail' src='imgs/01/machine-learning.png'/>\n",
    "          </div>\n",
    "      </div>\n",
    "      <div class=\"col-md-3\" align='center'><span/></div>\n",
    "  </div>\n",
    "</div>"
   ]
  },
  {
   "cell_type": "markdown",
   "metadata": {
    "slideshow": {
     "slide_type": "slide"
    }
   },
   "source": [
    "* Machine learning can be considered a subfield of **artificial intelligence**...\n",
    "* ...since those algorithms can be seen as building blocks to make computers learn to behave more intelligently.\n",
    "* **Generalize** instead of that just storing and retrieving data items like a database system would do."
   ]
  },
  {
   "cell_type": "markdown",
   "metadata": {
    "slideshow": {
     "slide_type": "slide"
    }
   },
   "source": [
    "## Machine learning: A modern alchemy"
   ]
  },
  {
   "cell_type": "markdown",
   "metadata": {},
   "source": [
    "<div class=\"container-fluid\">\n",
    "<div class=\"row\">\n",
    "<div class=\"col-md-9\">\n",
    "<ul>\n",
    "<li> Data is more abundant -and least expensive- than knowledge.</li>\n",
    "<li> Professionals from various areas of industry work on a particular philosopher's stone:</li>\n",
    "</ul>\n",
    "<h3><center>Turn data into knowledge!</center></h3>\n",
    "</div>\n",
    "<div class=\"col-md-2\">\n",
    "<img src=\"https://upload.wikimedia.org/wikipedia/commons/4/40/Raimundus_Lullus_alchemic_page.jpg\"/>\n",
    "<small>Alchemic treatise of [Ramon Llull](https://en.wikipedia.org/wiki/Ramon_Llull).</small>\n",
    "</div>\n",
    "<div class=\"col-md-1\">\n",
    "<span></span>\n",
    "</div>\n",
    "</div>\n",
    "</div>"
   ]
  },
  {
   "cell_type": "markdown",
   "metadata": {
    "slideshow": {
     "slide_type": "slide"
    }
   },
   "source": [
    "**Intelligent systems** find patterns and discover relations that are latent in large volumes of data.\n",
    "\n",
    "Features of intelligent systems:\n",
    "\n",
    "* Learning\n",
    "* Adaptation\n",
    "* Flexibility and robustness\n",
    "* Provide explanations\n",
    "* Discovery/creativity"
   ]
  },
  {
   "cell_type": "markdown",
   "metadata": {
    "slideshow": {
     "slide_type": "slide"
    }
   },
   "source": [
    "### Learning\n",
    "\n",
    "> Learning is the act of acquiring new, or modifying and reinforcing, existing knowledge, behaviors, skills, values, or preferences and may involve synthesizing different types of information.\n",
    "\n",
    "* Construction and study of systems that can learn from data."
   ]
  },
  {
   "cell_type": "markdown",
   "metadata": {
    "slideshow": {
     "slide_type": "slide"
    }
   },
   "source": [
    "### Adaptation\n",
    "* The environment/real world is in constant change.\n",
    "* The capacity to adapt implies to be able to modify what has been learn in order to cope with those modifications.\n",
    "* There are many real-world cases:\n",
    "    * Changes in economy\n",
    "    * Wear of mechanic parts of a robot\n",
    "* In many instances the capacity to adapt is essential to solve the problem $\\rightarrow$ *continuous learning*.\n"
   ]
  },
  {
   "cell_type": "markdown",
   "metadata": {
    "slideshow": {
     "slide_type": "slide"
    }
   },
   "source": [
    "### Flexibility and robustness\n",
    "* It is required to have a robust and consistent system.\n",
    "    * Similar inputs should generate consistent outputs.\n",
    "* Self-organization\n",
    "* 'Classical' approaches based on Boolean algebra and logic have limited flexibility."
   ]
  },
  {
   "cell_type": "markdown",
   "metadata": {
    "slideshow": {
     "slide_type": "slide"
    }
   },
   "source": [
    "### Explanations\n",
    "\n",
    "* Explanations are necessary to validate and find directions for improvement.\n",
    "* It is not enough to automate the decision making process.\n",
    "    * In many context explanations are necessary: medicine, credit evaluation, etc.\n",
    "* They are important if a human expert takes part of the decission loop.\n",
    "* Machine learning can become a research tool."
   ]
  },
  {
   "cell_type": "markdown",
   "metadata": {
    "slideshow": {
     "slide_type": "slide"
    }
   },
   "source": [
    "### Discovery/creativity\n",
    "\n",
    "* Capacity of discovering processes and/or relations previously unknown.\n",
    "* Creation of solution and artifacts.\n",
    "\n",
    "Example: Evolving cars with genetic algorithms: http://www.boxcar2d.com/."
   ]
  },
  {
   "cell_type": "markdown",
   "metadata": {
    "slideshow": {
     "slide_type": "slide"
    }
   },
   "source": [
    "More formally, the machine learning can be described as:\n",
    "$\\renewcommand{\\vec}[1]{\\mathbf{#1}}$\n",
    "\n",
    "* Having a **process** $\\mathbf{F}:\\mathcal{D}\\rightarrow\\mathcal{I}$ that **transforms** a given $\\vec{x}\\in\\mathcal{D}$'s in a $\\vec{y}$. \n",
    "* Construct on a dataset $\\Psi=\\left\\{\\left<\\vec{x}_i,\\vec{y}_i\\right>\\right\\}$ with $i=1,\\ldots,N$.\n",
    "* Each $\\left<\\vec{x}_i,\\vec{y}_i\\right>$ represents an **input** and its corresponding **expected output**: $\\vec{y}_i=\\mathbf{F}\\left(\\vec{x}_i\\right)$.\n",
    "* **Optimize** a **model** $\\mathbf{M}(\\vec{x};\\vec{\\theta})$ by adjusting its parameters $\\vec{\\theta}$.\n",
    "    * Make $\\mathbf{M}()$ to be as similar as possible to $\\mathbf{F}()$ by optimizing one or more error (loss) functions.\n",
    "\n",
    "*Note*: Generally, $\\mathcal{D}\\subseteq\\mathbb{R}^n$; the definition of $\\mathcal{I}$ depends on the problem."
   ]
  },
  {
   "cell_type": "markdown",
   "metadata": {
    "slideshow": {
     "slide_type": "slide"
    }
   },
   "source": [
    "## Classes of machine learning problems \n",
    "\n",
    "* *Classification*: $\\mathbf{F}: \\mathcal{D}\\rightarrow\\left\\{1,\\ldots, k\\right\\}$; $\\mathbf{F}(\\cdot)$ defines 'categories' or 'classes' labels.\n",
    "* *Regression*: $\\mathbf{F}: \\mathbb{R}^n\\rightarrow\\mathbb{R}$; it is necessary to predict a real-valued output instead of categories.\n",
    "* *Density estimation*: predicit a function $p_\\mathrm{model}: \\mathbb{R}^n\\rightarrow\\mathbb{R}$, where $p_\\mathrm{model}(\\vec{x})$ can be interpreted as a [probability density function](https://en.wikipedia.org/wiki/Probability_density_function) on the set that the examples were drawn from.\n",
    "* *Clustering*: group a set of objects in such a way that objects in the same group (*cluster*) are more *similar* to each other than to those in other groups (clusters).\n",
    "* *Synthesis*: generate new examples that are similar to those in the training data.\n",
    "\n",
    "> Many more: [times-series](https://en.wikipedia.org/wiki/Time_series) analysis, [anomaly detection](https://en.wikipedia.org/wiki/Anomaly_detection), [imputation](https://en.wikipedia.org/wiki/Imputation), transcription, etc."
   ]
  },
  {
   "cell_type": "markdown",
   "metadata": {
    "slideshow": {
     "slide_type": "slide"
    }
   },
   "source": [
    "##  Supervised learning\n",
    "\n",
    "* Sometimes we can observe the pairs $\\left<\\vec{x}_i,\\vec{y}_i\\right>$:\n",
    "    * We can use the $\\vec{y}_i$'s to provide a *scalar feedback* on how good is the model $\\mathbf{M}(\\vec{x};\\vec{\\theta})$.\n",
    "    * That feed back is known as the *loss function*.\n",
    "    * Modify parameters $\\vec{\\theta}$ as to improve $\\mathbf{M}(\\vec{x};\\vec{\\theta})$ $\\rightarrow$ *learning*."
   ]
  },
  {
   "cell_type": "markdown",
   "metadata": {
    "slideshow": {
     "slide_type": "slide"
    }
   },
   "source": [
    "An example of a supervised problem (regression)"
   ]
  },
  {
   "cell_type": "code",
   "execution_count": 1,
   "metadata": {
    "collapsed": true
   },
   "outputs": [],
   "source": [
    "import numpy as np\n",
    "import matplotlib.pyplot as plt\n",
    "%matplotlib inline\n",
    "%config InlineBackend.figure_format = 'retina'"
   ]
  },
  {
   "cell_type": "code",
   "execution_count": 2,
   "metadata": {
    "collapsed": false,
    "slideshow": {
     "slide_type": "fragment"
    }
   },
   "outputs": [],
   "source": [
    "x = np.arange(100)\n",
    "y_real = np.sin(x/100*2*np.pi)"
   ]
  },
  {
   "cell_type": "code",
   "execution_count": 3,
   "metadata": {
    "collapsed": true,
    "slideshow": {
     "slide_type": "fragment"
    }
   },
   "outputs": [],
   "source": [
    "y_measured = y_real + (np.random.rand(100) - 0.5)/2 # simulating noise"
   ]
  },
  {
   "cell_type": "code",
   "execution_count": 4,
   "metadata": {
    "collapsed": false,
    "slideshow": {
     "slide_type": "subslide"
    }
   },
   "outputs": [
    {
     "data": {
      "image/png": "[encoded data removed]",
      "text/plain": [
       "<matplotlib.figure.Figure at 0x108f1b7b8>"
      ]
     },
     "metadata": {
      "image/png": {
       "height": 270,
       "width": 401
      }
     },
     "output_type": "display_data"
    }
   ],
   "source": [
    "plt.scatter(x,y_measured, marker='.', color='b', label='measured')\n",
    "plt.plot(x,y_real, color='magenta', label='real')\n",
    "plt.xlabel('x'); plt.ylabel('y'); plt.legend();"
   ]
  },
  {
   "cell_type": "markdown",
   "metadata": {
    "slideshow": {
     "slide_type": "slide"
    }
   },
   "source": [
    "We can now learn from the dataset $\\Psi=\\left\\{x, y_\\text{measured}\\right\\}$.\n",
    "* We are going to use a [support vector regressor](https://en.wikipedia.org/wiki/Support_vector_machine) from [`scikit-learn`](http://scikit-learn.org/).\n",
    "* Don't get too excited, you will have to program things 'by hand'."
   ]
  },
  {
   "cell_type": "markdown",
   "metadata": {
    "slideshow": {
     "slide_type": "slide"
    }
   },
   "source": [
    "Training (adjusting) SVR"
   ]
  },
  {
   "cell_type": "code",
   "execution_count": 5,
   "metadata": {
    "collapsed": true,
    "slideshow": {
     "slide_type": "-"
    }
   },
   "outputs": [],
   "source": [
    "from sklearn import svm"
   ]
  },
  {
   "cell_type": "code",
   "execution_count": 6,
   "metadata": {
    "collapsed": false
   },
   "outputs": [
    {
     "data": {
      "text/plain": [
       "SVR(C=1.0, cache_size=200, coef0=0.0, degree=3, epsilon=0.1, gamma='auto',\n",
       "  kernel='rbf', max_iter=-1, shrinking=True, tol=0.001, verbose=False)"
      ]
     },
     "execution_count": 6,
     "metadata": {},
     "output_type": "execute_result"
    }
   ],
   "source": [
    "clf = svm.SVR() # using default parameters\n",
    "clf.fit(x.reshape(-1, 1), y_measured)"
   ]
  },
  {
   "cell_type": "markdown",
   "metadata": {
    "slideshow": {
     "slide_type": "fragment"
    }
   },
   "source": [
    "We can now see how our SVR models the data."
   ]
  },
  {
   "cell_type": "code",
   "execution_count": 7,
   "metadata": {
    "collapsed": false
   },
   "outputs": [],
   "source": [
    "y_pred = clf.predict(x.reshape(-1, 1))"
   ]
  },
  {
   "cell_type": "code",
   "execution_count": 11,
   "metadata": {
    "collapsed": false,
    "slideshow": {
     "slide_type": "subslide"
    }
   },
   "outputs": [
    {
     "data": {
      "image/png": "[encoded data removed]",
      "text/plain": [
       "<matplotlib.figure.Figure at 0x1105d96d8>"
      ]
     },
     "metadata": {
      "image/png": {
       "height": 270,
       "width": 401
      }
     },
     "output_type": "display_data"
    }
   ],
   "source": [
    "plt.scatter(x, y_measured, marker='.', color='blue', label='measured')\n",
    "plt.plot(x, y_pred, color='green', label='predicted')\n",
    "plt.plot(x, y_real, color='magenta', label='real')\n",
    "plt.xlabel('x'); plt.ylabel('y'); plt.legend();"
   ]
  },
  {
   "cell_type": "markdown",
   "metadata": {},
   "source": [
    "We observe for the first time a negative fenomenum: *overfitting*."
   ]
  },
  {
   "cell_type": "markdown",
   "metadata": {
    "slideshow": {
     "slide_type": "slide"
    }
   },
   "source": [
    "## What if... we don't have a label?\n",
    "\n",
    "<br/>\n",
    "<div class=\"container-fluid\">\n",
    "  <div class=\"row\">\n",
    "      <div class=\"col-md-3\"><span/></div>\n",
    "      <div class=\"col-md-6\">\n",
    "          <div class='well'>\n",
    "              <img class='img-thumbnail' src='imgs/01/balls.jpg'/>\n",
    "          </div>\n",
    "      </div>\n",
    "      <div class=\"col-md-3\" align='center'><span/></div>\n",
    "  </div>\n",
    "</div>"
   ]
  },
  {
   "cell_type": "markdown",
   "metadata": {
    "slideshow": {
     "slide_type": "slide"
    }
   },
   "source": [
    "## [Unsupervised learning](http://en.wikipedia.org/wiki/Unsupervised_learning)\n",
    "\n",
    "In some cases we can just observe a series of items or values, e.g., $\\Psi=\\left\\{\\vec{x}_i\\right\\}$:\n",
    "* It is necessary to find the *hidden structure* of *unlabeled data*.\n",
    "* We need a measure of correctness of the model that does not requires an expected outcome.\n",
    "* Although, at first glance, it may look a bit awkward, this type of problem is very common.\n",
    "    \n",
    "    * Related to anomaly detection, clustering, etc.\n",
    "    \n"
   ]
  },
  {
   "cell_type": "markdown",
   "metadata": {
    "slideshow": {
     "slide_type": "slide"
    }
   },
   "source": [
    "## [Semi-supervised learning](http://en.wikipedia.org/wiki/Semi-supervised_learning):\n",
    "* Obtaining a supervised learning dataset can be expensive.\n",
    "* Some times it can be complemented with a \"cheaper\" unsupervised learning dataset.\n",
    "* What if we first learn as much as possible from unlabeled data and then use the labeled dataset.    "
   ]
  },
  {
   "cell_type": "markdown",
   "metadata": {
    "slideshow": {
     "slide_type": "slide"
    }
   },
   "source": [
    "## Reinforcement learning\n",
    "\n",
    "* Inspired by behaviorist psychology;\n",
    "* How to take actions in an environment so as to maximize some notion of cumulative reward?\n",
    "* Differs from standard supervised learning in that correct input/output pairs are never presented, \n",
    "* ...nor sub-optimal actions explicitly corrected. \n",
    "* Involves finding a balance between exploration (of uncharted territory) and exploitation (of current knowledge). "
   ]
  },
  {
   "cell_type": "markdown",
   "metadata": {
    "slideshow": {
     "slide_type": "slide"
    }
   },
   "source": [
    "## Problems types vs learning\n",
    "\n",
    "<br/>\n",
    "<div class=\"container-fluid\">\n",
    "  <div class=\"row\">\n",
    "      <div class=\"col-md-3\"><span/></div>\n",
    "      <div class=\"col-md-6\">\n",
    "          <div class='well'>\n",
    "              <img class='img-thumbnail' src='imgs/01/ml-problems-unlinked.png'/>\n",
    "          </div>\n",
    "      </div>\n",
    "      <div class=\"col-md-3\" align='center'><span/></div>\n",
    "  </div>\n",
    "</div>"
   ]
  },
  {
   "cell_type": "markdown",
   "metadata": {
    "slideshow": {
     "slide_type": "subslide"
    }
   },
   "source": [
    "## Problems types and learning\n",
    "\n",
    "<br/>\n",
    "<div class=\"container-fluid\">\n",
    "  <div class=\"row\">\n",
    "      <div class=\"col-md-3\"><span/></div>\n",
    "      <div class=\"col-md-6\">\n",
    "          <div class='well'>\n",
    "              <img class='img-thumbnail' src='imgs/01/ml-problems.png'/>\n",
    "          </div>\n",
    "      </div>\n",
    "      <div class=\"col-md-3\" align='center'><span/></div>\n",
    "  </div>\n",
    "</div>"
   ]
  },
  {
   "cell_type": "markdown",
   "metadata": {
    "slideshow": {
     "slide_type": "slide"
    }
   },
   "source": [
    "## Components of a machine learning problem/solution\n",
    "\n",
    "- *A parametrized family of functions* $\\mathbf{M}(\\vec{x};\\theta)$ describing how the learner will behave on new examples.\n",
    "    * What output $\\mathbf{M}(\\vec{x};\\theta)$ will produce given some input $\\vec{x}$?\n",
    "- *A loss function* $\\ell()$ describing what scalar loss $\\ell(\\hat{\\vec{y}}, \\vec{y})$ is associated with each supervised example $(x, y)$, as a function of the learner's output $\\hat{\\vec{y}} = f_\\theta(\\vec{x})$ and the target output $\\vec{y}$.\n",
    "- Training consists in choosing the parameters $\\theta$ given some training examples $\\Psi=\\left\\{\\left<\\vec{x}_i,\\vec{y}_i\\right>\\right\\}$ sampled from an unknown data generating distribution $P(X, Y)$."
   ]
  },
  {
   "cell_type": "markdown",
   "metadata": {
    "collapsed": true,
    "slideshow": {
     "slide_type": "slide"
    }
   },
   "source": [
    "## Components of a machine learning problem/solution (II)\n",
    "\n",
    "- Deﬁne a *training criterion*. \n",
    "    - *Ideally*: to minimize the expected loss sampled from the unknown data generating distribution.\n",
    "    - This is not possible because the expectation makes use of the true underlying $P()$...\n",
    "    - ...but we only have access to a ﬁnite number of training examples, $\\Psi$. \n",
    "    - A *training criterion* usually includes an empirical average of the loss over the training set,\n",
    "    $$\\text{min}\\ \\mathbf{E}_{\\Psi}[\\ell(f_\\theta(\\vec{x}), \\vec{y})].$$"
   ]
  },
  {
   "cell_type": "markdown",
   "metadata": {
    "slideshow": {
     "slide_type": "slide"
    }
   },
   "source": [
    "## Components of a machine learning problem/solution (III)\n",
    "\n",
    "- Some additional terms (called *regularizers*) can be added to enforce preferences over the choices of $\\vec{\\theta}$.\n",
    "\n",
    "$$\\text{min}\\ \\mathbf{E}_{\\Psi}[\\ell(f_\\theta(\\vec{x}), \\vec{y})] + R_{1}(\\theta)+\\cdots+R_{r}(\\theta).$$\n",
    "\n",
    "- *An optimization procedure* to approximately minimize the training criterion by modifying $\\theta$."
   ]
  },
  {
   "cell_type": "markdown",
   "metadata": {
    "slideshow": {
     "slide_type": "slide"
    }
   },
   "source": [
    "<div class=\"container-fluid\">\n",
    "  <div class=\"row\">\n",
    "      <div class=\"col-md-2\"><span/></div>\n",
    "      <div class=\"col-md-8\">\n",
    "          <div class='well'>\n",
    "              <img class='img-thumbnail' src='imgs/01/ml.png'/>\n",
    "          </div>\n",
    "      </div>\n",
    "      <div class=\"col-md-2\" align='center'><span/></div>\n",
    "  </div>\n",
    "</div>"
   ]
  },
  {
   "cell_type": "markdown",
   "metadata": {
    "slideshow": {
     "slide_type": "slide"
    }
   },
   "source": [
    "The machine learning flowchart"
   ]
  },
  {
   "cell_type": "markdown",
   "metadata": {},
   "source": [
    "<div class=\"container-fluid\">\n",
    "  <div class=\"row\">\n",
    "      <div class=\"col-md-2\"><span/></div>\n",
    "      <div class=\"col-md-8\">\n",
    "          <div class='well'>\n",
    "              <img class='img-thumbnail' src='http://scikit-learn.org/stable/_static/ml_map.png'/>\n",
    "              <small>from Scikit-learn [Choosing the right estimator](http://scikit-learn.org/stable/tutorial/machine_learning_map/index.html).</small>\n",
    "          </div>\n",
    "      </div>\n",
    "      <div class=\"col-md-2\" align='center'><span/></div>\n",
    "  </div>\n",
    "</div>\n"
   ]
  },
  {
   "cell_type": "markdown",
   "metadata": {
    "slideshow": {
     "slide_type": "slide"
    }
   },
   "source": [
    "# *Nature-inspired* machine learning\n",
    "\n",
    "* Cellular automata\n",
    "* **Neural computation**\n",
    "* Evolutionary computation\n",
    "* Swarm intelligence\n",
    "* Artificial immune systems\n",
    "* Membrane computing\n",
    "* Amorphous computing"
   ]
  },
  {
   "cell_type": "markdown",
   "metadata": {
    "slideshow": {
     "slide_type": "slide"
    }
   },
   "source": [
    "# Final remarks\n",
    "* Different classes of machine learning problems:\n",
    "    * Classification\n",
    "    * Regression\n",
    "    * Clustering.\n",
    "* Different classes of learning scenarions:\n",
    "    * Supervised, \n",
    "    * unsupervised, \n",
    "    * semi-supervised, and \n",
    "    * reinforcement learning.\n",
    "* Model, dataset, loss function, optimization."
   ]
  },
  {
   "cell_type": "markdown",
   "metadata": {
    "collapsed": true,
    "slideshow": {
     "slide_type": "skip"
    }
   },
   "source": [
    "<hr/>\n",
    "<div class=\"container-fluid\">\n",
    "  <div class='well'>\n",
    "      <div class=\"row\">\n",
    "          <div class=\"col-md-3\" align='center'>\n",
    "              <img align='center'alt=\"Creative Commons License\" style=\"border-width:0\" src=\"https://i.creativecommons.org/l/by-nc-sa/4.0/88x31.png\"/>\n",
    "          </div>\n",
    "          <div class=\"col-md-9\">\n",
    "              This work is licensed under a [Creative Commons Attribution-NonCommercial-ShareAlike 4.0 International License](http://creativecommons.org/licenses/by-nc-sa/4.0/).\n",
    "          </div>\n",
    "      </div>\n",
    "  </div>\n",
    "</div>"
   ]
  },
  {
   "cell_type": "code",
   "execution_count": 40,
   "metadata": {
    "collapsed": false,
    "slideshow": {
     "slide_type": "skip"
    }
   },
   "outputs": [
    {
     "data": {
      "application/json": {
       "Software versions": [
        {
         "module": "Python",
         "version": "3.5.1 64bit [GCC 4.2.1 (Apple Inc. build 5577)]"
        },
        {
         "module": "IPython",
         "version": "4.1.2"
        },
        {
         "module": "OS",
         "version": "Darwin 15.3.0 x86_64 i386 64bit"
        },
        {
         "module": "scipy",
         "version": "0.17.0"
        },
        {
         "module": "numpy",
         "version": "1.10.4"
        },
        {
         "module": "matplotlib",
         "version": "1.5.1"
        }
       ]
      },
      "text/html": [
       "<table><tr><th>Software</th><th>Version</th></tr><tr><td>Python</td><td>3.5.1 64bit [GCC 4.2.1 (Apple Inc. build 5577)]</td></tr><tr><td>IPython</td><td>4.1.2</td></tr><tr><td>OS</td><td>Darwin 15.3.0 x86_64 i386 64bit</td></tr><tr><td>scipy</td><td>0.17.0</td></tr><tr><td>numpy</td><td>1.10.4</td></tr><tr><td>matplotlib</td><td>1.5.1</td></tr><tr><td colspan='2'>Wed Mar 23 02:36:25 2016 BRT</td></tr></table>"
      ],
      "text/latex": [
       "\\begin{tabular}{|l|l|}\\hline\n",
       "{\\bf Software} & {\\bf Version} \\\\ \\hline\\hline\n",
       "Python & 3.5.1 64bit [GCC 4.2.1 (Apple Inc. build 5577)] \\\\ \\hline\n",
       "IPython & 4.1.2 \\\\ \\hline\n",
       "OS & Darwin 15.3.0 x86\\_64 i386 64bit \\\\ \\hline\n",
       "scipy & 0.17.0 \\\\ \\hline\n",
       "numpy & 1.10.4 \\\\ \\hline\n",
       "matplotlib & 1.5.1 \\\\ \\hline\n",
       "\\hline \\multicolumn{2}{|l|}{Wed Mar 23 02:36:25 2016 BRT} \\\\ \\hline\n",
       "\\end{tabular}\n"
      ],
      "text/plain": [
       "Software versions\n",
       "Python 3.5.1 64bit [GCC 4.2.1 (Apple Inc. build 5577)]\n",
       "IPython 4.1.2\n",
       "OS Darwin 15.3.0 x86_64 i386 64bit\n",
       "scipy 0.17.0\n",
       "numpy 1.10.4\n",
       "matplotlib 1.5.1\n",
       "Wed Mar 23 02:36:25 2016 BRT"
      ]
     },
     "execution_count": 40,
     "metadata": {},
     "output_type": "execute_result"
    }
   ],
   "source": [
    "%load_ext version_information\n",
    "%version_information scipy, numpy, matplotlib"
   ]
  },
  {
   "cell_type": "code",
   "execution_count": 41,
   "metadata": {
    "collapsed": false,
    "slideshow": {
     "slide_type": "skip"
    }
   },
   "outputs": [
    {
     "data": {
      "text/html": [
       "<style>\n",
       "@font-face {\n",
       "    font-family: 'Optima';\n",
       "    src: url('fonts/optima-webfont.eot');\n",
       "    src: url('fonts/optima-webfont.eot?#iefix') format('embedded-opentype'),\n",
       "         url('fonts/optima-webfont.woff') format('woff'),\n",
       "         url('fonts/optima-webfont.ttf') format('truetype');\n",
       "    font-weight: normal;\n",
       "    font-style: normal;\n",
       "}\n",
       ".text_cell_render h1 h2 h3 h4 h5 {\n",
       "font-style:regular;\n",
       "font-family: 'Optima', sans-serif;\n",
       "display: block;\n",
       "}\n",
       "/*font-weight: 200;*/\n",
       "/*text-align: left;\n",
       "line-height: 100%;\n",
       "display: block;\n",
       "}*/\n",
       ".text_cell_render h1 {\n",
       "/*font-size: 24pt;*/\n",
       "font-weight: bold;\n",
       "margin-bottom: 0.1em;\n",
       "margin-top: 0.5em;\n",
       "color:#4a4a4a;\n",
       "}\n",
       ".text_cell_render h2 {\n",
       "/*font-size: 21pt;*/\n",
       "margin-bottom: 0.1em;\n",
       "margin-top: 0.3em;\n",
       "color:#595959;\n",
       "}\n",
       ".text_cell_render h3 {\n",
       "/*font-size: 19pt;*/\n",
       "margin-bottom: 0.1em;\n",
       "margin-top: 0.3em;\n",
       "color:#595959;\n",
       "}\n",
       ".text_cell_render h4 {\n",
       "/*font-size: 17pt;*/\n",
       "margin-bottom: 0.1em;\n",
       "margin-top: 0.3em;\n",
       "color:#595959;\n",
       "}\n",
       ".text_cell_render h5 {\n",
       "/*font-size: 15pt;*/\n",
       "margin-bottom: 0.1em;\n",
       "margin-top: 0.3em;\n",
       "color:#595959;\n",
       "}\n",
       "div.text_cell_render{\n",
       "font-family: 'Optima', sans-serif;\n",
       "line-height: 120%;\n",
       "font-size: 100%;\n",
       "font-weight: 400;\n",
       "text-align: justify;\n",
       "margin-left:0em;\n",
       "margin-right:0em;\n",
       "}\n",
       "\n",
       "/*body{\n",
       "  font-family: 'Optima', sans-serif;\n",
       "}*/\n",
       "\n",
       "</style>\n",
       "<script src=\"custom/mermaid.min.js\"/>\n",
       "<script>\n",
       "    MathJax.Hub.Config({\n",
       "                        TeX: {\n",
       "                           extensions: [\"AMSmath.js\"],\n",
       "                           equationNumbers: { autoNumber: \"AMS\", useLabelIds: true}\n",
       "                           },\n",
       "                tex2jax: {\n",
       "                    inlineMath: [ ['$','$'], [\"\\\\(\",\"\\\\)\"] ],\n",
       "                    displayMath: [ ['$$','$$'], [\"\\\\[\",\"\\\\]\"] ]\n",
       "                },\n",
       "                displayAlign: 'center', // Change this to 'center' to center equations.\n",
       "                \"HTML-CSS\": {\n",
       "                    styles: {'.MathJax_Display': {\"margin\": 4}}\n",
       "                }\n",
       "        });\n",
       "</script>\n"
      ],
      "text/plain": [
       "<IPython.core.display.HTML object>"
      ]
     },
     "execution_count": 41,
     "metadata": {},
     "output_type": "execute_result"
    }
   ],
   "source": [
    "# this code is here only for cosmetic reasons\n",
    "from IPython.core.display import HTML\n",
    "def css_styling():\n",
    "    return HTML(open('custom/custom.include', 'r').read())\n",
    "css_styling()"
   ]
  }
 ],
 "metadata": {
  "celltoolbar": "Slideshow",
  "kernelspec": {
   "display_name": "Python 3",
   "language": "python",
   "name": "python3"
  },
  "language_info": {
   "codemirror_mode": {
    "name": "ipython",
    "version": 3
   },
   "file_extension": ".py",
   "mimetype": "text/x-python",
   "name": "python",
   "nbconvert_exporter": "python",
   "pygments_lexer": "ipython3",
   "version": "3.5.1"
  }
 },
 "nbformat": 4,
 "nbformat_minor": 0
}
