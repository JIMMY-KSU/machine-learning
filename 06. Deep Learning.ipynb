{
 "cells": [
  {
   "cell_type": "markdown",
   "metadata": {},
   "source": [
    "<div align='left' style=\"width:400px;height:120px;overflow:hidden;\">\n",
    "<a href='http://www.uff.br'>\n",
    "<img align='left' style='display: block;height: 92%' src='imgs/UFF.png' alt='UFF logo' title='UFF logo'/>\n",
    "</a>\n",
    "<a href='http://www.ic.uff.br'>\n",
    "<img align='left' style='display: block;height: 100%' src='imgs/logo-ic.png' alt='IC logo' title='IC logo'/>\n",
    "</a>\n",
    "</div>"
   ]
  },
  {
   "cell_type": "markdown",
   "metadata": {
    "slideshow": {
     "align_type": "Left",
     "slide_type": "-"
    }
   },
   "source": [
    "### Machine Learning\n",
    "# Deep Learning Neural Networks"
   ]
  },
  {
   "cell_type": "markdown",
   "metadata": {},
   "source": [
    "### [Luis Martí](http://lmarti.com)\n",
    "#### [Instituto de Computação](http://www.ic.uff)\n",
    "#### [Universidade Federal Fluminense](http://www.uff.br)\n",
    "#### [`http://lmarti.com/2016-1-ml`](http://lmarti.com/2016-1-ml)\n",
    "$\\newcommand{\\vec}[1]{\\boldsymbol{#1}}$"
   ]
  },
  {
   "cell_type": "code",
   "execution_count": 1,
   "metadata": {
    "collapsed": false,
    "slideshow": {
     "slide_type": "skip"
    }
   },
   "outputs": [],
   "source": [
    "# importing...\n",
    "import random\n",
    "random.seed(a=42) # fixing a seed for reproducibility, do not do this in real life. \n",
    "\n",
    "import numpy as np\n",
    "import pandas as pd\n",
    "\n",
    "import matplotlib as mpl\n",
    "import matplotlib.pyplot as plt\n",
    "import matplotlib.cm as cm\n",
    "import seaborn\n",
    "seaborn.set_style('whitegrid')\n",
    "from mpl_toolkits.mplot3d import Axes3D\n",
    "%matplotlib inline\n",
    "%config InlineBackend.figure_format = 'retina'"
   ]
  },
  {
   "cell_type": "code",
   "execution_count": 2,
   "metadata": {
    "collapsed": true,
    "slideshow": {
     "slide_type": "skip"
    }
   },
   "outputs": [],
   "source": [
    "from ipywidgets import interact, interactive, fixed\n",
    "import ipywidgets as widgets"
   ]
  },
  {
   "cell_type": "code",
   "execution_count": 3,
   "metadata": {
    "collapsed": false,
    "slideshow": {
     "slide_type": "skip"
    }
   },
   "outputs": [],
   "source": [
    "# tikzmagic extesion for figures - https://github.com/mkrphys/ipython-tikzmagic\n",
    "%load_ext tikzmagic"
   ]
  },
  {
   "cell_type": "code",
   "execution_count": 4,
   "metadata": {
    "collapsed": false,
    "slideshow": {
     "slide_type": "skip"
    }
   },
   "outputs": [],
   "source": [
    "# for rendering graphviz dot files - https://github.com/cjdrake/ipython-magic\n",
    "%load_ext gvmagic"
   ]
  },
  {
   "cell_type": "markdown",
   "metadata": {
    "slideshow": {
     "slide_type": "slide"
    }
   },
   "source": [
    "### About the notebook/slides\n",
    "\n",
    "* The slides are _programmed_ as a [Jupyter](http://jupyter.org)/[IPython](https://ipython.org/) notebook.\n",
    "* **Feel free to try them and experiment on your own by launching the notebooks.**\n",
    "\n",
    "* You can run the notebook online: [![Binder](http://mybinder.org/badge.svg)](http://mybinder.org/repo/lmarti/machine-learning)"
   ]
  },
  {
   "cell_type": "markdown",
   "metadata": {
    "slideshow": {
     "slide_type": "fragment"
    }
   },
   "source": [
    "If you are using [nbviewer](http://nbviewer.jupyter.org) you can change to slides mode by clicking on the icon:\n",
    "\n",
    "<div class=\"container-fluid\">\n",
    "  <div class=\"row\">\n",
    "      <div class=\"col-md-3\"><span/></div>\n",
    "      <div class=\"col-md-6\">\n",
    "      <div class='well well-sm'>\n",
    "              <img src='imgs/view-as-slides.png'/>\n",
    "      </div>\n",
    "      </div>\n",
    "      <div class=\"col-md-3\" align='center'><span/></div>\n",
    "  </div>\n",
    "</div>"
   ]
  },
  {
   "cell_type": "markdown",
   "metadata": {
    "collapsed": true,
    "slideshow": {
     "slide_type": "slide"
    }
   },
   "source": [
    "## Big data\n",
    "\n",
    "* *Buzzword* implying that you are able to handle large amounts of data.\n",
    "* Algorithmical and technical challenges.\n",
    "* Dimensions:\n",
    "    * Number of records or entries (this is mostly a technical challenge).\n",
    "    * Number of variables to take into account.\n",
    "    * Complex data representation i.e. images."
   ]
  },
  {
   "cell_type": "markdown",
   "metadata": {
    "slideshow": {
     "slide_type": "slide"
    }
   },
   "source": [
    "## Handling images\n",
    "\n",
    "<div class=\"container-fluid\">\n",
    "  <div class=\"row\">\n",
    "      <div class=\"col-md-2\" align='center'>\n",
    "      </div>\n",
    "      <div class=\"col-md-8\">\n",
    "      <div class='well well-sm'>\n",
    "              <img src='imgs/06/challenges.jpeg'/>\n",
    "      </div>\n",
    "      </div>\n",
    "      <div class=\"col-md-2\" align='center'>\n",
    "      </div>\n",
    "  </div>\n",
    "</div>"
   ]
  },
  {
   "cell_type": "markdown",
   "metadata": {
    "collapsed": true,
    "slideshow": {
     "slide_type": "slide"
    }
   },
   "source": [
    "# Dealing with this complex and high-dimensional data\n",
    "\n",
    "* Intuitively we'd expect networks with many more hidden layers to be more powerful.\n",
    "* Such networks could use the intermediate layers to build up multiple levels of abstraction.\n",
    "* Extract progressively more abstract features.\n",
    "* A deep network could have a better performance than a shallow one with the same number of neurons?\n",
    "\n",
    "Deep neural networks at last!"
   ]
  },
  {
   "cell_type": "markdown",
   "metadata": {
    "slideshow": {
     "slide_type": "slide"
    }
   },
   "source": [
    "For example, doing visual pattern recognition:\n",
    "* neurons in the first hidden layer might learn to recognize edges,\n",
    "* neurons in the second layer could learn to recognize more complex shapes, say triangle or rectangles, built up from edges. \n",
    "* The third layer would then recognize still more complex shapes. \n",
    "* And so on."
   ]
  },
  {
   "cell_type": "markdown",
   "metadata": {
    "slideshow": {
     "slide_type": "slide"
    }
   },
   "source": [
    "<div class=\"container-fluid\">\n",
    "  <div class=\"row\">\n",
    "      <div class=\"col-md-3\" align='center'>\n",
    "      </div>\n",
    "      <div class=\"col-md-6\">\n",
    "      <div class='well well-sm'>\n",
    "              <img src='imgs/06/AI_system_parts.png'/>\n",
    "      </div>\n",
    "      </div>\n",
    "      <div class=\"col-md-3\" align='center'>\n",
    "      </div>\n",
    "  </div>\n",
    "</div>\n",
    "<small> From http://rinuboney.github.io/2015/10/18/theoretical-motivations-deep-learning.html</small>"
   ]
  },
  {
   "cell_type": "markdown",
   "metadata": {
    "collapsed": true,
    "slideshow": {
     "slide_type": "slide"
    }
   },
   "source": [
    "# Learning deep MLP\n",
    "\n",
    "* Intuitively, nothing stop us from training deep MLPs with the backpropagation algorithm.\n",
    "* However, results are worst than *shallow* architectures.\n",
    "\n",
    "### Why?\n",
    "\n",
    "* This contradicts our intuition.\n",
    "* In the worst case we should have layers \"doing nothing\" but not worsening the results."
   ]
  },
  {
   "cell_type": "markdown",
   "metadata": {
    "collapsed": true,
    "slideshow": {
     "slide_type": "slide"
    }
   },
   "source": [
    "## Investigating the issue\n",
    "\n",
    "* We need a measure of of progress of learning -> our gradients.\n",
    "* I have already told you that is important to check the gradients.\n",
    "* We have the vectors $\\vec{\\delta}^1,\\ldots,\\vec{\\delta}^l,\\ldots$ of the deltas corresponding to each layer.\n",
    "* We can use the norm of the vector $\\left|\\vec{\\delta}^l\\right|$ as an indicator of how much learning is taking place in each layer. "
   ]
  },
  {
   "cell_type": "markdown",
   "metadata": {
    "collapsed": true,
    "slideshow": {
     "slide_type": "slide"
    }
   },
   "source": [
    "Gradient descent with just 1,000 training images, trained over 500 epochs on the MNIST dataset.\n",
    "\n",
    "<div class=\"container-fluid\">\n",
    "  <div class=\"row\">\n",
    "      <div class=\"col-md-3\" align='center'>\n",
    "      </div>\n",
    "      <div class=\"col-md-6\">\n",
    "      <div class='well well-sm'>\n",
    "              <img src='imgs/06/training_speed_2_layers.png'/>\n",
    "      </div>\n",
    "      </div>\n",
    "      <div class=\"col-md-3\" align='center'>\n",
    "      </div>\n",
    "  </div>\n",
    "</div>\n",
    "<small> more examples on http://neuralnetworksanddeeplearning.com/chap5.html.</small>"
   ]
  },
  {
   "cell_type": "markdown",
   "metadata": {
    "collapsed": true,
    "slideshow": {
     "slide_type": "slide"
    }
   },
   "source": [
    "* The two layers start out learning at very different speeds\n",
    "* The speed in both layers then drops very quickly, before rebounding. \n",
    "* *The first hidden layer learns much more slowly than the second hidden layer*."
   ]
  },
  {
   "cell_type": "markdown",
   "metadata": {
    "collapsed": true,
    "slideshow": {
     "slide_type": "slide"
    }
   },
   "source": [
    "## What about a three hidden layers network?\n",
    "\n",
    "<div class=\"container-fluid\">\n",
    "  <div class=\"row\">\n",
    "      <div class=\"col-md-3\" align='center'>\n",
    "      </div>\n",
    "      <div class=\"col-md-6\">\n",
    "      <div class='well well-sm'>\n",
    "              <img src='imgs/06/training_speed_3_layers.png'/>\n",
    "      </div>\n",
    "      </div>\n",
    "      <div class=\"col-md-3\" align='center'>\n",
    "      </div>\n",
    "  </div>\n",
    "</div>"
   ]
  },
  {
   "cell_type": "markdown",
   "metadata": {
    "collapsed": true,
    "slideshow": {
     "slide_type": "slide"
    }
   },
   "source": [
    "## And with four?\n",
    "\n",
    "<div class=\"container-fluid\">\n",
    "  <div class=\"row\">\n",
    "      <div class=\"col-md-3\" align='center'>\n",
    "      </div>\n",
    "      <div class=\"col-md-6\">\n",
    "      <div class='well well-sm'>\n",
    "              <img src='imgs/06/training_speed_4_layers.png'/>\n",
    "      </div>\n",
    "      </div>\n",
    "      <div class=\"col-md-3\" align='center'>\n",
    "      </div>\n",
    "  </div>\n",
    "</div>"
   ]
  },
  {
   "cell_type": "markdown",
   "metadata": {
    "collapsed": true,
    "slideshow": {
     "slide_type": "slide"
    }
   },
   "source": [
    "### The phenomenon is known as the \n",
    "# Vanishing/Exploding Gradient Problem\n",
    "\n",
    "Was reported by:\n",
    "* Gradient flow in recurrent nets: the difficulty of learning long-term dependencies, by Sepp Hochreiter, Yoshua Bengio, Paolo Frasconi, and Jürgen Schmidhuber (2001).\n",
    "* Sepp Hochreiter's earlier Diploma Thesis, Untersuchungen zu dynamischen neuronalen Netzen (1991, in German).\n",
    "\n",
    "But, probably every body that worked in neural networks had eventually made an experiment like the previous one."
   ]
  },
  {
   "cell_type": "markdown",
   "metadata": {
    "collapsed": true,
    "slideshow": {
     "slide_type": "slide"
    }
   },
   "source": [
    "* It turns out that the gradient in deep neural networks is **unstable**, \n",
    "* tending to either **explode** or **vanish** in earlier layers. \n",
    "* This instability is a fundamental problem for gradient-based learning in deep neural networks. \n",
    "* It's something we need to understand and address."
   ]
  },
  {
   "cell_type": "markdown",
   "metadata": {
    "collapsed": true,
    "slideshow": {
     "slide_type": "slide"
    }
   },
   "source": [
    "# What's causing the vanishing gradient problem?\n",
    "\n",
    "Lets picture a simple deep network:\n",
    "\n",
    "<div class=\"container-fluid\">\n",
    "  <div class=\"row\">\n",
    "      <div class=\"col-md-2\" align='center'>\n",
    "      </div>\n",
    "      <div class=\"col-md-8\">\n",
    "      <div class='well well-sm'>\n",
    "              <img src='imgs/06/tikz37.png'/>\n",
    "      </div>\n",
    "      </div>\n",
    "      <div class=\"col-md-2\" align='center'>\n",
    "      </div>\n",
    "  </div>\n",
    "</div>\n",
    "Here, $w_1, w_2,\\ldots$, are the weights, $b_1,b_2,\\ldots$ are the biases, and $C$ is some cost function. \n",
    "$$\n",
    "\\frac{\\partial C}{\\partial b_1} = \n",
    "f'(\\text{net}_1)\\times w_2 \\times f'(\\text{net}_2) \\times w_3 \\times f'(\\text{net}_3) \\times w_4 \\times f'(\\text{net}_5) \\times\n",
    "\\frac{\\partial C}{\\partial \\hat{y}}.\n",
    "$$"
   ]
  },
  {
   "cell_type": "markdown",
   "metadata": {
    "collapsed": true,
    "slideshow": {
     "slide_type": "slide"
    }
   },
   "source": [
    "\"What makes deep networks hard to train?\" is a complex question:\n",
    "*  instabilities associated to gradient-based learning in deep networks.\n",
    "* Evidence suggest that there is also a role played by the choice of activation function, \n",
    "* the way weights are initialized, and \n",
    "* how learning by gradient descent is implemented. \n",
    "\n",
    "Many factors play a role in making deep networks hard to train, and understanding all those factors is still a subject of ongoing research."
   ]
  },
  {
   "cell_type": "markdown",
   "metadata": {
    "slideshow": {
     "slide_type": "slide"
    }
   },
   "source": [
    "# What of we train each layer separately?"
   ]
  },
  {
   "cell_type": "markdown",
   "metadata": {
    "slideshow": {
     "slide_type": "slide"
    }
   },
   "source": [
    " ## Autoencoders\n",
    "\n",
    "* An autoencoder is typically a MLP neural network which aims to learn a compressed, distributed representation (encoding) of a dataset.\n",
    "* They learn to predict their inputs."
   ]
  },
  {
   "cell_type": "code",
   "execution_count": 5,
   "metadata": {
    "collapsed": false
   },
   "outputs": [
    {
     "data": {
      "image/svg+xml": [
       "<svg height=\"300px\" version=\"1.1\" viewBox=\"0 0 272.599 210.106\" width=\"600px\" xmlns=\"http://www.w3.org/2000/svg\" xmlns:xlink=\"http://www.w3.org/1999/xlink\">\n",
       "<defs>\n",
       "<g>\n",
       "<symbol id=\"glyph0-0\" overflow=\"visible\">\n",
       "<path d=\"\" style=\"stroke:none;\"/>\n",
       "</symbol>\n",
       "<symbol id=\"glyph0-1\" overflow=\"visible\">\n",
       "<path d=\"M 3.328125 -3.015625 C 3.390625 -3.265625 3.625 -4.1875 4.3125 -4.1875 C 4.359375 -4.1875 4.609375 -4.1875 4.8125 -4.0625 C 4.53125 -4 4.34375 -3.765625 4.34375 -3.515625 C 4.34375 -3.359375 4.453125 -3.171875 4.71875 -3.171875 C 4.9375 -3.171875 5.25 -3.34375 5.25 -3.75 C 5.25 -4.265625 4.671875 -4.40625 4.328125 -4.40625 C 3.75 -4.40625 3.40625 -3.875 3.28125 -3.65625 C 3.03125 -4.3125 2.5 -4.40625 2.203125 -4.40625 C 1.171875 -4.40625 0.59375 -3.125 0.59375 -2.875 C 0.59375 -2.765625 0.703125 -2.765625 0.71875 -2.765625 C 0.796875 -2.765625 0.828125 -2.796875 0.84375 -2.875 C 1.1875 -3.9375 1.84375 -4.1875 2.1875 -4.1875 C 2.375 -4.1875 2.71875 -4.09375 2.71875 -3.515625 C 2.71875 -3.203125 2.546875 -2.546875 2.1875 -1.140625 C 2.03125 -0.53125 1.671875 -0.109375 1.234375 -0.109375 C 1.171875 -0.109375 0.953125 -0.109375 0.734375 -0.234375 C 0.984375 -0.296875 1.203125 -0.5 1.203125 -0.78125 C 1.203125 -1.046875 0.984375 -1.125 0.84375 -1.125 C 0.53125 -1.125 0.296875 -0.875 0.296875 -0.546875 C 0.296875 -0.09375 0.78125 0.109375 1.21875 0.109375 C 1.890625 0.109375 2.25 -0.59375 2.265625 -0.640625 C 2.390625 -0.28125 2.75 0.109375 3.34375 0.109375 C 4.375 0.109375 4.9375 -1.171875 4.9375 -1.421875 C 4.9375 -1.53125 4.859375 -1.53125 4.828125 -1.53125 C 4.734375 -1.53125 4.71875 -1.484375 4.6875 -1.421875 C 4.359375 -0.34375 3.6875 -0.109375 3.375 -0.109375 C 2.984375 -0.109375 2.828125 -0.421875 2.828125 -0.765625 C 2.828125 -0.984375 2.875 -1.203125 2.984375 -1.640625 Z M 3.328125 -3.015625 \" style=\"stroke:none;\"/>\n",
       "</symbol>\n",
       "<symbol id=\"glyph1-0\" overflow=\"visible\">\n",
       "<path d=\"\" style=\"stroke:none;\"/>\n",
       "</symbol>\n",
       "<symbol id=\"glyph1-1\" overflow=\"visible\">\n",
       "<path d=\"M 2.328125 -4.4375 C 2.328125 -4.625 2.328125 -4.625 2.125 -4.625 C 1.671875 -4.1875 1.046875 -4.1875 0.765625 -4.1875 L 0.765625 -3.9375 C 0.921875 -3.9375 1.390625 -3.9375 1.765625 -4.125 L 1.765625 -0.578125 C 1.765625 -0.34375 1.765625 -0.25 1.078125 -0.25 L 0.8125 -0.25 L 0.8125 0 C 0.9375 0 1.796875 -0.03125 2.046875 -0.03125 C 2.265625 -0.03125 3.140625 0 3.296875 0 L 3.296875 -0.25 L 3.03125 -0.25 C 2.328125 -0.25 2.328125 -0.34375 2.328125 -0.578125 Z M 2.328125 -4.4375 \" style=\"stroke:none;\"/>\n",
       "</symbol>\n",
       "<symbol id=\"glyph1-2\" overflow=\"visible\">\n",
       "<path d=\"M 3.515625 -1.265625 L 3.28125 -1.265625 C 3.265625 -1.109375 3.1875 -0.703125 3.09375 -0.640625 C 3.046875 -0.59375 2.515625 -0.59375 2.40625 -0.59375 L 1.125 -0.59375 C 1.859375 -1.234375 2.109375 -1.4375 2.515625 -1.765625 C 3.03125 -2.171875 3.515625 -2.609375 3.515625 -3.265625 C 3.515625 -4.109375 2.78125 -4.625 1.890625 -4.625 C 1.03125 -4.625 0.4375 -4.015625 0.4375 -3.375 C 0.4375 -3.03125 0.734375 -2.984375 0.8125 -2.984375 C 0.96875 -2.984375 1.171875 -3.109375 1.171875 -3.359375 C 1.171875 -3.484375 1.125 -3.734375 0.765625 -3.734375 C 0.984375 -4.21875 1.453125 -4.375 1.78125 -4.375 C 2.484375 -4.375 2.84375 -3.828125 2.84375 -3.265625 C 2.84375 -2.65625 2.40625 -2.1875 2.1875 -1.9375 L 0.515625 -0.265625 C 0.4375 -0.203125 0.4375 -0.1875 0.4375 0 L 3.3125 0 Z M 3.515625 -1.265625 \" style=\"stroke:none;\"/>\n",
       "</symbol>\n",
       "<symbol id=\"glyph1-3\" overflow=\"visible\">\n",
       "<path d=\"M 1.90625 -2.328125 C 2.453125 -2.328125 2.84375 -1.953125 2.84375 -1.203125 C 2.84375 -0.34375 2.328125 -0.078125 1.9375 -0.078125 C 1.65625 -0.078125 1.03125 -0.15625 0.75 -0.578125 C 1.078125 -0.578125 1.15625 -0.8125 1.15625 -0.96875 C 1.15625 -1.1875 0.984375 -1.34375 0.765625 -1.34375 C 0.578125 -1.34375 0.375 -1.21875 0.375 -0.9375 C 0.375 -0.28125 1.09375 0.140625 1.9375 0.140625 C 2.90625 0.140625 3.578125 -0.515625 3.578125 -1.203125 C 3.578125 -1.75 3.140625 -2.296875 2.375 -2.453125 C 3.09375 -2.71875 3.359375 -3.234375 3.359375 -3.671875 C 3.359375 -4.21875 2.734375 -4.625 1.953125 -4.625 C 1.1875 -4.625 0.59375 -4.25 0.59375 -3.6875 C 0.59375 -3.453125 0.75 -3.328125 0.953125 -3.328125 C 1.171875 -3.328125 1.3125 -3.484375 1.3125 -3.671875 C 1.3125 -3.875 1.171875 -4.03125 0.953125 -4.046875 C 1.203125 -4.34375 1.671875 -4.421875 1.9375 -4.421875 C 2.25 -4.421875 2.6875 -4.265625 2.6875 -3.671875 C 2.6875 -3.375 2.59375 -3.046875 2.40625 -2.84375 C 2.1875 -2.578125 1.984375 -2.5625 1.640625 -2.53125 C 1.46875 -2.515625 1.453125 -2.515625 1.421875 -2.515625 C 1.40625 -2.515625 1.34375 -2.5 1.34375 -2.421875 C 1.34375 -2.328125 1.40625 -2.328125 1.53125 -2.328125 Z M 1.90625 -2.328125 \" style=\"stroke:none;\"/>\n",
       "</symbol>\n",
       "<symbol id=\"glyph1-4\" overflow=\"visible\">\n",
       "<path d=\"M 3.6875 -1.140625 L 3.6875 -1.390625 L 2.90625 -1.390625 L 2.90625 -4.5 C 2.90625 -4.640625 2.90625 -4.703125 2.765625 -4.703125 C 2.671875 -4.703125 2.640625 -4.703125 2.578125 -4.59375 L 0.265625 -1.390625 L 0.265625 -1.140625 L 2.328125 -1.140625 L 2.328125 -0.578125 C 2.328125 -0.328125 2.328125 -0.25 1.75 -0.25 L 1.5625 -0.25 L 1.5625 0 C 1.921875 -0.015625 2.359375 -0.03125 2.609375 -0.03125 C 2.875 -0.03125 3.3125 -0.015625 3.671875 0 L 3.671875 -0.25 L 3.484375 -0.25 C 2.90625 -0.25 2.90625 -0.328125 2.90625 -0.578125 L 2.90625 -1.140625 Z M 2.375 -3.9375 L 2.375 -1.390625 L 0.53125 -1.390625 Z M 2.375 -3.9375 \" style=\"stroke:none;\"/>\n",
       "</symbol>\n",
       "<symbol id=\"glyph1-5\" overflow=\"visible\">\n",
       "<path d=\"M 1.078125 -3.890625 C 1.4375 -3.796875 1.640625 -3.796875 1.75 -3.796875 C 2.671875 -3.796875 3.21875 -4.421875 3.21875 -4.53125 C 3.21875 -4.609375 3.171875 -4.625 3.140625 -4.625 C 3.125 -4.625 3.109375 -4.625 3.078125 -4.609375 C 2.90625 -4.546875 2.546875 -4.40625 2.03125 -4.40625 C 1.828125 -4.40625 1.46875 -4.421875 1.015625 -4.59375 C 0.9375 -4.625 0.921875 -4.625 0.921875 -4.625 C 0.828125 -4.625 0.828125 -4.546875 0.828125 -4.4375 L 0.828125 -2.390625 C 0.828125 -2.265625 0.828125 -2.1875 0.9375 -2.1875 C 1 -2.1875 1.015625 -2.1875 1.078125 -2.28125 C 1.375 -2.65625 1.8125 -2.71875 2.046875 -2.71875 C 2.46875 -2.71875 2.65625 -2.390625 2.6875 -2.328125 C 2.8125 -2.09375 2.859375 -1.828125 2.859375 -1.421875 C 2.859375 -1.21875 2.859375 -0.8125 2.640625 -0.5 C 2.46875 -0.25 2.171875 -0.078125 1.828125 -0.078125 C 1.375 -0.078125 0.90625 -0.328125 0.734375 -0.796875 C 1 -0.78125 1.140625 -0.953125 1.140625 -1.140625 C 1.140625 -1.4375 0.875 -1.484375 0.78125 -1.484375 C 0.78125 -1.484375 0.4375 -1.484375 0.4375 -1.109375 C 0.4375 -0.484375 1.015625 0.140625 1.84375 0.140625 C 2.734375 0.140625 3.515625 -0.515625 3.515625 -1.40625 C 3.515625 -2.1875 2.921875 -2.90625 2.0625 -2.90625 C 1.75 -2.90625 1.390625 -2.84375 1.078125 -2.578125 Z M 1.078125 -3.890625 \" style=\"stroke:none;\"/>\n",
       "</symbol>\n",
       "<symbol id=\"glyph1-6\" overflow=\"visible\">\n",
       "<path d=\"M 1.046875 -2.28125 C 1.046875 -2.84375 1.09375 -3.359375 1.359375 -3.796875 C 1.59375 -4.171875 1.96875 -4.421875 2.421875 -4.421875 C 2.625 -4.421875 2.90625 -4.375 3.046875 -4.1875 C 2.875 -4.171875 2.71875 -4.046875 2.71875 -3.84375 C 2.71875 -3.671875 2.84375 -3.515625 3.046875 -3.515625 C 3.265625 -3.515625 3.390625 -3.65625 3.390625 -3.859375 C 3.390625 -4.265625 3.09375 -4.625 2.40625 -4.625 C 1.40625 -4.625 0.375 -3.703125 0.375 -2.203125 C 0.375 -0.40625 1.21875 0.140625 2 0.140625 C 2.84375 0.140625 3.578125 -0.515625 3.578125 -1.421875 C 3.578125 -2.3125 2.875 -2.96875 2.0625 -2.96875 C 1.5 -2.96875 1.203125 -2.59375 1.046875 -2.28125 Z M 2 -0.078125 C 1.640625 -0.078125 1.375 -0.28125 1.21875 -0.59375 C 1.125 -0.796875 1.0625 -1.15625 1.0625 -1.5625 C 1.0625 -2.25 1.46875 -2.765625 2.03125 -2.765625 C 2.34375 -2.765625 2.5625 -2.640625 2.734375 -2.390625 C 2.90625 -2.125 2.90625 -1.828125 2.90625 -1.421875 C 2.90625 -1.03125 2.90625 -0.734375 2.71875 -0.453125 C 2.5625 -0.21875 2.328125 -0.078125 2 -0.078125 Z M 2 -0.078125 \" style=\"stroke:none;\"/>\n",
       "</symbol>\n",
       "<symbol id=\"glyph2-0\" overflow=\"visible\">\n",
       "<path d=\"\" style=\"stroke:none;\"/>\n",
       "</symbol>\n",
       "<symbol id=\"glyph2-1\" overflow=\"visible\">\n",
       "<path d=\"M 4.40625 -3.625 C 4.078125 -3.5625 3.984375 -3.28125 3.984375 -3.140625 C 3.984375 -2.96875 4.109375 -2.8125 4.328125 -2.8125 C 4.578125 -2.8125 4.828125 -3.03125 4.828125 -3.34375 C 4.828125 -3.765625 4.375 -3.96875 3.953125 -3.96875 C 3.421875 -3.96875 3.109375 -3.484375 3 -3.296875 C 2.828125 -3.734375 2.4375 -3.96875 2 -3.96875 C 1.046875 -3.96875 0.515625 -2.8125 0.515625 -2.578125 C 0.515625 -2.5 0.578125 -2.46875 0.640625 -2.46875 C 0.71875 -2.46875 0.75 -2.515625 0.765625 -2.578125 C 1.046875 -3.46875 1.640625 -3.734375 1.984375 -3.734375 C 2.25 -3.734375 2.46875 -3.5625 2.46875 -3.140625 C 2.46875 -2.828125 2.09375 -1.390625 1.96875 -0.953125 C 1.90625 -0.6875 1.625 -0.125 1.140625 -0.125 C 0.953125 -0.125 0.765625 -0.1875 0.6875 -0.234375 C 0.921875 -0.28125 1.109375 -0.5 1.109375 -0.71875 C 1.109375 -0.953125 0.9375 -1.046875 0.765625 -1.046875 C 0.5 -1.046875 0.265625 -0.828125 0.265625 -0.515625 C 0.265625 -0.078125 0.75 0.09375 1.125 0.09375 C 1.65625 0.09375 1.953125 -0.328125 2.09375 -0.578125 C 2.3125 0.015625 2.84375 0.09375 3.078125 0.09375 C 4.046875 0.09375 4.5625 -1.0625 4.5625 -1.28125 C 4.5625 -1.328125 4.53125 -1.390625 4.453125 -1.390625 C 4.34375 -1.390625 4.34375 -1.359375 4.296875 -1.21875 C 4.09375 -0.578125 3.578125 -0.125 3.109375 -0.125 C 2.859375 -0.125 2.609375 -0.28125 2.609375 -0.71875 C 2.609375 -0.921875 2.734375 -1.40625 2.8125 -1.75 C 2.859375 -1.90625 3.09375 -2.875 3.109375 -2.9375 C 3.21875 -3.265625 3.484375 -3.734375 3.953125 -3.734375 C 4.109375 -3.734375 4.28125 -3.71875 4.40625 -3.625 Z M 4.40625 -3.625 \" style=\"stroke:none;\"/>\n",
       "</symbol>\n",
       "<symbol id=\"glyph3-0\" overflow=\"visible\">\n",
       "<path d=\"\" style=\"stroke:none;\"/>\n",
       "</symbol>\n",
       "<symbol id=\"glyph3-1\" overflow=\"visible\">\n",
       "<path d=\"M 3.296875 -1.90625 C 3.296875 -2.34375 3.296875 -3.984375 1.828125 -3.984375 C 0.359375 -3.984375 0.359375 -2.34375 0.359375 -1.90625 C 0.359375 -1.484375 0.359375 0.125 1.828125 0.125 C 3.296875 0.125 3.296875 -1.484375 3.296875 -1.90625 Z M 1.828125 -0.0625 C 1.578125 -0.0625 1.171875 -0.1875 1.015625 -0.6875 C 0.921875 -1.03125 0.921875 -1.609375 0.921875 -1.984375 C 0.921875 -2.390625 0.921875 -2.84375 1.015625 -3.171875 C 1.15625 -3.703125 1.609375 -3.78125 1.828125 -3.78125 C 2.09375 -3.78125 2.5 -3.65625 2.625 -3.203125 C 2.71875 -2.890625 2.71875 -2.453125 2.71875 -1.984375 C 2.71875 -1.609375 2.71875 -1 2.625 -0.671875 C 2.453125 -0.140625 2.015625 -0.0625 1.828125 -0.0625 Z M 1.828125 -0.0625 \" style=\"stroke:none;\"/>\n",
       "</symbol>\n",
       "<symbol id=\"glyph4-0\" overflow=\"visible\">\n",
       "<path d=\"\" style=\"stroke:none;\"/>\n",
       "</symbol>\n",
       "<symbol id=\"glyph4-1\" overflow=\"visible\">\n",
       "<path d=\"M 6.34375 -2.96875 C 6.46875 -2.96875 6.640625 -2.96875 6.640625 -3.15625 C 6.640625 -3.359375 6.453125 -3.359375 6.3125 -3.359375 L 0.84375 -3.359375 C 0.703125 -3.359375 0.515625 -3.359375 0.515625 -3.15625 C 0.515625 -2.96875 0.6875 -2.96875 0.8125 -2.96875 Z M 6.3125 -1.140625 C 6.453125 -1.140625 6.640625 -1.140625 6.640625 -1.34375 C 6.640625 -1.53125 6.46875 -1.53125 6.34375 -1.53125 L 0.8125 -1.53125 C 0.6875 -1.53125 0.515625 -1.53125 0.515625 -1.34375 C 0.515625 -1.140625 0.703125 -1.140625 0.84375 -1.140625 Z M 6.3125 -1.140625 \" style=\"stroke:none;\"/>\n",
       "</symbol>\n",
       "<symbol id=\"glyph4-2\" overflow=\"visible\">\n",
       "<path d=\"M 2.71875 -5.734375 C 2.71875 -5.953125 2.71875 -5.96875 2.5 -5.96875 C 1.9375 -5.40625 1.109375 -5.40625 0.828125 -5.40625 L 0.828125 -5.125 C 1 -5.125 1.546875 -5.125 2.03125 -5.359375 L 2.03125 -0.71875 C 2.03125 -0.390625 2.015625 -0.28125 1.171875 -0.28125 L 0.890625 -0.28125 L 0.890625 0 C 1.203125 -0.03125 2.015625 -0.03125 2.375 -0.03125 C 2.75 -0.03125 3.546875 -0.03125 3.875 0 L 3.875 -0.28125 L 3.59375 -0.28125 C 2.75 -0.28125 2.71875 -0.390625 2.71875 -0.71875 Z M 2.71875 -5.734375 \" style=\"stroke:none;\"/>\n",
       "</symbol>\n",
       "<symbol id=\"glyph5-0\" overflow=\"visible\">\n",
       "<path d=\"\" style=\"stroke:none;\"/>\n",
       "</symbol>\n",
       "<symbol id=\"glyph5-1\" overflow=\"visible\">\n",
       "<path d=\"M 6.109375 -6.03125 C 6.109375 -6.390625 6.125 -6.5 6.890625 -6.5 L 7.140625 -6.5 L 7.140625 -6.8125 C 6.78125 -6.78125 6.046875 -6.78125 5.671875 -6.78125 C 5.296875 -6.78125 4.546875 -6.78125 4.203125 -6.8125 L 4.203125 -6.5 L 4.4375 -6.5 C 5.203125 -6.5 5.21875 -6.390625 5.21875 -6.03125 L 5.21875 -3.703125 L 2.25 -3.703125 L 2.25 -6.03125 C 2.25 -6.390625 2.265625 -6.5 3.03125 -6.5 L 3.265625 -6.5 L 3.265625 -6.8125 C 2.921875 -6.78125 2.1875 -6.78125 1.796875 -6.78125 C 1.421875 -6.78125 0.671875 -6.78125 0.328125 -6.8125 L 0.328125 -6.5 L 0.5625 -6.5 C 1.328125 -6.5 1.359375 -6.390625 1.359375 -6.03125 L 1.359375 -0.78125 C 1.359375 -0.421875 1.328125 -0.3125 0.5625 -0.3125 L 0.328125 -0.3125 L 0.328125 0 C 0.671875 -0.03125 1.421875 -0.03125 1.796875 -0.03125 C 2.171875 -0.03125 2.921875 -0.03125 3.265625 0 L 3.265625 -0.3125 L 3.03125 -0.3125 C 2.265625 -0.3125 2.25 -0.421875 2.25 -0.78125 L 2.25 -3.390625 L 5.21875 -3.390625 L 5.21875 -0.78125 C 5.21875 -0.421875 5.203125 -0.3125 4.4375 -0.3125 L 4.203125 -0.3125 L 4.203125 0 C 4.546875 -0.03125 5.28125 -0.03125 5.65625 -0.03125 C 6.046875 -0.03125 6.78125 -0.03125 7.140625 0 L 7.140625 -0.3125 L 6.890625 -0.3125 C 6.125 -0.3125 6.109375 -0.421875 6.109375 -0.78125 Z M 6.109375 -6.03125 \" style=\"stroke:none;\"/>\n",
       "</symbol>\n",
       "<symbol id=\"glyph5-2\" overflow=\"visible\">\n",
       "<path d=\"M 1.765625 -4.40625 L 0.375 -4.296875 L 0.375 -3.984375 C 1.015625 -3.984375 1.109375 -3.921875 1.109375 -3.4375 L 1.109375 -0.75 C 1.109375 -0.3125 1 -0.3125 0.328125 -0.3125 L 0.328125 0 C 0.640625 -0.015625 1.1875 -0.03125 1.421875 -0.03125 C 1.78125 -0.03125 2.125 -0.015625 2.46875 0 L 2.46875 -0.3125 C 1.796875 -0.3125 1.765625 -0.359375 1.765625 -0.75 Z M 1.796875 -6.140625 C 1.796875 -6.453125 1.5625 -6.671875 1.28125 -6.671875 C 0.96875 -6.671875 0.75 -6.40625 0.75 -6.140625 C 0.75 -5.875 0.96875 -5.609375 1.28125 -5.609375 C 1.5625 -5.609375 1.796875 -5.828125 1.796875 -6.140625 Z M 1.796875 -6.140625 \" style=\"stroke:none;\"/>\n",
       "</symbol>\n",
       "<symbol id=\"glyph5-3\" overflow=\"visible\">\n",
       "<path d=\"M 3.78125 -0.546875 L 3.78125 0.109375 L 5.25 0 L 5.25 -0.3125 C 4.5625 -0.3125 4.46875 -0.375 4.46875 -0.875 L 4.46875 -6.921875 L 3.046875 -6.8125 L 3.046875 -6.5 C 3.734375 -6.5 3.8125 -6.4375 3.8125 -5.9375 L 3.8125 -3.78125 C 3.53125 -4.140625 3.09375 -4.40625 2.5625 -4.40625 C 1.390625 -4.40625 0.34375 -3.421875 0.34375 -2.140625 C 0.34375 -0.875 1.3125 0.109375 2.453125 0.109375 C 3.09375 0.109375 3.53125 -0.234375 3.78125 -0.546875 Z M 3.78125 -3.21875 L 3.78125 -1.171875 C 3.78125 -1 3.78125 -0.984375 3.671875 -0.8125 C 3.375 -0.328125 2.9375 -0.109375 2.5 -0.109375 C 2.046875 -0.109375 1.6875 -0.375 1.453125 -0.75 C 1.203125 -1.15625 1.171875 -1.71875 1.171875 -2.140625 C 1.171875 -2.5 1.1875 -3.09375 1.46875 -3.546875 C 1.6875 -3.859375 2.0625 -4.1875 2.609375 -4.1875 C 2.953125 -4.1875 3.375 -4.03125 3.671875 -3.59375 C 3.78125 -3.421875 3.78125 -3.40625 3.78125 -3.21875 Z M 3.78125 -3.21875 \" style=\"stroke:none;\"/>\n",
       "</symbol>\n",
       "<symbol id=\"glyph5-4\" overflow=\"visible\">\n",
       "<path d=\"M 1.109375 -2.515625 C 1.171875 -4 2.015625 -4.25 2.359375 -4.25 C 3.375 -4.25 3.484375 -2.90625 3.484375 -2.515625 Z M 1.109375 -2.296875 L 3.890625 -2.296875 C 4.109375 -2.296875 4.140625 -2.296875 4.140625 -2.515625 C 4.140625 -3.5 3.59375 -4.46875 2.359375 -4.46875 C 1.203125 -4.46875 0.28125 -3.4375 0.28125 -2.1875 C 0.28125 -0.859375 1.328125 0.109375 2.46875 0.109375 C 3.6875 0.109375 4.140625 -1 4.140625 -1.1875 C 4.140625 -1.28125 4.0625 -1.3125 4 -1.3125 C 3.921875 -1.3125 3.890625 -1.25 3.875 -1.171875 C 3.53125 -0.140625 2.625 -0.140625 2.53125 -0.140625 C 2.03125 -0.140625 1.640625 -0.4375 1.40625 -0.8125 C 1.109375 -1.28125 1.109375 -1.9375 1.109375 -2.296875 Z M 1.109375 -2.296875 \" style=\"stroke:none;\"/>\n",
       "</symbol>\n",
       "<symbol id=\"glyph5-5\" overflow=\"visible\">\n",
       "<path d=\"M 1.09375 -3.421875 L 1.09375 -0.75 C 1.09375 -0.3125 0.984375 -0.3125 0.3125 -0.3125 L 0.3125 0 C 0.671875 -0.015625 1.171875 -0.03125 1.453125 -0.03125 C 1.703125 -0.03125 2.21875 -0.015625 2.5625 0 L 2.5625 -0.3125 C 1.890625 -0.3125 1.78125 -0.3125 1.78125 -0.75 L 1.78125 -2.59375 C 1.78125 -3.625 2.5 -4.1875 3.125 -4.1875 C 3.765625 -4.1875 3.875 -3.65625 3.875 -3.078125 L 3.875 -0.75 C 3.875 -0.3125 3.765625 -0.3125 3.09375 -0.3125 L 3.09375 0 C 3.4375 -0.015625 3.953125 -0.03125 4.21875 -0.03125 C 4.46875 -0.03125 5 -0.015625 5.328125 0 L 5.328125 -0.3125 C 4.8125 -0.3125 4.5625 -0.3125 4.5625 -0.609375 L 4.5625 -2.515625 C 4.5625 -3.375 4.5625 -3.671875 4.25 -4.03125 C 4.109375 -4.203125 3.78125 -4.40625 3.203125 -4.40625 C 2.46875 -4.40625 2 -3.984375 1.71875 -3.359375 L 1.71875 -4.40625 L 0.3125 -4.296875 L 0.3125 -3.984375 C 1.015625 -3.984375 1.09375 -3.921875 1.09375 -3.421875 Z M 1.09375 -3.421875 \" style=\"stroke:none;\"/>\n",
       "</symbol>\n",
       "<symbol id=\"glyph5-6\" overflow=\"visible\">\n",
       "<path d=\"M 1.765625 -6.921875 L 0.328125 -6.8125 L 0.328125 -6.5 C 1.03125 -6.5 1.109375 -6.4375 1.109375 -5.9375 L 1.109375 -0.75 C 1.109375 -0.3125 1 -0.3125 0.328125 -0.3125 L 0.328125 0 C 0.65625 -0.015625 1.1875 -0.03125 1.4375 -0.03125 C 1.6875 -0.03125 2.171875 -0.015625 2.546875 0 L 2.546875 -0.3125 C 1.875 -0.3125 1.765625 -0.3125 1.765625 -0.75 Z M 1.765625 -6.921875 \" style=\"stroke:none;\"/>\n",
       "</symbol>\n",
       "<symbol id=\"glyph5-7\" overflow=\"visible\">\n",
       "<path d=\"M 3.3125 -0.75 C 3.359375 -0.359375 3.625 0.0625 4.09375 0.0625 C 4.3125 0.0625 4.921875 -0.078125 4.921875 -0.890625 L 4.921875 -1.453125 L 4.671875 -1.453125 L 4.671875 -0.890625 C 4.671875 -0.3125 4.421875 -0.25 4.3125 -0.25 C 3.984375 -0.25 3.9375 -0.703125 3.9375 -0.75 L 3.9375 -2.734375 C 3.9375 -3.15625 3.9375 -3.546875 3.578125 -3.921875 C 3.1875 -4.3125 2.6875 -4.46875 2.21875 -4.46875 C 1.390625 -4.46875 0.703125 -4 0.703125 -3.34375 C 0.703125 -3.046875 0.90625 -2.875 1.171875 -2.875 C 1.453125 -2.875 1.625 -3.078125 1.625 -3.328125 C 1.625 -3.453125 1.578125 -3.78125 1.109375 -3.78125 C 1.390625 -4.140625 1.875 -4.25 2.1875 -4.25 C 2.6875 -4.25 3.25 -3.859375 3.25 -2.96875 L 3.25 -2.609375 C 2.734375 -2.578125 2.046875 -2.546875 1.421875 -2.25 C 0.671875 -1.90625 0.421875 -1.390625 0.421875 -0.953125 C 0.421875 -0.140625 1.390625 0.109375 2.015625 0.109375 C 2.671875 0.109375 3.125 -0.296875 3.3125 -0.75 Z M 3.25 -2.390625 L 3.25 -1.390625 C 3.25 -0.453125 2.53125 -0.109375 2.078125 -0.109375 C 1.59375 -0.109375 1.1875 -0.453125 1.1875 -0.953125 C 1.1875 -1.5 1.609375 -2.328125 3.25 -2.390625 Z M 3.25 -2.390625 \" style=\"stroke:none;\"/>\n",
       "</symbol>\n",
       "<symbol id=\"glyph5-8\" overflow=\"visible\">\n",
       "<path d=\"M 4.140625 -3.34375 C 4.390625 -3.984375 4.90625 -3.984375 5.0625 -3.984375 L 5.0625 -4.296875 C 4.828125 -4.28125 4.546875 -4.265625 4.3125 -4.265625 C 4.140625 -4.265625 3.671875 -4.28125 3.453125 -4.296875 L 3.453125 -3.984375 C 3.765625 -3.984375 3.921875 -3.8125 3.921875 -3.5625 C 3.921875 -3.453125 3.90625 -3.4375 3.859375 -3.3125 L 2.84375 -0.875 L 1.75 -3.546875 C 1.703125 -3.65625 1.6875 -3.6875 1.6875 -3.734375 C 1.6875 -3.984375 2.046875 -3.984375 2.25 -3.984375 L 2.25 -4.296875 C 1.984375 -4.28125 1.328125 -4.265625 1.15625 -4.265625 C 0.890625 -4.265625 0.484375 -4.28125 0.1875 -4.296875 L 0.1875 -3.984375 C 0.671875 -3.984375 0.859375 -3.984375 1 -3.640625 L 2.5 0 C 2.4375 0.125 2.296875 0.453125 2.25 0.59375 C 2.03125 1.140625 1.75 1.828125 1.109375 1.828125 C 1.0625 1.828125 0.828125 1.828125 0.640625 1.640625 C 0.953125 1.609375 1.03125 1.390625 1.03125 1.21875 C 1.03125 0.96875 0.84375 0.8125 0.609375 0.8125 C 0.40625 0.8125 0.1875 0.9375 0.1875 1.234375 C 0.1875 1.6875 0.609375 2.046875 1.109375 2.046875 C 1.734375 2.046875 2.140625 1.46875 2.375 0.90625 Z M 4.140625 -3.34375 \" style=\"stroke:none;\"/>\n",
       "</symbol>\n",
       "<symbol id=\"glyph5-9\" overflow=\"visible\">\n",
       "<path d=\"M 1.671875 -3.3125 L 1.671875 -4.40625 L 0.28125 -4.296875 L 0.28125 -3.984375 C 0.984375 -3.984375 1.0625 -3.921875 1.0625 -3.421875 L 1.0625 -0.75 C 1.0625 -0.3125 0.953125 -0.3125 0.28125 -0.3125 L 0.28125 0 C 0.671875 -0.015625 1.140625 -0.03125 1.421875 -0.03125 C 1.8125 -0.03125 2.28125 -0.03125 2.6875 0 L 2.6875 -0.3125 L 2.46875 -0.3125 C 1.734375 -0.3125 1.71875 -0.421875 1.71875 -0.78125 L 1.71875 -2.3125 C 1.71875 -3.296875 2.140625 -4.1875 2.890625 -4.1875 C 2.953125 -4.1875 2.984375 -4.1875 3 -4.171875 C 2.96875 -4.171875 2.765625 -4.046875 2.765625 -3.78125 C 2.765625 -3.515625 2.984375 -3.359375 3.203125 -3.359375 C 3.375 -3.359375 3.625 -3.484375 3.625 -3.796875 C 3.625 -4.109375 3.3125 -4.40625 2.890625 -4.40625 C 2.15625 -4.40625 1.796875 -3.734375 1.671875 -3.3125 Z M 1.671875 -3.3125 \" style=\"stroke:none;\"/>\n",
       "</symbol>\n",
       "<symbol id=\"glyph5-10\" overflow=\"visible\">\n",
       "<path d=\"M 2.25 -6.03125 C 2.25 -6.390625 2.265625 -6.5 3.0625 -6.5 L 3.3125 -6.5 L 3.3125 -6.8125 C 2.96875 -6.78125 2.1875 -6.78125 1.796875 -6.78125 C 1.421875 -6.78125 0.625 -6.78125 0.28125 -6.8125 L 0.28125 -6.5 L 0.53125 -6.5 C 1.328125 -6.5 1.359375 -6.390625 1.359375 -6.03125 L 1.359375 -0.78125 C 1.359375 -0.421875 1.328125 -0.3125 0.53125 -0.3125 L 0.28125 -0.3125 L 0.28125 0 C 0.625 -0.03125 1.421875 -0.03125 1.796875 -0.03125 C 2.1875 -0.03125 2.96875 -0.03125 3.3125 0 L 3.3125 -0.3125 L 3.0625 -0.3125 C 2.265625 -0.3125 2.25 -0.421875 2.25 -0.78125 Z M 2.25 -6.03125 \" style=\"stroke:none;\"/>\n",
       "</symbol>\n",
       "<symbol id=\"glyph5-11\" overflow=\"visible\">\n",
       "<path d=\"M 1.71875 -3.75 L 1.71875 -4.40625 L 0.28125 -4.296875 L 0.28125 -3.984375 C 0.984375 -3.984375 1.0625 -3.921875 1.0625 -3.484375 L 1.0625 1.171875 C 1.0625 1.625 0.953125 1.625 0.28125 1.625 L 0.28125 1.9375 C 0.625 1.921875 1.140625 1.90625 1.390625 1.90625 C 1.671875 1.90625 2.171875 1.921875 2.515625 1.9375 L 2.515625 1.625 C 1.859375 1.625 1.75 1.625 1.75 1.171875 L 1.75 -0.59375 C 1.796875 -0.421875 2.21875 0.109375 2.96875 0.109375 C 4.15625 0.109375 5.1875 -0.875 5.1875 -2.15625 C 5.1875 -3.421875 4.234375 -4.40625 3.109375 -4.40625 C 2.328125 -4.40625 1.90625 -3.96875 1.71875 -3.75 Z M 1.75 -1.140625 L 1.75 -3.359375 C 2.03125 -3.875 2.515625 -4.15625 3.03125 -4.15625 C 3.765625 -4.15625 4.359375 -3.28125 4.359375 -2.15625 C 4.359375 -0.953125 3.671875 -0.109375 2.9375 -0.109375 C 2.53125 -0.109375 2.15625 -0.3125 1.890625 -0.71875 C 1.75 -0.921875 1.75 -0.9375 1.75 -1.140625 Z M 1.75 -1.140625 \" style=\"stroke:none;\"/>\n",
       "</symbol>\n",
       "<symbol id=\"glyph5-12\" overflow=\"visible\">\n",
       "<path d=\"M 3.890625 -0.78125 L 3.890625 0.109375 L 5.328125 0 L 5.328125 -0.3125 C 4.640625 -0.3125 4.5625 -0.375 4.5625 -0.875 L 4.5625 -4.40625 L 3.09375 -4.296875 L 3.09375 -3.984375 C 3.78125 -3.984375 3.875 -3.921875 3.875 -3.421875 L 3.875 -1.65625 C 3.875 -0.78125 3.390625 -0.109375 2.65625 -0.109375 C 1.828125 -0.109375 1.78125 -0.578125 1.78125 -1.09375 L 1.78125 -4.40625 L 0.3125 -4.296875 L 0.3125 -3.984375 C 1.09375 -3.984375 1.09375 -3.953125 1.09375 -3.078125 L 1.09375 -1.578125 C 1.09375 -0.796875 1.09375 0.109375 2.609375 0.109375 C 3.171875 0.109375 3.609375 -0.171875 3.890625 -0.78125 Z M 3.890625 -0.78125 \" style=\"stroke:none;\"/>\n",
       "</symbol>\n",
       "<symbol id=\"glyph5-13\" overflow=\"visible\">\n",
       "<path d=\"M 1.71875 -3.984375 L 3.15625 -3.984375 L 3.15625 -4.296875 L 1.71875 -4.296875 L 1.71875 -6.125 L 1.46875 -6.125 C 1.46875 -5.3125 1.171875 -4.25 0.1875 -4.203125 L 0.1875 -3.984375 L 1.03125 -3.984375 L 1.03125 -1.234375 C 1.03125 -0.015625 1.96875 0.109375 2.328125 0.109375 C 3.03125 0.109375 3.3125 -0.59375 3.3125 -1.234375 L 3.3125 -1.796875 L 3.0625 -1.796875 L 3.0625 -1.25 C 3.0625 -0.515625 2.765625 -0.140625 2.390625 -0.140625 C 1.71875 -0.140625 1.71875 -1.046875 1.71875 -1.21875 Z M 1.71875 -3.984375 \" style=\"stroke:none;\"/>\n",
       "</symbol>\n",
       "<symbol id=\"glyph5-14\" overflow=\"visible\">\n",
       "<path d=\"M 7.1875 -3.375 C 7.1875 -5.40625 5.6875 -7.03125 3.875 -7.03125 C 2.078125 -7.03125 0.5625 -5.4375 0.5625 -3.375 C 0.5625 -1.328125 2.09375 0.21875 3.875 0.21875 C 5.6875 0.21875 7.1875 -1.359375 7.1875 -3.375 Z M 3.875 -0.046875 C 2.921875 -0.046875 1.578125 -0.921875 1.578125 -3.515625 C 1.578125 -6.09375 3.046875 -6.78125 3.875 -6.78125 C 4.734375 -6.78125 6.15625 -6.078125 6.15625 -3.515625 C 6.15625 -0.875 4.796875 -0.046875 3.875 -0.046875 Z M 3.875 -0.046875 \" style=\"stroke:none;\"/>\n",
       "</symbol>\n",
       "</g>\n",
       "</defs>\n",
       "<g id=\"surface1\">\n",
       "<path d=\"M 37.15625 42.015625 C 37.15625 40.0625 35.570312 38.472656 33.613281 38.472656 C 31.65625 38.472656 30.070312 40.0625 30.070312 42.015625 C 30.070312 43.972656 31.65625 45.5625 33.613281 45.5625 C 35.570312 45.5625 37.15625 43.972656 37.15625 42.015625 Z M 37.15625 42.015625 \" style=\" stroke:none;fill-rule:nonzero;fill:rgb(25.999451%,25.999451%,25.999451%);fill-opacity:1;\"/>\n",
       "<g style=\"fill:rgb(0%,0%,0%);fill-opacity:1;\">\n",
       "  <use x=\"3.32\" xlink:href=\"#glyph0-1\" y=\"43.414\"/>\n",
       "</g>\n",
       "<g style=\"fill:rgb(0%,0%,0%);fill-opacity:1;\">\n",
       "  <use x=\"9.014\" xlink:href=\"#glyph1-1\" y=\"44.909\"/>\n",
       "</g>\n",
       "<path d=\"M -5.196031 -27.348625 L -16.610094 -27.348625 \" style=\"fill:none;stroke-width:0.3985;stroke-linecap:butt;stroke-linejoin:miter;stroke:rgb(0%,0%,0%);stroke-opacity:1;stroke-miterlimit:10;\" transform=\"matrix(1,0,0,-1,33.614,14.667)\"/>\n",
       "<path d=\"M -1.194204 1.595645 C -1.096547 0.997989 0.00110875 0.0995513 0.297984 0.001895 C 0.00110875 -0.0996675 -1.096547 -0.998105 -1.194204 -1.595761 \" style=\"fill:none;stroke-width:0.31879;stroke-linecap:round;stroke-linejoin:round;stroke:rgb(0%,0%,0%);stroke-opacity:1;stroke-miterlimit:10;\" transform=\"matrix(1,0,0,-1,28.41686,42.01752)\"/>\n",
       "<path d=\"M 37.15625 70.363281 C 37.15625 68.40625 35.570312 66.820312 33.613281 66.820312 C 31.65625 66.820312 30.070312 68.40625 30.070312 70.363281 C 30.070312 72.320312 31.65625 73.90625 33.613281 73.90625 C 35.570312 73.90625 37.15625 72.320312 37.15625 70.363281 Z M 37.15625 70.363281 \" style=\" stroke:none;fill-rule:nonzero;fill:rgb(25.999451%,25.999451%,25.999451%);fill-opacity:1;\"/>\n",
       "<g style=\"fill:rgb(0%,0%,0%);fill-opacity:1;\">\n",
       "  <use x=\"3.32\" xlink:href=\"#glyph0-1\" y=\"71.761\"/>\n",
       "</g>\n",
       "<g style=\"fill:rgb(0%,0%,0%);fill-opacity:1;\">\n",
       "  <use x=\"9.014\" xlink:href=\"#glyph1-2\" y=\"73.255\"/>\n",
       "</g>\n",
       "<path d=\"M -5.196031 -55.696281 L -16.610094 -55.696281 \" style=\"fill:none;stroke-width:0.3985;stroke-linecap:butt;stroke-linejoin:miter;stroke:rgb(0%,0%,0%);stroke-opacity:1;stroke-miterlimit:10;\" transform=\"matrix(1,0,0,-1,33.614,14.667)\"/>\n",
       "<path d=\"M -1.194204 1.594829 C -1.096547 0.997173 0.00110875 0.098735 0.297984 0.00107875 C 0.00110875 -0.100484 -1.096547 -0.995015 -1.194204 -1.592671 \" style=\"fill:none;stroke-width:0.31879;stroke-linecap:round;stroke-linejoin:round;stroke:rgb(0%,0%,0%);stroke-opacity:1;stroke-miterlimit:10;\" transform=\"matrix(1,0,0,-1,28.41686,70.36436)\"/>\n",
       "<path d=\"M 37.15625 98.710938 C 37.15625 96.753906 35.570312 95.167969 33.613281 95.167969 C 31.65625 95.167969 30.070312 96.753906 30.070312 98.710938 C 30.070312 100.667969 31.65625 102.253906 33.613281 102.253906 C 35.570312 102.253906 37.15625 100.667969 37.15625 98.710938 Z M 37.15625 98.710938 \" style=\" stroke:none;fill-rule:nonzero;fill:rgb(25.999451%,25.999451%,25.999451%);fill-opacity:1;\"/>\n",
       "<g style=\"fill:rgb(0%,0%,0%);fill-opacity:1;\">\n",
       "  <use x=\"3.32\" xlink:href=\"#glyph0-1\" y=\"100.107\"/>\n",
       "</g>\n",
       "<g style=\"fill:rgb(0%,0%,0%);fill-opacity:1;\">\n",
       "  <use x=\"9.014\" xlink:href=\"#glyph1-3\" y=\"101.602\"/>\n",
       "</g>\n",
       "<path d=\"M -5.196031 -84.043937 L -16.610094 -84.043937 \" style=\"fill:none;stroke-width:0.3985;stroke-linecap:butt;stroke-linejoin:miter;stroke:rgb(0%,0%,0%);stroke-opacity:1;stroke-miterlimit:10;\" transform=\"matrix(1,0,0,-1,33.614,14.667)\"/>\n",
       "<path d=\"M -1.194204 1.593983 C -1.096547 0.996326 0.00110875 0.0978888 0.297984 0.0002325 C 0.00110875 -0.10133 -1.096547 -0.995861 -1.194204 -1.593517 \" style=\"fill:none;stroke-width:0.31879;stroke-linecap:round;stroke-linejoin:round;stroke:rgb(0%,0%,0%);stroke-opacity:1;stroke-miterlimit:10;\" transform=\"matrix(1,0,0,-1,28.41686,98.71117)\"/>\n",
       "<path d=\"M 37.15625 127.058594 C 37.15625 125.101562 35.570312 123.515625 33.613281 123.515625 C 31.65625 123.515625 30.070312 125.101562 30.070312 127.058594 C 30.070312 129.015625 31.65625 130.601562 33.613281 130.601562 C 35.570312 130.601562 37.15625 129.015625 37.15625 127.058594 Z M 37.15625 127.058594 \" style=\" stroke:none;fill-rule:nonzero;fill:rgb(25.999451%,25.999451%,25.999451%);fill-opacity:1;\"/>\n",
       "<g style=\"fill:rgb(0%,0%,0%);fill-opacity:1;\">\n",
       "  <use x=\"3.32\" xlink:href=\"#glyph0-1\" y=\"128.454\"/>\n",
       "</g>\n",
       "<g style=\"fill:rgb(0%,0%,0%);fill-opacity:1;\">\n",
       "  <use x=\"9.014\" xlink:href=\"#glyph1-4\" y=\"129.948\"/>\n",
       "</g>\n",
       "<path d=\"M -5.196031 -112.391594 L -16.610094 -112.391594 \" style=\"fill:none;stroke-width:0.3985;stroke-linecap:butt;stroke-linejoin:miter;stroke:rgb(0%,0%,0%);stroke-opacity:1;stroke-miterlimit:10;\" transform=\"matrix(1,0,0,-1,33.614,14.667)\"/>\n",
       "<path d=\"M -1.194204 1.593156 C -1.096547 0.9955 0.00110875 0.100969 0.297984 -0.00059375 C 0.00110875 -0.09825 -1.096547 -0.996687 -1.194204 -1.594344 \" style=\"fill:none;stroke-width:0.31879;stroke-linecap:round;stroke-linejoin:round;stroke:rgb(0%,0%,0%);stroke-opacity:1;stroke-miterlimit:10;\" transform=\"matrix(1,0,0,-1,28.41686,127.058)\"/>\n",
       "<path d=\"M 37.15625 155.40625 C 37.15625 153.449219 35.570312 151.863281 33.613281 151.863281 C 31.65625 151.863281 30.070312 153.449219 30.070312 155.40625 C 30.070312 157.363281 31.65625 158.949219 33.613281 158.949219 C 35.570312 158.949219 37.15625 157.363281 37.15625 155.40625 Z M 37.15625 155.40625 \" style=\" stroke:none;fill-rule:nonzero;fill:rgb(25.999451%,25.999451%,25.999451%);fill-opacity:1;\"/>\n",
       "<g style=\"fill:rgb(0%,0%,0%);fill-opacity:1;\">\n",
       "  <use x=\"3.32\" xlink:href=\"#glyph0-1\" y=\"156.8\"/>\n",
       "</g>\n",
       "<g style=\"fill:rgb(0%,0%,0%);fill-opacity:1;\">\n",
       "  <use x=\"9.014\" xlink:href=\"#glyph1-5\" y=\"158.295\"/>\n",
       "</g>\n",
       "<path d=\"M -5.196031 -140.73925 L -16.610094 -140.73925 \" style=\"fill:none;stroke-width:0.3985;stroke-linecap:butt;stroke-linejoin:miter;stroke:rgb(0%,0%,0%);stroke-opacity:1;stroke-miterlimit:10;\" transform=\"matrix(1,0,0,-1,33.614,14.667)\"/>\n",
       "<path d=\"M -1.194204 1.59232 C -1.096547 0.994664 0.00110875 0.100133 0.297984 -0.00143 C 0.00110875 -0.0990862 -1.096547 -0.997524 -1.194204 -1.59518 \" style=\"fill:none;stroke-width:0.31879;stroke-linecap:round;stroke-linejoin:round;stroke:rgb(0%,0%,0%);stroke-opacity:1;stroke-miterlimit:10;\" transform=\"matrix(1,0,0,-1,28.41686,155.40482)\"/>\n",
       "<path d=\"M 37.15625 183.75 C 37.15625 181.792969 35.570312 180.207031 33.613281 180.207031 C 31.65625 180.207031 30.070312 181.792969 30.070312 183.75 C 30.070312 185.707031 31.65625 187.296875 33.613281 187.296875 C 35.570312 187.296875 37.15625 185.707031 37.15625 183.75 Z M 37.15625 183.75 \" style=\" stroke:none;fill-rule:nonzero;fill:rgb(25.999451%,25.999451%,25.999451%);fill-opacity:1;\"/>\n",
       "<g style=\"fill:rgb(0%,0%,0%);fill-opacity:1;\">\n",
       "  <use x=\"3.32\" xlink:href=\"#glyph0-1\" y=\"185.147\"/>\n",
       "</g>\n",
       "<g style=\"fill:rgb(0%,0%,0%);fill-opacity:1;\">\n",
       "  <use x=\"9.014\" xlink:href=\"#glyph1-6\" y=\"186.641\"/>\n",
       "</g>\n",
       "<path d=\"M -5.196031 -169.083 L -16.610094 -169.083 \" style=\"fill:none;stroke-width:0.3985;stroke-linecap:butt;stroke-linejoin:miter;stroke:rgb(0%,0%,0%);stroke-opacity:1;stroke-miterlimit:10;\" transform=\"matrix(1,0,0,-1,33.614,14.667)\"/>\n",
       "<path d=\"M -1.194204 1.59539 C -1.096547 0.997734 0.00110875 0.0992963 0.297984 0.00164 C 0.00110875 -0.0999225 -1.096547 -0.994454 -1.194204 -1.59211 \" style=\"fill:none;stroke-width:0.31879;stroke-linecap:round;stroke-linejoin:round;stroke:rgb(0%,0%,0%);stroke-opacity:1;stroke-miterlimit:10;\" transform=\"matrix(1,0,0,-1,28.41686,183.75164)\"/>\n",
       "<path d=\"M 143.316406 71.359375 C 143.316406 65.566406 138.621094 60.871094 132.828125 60.871094 C 127.035156 60.871094 122.339844 65.566406 122.339844 71.359375 C 122.339844 77.152344 127.035156 81.847656 132.828125 81.847656 C 138.621094 81.847656 143.316406 77.152344 143.316406 71.359375 Z M 143.316406 71.359375 \" style=\" stroke:none;fill-rule:nonzero;fill:rgb(50%,50%,100%);fill-opacity:1;\"/>\n",
       "<path d=\"M -5.67075 -2.831406 L -5.436375 -2.8275 L -5.205906 -2.8275 L -4.744969 -2.819687 L -4.510594 -2.815781 L -4.280125 -2.807969 L -3.819187 -2.784531 L -3.584812 -2.765 L -3.354344 -2.737656 L -3.123875 -2.698594 L -2.893406 -2.647812 L -2.662937 -2.581406 L -2.428562 -2.487656 L -2.198094 -2.366562 L -1.967625 -2.206406 L -1.737156 -1.999375 L -1.502781 -1.737656 L -1.272312 -1.42125 L -1.041844 -1.050156 L -0.811375 -0.628281 L -0.577 -0.175156 L -0.346531 0.285781 L -0.116062 0.735 L 0.114406 1.145156 L 0.348781 1.504531 L 0.57925 1.809219 L 0.809719 2.055313 L 1.040188 2.250625 L 1.270656 2.399063 L 1.505031 2.51625 L 1.7355 2.598281 L 1.965969 2.664688 L 2.196438 2.711563 L 2.430813 2.742813 L 2.661281 2.770156 L 3.122219 2.801406 L 3.356594 2.809219 L 3.587063 2.817031 L 4.048 2.824844 L 4.282375 2.82875 L 4.743313 2.82875 L 4.973781 2.832656 L 5.669094 2.832656 \" style=\"fill:none;stroke-width:1.41731;stroke-linecap:butt;stroke-linejoin:miter;stroke:rgb(0%,0%,0%);stroke-opacity:1;stroke-miterlimit:10;\" transform=\"matrix(1,0,0,-1,132.827,71.36)\"/>\n",
       "<path d=\"M 143.316406 99.707031 C 143.316406 93.914062 138.621094 89.21875 132.828125 89.21875 C 127.035156 89.21875 122.339844 93.914062 122.339844 99.707031 C 122.339844 105.5 127.035156 110.195312 132.828125 110.195312 C 138.621094 110.195312 143.316406 105.5 143.316406 99.707031 Z M 143.316406 99.707031 \" style=\" stroke:none;fill-rule:nonzero;fill:rgb(50%,50%,100%);fill-opacity:1;\"/>\n",
       "<path d=\"M -5.67075 -2.829156 L -5.205906 -2.829156 L -4.744969 -2.821344 L -4.510594 -2.813531 L -4.280125 -2.809625 L -4.049656 -2.797906 L -3.819187 -2.782281 L -3.584812 -2.76275 L -3.354344 -2.735406 L -3.123875 -2.70025 L -2.893406 -2.649469 L -2.662937 -2.583062 L -2.428562 -2.489312 L -2.198094 -2.368219 L -1.967625 -2.208062 L -1.737156 -2.001031 L -1.502781 -1.739312 L -1.272312 -1.422906 L -1.041844 -1.047906 L -0.811375 -0.626031 L -0.577 -0.172906 L -0.346531 0.288031 L -0.116062 0.733344 L 0.114406 1.1435 L 0.348781 1.506781 L 0.57925 1.807563 L 0.809719 2.053656 L 1.040188 2.248969 L 1.270656 2.401313 L 1.505031 2.514594 L 1.7355 2.600531 L 1.965969 2.663031 L 2.196438 2.709906 L 2.430813 2.745063 L 2.661281 2.7685 L 2.89175 2.788031 L 3.122219 2.79975 L 3.356594 2.811469 L 3.587063 2.815375 L 3.817531 2.823188 L 4.048 2.823188 L 4.282375 2.827094 L 4.512844 2.831 L 5.20425 2.831 L 5.438625 2.834906 L 5.669094 2.834906 \" style=\"fill:none;stroke-width:1.41731;stroke-linecap:butt;stroke-linejoin:miter;stroke:rgb(0%,0%,0%);stroke-opacity:1;stroke-miterlimit:10;\" transform=\"matrix(1,0,0,-1,132.827,99.706)\"/>\n",
       "<path d=\"M 143.316406 128.054688 C 143.316406 122.261719 138.621094 117.566406 132.828125 117.566406 C 127.035156 117.566406 122.339844 122.261719 122.339844 128.054688 C 122.339844 133.847656 127.035156 138.542969 132.828125 138.542969 C 138.621094 138.542969 143.316406 133.847656 143.316406 128.054688 Z M 143.316406 128.054688 \" style=\" stroke:none;fill-rule:nonzero;fill:rgb(50%,50%,100%);fill-opacity:1;\"/>\n",
       "<path d=\"M -5.67075 -2.829813 L -5.436375 -2.829813 L -5.205906 -2.825906 L -4.975437 -2.825906 L -4.744969 -2.822 L -4.510594 -2.814188 L -4.049656 -2.798563 L -3.819187 -2.782938 L -3.584812 -2.763406 L -3.354344 -2.736063 L -3.123875 -2.700906 L -2.893406 -2.650125 L -2.662937 -2.579813 L -2.428562 -2.489969 L -2.198094 -2.368875 L -1.967625 -2.204813 L -1.737156 -1.997781 L -1.502781 -1.739969 L -1.272312 -1.423563 L -1.041844 -1.048563 L -0.811375 -0.626688 L -0.577 -0.173563 L -0.346531 0.287375 L -0.116062 0.732687 L 0.114406 1.142844 L 0.348781 1.506125 L 0.57925 1.806906 L 0.809719 2.053 L 1.040188 2.248312 L 1.270656 2.400656 L 1.505031 2.513937 L 1.7355 2.599875 L 1.965969 2.662375 L 2.196438 2.70925 L 2.430813 2.744406 L 2.661281 2.767844 L 2.89175 2.787375 L 3.122219 2.799094 L 3.356594 2.810812 L 3.587063 2.814719 L 3.817531 2.822531 L 4.048 2.826437 L 4.282375 2.826437 L 4.512844 2.830344 L 4.973781 2.830344 L 5.20425 2.83425 L 5.669094 2.83425 \" style=\"fill:none;stroke-width:1.41731;stroke-linecap:butt;stroke-linejoin:miter;stroke:rgb(0%,0%,0%);stroke-opacity:1;stroke-miterlimit:10;\" transform=\"matrix(1,0,0,-1,132.827,128.053)\"/>\n",
       "<path d=\"M 143.316406 156.402344 C 143.316406 150.609375 138.621094 145.914062 132.828125 145.914062 C 127.035156 145.914062 122.339844 150.609375 122.339844 156.402344 C 122.339844 162.195312 127.035156 166.890625 132.828125 166.890625 C 138.621094 166.890625 143.316406 162.195312 143.316406 156.402344 Z M 143.316406 156.402344 \" style=\" stroke:none;fill-rule:nonzero;fill:rgb(50%,50%,100%);fill-opacity:1;\"/>\n",
       "<path d=\"M -5.67075 -2.831469 L -5.436375 -2.827562 L -5.205906 -2.827562 L -4.744969 -2.81975 L -4.510594 -2.815844 L -4.280125 -2.808031 L -3.819187 -2.784594 L -3.584812 -2.765062 L -3.354344 -2.737719 L -3.123875 -2.698656 L -2.893406 -2.647875 L -2.662937 -2.581469 L -2.428562 -2.487719 L -2.198094 -2.366625 L -1.967625 -2.206469 L -1.737156 -1.999437 L -1.502781 -1.737719 L -1.272312 -1.421312 L -1.041844 -1.046312 L -0.811375 -0.628344 L -0.577 -0.175219 L -0.346531 0.285719 L -0.116062 0.734938 L 0.114406 1.145094 L 0.348781 1.504469 L 0.57925 1.809156 L 0.809719 2.05525 L 1.040188 2.250563 L 1.270656 2.399 L 1.505031 2.516188 L 1.7355 2.598219 L 1.965969 2.664625 L 2.196438 2.7115 L 2.430813 2.74275 L 2.661281 2.770094 L 3.122219 2.801344 L 3.356594 2.809156 L 3.587063 2.816969 L 4.048 2.824781 L 4.282375 2.828688 L 4.743313 2.828688 L 4.973781 2.832594 L 5.669094 2.832594 \" style=\"fill:none;stroke-width:1.41731;stroke-linecap:butt;stroke-linejoin:miter;stroke:rgb(0%,0%,0%);stroke-opacity:1;stroke-miterlimit:10;\" transform=\"matrix(1,0,0,-1,132.827,156.399)\"/>\n",
       "<path d=\"M 242.53125 43.015625 C 242.53125 37.222656 237.835938 32.527344 232.042969 32.527344 C 226.25 32.527344 221.554688 37.222656 221.554688 43.015625 C 221.554688 48.804688 226.25 53.503906 232.042969 53.503906 C 237.835938 53.503906 242.53125 48.804688 242.53125 43.015625 Z M 242.53125 43.015625 \" style=\" stroke:none;fill-rule:nonzero;fill:rgb(100%,50%,50%);fill-opacity:1;\"/>\n",
       "<path d=\"M -2.125938 -4.252625 L 2.124062 4.251281 \" style=\"fill:none;stroke-width:1.41731;stroke-linecap:butt;stroke-linejoin:miter;stroke:rgb(0%,0%,0%);stroke-opacity:1;stroke-miterlimit:10;\" transform=\"matrix(1,0,0,-1,232.04,43.013)\"/>\n",
       "<g style=\"fill:rgb(0%,0%,0%);fill-opacity:1;\">\n",
       "  <use x=\"259.115\" xlink:href=\"#glyph0-1\" y=\"44.411\"/>\n",
       "</g>\n",
       "<g style=\"fill:rgb(0%,0%,0%);fill-opacity:1;\">\n",
       "  <use x=\"264.809\" xlink:href=\"#glyph1-1\" y=\"45.905\"/>\n",
       "</g>\n",
       "<path d=\"M 210.112562 -28.348625 L 221.526625 -28.348625 \" style=\"fill:none;stroke-width:0.3985;stroke-linecap:butt;stroke-linejoin:miter;stroke:rgb(0%,0%,0%);stroke-opacity:1;stroke-miterlimit:10;\" transform=\"matrix(1,0,0,-1,33.614,14.667)\"/>\n",
       "<path d=\"M -1.194318 1.595831 C -1.096661 0.998175 0.000995 0.0997375 0.29787 -0.001825 C 0.000995 -0.0994812 -1.096661 -0.997919 -1.194318 -1.595575 \" style=\"fill:none;stroke-width:0.31879;stroke-linecap:round;stroke-linejoin:round;stroke:rgb(0%,0%,0%);stroke-opacity:1;stroke-miterlimit:10;\" transform=\"matrix(1,0,0,-1,255.13963,43.0138)\"/>\n",
       "<path d=\"M 242.53125 71.359375 C 242.53125 65.566406 237.835938 60.871094 232.042969 60.871094 C 226.25 60.871094 221.554688 65.566406 221.554688 71.359375 C 221.554688 77.152344 226.25 81.847656 232.042969 81.847656 C 237.835938 81.847656 242.53125 77.152344 242.53125 71.359375 Z M 242.53125 71.359375 \" style=\" stroke:none;fill-rule:nonzero;fill:rgb(100%,50%,50%);fill-opacity:1;\"/>\n",
       "<path d=\"M -2.125938 -4.253281 L 2.124062 4.250625 \" style=\"fill:none;stroke-width:1.41731;stroke-linecap:butt;stroke-linejoin:miter;stroke:rgb(0%,0%,0%);stroke-opacity:1;stroke-miterlimit:10;\" transform=\"matrix(1,0,0,-1,232.04,71.36)\"/>\n",
       "<g style=\"fill:rgb(0%,0%,0%);fill-opacity:1;\">\n",
       "  <use x=\"259.115\" xlink:href=\"#glyph0-1\" y=\"72.757\"/>\n",
       "</g>\n",
       "<g style=\"fill:rgb(0%,0%,0%);fill-opacity:1;\">\n",
       "  <use x=\"264.809\" xlink:href=\"#glyph1-2\" y=\"74.252\"/>\n",
       "</g>\n",
       "<path d=\"M 210.112562 -56.692375 L 221.526625 -56.692375 \" style=\"fill:none;stroke-width:0.3985;stroke-linecap:butt;stroke-linejoin:miter;stroke:rgb(0%,0%,0%);stroke-opacity:1;stroke-miterlimit:10;\" transform=\"matrix(1,0,0,-1,33.614,14.667)\"/>\n",
       "<path d=\"M -1.194318 1.595005 C -1.096661 0.997349 0.000995 0.0989113 0.29787 0.001255 C 0.000995 -0.100307 -1.096661 -0.994839 -1.194318 -1.592495 \" style=\"fill:none;stroke-width:0.31879;stroke-linecap:round;stroke-linejoin:round;stroke:rgb(0%,0%,0%);stroke-opacity:1;stroke-miterlimit:10;\" transform=\"matrix(1,0,0,-1,255.13963,71.36063)\"/>\n",
       "<path d=\"M 242.53125 99.707031 C 242.53125 93.914062 237.835938 89.21875 232.042969 89.21875 C 226.25 89.21875 221.554688 93.914062 221.554688 99.707031 C 221.554688 105.5 226.25 110.195312 232.042969 110.195312 C 237.835938 110.195312 242.53125 105.5 242.53125 99.707031 Z M 242.53125 99.707031 \" style=\" stroke:none;fill-rule:nonzero;fill:rgb(100%,50%,50%);fill-opacity:1;\"/>\n",
       "<path d=\"M -2.125938 -4.251031 L 2.124062 4.252875 \" style=\"fill:none;stroke-width:1.41731;stroke-linecap:butt;stroke-linejoin:miter;stroke:rgb(0%,0%,0%);stroke-opacity:1;stroke-miterlimit:10;\" transform=\"matrix(1,0,0,-1,232.04,99.706)\"/>\n",
       "<g style=\"fill:rgb(0%,0%,0%);fill-opacity:1;\">\n",
       "  <use x=\"259.115\" xlink:href=\"#glyph0-1\" y=\"101.104\"/>\n",
       "</g>\n",
       "<g style=\"fill:rgb(0%,0%,0%);fill-opacity:1;\">\n",
       "  <use x=\"264.809\" xlink:href=\"#glyph1-3\" y=\"102.598\"/>\n",
       "</g>\n",
       "<path d=\"M 210.112562 -85.040031 L 221.526625 -85.040031 \" style=\"fill:none;stroke-width:0.3985;stroke-linecap:butt;stroke-linejoin:miter;stroke:rgb(0%,0%,0%);stroke-opacity:1;stroke-miterlimit:10;\" transform=\"matrix(1,0,0,-1,33.614,14.667)\"/>\n",
       "<path d=\"M -1.194318 1.594169 C -1.096661 0.996513 0.000995 0.098075 0.29787 0.00041875 C 0.000995 -0.101144 -1.096661 -0.995675 -1.194318 -1.593331 \" style=\"fill:none;stroke-width:0.31879;stroke-linecap:round;stroke-linejoin:round;stroke:rgb(0%,0%,0%);stroke-opacity:1;stroke-miterlimit:10;\" transform=\"matrix(1,0,0,-1,255.13963,99.70745)\"/>\n",
       "<path d=\"M 242.53125 128.054688 C 242.53125 122.261719 237.835938 117.566406 232.042969 117.566406 C 226.25 117.566406 221.554688 122.261719 221.554688 128.054688 C 221.554688 133.847656 226.25 138.542969 232.042969 138.542969 C 237.835938 138.542969 242.53125 133.847656 242.53125 128.054688 Z M 242.53125 128.054688 \" style=\" stroke:none;fill-rule:nonzero;fill:rgb(100%,50%,50%);fill-opacity:1;\"/>\n",
       "<path d=\"M -2.125938 -4.251688 L 2.124062 4.252219 \" style=\"fill:none;stroke-width:1.41731;stroke-linecap:butt;stroke-linejoin:miter;stroke:rgb(0%,0%,0%);stroke-opacity:1;stroke-miterlimit:10;\" transform=\"matrix(1,0,0,-1,232.04,128.053)\"/>\n",
       "<g style=\"fill:rgb(0%,0%,0%);fill-opacity:1;\">\n",
       "  <use x=\"259.115\" xlink:href=\"#glyph0-1\" y=\"129.45\"/>\n",
       "</g>\n",
       "<g style=\"fill:rgb(0%,0%,0%);fill-opacity:1;\">\n",
       "  <use x=\"264.809\" xlink:href=\"#glyph1-4\" y=\"130.945\"/>\n",
       "</g>\n",
       "<path d=\"M 210.112562 -113.387687 L 221.526625 -113.387687 \" style=\"fill:none;stroke-width:0.3985;stroke-linecap:butt;stroke-linejoin:miter;stroke:rgb(0%,0%,0%);stroke-opacity:1;stroke-miterlimit:10;\" transform=\"matrix(1,0,0,-1,33.614,14.667)\"/>\n",
       "<path d=\"M -1.194318 1.593343 C -1.096661 0.995686 0.000995 0.101155 0.29787 -0.0004075 C 0.000995 -0.0980637 -1.096661 -0.996501 -1.194318 -1.594157 \" style=\"fill:none;stroke-width:0.31879;stroke-linecap:round;stroke-linejoin:round;stroke:rgb(0%,0%,0%);stroke-opacity:1;stroke-miterlimit:10;\" transform=\"matrix(1,0,0,-1,255.13963,128.05428)\"/>\n",
       "<path d=\"M 242.53125 156.402344 C 242.53125 150.609375 237.835938 145.914062 232.042969 145.914062 C 226.25 145.914062 221.554688 150.609375 221.554688 156.402344 C 221.554688 162.195312 226.25 166.890625 232.042969 166.890625 C 237.835938 166.890625 242.53125 162.195312 242.53125 156.402344 Z M 242.53125 156.402344 \" style=\" stroke:none;fill-rule:nonzero;fill:rgb(100%,50%,50%);fill-opacity:1;\"/>\n",
       "<path d=\"M -2.124938 -4.253344 L 2.125062 4.250563 \" style=\"fill:none;stroke-width:1.41731;stroke-linecap:butt;stroke-linejoin:miter;stroke:rgb(0%,0%,0%);stroke-opacity:1;stroke-miterlimit:10;\" transform=\"matrix(1,0,0,-1,232.039,156.399)\"/>\n",
       "<g style=\"fill:rgb(0%,0%,0%);fill-opacity:1;\">\n",
       "  <use x=\"259.115\" xlink:href=\"#glyph0-1\" y=\"157.797\"/>\n",
       "</g>\n",
       "<g style=\"fill:rgb(0%,0%,0%);fill-opacity:1;\">\n",
       "  <use x=\"264.809\" xlink:href=\"#glyph1-5\" y=\"159.291\"/>\n",
       "</g>\n",
       "<path d=\"M 210.112562 -141.735344 L 221.526625 -141.735344 \" style=\"fill:none;stroke-width:0.3985;stroke-linecap:butt;stroke-linejoin:miter;stroke:rgb(0%,0%,0%);stroke-opacity:1;stroke-miterlimit:10;\" transform=\"matrix(1,0,0,-1,33.614,14.667)\"/>\n",
       "<path d=\"M -1.194318 1.592506 C -1.096661 0.99485 0.000995 0.100319 0.29787 -0.00124375 C 0.000995 -0.0989 -1.096661 -0.997338 -1.194318 -1.594994 \" style=\"fill:none;stroke-width:0.31879;stroke-linecap:round;stroke-linejoin:round;stroke:rgb(0%,0%,0%);stroke-opacity:1;stroke-miterlimit:10;\" transform=\"matrix(1,0,0,-1,255.13963,156.4011)\"/>\n",
       "<path d=\"M 242.53125 184.746094 C 242.53125 178.957031 237.835938 174.257812 232.042969 174.257812 C 226.25 174.257812 221.554688 178.957031 221.554688 184.746094 C 221.554688 190.539062 226.25 195.234375 232.042969 195.234375 C 237.835938 195.234375 242.53125 190.539062 242.53125 184.746094 Z M 242.53125 184.746094 \" style=\" stroke:none;fill-rule:nonzero;fill:rgb(100%,50%,50%);fill-opacity:1;\"/>\n",
       "<path d=\"M -2.124938 -4.250094 L 2.125062 4.249906 \" style=\"fill:none;stroke-width:1.41731;stroke-linecap:butt;stroke-linejoin:miter;stroke:rgb(0%,0%,0%);stroke-opacity:1;stroke-miterlimit:10;\" transform=\"matrix(1,0,0,-1,232.039,184.746)\"/>\n",
       "<g style=\"fill:rgb(0%,0%,0%);fill-opacity:1;\">\n",
       "  <use x=\"259.115\" xlink:href=\"#glyph0-1\" y=\"186.143\"/>\n",
       "</g>\n",
       "<g style=\"fill:rgb(0%,0%,0%);fill-opacity:1;\">\n",
       "  <use x=\"264.809\" xlink:href=\"#glyph1-6\" y=\"187.637\"/>\n",
       "</g>\n",
       "<path d=\"M 210.112562 -170.079094 L 221.526625 -170.079094 \" style=\"fill:none;stroke-width:0.3985;stroke-linecap:butt;stroke-linejoin:miter;stroke:rgb(0%,0%,0%);stroke-opacity:1;stroke-miterlimit:10;\" transform=\"matrix(1,0,0,-1,33.614,14.667)\"/>\n",
       "<path d=\"M -1.194318 1.595576 C -1.096661 0.99792 0.000995 0.0994825 0.29787 0.00182625 C 0.000995 -0.0997362 -1.096661 -0.998174 -1.194318 -1.59583 \" style=\"fill:none;stroke-width:0.31879;stroke-linecap:round;stroke-linejoin:round;stroke:rgb(0%,0%,0%);stroke-opacity:1;stroke-miterlimit:10;\" transform=\"matrix(1,0,0,-1,255.13963,184.74792)\"/>\n",
       "<path d=\"M 79.421875 184.746094 C 79.421875 182.789062 77.835938 181.203125 75.878906 181.203125 C 73.921875 181.203125 72.335938 182.789062 72.335938 184.746094 C 72.335938 186.703125 73.921875 188.292969 75.878906 188.292969 C 77.835938 188.292969 79.421875 186.703125 79.421875 184.746094 Z M 79.421875 184.746094 \" style=\" stroke:none;fill-rule:nonzero;fill:rgb(25.999451%,25.999451%,25.999451%);fill-opacity:1;\"/>\n",
       "<g style=\"fill:rgb(0%,0%,0%);fill-opacity:1;\">\n",
       "  <use x=\"34.342\" xlink:href=\"#glyph2-1\" y=\"205.789\"/>\n",
       "</g>\n",
       "<g style=\"fill:rgb(0%,0%,0%);fill-opacity:1;\">\n",
       "  <use x=\"39.566\" xlink:href=\"#glyph3-1\" y=\"206.786\"/>\n",
       "</g>\n",
       "<g style=\"fill:rgb(0%,0%,0%);fill-opacity:1;\">\n",
       "  <use x=\"46.277\" xlink:href=\"#glyph4-1\" y=\"205.789\"/>\n",
       "</g>\n",
       "<g style=\"fill:rgb(0%,0%,0%);fill-opacity:1;\">\n",
       "  <use x=\"56.000164\" xlink:href=\"#glyph4-2\" y=\"205.789\"/>\n",
       "</g>\n",
       "<path d=\"M 37.905531 -172.942375 L 24.378188 -181.825187 \" style=\"fill:none;stroke-width:0.3985;stroke-linecap:butt;stroke-linejoin:miter;stroke:rgb(0%,0%,0%);stroke-opacity:1;stroke-miterlimit:10;\" transform=\"matrix(1,0,0,-1,33.614,14.667)\"/>\n",
       "<path d=\"M -1.193805 1.595128 C -1.097865 0.996341 -0.000780357 0.0987977 0.298003 0.000411481 C 0.000576251 -0.0977691 -1.096008 -0.99425 -1.196634 -1.594394 \" style=\"fill:none;stroke-width:0.31879;stroke-linecap:round;stroke-linejoin:round;stroke:rgb(0%,0%,0%);stroke-opacity:1;stroke-miterlimit:10;\" transform=\"matrix(0.83844,-0.55064,-0.55064,-0.83844,71.5199,187.60975)\"/>\n",
       "<path d=\"M 178.632812 184.746094 C 178.632812 182.789062 177.046875 181.203125 175.089844 181.203125 C 173.132812 181.203125 171.546875 182.789062 171.546875 184.746094 C 171.546875 186.703125 173.132812 188.292969 175.089844 188.292969 C 177.046875 188.292969 178.632812 186.703125 178.632812 184.746094 Z M 178.632812 184.746094 \" style=\" stroke:none;fill-rule:nonzero;fill:rgb(25.999451%,25.999451%,25.999451%);fill-opacity:1;\"/>\n",
       "<g style=\"fill:rgb(0%,0%,0%);fill-opacity:1;\">\n",
       "  <use x=\"133.555\" xlink:href=\"#glyph2-1\" y=\"205.789\"/>\n",
       "</g>\n",
       "<g style=\"fill:rgb(0%,0%,0%);fill-opacity:1;\">\n",
       "  <use x=\"138.779\" xlink:href=\"#glyph3-1\" y=\"206.786\"/>\n",
       "</g>\n",
       "<g style=\"fill:rgb(0%,0%,0%);fill-opacity:1;\">\n",
       "  <use x=\"145.489\" xlink:href=\"#glyph4-1\" y=\"205.789\"/>\n",
       "</g>\n",
       "<g style=\"fill:rgb(0%,0%,0%);fill-opacity:1;\">\n",
       "  <use x=\"155.221131\" xlink:href=\"#glyph4-2\" y=\"205.789\"/>\n",
       "</g>\n",
       "<path d=\"M 137.120375 -172.942375 L 123.593031 -181.825187 \" style=\"fill:none;stroke-width:0.3985;stroke-linecap:butt;stroke-linejoin:miter;stroke:rgb(0%,0%,0%);stroke-opacity:1;stroke-miterlimit:10;\" transform=\"matrix(1,0,0,-1,33.614,14.667)\"/>\n",
       "<path d=\"M -1.193002 1.594601 C -1.097062 0.995813 0.0000227212 0.0982703 0.298806 -0.000115936 C 0.00137933 -0.0982966 -1.095204 -0.994778 -1.195831 -1.594922 \" style=\"fill:none;stroke-width:0.31879;stroke-linecap:round;stroke-linejoin:round;stroke:rgb(0%,0%,0%);stroke-opacity:1;stroke-miterlimit:10;\" transform=\"matrix(0.83844,-0.55064,-0.55064,-0.83844,170.73378,187.60975)\"/>\n",
       "<path d=\"M 43.944594 -166.735344 L 94.206312 -66.661125 \" style=\"fill:none;stroke-width:0.3985;stroke-linecap:butt;stroke-linejoin:miter;stroke:rgb(0%,0%,0%);stroke-opacity:1;stroke-miterlimit:10;\" transform=\"matrix(1,0,0,-1,33.614,14.667)\"/>\n",
       "<path d=\"M -1.195332 1.592348 C -1.096519 0.995608 -0.000561906 0.100455 0.298075 0.00150499 C -0.000201378 -0.100262 -1.096432 -0.995863 -1.193098 -1.594699 \" style=\"fill:none;stroke-width:0.31879;stroke-linecap:round;stroke-linejoin:round;stroke:rgb(0%,0%,0%);stroke-opacity:1;stroke-miterlimit:10;\" transform=\"matrix(0.44922,-0.89442,-0.89442,-0.44922,127.82057,81.32978)\"/>\n",
       "<path d=\"M 44.35475 -166.958 L 92.983656 -94.340812 \" style=\"fill:none;stroke-width:0.3985;stroke-linecap:butt;stroke-linejoin:miter;stroke:rgb(0%,0%,0%);stroke-opacity:1;stroke-miterlimit:10;\" transform=\"matrix(1,0,0,-1,33.614,14.667)\"/>\n",
       "<path d=\"M -1.197022 1.595289 C -1.096554 0.997954 0.00116192 0.0995979 0.297985 -0.00117562 C -0.00166286 -0.09887 -1.095662 -0.995293 -1.194729 -1.595199 \" style=\"fill:none;stroke-width:0.31879;stroke-linecap:round;stroke-linejoin:round;stroke:rgb(0%,0%,0%);stroke-opacity:1;stroke-miterlimit:10;\" transform=\"matrix(0.5589,-0.8346,-0.8346,-0.5589,126.5981,109.00976)\"/>\n",
       "<path d=\"M 44.921156 -167.434562 L 91.29225 -121.274406 \" style=\"fill:none;stroke-width:0.3985;stroke-linecap:butt;stroke-linejoin:miter;stroke:rgb(0%,0%,0%);stroke-opacity:1;stroke-miterlimit:10;\" transform=\"matrix(1,0,0,-1,33.614,14.667)\"/>\n",
       "<path d=\"M -1.195378 1.594195 C -1.09764 0.996689 0.000641893 0.101173 0.301107 -0.0000738663 C -0.00166453 -0.0999101 -1.095957 -0.994803 -1.19654 -1.592751 \" style=\"fill:none;stroke-width:0.31879;stroke-linecap:round;stroke-linejoin:round;stroke:rgb(0%,0%,0%);stroke-opacity:1;stroke-miterlimit:10;\" transform=\"matrix(0.71065,-0.70749,-0.70749,-0.71065,124.90706,135.93954)\"/>\n",
       "<path d=\"M 45.624281 -168.407219 L 89.206312 -146.715812 \" style=\"fill:none;stroke-width:0.3985;stroke-linecap:butt;stroke-linejoin:miter;stroke:rgb(0%,0%,0%);stroke-opacity:1;stroke-miterlimit:10;\" transform=\"matrix(1,0,0,-1,33.614,14.667)\"/>\n",
       "<path d=\"M -1.196239 1.596132 C -1.09414 0.997221 -0.00055019 0.100565 0.297439 0.0000963248 C -0.000185878 -0.099714 -1.093999 -0.995124 -1.195664 -1.592664 \" style=\"fill:none;stroke-width:0.31879;stroke-linecap:round;stroke-linejoin:round;stroke:rgb(0%,0%,0%);stroke-opacity:1;stroke-miterlimit:10;\" transform=\"matrix(0.898,-0.44696,-0.44696,-0.898,122.81888,161.38303)\"/>\n",
       "<path d=\"M 3.593031 -28.415031 L 88.507094 -53.528312 \" style=\"fill:none;stroke-width:0.3985;stroke-linecap:butt;stroke-linejoin:miter;stroke:rgb(0%,0%,0%);stroke-opacity:1;stroke-miterlimit:10;\" transform=\"matrix(1,0,0,-1,33.614,14.667)\"/>\n",
       "<path d=\"M -1.197154 1.593282 C -1.09786 0.996303 0.000699924 0.101072 0.299531 -0.00169935 C -0.00119658 -0.0987812 -1.094385 -0.995591 -1.193838 -1.594413 \" style=\"fill:none;stroke-width:0.31879;stroke-linecap:round;stroke-linejoin:round;stroke:rgb(0%,0%,0%);stroke-opacity:1;stroke-miterlimit:10;\" transform=\"matrix(0.96043,0.28407,0.28407,-0.96043,122.12296,68.19453)\"/>\n",
       "<path d=\"M 3.237563 -29.231437 L 89.5735 -79.434562 \" style=\"fill:none;stroke-width:0.3985;stroke-linecap:butt;stroke-linejoin:miter;stroke:rgb(0%,0%,0%);stroke-opacity:1;stroke-miterlimit:10;\" transform=\"matrix(1,0,0,-1,33.614,14.667)\"/>\n",
       "<path d=\"M -1.196053 1.59354 C -1.097137 0.99628 0.00199281 0.100039 0.298589 0.00155374 C 0.000588676 -0.0994681 -1.095717 -0.994313 -1.194346 -1.593543 \" style=\"fill:none;stroke-width:0.31879;stroke-linecap:round;stroke-linejoin:round;stroke:rgb(0%,0%,0%);stroke-opacity:1;stroke-miterlimit:10;\" transform=\"matrix(0.86504,0.50298,0.50298,-0.86504,123.18624,94.10116)\"/>\n",
       "<path d=\"M 2.839125 -29.809562 L 90.764906 -106.059562 \" style=\"fill:none;stroke-width:0.3985;stroke-linecap:butt;stroke-linejoin:miter;stroke:rgb(0%,0%,0%);stroke-opacity:1;stroke-miterlimit:10;\" transform=\"matrix(1,0,0,-1,33.614,14.667)\"/>\n",
       "<path d=\"M -1.195635 1.595172 C -1.094669 0.997492 0.000212693 0.09732 0.299683 0.00151357 C 0.0000727495 -0.0985827 -1.095862 -0.997421 -1.196289 -1.594571 \" style=\"fill:none;stroke-width:0.31879;stroke-linecap:round;stroke-linejoin:round;stroke:rgb(0%,0%,0%);stroke-opacity:1;stroke-miterlimit:10;\" transform=\"matrix(0.75818,0.65747,0.65747,-0.75818,124.37726,120.72599)\"/>\n",
       "<path d=\"M 2.460219 -30.188469 L 91.882094 -133.282219 \" style=\"fill:none;stroke-width:0.3985;stroke-linecap:butt;stroke-linejoin:miter;stroke:rgb(0%,0%,0%);stroke-opacity:1;stroke-miterlimit:10;\" transform=\"matrix(1,0,0,-1,33.614,14.667)\"/>\n",
       "<path d=\"M -1.194209 1.594941 C -1.09644 0.994918 0.00175238 0.0989689 0.298366 0.00138927 C -0.0006889 -0.0998469 -1.095952 -0.994232 -1.194059 -1.594364 \" style=\"fill:none;stroke-width:0.31879;stroke-linecap:round;stroke-linejoin:round;stroke:rgb(0%,0%,0%);stroke-opacity:1;stroke-miterlimit:10;\" transform=\"matrix(0.65768,0.75818,0.75818,-0.65768,125.49803,147.95048)\"/>\n",
       "<path d=\"M 3.741469 -55.735344 L 88.069594 -56.583 \" style=\"fill:none;stroke-width:0.3985;stroke-linecap:butt;stroke-linejoin:miter;stroke:rgb(0%,0%,0%);stroke-opacity:1;stroke-miterlimit:10;\" transform=\"matrix(1,0,0,-1,33.614,14.667)\"/>\n",
       "<path d=\"M -1.194031 1.592341 C -1.09429 0.995686 0.000635444 0.100429 0.2985 0.00185694 C -0.00127046 -0.098809 -1.097726 -0.996536 -1.197184 -1.595191 \" style=\"fill:none;stroke-width:0.31879;stroke-linecap:round;stroke-linejoin:round;stroke:rgb(0%,0%,0%);stroke-opacity:1;stroke-miterlimit:10;\" transform=\"matrix(1,0.01004,0.01004,-1,121.68195,71.24886)\"/>\n",
       "<path d=\"M 3.593031 -56.758781 L 88.507094 -81.875969 \" style=\"fill:none;stroke-width:0.3985;stroke-linecap:butt;stroke-linejoin:miter;stroke:rgb(0%,0%,0%);stroke-opacity:1;stroke-miterlimit:10;\" transform=\"matrix(1,0,0,-1,33.614,14.667)\"/>\n",
       "<path d=\"M -1.196914 1.592472 C -1.09762 0.995493 0.00093957 0.100262 0.298665 0.00123042 C -0.000956932 -0.0995914 -1.094145 -0.996401 -1.193598 -1.595223 \" style=\"fill:none;stroke-width:0.31879;stroke-linecap:round;stroke-linejoin:round;stroke:rgb(0%,0%,0%);stroke-opacity:1;stroke-miterlimit:10;\" transform=\"matrix(0.96043,0.28407,0.28407,-0.96043,122.12296,96.54134)\"/>\n",
       "<path d=\"M 3.237563 -57.579094 L 89.5735 -107.782219 \" style=\"fill:none;stroke-width:0.3985;stroke-linecap:butt;stroke-linejoin:miter;stroke:rgb(0%,0%,0%);stroke-opacity:1;stroke-miterlimit:10;\" transform=\"matrix(1,0,0,-1,33.614,14.667)\"/>\n",
       "<path d=\"M -1.195638 1.592826 C -1.096722 0.995566 0.00240787 0.0993247 0.299004 0.000839915 C 0.00100373 -0.100182 -1.095302 -0.995026 -1.193931 -1.594257 \" style=\"fill:none;stroke-width:0.31879;stroke-linecap:round;stroke-linejoin:round;stroke:rgb(0%,0%,0%);stroke-opacity:1;stroke-miterlimit:10;\" transform=\"matrix(0.86504,0.50298,0.50298,-0.86504,123.18624,122.44799)\"/>\n",
       "<path d=\"M 2.839125 -58.157219 L 90.764906 -134.407219 \" style=\"fill:none;stroke-width:0.3985;stroke-linecap:butt;stroke-linejoin:miter;stroke:rgb(0%,0%,0%);stroke-opacity:1;stroke-miterlimit:10;\" transform=\"matrix(1,0,0,-1,33.614,14.667)\"/>\n",
       "<path d=\"M -1.195095 1.59455 C -1.094129 0.99687 -0.00179803 0.0996387 0.300222 0.000891538 C 0.000612152 -0.0992047 -1.095322 -0.998043 -1.19575 -1.595193 \" style=\"fill:none;stroke-width:0.31879;stroke-linecap:round;stroke-linejoin:round;stroke:rgb(0%,0%,0%);stroke-opacity:1;stroke-miterlimit:10;\" transform=\"matrix(0.75818,0.65747,0.65747,-0.75818,124.37726,149.07282)\"/>\n",
       "<path d=\"M 3.612563 -83.047844 L 88.452406 -59.661125 \" style=\"fill:none;stroke-width:0.3985;stroke-linecap:butt;stroke-linejoin:miter;stroke:rgb(0%,0%,0%);stroke-opacity:1;stroke-miterlimit:10;\" transform=\"matrix(1,0,0,-1,33.614,14.667)\"/>\n",
       "<path d=\"M -1.195886 1.595004 C -1.093878 0.996371 -0.00159699 0.10045 0.298845 0.00143534 C 0.000249418 -0.0983213 -1.097326 -0.997438 -1.196813 -1.59312 \" style=\"fill:none;stroke-width:0.31879;stroke-linecap:round;stroke-linejoin:round;stroke:rgb(0%,0%,0%);stroke-opacity:1;stroke-miterlimit:10;\" transform=\"matrix(0.96542,-0.26616,-0.26616,-0.96542,122.06734,74.32702)\"/>\n",
       "<path d=\"M 3.741469 -84.083 L 88.069594 -84.92675 \" style=\"fill:none;stroke-width:0.3985;stroke-linecap:butt;stroke-linejoin:miter;stroke:rgb(0%,0%,0%);stroke-opacity:1;stroke-miterlimit:10;\" transform=\"matrix(1,0,0,-1,33.614,14.667)\"/>\n",
       "<path d=\"M -1.194062 1.59541 C -1.094282 0.99485 0.000643839 0.0995927 0.298509 0.00102078 C -0.00126206 -0.0996452 -1.097718 -0.997372 -1.197215 -1.592121 \" style=\"fill:none;stroke-width:0.31879;stroke-linecap:round;stroke-linejoin:round;stroke:rgb(0%,0%,0%);stroke-opacity:1;stroke-miterlimit:10;\" transform=\"matrix(1,0.01004,0.01004,-1,121.68195,99.59568)\"/>\n",
       "<path d=\"M 3.593031 -85.106437 L 88.507094 -110.219719 \" style=\"fill:none;stroke-width:0.3985;stroke-linecap:butt;stroke-linejoin:miter;stroke:rgb(0%,0%,0%);stroke-opacity:1;stroke-miterlimit:10;\" transform=\"matrix(1,0,0,-1,33.614,14.667)\"/>\n",
       "<path d=\"M -1.196683 1.59169 C -1.097389 0.994712 0.00117072 0.0994803 0.298896 0.000448913 C -0.000725781 -0.100373 -1.093914 -0.997183 -1.194473 -1.592265 \" style=\"fill:none;stroke-width:0.31879;stroke-linecap:round;stroke-linejoin:round;stroke:rgb(0%,0%,0%);stroke-opacity:1;stroke-miterlimit:10;\" transform=\"matrix(0.96043,0.28407,0.28407,-0.96043,122.12296,124.88818)\"/>\n",
       "<path d=\"M 3.237563 -85.92675 L 89.5735 -136.125969 \" style=\"fill:none;stroke-width:0.3985;stroke-linecap:butt;stroke-linejoin:miter;stroke:rgb(0%,0%,0%);stroke-opacity:1;stroke-miterlimit:10;\" transform=\"matrix(1,0,0,-1,33.614,14.667)\"/>\n",
       "<path d=\"M -1.195213 1.592095 C -1.096297 0.994835 0.00087072 0.101968 0.299429 0.000108813 C 0.00142883 -0.100913 -1.094877 -0.995758 -1.193506 -1.594988 \" style=\"fill:none;stroke-width:0.31879;stroke-linecap:round;stroke-linejoin:round;stroke:rgb(0%,0%,0%);stroke-opacity:1;stroke-miterlimit:10;\" transform=\"matrix(0.86504,0.50298,0.50298,-0.86504,123.18624,150.7948)\"/>\n",
       "<path d=\"M 3.264906 -110.559562 L 89.487562 -62.153312 \" style=\"fill:none;stroke-width:0.3985;stroke-linecap:butt;stroke-linejoin:miter;stroke:rgb(0%,0%,0%);stroke-opacity:1;stroke-miterlimit:10;\" transform=\"matrix(1,0,0,-1,33.614,14.667)\"/>\n",
       "<path d=\"M -1.197364 1.59421 C -1.094984 0.995017 -0.0000679074 0.0983121 0.299443 0.00180838 C 0.00095257 -0.0992499 -1.097739 -0.995714 -1.196325 -1.594016 \" style=\"fill:none;stroke-width:0.31879;stroke-linecap:round;stroke-linejoin:round;stroke:rgb(0%,0%,0%);stroke-opacity:1;stroke-miterlimit:10;\" transform=\"matrix(0.87251,-0.4898,-0.4898,-0.87251,123.1029,76.82012)\"/>\n",
       "<path d=\"M 3.612563 -111.3955 L 88.452406 -88.008781 \" style=\"fill:none;stroke-width:0.3985;stroke-linecap:butt;stroke-linejoin:miter;stroke:rgb(0%,0%,0%);stroke-opacity:1;stroke-miterlimit:10;\" transform=\"matrix(1,0,0,-1,33.614,14.667)\"/>\n",
       "<path d=\"M -1.196106 1.594208 C -1.094098 0.995576 -0.00181627 0.0996545 0.298626 0.000639953 C 0.000030134 -0.0991167 -1.096509 -0.994473 -1.197032 -1.593915 \" style=\"fill:none;stroke-width:0.31879;stroke-linecap:round;stroke-linejoin:round;stroke:rgb(0%,0%,0%);stroke-opacity:1;stroke-miterlimit:10;\" transform=\"matrix(0.96542,-0.26616,-0.26616,-0.96542,122.06734,102.67385)\"/>\n",
       "<path d=\"M 3.741469 -112.42675 L 88.069594 -113.274406 \" style=\"fill:none;stroke-width:0.3985;stroke-linecap:butt;stroke-linejoin:miter;stroke:rgb(0%,0%,0%);stroke-opacity:1;stroke-miterlimit:10;\" transform=\"matrix(1,0,0,-1,33.614,14.667)\"/>\n",
       "<path d=\"M -1.194053 1.594584 C -1.094313 0.997929 0.000652134 0.0987665 0.298517 0.000194609 C -0.00125377 -0.100471 -1.097709 -0.998199 -1.197207 -1.592947 \" style=\"fill:none;stroke-width:0.31879;stroke-linecap:round;stroke-linejoin:round;stroke:rgb(0%,0%,0%);stroke-opacity:1;stroke-miterlimit:10;\" transform=\"matrix(1,0.01004,0.01004,-1,121.68195,127.94251)\"/>\n",
       "<path d=\"M 3.593031 -113.454094 L 88.507094 -138.567375 \" style=\"fill:none;stroke-width:0.3985;stroke-linecap:butt;stroke-linejoin:miter;stroke:rgb(0%,0%,0%);stroke-opacity:1;stroke-miterlimit:10;\" transform=\"matrix(1,0,0,-1,33.614,14.667)\"/>\n",
       "<path d=\"M -1.197555 1.594639 C -1.097155 0.993921 0.0014047 0.0986892 0.29913 -0.000342173 C -0.000491799 -0.101164 -1.094786 -0.994234 -1.194239 -1.593056 \" style=\"fill:none;stroke-width:0.31879;stroke-linecap:round;stroke-linejoin:round;stroke:rgb(0%,0%,0%);stroke-opacity:1;stroke-miterlimit:10;\" transform=\"matrix(0.96043,0.28407,0.28407,-0.96043,122.12296,153.23501)\"/>\n",
       "<path d=\"M 2.866469 -138.309562 L 90.678969 -63.922844 \" style=\"fill:none;stroke-width:0.3985;stroke-linecap:butt;stroke-linejoin:miter;stroke:rgb(0%,0%,0%);stroke-opacity:1;stroke-miterlimit:10;\" transform=\"matrix(1,0,0,-1,33.614,14.667)\"/>\n",
       "<path d=\"M -1.195269 1.594719 C -1.095966 0.995336 0.000203362 0.0973006 0.300951 0.000663539 C 0.0000853699 -0.10156 -1.094176 -0.995781 -1.196703 -1.59253 \" style=\"fill:none;stroke-width:0.31879;stroke-linecap:round;stroke-linejoin:round;stroke:rgb(0%,0%,0%);stroke-opacity:1;stroke-miterlimit:10;\" transform=\"matrix(0.7657,-0.64868,-0.64868,-0.7657,124.29343,78.59026)\"/>\n",
       "<path d=\"M 3.264906 -138.903312 L 89.487562 -90.500969 \" style=\"fill:none;stroke-width:0.3985;stroke-linecap:butt;stroke-linejoin:miter;stroke:rgb(0%,0%,0%);stroke-opacity:1;stroke-miterlimit:10;\" transform=\"matrix(1,0,0,-1,33.614,14.667)\"/>\n",
       "<path d=\"M -1.197768 1.59349 C -1.095388 0.994297 0.0014389 0.100996 0.299039 0.00108832 C 0.000548349 -0.09997 -1.098143 -0.996434 -1.196729 -1.594736 \" style=\"fill:none;stroke-width:0.31879;stroke-linecap:round;stroke-linejoin:round;stroke:rgb(0%,0%,0%);stroke-opacity:1;stroke-miterlimit:10;\" transform=\"matrix(0.87251,-0.4898,-0.4898,-0.87251,123.1029,105.16695)\"/>\n",
       "<path d=\"M 3.612563 -139.743156 L 88.452406 -116.352531 \" style=\"fill:none;stroke-width:0.3985;stroke-linecap:butt;stroke-linejoin:miter;stroke:rgb(0%,0%,0%);stroke-opacity:1;stroke-miterlimit:10;\" transform=\"matrix(1,0,0,-1,33.614,14.667)\"/>\n",
       "<path d=\"M -1.196328 1.593403 C -1.09432 0.994771 -0.00203821 0.0988495 0.298404 -0.000165064 C -0.000191804 -0.0999217 -1.096731 -0.995278 -1.197254 -1.59472 \" style=\"fill:none;stroke-width:0.31879;stroke-linecap:round;stroke-linejoin:round;stroke:rgb(0%,0%,0%);stroke-opacity:1;stroke-miterlimit:10;\" transform=\"matrix(0.96542,-0.26616,-0.26616,-0.96542,122.06734,131.02067)\"/>\n",
       "<path d=\"M 3.741469 -140.774406 L 88.069594 -141.622062 \" style=\"fill:none;stroke-width:0.3985;stroke-linecap:butt;stroke-linejoin:miter;stroke:rgb(0%,0%,0%);stroke-opacity:1;stroke-miterlimit:10;\" transform=\"matrix(1,0,0,-1,33.614,14.667)\"/>\n",
       "<path d=\"M -1.194045 1.593758 C -1.094305 0.997103 0.000660429 0.0979404 0.298525 -0.000631558 C -0.00124547 -0.101298 -1.09774 -0.995119 -1.197199 -1.593774 \" style=\"fill:none;stroke-width:0.31879;stroke-linecap:round;stroke-linejoin:round;stroke:rgb(0%,0%,0%);stroke-opacity:1;stroke-miterlimit:10;\" transform=\"matrix(1,0.01004,0.01004,-1,121.68195,156.28934)\"/>\n",
       "<path d=\"M 2.47975 -166.274406 L 91.827406 -65.059562 \" style=\"fill:none;stroke-width:0.3985;stroke-linecap:butt;stroke-linejoin:miter;stroke:rgb(0%,0%,0%);stroke-opacity:1;stroke-miterlimit:10;\" transform=\"matrix(1,0,0,-1,33.614,14.667)\"/>\n",
       "<path d=\"M -1.195937 1.592876 C -1.094986 0.995145 0.00175952 0.100462 0.299451 -0.000996123 C 0.000423222 -0.0984449 -1.094755 -0.997529 -1.195636 -1.596505 \" style=\"fill:none;stroke-width:0.31879;stroke-linecap:round;stroke-linejoin:round;stroke:rgb(0%,0%,0%);stroke-opacity:1;stroke-miterlimit:10;\" transform=\"matrix(0.66267,-0.75072,-0.75072,-0.66267,125.44144,79.72805)\"/>\n",
       "<path d=\"M 2.866469 -166.657219 L 90.678969 -92.2705 \" style=\"fill:none;stroke-width:0.3985;stroke-linecap:butt;stroke-linejoin:miter;stroke:rgb(0%,0%,0%);stroke-opacity:1;stroke-miterlimit:10;\" transform=\"matrix(1,0,0,-1,33.614,14.667)\"/>\n",
       "<path d=\"M -1.195808 1.594083 C -1.096505 0.9947 0.00218081 0.0996348 0.300412 0.0000277258 C 0.00206281 -0.0992254 -1.094715 -0.996417 -1.197242 -1.593165 \" style=\"fill:none;stroke-width:0.31879;stroke-linecap:round;stroke-linejoin:round;stroke:rgb(0%,0%,0%);stroke-opacity:1;stroke-miterlimit:10;\" transform=\"matrix(0.7657,-0.64868,-0.64868,-0.7657,124.29343,106.93708)\"/>\n",
       "<path d=\"M 3.264906 -167.250969 L 89.487562 -118.848625 \" style=\"fill:none;stroke-width:0.3985;stroke-linecap:butt;stroke-linejoin:miter;stroke:rgb(0%,0%,0%);stroke-opacity:1;stroke-miterlimit:10;\" transform=\"matrix(1,0,0,-1,33.614,14.667)\"/>\n",
       "<path d=\"M -1.196257 1.596183 C -1.093877 0.996989 0.00103957 0.100285 0.298639 0.000376967 C 0.00014902 -0.100681 -1.096631 -0.993741 -1.195217 -1.592043 \" style=\"fill:none;stroke-width:0.31879;stroke-linecap:round;stroke-linejoin:round;stroke:rgb(0%,0%,0%);stroke-opacity:1;stroke-miterlimit:10;\" transform=\"matrix(0.87251,-0.4898,-0.4898,-0.87251,123.1029,133.51379)\"/>\n",
       "<path d=\"M 3.612563 -168.086906 L 88.452406 -144.700187 \" style=\"fill:none;stroke-width:0.3985;stroke-linecap:butt;stroke-linejoin:miter;stroke:rgb(0%,0%,0%);stroke-opacity:1;stroke-miterlimit:10;\" transform=\"matrix(1,0,0,-1,33.614,14.667)\"/>\n",
       "<path d=\"M -1.196547 1.592608 C -1.094539 0.993975 -0.00122079 0.101814 0.298184 -0.000960454 C -0.000411088 -0.100717 -1.09695 -0.996074 -1.196437 -1.591756 \" style=\"fill:none;stroke-width:0.31879;stroke-linecap:round;stroke-linejoin:round;stroke:rgb(0%,0%,0%);stroke-opacity:1;stroke-miterlimit:10;\" transform=\"matrix(0.96542,-0.26616,-0.26616,-0.96542,122.06734,159.3675)\"/>\n",
       "<path d=\"M 142.874281 -166.606437 L 194.268812 -38.696281 \" style=\"fill:none;stroke-width:0.3985;stroke-linecap:butt;stroke-linejoin:miter;stroke:rgb(0%,0%,0%);stroke-opacity:1;stroke-miterlimit:10;\" transform=\"matrix(1,0,0,-1,33.614,14.667)\"/>\n",
       "<path d=\"M -1.1968 1.594174 C -1.095111 0.995538 0.0016418 0.0983163 0.298292 -0.00126659 C 0.00122208 -0.0995903 -1.094942 -0.994395 -1.194783 -1.594066 \" style=\"fill:none;stroke-width:0.31879;stroke-linecap:round;stroke-linejoin:round;stroke:rgb(0%,0%,0%);stroke-opacity:1;stroke-miterlimit:10;\" transform=\"matrix(0.37305,-0.92847,-0.92847,-0.37305,227.88364,53.36242)\"/>\n",
       "<path d=\"M 143.159437 -166.735344 L 193.421156 -66.661125 \" style=\"fill:none;stroke-width:0.3985;stroke-linecap:butt;stroke-linejoin:miter;stroke:rgb(0%,0%,0%);stroke-opacity:1;stroke-miterlimit:10;\" transform=\"matrix(1,0,0,-1,33.614,14.667)\"/>\n",
       "<path d=\"M -1.196638 1.594993 C -1.096073 0.994766 -0.000116369 0.0996123 0.29852 0.000662427 C 0.000244159 -0.101105 -1.095987 -0.996705 -1.194404 -1.592054 \" style=\"fill:none;stroke-width:0.31879;stroke-linecap:round;stroke-linejoin:round;stroke:rgb(0%,0%,0%);stroke-opacity:1;stroke-miterlimit:10;\" transform=\"matrix(0.44922,-0.89442,-0.89442,-0.44922,227.03446,81.3298)\"/>\n",
       "<path d=\"M 143.569594 -166.958 L 192.1985 -94.340812 \" style=\"fill:none;stroke-width:0.3985;stroke-linecap:butt;stroke-linejoin:miter;stroke:rgb(0%,0%,0%);stroke-opacity:1;stroke-miterlimit:10;\" transform=\"matrix(1,0,0,-1,33.614,14.667)\"/>\n",
       "<path d=\"M -1.196474 1.594489 C -1.096006 0.997154 0.00170961 0.0987979 0.298533 -0.00197558 C -0.00111518 -0.0996699 -1.095114 -0.996093 -1.196345 -1.592767 \" style=\"fill:none;stroke-width:0.31879;stroke-linecap:round;stroke-linejoin:round;stroke:rgb(0%,0%,0%);stroke-opacity:1;stroke-miterlimit:10;\" transform=\"matrix(0.5589,-0.8346,-0.8346,-0.5589,225.81197,109.00977)\"/>\n",
       "<path d=\"M 144.136 -167.434562 L 190.507094 -121.274406 \" style=\"fill:none;stroke-width:0.3985;stroke-linecap:butt;stroke-linejoin:miter;stroke:rgb(0%,0%,0%);stroke-opacity:1;stroke-miterlimit:10;\" transform=\"matrix(1,0,0,-1,33.614,14.667)\"/>\n",
       "<path d=\"M -1.194683 1.593517 C -1.096945 0.996011 0.00133709 0.100495 0.299041 0.00199643 C -0.000969327 -0.100588 -1.095262 -0.995481 -1.195845 -1.593429 \" style=\"fill:none;stroke-width:0.31879;stroke-linecap:round;stroke-linejoin:round;stroke:rgb(0%,0%,0%);stroke-opacity:1;stroke-miterlimit:10;\" transform=\"matrix(0.71065,-0.70749,-0.70749,-0.71065,224.12093,135.93955)\"/>\n",
       "<path d=\"M 144.839125 -168.407219 L 188.41725 -146.715812 \" style=\"fill:none;stroke-width:0.3985;stroke-linecap:butt;stroke-linejoin:miter;stroke:rgb(0%,0%,0%);stroke-opacity:1;stroke-miterlimit:10;\" transform=\"matrix(1,0,0,-1,33.614,14.667)\"/>\n",
       "<path d=\"M -1.19537 1.595721 C -1.096757 0.998546 0.000318829 0.100155 0.298308 -0.000313939 C 0.000683141 -0.100124 -1.096616 -0.993799 -1.194795 -1.593074 \" style=\"fill:none;stroke-width:0.31879;stroke-linecap:round;stroke-linejoin:round;stroke:rgb(0%,0%,0%);stroke-opacity:1;stroke-miterlimit:10;\" transform=\"matrix(0.898,-0.44696,-0.44696,-0.898,222.03276,161.38305)\"/>\n",
       "<path d=\"M 145.218031 -170.079094 L 187.280531 -170.079094 \" style=\"fill:none;stroke-width:0.3985;stroke-linecap:butt;stroke-linejoin:miter;stroke:rgb(0%,0%,0%);stroke-opacity:1;stroke-miterlimit:10;\" transform=\"matrix(1,0,0,-1,33.614,14.667)\"/>\n",
       "<path d=\"M -1.196591 1.595576 C -1.095029 0.99792 -0.00127875 0.0994825 0.299502 0.00182625 C -0.00127875 -0.0997362 -1.095029 -0.998174 -1.196591 -1.59583 \" style=\"fill:none;stroke-width:0.31879;stroke-linecap:round;stroke-linejoin:round;stroke:rgb(0%,0%,0%);stroke-opacity:1;stroke-miterlimit:10;\" transform=\"matrix(1,0,0,-1,220.89581,184.74792)\"/>\n",
       "<path d=\"M 109.507094 -53.754875 L 187.694594 -31.415031 \" style=\"fill:none;stroke-width:0.3985;stroke-linecap:butt;stroke-linejoin:miter;stroke:rgb(0%,0%,0%);stroke-opacity:1;stroke-miterlimit:10;\" transform=\"matrix(1,0,0,-1,33.614,14.667)\"/>\n",
       "<path d=\"M -1.195761 1.59337 C -1.094494 0.996534 0.0000781826 0.0996848 0.29957 -0.00210568 C 0.0000809088 -0.0990825 -1.095538 -0.99489 -1.19411 -1.59548 \" style=\"fill:none;stroke-width:0.31879;stroke-linecap:round;stroke-linejoin:round;stroke:rgb(0%,0%,0%);stroke-opacity:1;stroke-miterlimit:10;\" transform=\"matrix(0.96297,-0.27512,-0.27512,-0.96297,221.3086,46.08039)\"/>\n",
       "<path d=\"M 109.901625 -56.692375 L 187.280531 -56.692375 \" style=\"fill:none;stroke-width:0.3985;stroke-linecap:butt;stroke-linejoin:miter;stroke:rgb(0%,0%,0%);stroke-opacity:1;stroke-miterlimit:10;\" transform=\"matrix(1,0,0,-1,33.614,14.667)\"/>\n",
       "<path d=\"M -1.196591 1.595005 C -1.095029 0.997349 -0.00127875 0.0989113 0.299502 0.001255 C -0.00127875 -0.100307 -1.095029 -0.994839 -1.196591 -1.592495 \" style=\"fill:none;stroke-width:0.31879;stroke-linecap:round;stroke-linejoin:round;stroke:rgb(0%,0%,0%);stroke-opacity:1;stroke-miterlimit:10;\" transform=\"matrix(1,0,0,-1,220.89581,71.36063)\"/>\n",
       "<path d=\"M 109.507094 -59.633781 L 187.694594 -81.973625 \" style=\"fill:none;stroke-width:0.3985;stroke-linecap:butt;stroke-linejoin:miter;stroke:rgb(0%,0%,0%);stroke-opacity:1;stroke-miterlimit:10;\" transform=\"matrix(1,0,0,-1,33.614,14.667)\"/>\n",
       "<path d=\"M -1.193724 1.594129 C -1.096224 0.99729 0.000466638 0.0977324 0.299956 0.000755552 C 0.000463912 -0.101035 -1.09518 -0.994134 -1.195375 -1.59472 \" style=\"fill:none;stroke-width:0.31879;stroke-linecap:round;stroke-linejoin:round;stroke:rgb(0%,0%,0%);stroke-opacity:1;stroke-miterlimit:10;\" transform=\"matrix(0.96297,0.27512,0.27512,-0.96297,221.3086,96.64086)\"/>\n",
       "<path d=\"M 108.499281 -62.000969 L 188.745375 -107.852531 \" style=\"fill:none;stroke-width:0.3985;stroke-linecap:butt;stroke-linejoin:miter;stroke:rgb(0%,0%,0%);stroke-opacity:1;stroke-miterlimit:10;\" transform=\"matrix(1,0,0,-1,33.614,14.667)\"/>\n",
       "<path d=\"M -1.196914 1.592793 C -1.093767 0.995278 -0.00185304 0.0995042 0.297392 0.000730162 C 0.000571504 -0.101444 -1.096637 -0.998223 -1.196375 -1.594774 \" style=\"fill:none;stroke-width:0.31879;stroke-linecap:round;stroke-linejoin:round;stroke:rgb(0%,0%,0%);stroke-opacity:1;stroke-miterlimit:10;\" transform=\"matrix(0.86877,0.49646,0.49646,-0.86877,222.35846,122.52096)\"/>\n",
       "<path d=\"M 107.358656 -63.672844 L 189.936781 -134.454094 \" style=\"fill:none;stroke-width:0.3985;stroke-linecap:butt;stroke-linejoin:miter;stroke:rgb(0%,0%,0%);stroke-opacity:1;stroke-miterlimit:10;\" transform=\"matrix(1,0,0,-1,33.614,14.667)\"/>\n",
       "<path d=\"M -1.196289 1.595327 C -1.096228 0.994105 -0.000181505 0.0981802 0.29874 0.00064989 C 0.00108468 -0.100679 -1.097498 -0.996177 -1.195874 -1.593176 \" style=\"fill:none;stroke-width:0.31879;stroke-linecap:round;stroke-linejoin:round;stroke:rgb(0%,0%,0%);stroke-opacity:1;stroke-miterlimit:10;\" transform=\"matrix(0.76193,0.65308,0.65308,-0.76193,223.5493,149.1218)\"/>\n",
       "<path d=\"M 106.268812 -64.754875 L 191.069594 -161.672844 \" style=\"fill:none;stroke-width:0.3985;stroke-linecap:butt;stroke-linejoin:miter;stroke:rgb(0%,0%,0%);stroke-opacity:1;stroke-miterlimit:10;\" transform=\"matrix(1,0,0,-1,33.614,14.667)\"/>\n",
       "<path d=\"M -1.19645 1.595852 C -1.095659 0.995066 -0.000407515 0.098817 0.296134 -0.000158514 C 0.00178809 -0.0998561 -1.098262 -0.996064 -1.19651 -1.593547 \" style=\"fill:none;stroke-width:0.31879;stroke-linecap:round;stroke-linejoin:round;stroke:rgb(0%,0%,0%);stroke-opacity:1;stroke-miterlimit:10;\" transform=\"matrix(0.66016,0.75444,0.75444,-0.66016,224.68353,176.33898)\"/>\n",
       "<path d=\"M 108.499281 -79.735344 L 188.745375 -33.879875 \" style=\"fill:none;stroke-width:0.3985;stroke-linecap:butt;stroke-linejoin:miter;stroke:rgb(0%,0%,0%);stroke-opacity:1;stroke-miterlimit:10;\" transform=\"matrix(1,0,0,-1,33.614,14.667)\"/>\n",
       "<path d=\"M -1.19554 1.596235 C -1.097739 0.996295 -0.000530519 0.0995153 0.298227 0.000730827 C -0.00101816 -0.0980432 -1.094869 -0.997206 -1.198016 -1.594722 \" style=\"fill:none;stroke-width:0.31879;stroke-linecap:round;stroke-linejoin:round;stroke:rgb(0%,0%,0%);stroke-opacity:1;stroke-miterlimit:10;\" transform=\"matrix(0.86877,-0.49646,-0.49646,-0.86877,222.35846,48.54713)\"/>\n",
       "<path d=\"M 109.507094 -82.098625 L 187.694594 -59.758781 \" style=\"fill:none;stroke-width:0.3985;stroke-linecap:butt;stroke-linejoin:miter;stroke:rgb(0%,0%,0%);stroke-opacity:1;stroke-miterlimit:10;\" transform=\"matrix(1,0,0,-1,33.614,14.667)\"/>\n",
       "<path d=\"M -1.195988 1.592577 C -1.094721 0.995741 -0.000148455 0.0988915 0.300415 0.000851394 C -0.000145729 -0.0998758 -1.095765 -0.995683 -1.194337 -1.596273 \" style=\"fill:none;stroke-width:0.31879;stroke-linecap:round;stroke-linejoin:round;stroke:rgb(0%,0%,0%);stroke-opacity:1;stroke-miterlimit:10;\" transform=\"matrix(0.96297,-0.27512,-0.27512,-0.96297,221.3086,74.42722)\"/>\n",
       "<path d=\"M 109.901625 -85.040031 L 187.280531 -85.040031 \" style=\"fill:none;stroke-width:0.3985;stroke-linecap:butt;stroke-linejoin:miter;stroke:rgb(0%,0%,0%);stroke-opacity:1;stroke-miterlimit:10;\" transform=\"matrix(1,0,0,-1,33.614,14.667)\"/>\n",
       "<path d=\"M -1.196591 1.594169 C -1.095029 0.996513 -0.00127875 0.098075 0.299502 0.00041875 C -0.00127875 -0.101144 -1.095029 -0.995675 -1.196591 -1.593331 \" style=\"fill:none;stroke-width:0.31879;stroke-linecap:round;stroke-linejoin:round;stroke:rgb(0%,0%,0%);stroke-opacity:1;stroke-miterlimit:10;\" transform=\"matrix(1,0,0,-1,220.89581,99.70745)\"/>\n",
       "<path d=\"M 109.507094 -87.981437 L 187.694594 -110.321281 \" style=\"fill:none;stroke-width:0.3985;stroke-linecap:butt;stroke-linejoin:miter;stroke:rgb(0%,0%,0%);stroke-opacity:1;stroke-miterlimit:10;\" transform=\"matrix(1,0,0,-1,33.614,14.667)\"/>\n",
       "<path d=\"M -1.1935 1.593346 C -1.096 0.996507 -0.000380938 0.100699 0.30018 -0.0000281192 C -0.000383664 -0.0980683 -1.094956 -0.994917 -1.195151 -1.595504 \" style=\"fill:none;stroke-width:0.31879;stroke-linecap:round;stroke-linejoin:round;stroke:rgb(0%,0%,0%);stroke-opacity:1;stroke-miterlimit:10;\" transform=\"matrix(0.96297,0.27512,0.27512,-0.96297,221.3086,124.9877)\"/>\n",
       "<path d=\"M 108.499281 -90.344719 L 188.745375 -136.200187 \" style=\"fill:none;stroke-width:0.3985;stroke-linecap:butt;stroke-linejoin:miter;stroke:rgb(0%,0%,0%);stroke-opacity:1;stroke-miterlimit:10;\" transform=\"matrix(1,0,0,-1,33.614,14.667)\"/>\n",
       "<path d=\"M -1.1965 1.592068 C -1.095289 0.997941 -0.00143839 0.0987786 0.297806 0.00000454839 C -0.00095075 -0.0987799 -1.09816 -0.99556 -1.19596 -1.5955 \" style=\"fill:none;stroke-width:0.31879;stroke-linecap:round;stroke-linejoin:round;stroke:rgb(0%,0%,0%);stroke-opacity:1;stroke-miterlimit:10;\" transform=\"matrix(0.86877,0.49646,0.49646,-0.86877,222.35846,150.86778)\"/>\n",
       "<path d=\"M 107.358656 -92.0205 L 189.936781 -162.80175 \" style=\"fill:none;stroke-width:0.3985;stroke-linecap:butt;stroke-linejoin:miter;stroke:rgb(0%,0%,0%);stroke-opacity:1;stroke-miterlimit:10;\" transform=\"matrix(1,0,0,-1,33.614,14.667)\"/>\n",
       "<path d=\"M -1.195734 1.594679 C -1.098206 0.996412 0.000373779 0.0975324 0.299296 0.00000205513 C -0.000893264 -0.0983714 -1.096943 -0.996824 -1.195319 -1.593824 \" style=\"fill:none;stroke-width:0.31879;stroke-linecap:round;stroke-linejoin:round;stroke:rgb(0%,0%,0%);stroke-opacity:1;stroke-miterlimit:10;\" transform=\"matrix(0.76193,0.65308,0.65308,-0.76193,223.5493,177.4686)\"/>\n",
       "<path d=\"M 107.358656 -106.407219 L 189.936781 -35.625969 \" style=\"fill:none;stroke-width:0.3985;stroke-linecap:butt;stroke-linejoin:miter;stroke:rgb(0%,0%,0%);stroke-opacity:1;stroke-miterlimit:10;\" transform=\"matrix(1,0,0,-1,33.614,14.667)\"/>\n",
       "<path d=\"M -1.195331 1.59381 C -1.096955 0.99681 -0.000905423 0.0983572 0.299284 -0.0000162413 C 0.00036162 -0.0975466 -1.098218 -0.996427 -1.195746 -1.594693 \" style=\"fill:none;stroke-width:0.31879;stroke-linecap:round;stroke-linejoin:round;stroke:rgb(0%,0%,0%);stroke-opacity:1;stroke-miterlimit:10;\" transform=\"matrix(0.76193,-0.65308,-0.65308,-0.76193,223.5493,50.2931)\"/>\n",
       "<path d=\"M 108.499281 -108.083 L 188.745375 -62.227531 \" style=\"fill:none;stroke-width:0.3985;stroke-linecap:butt;stroke-linejoin:miter;stroke:rgb(0%,0%,0%);stroke-opacity:1;stroke-miterlimit:10;\" transform=\"matrix(1,0,0,-1,33.614,14.667)\"/>\n",
       "<path d=\"M -1.19596 1.595501 C -1.098159 0.995561 -0.00095013 0.098781 0.297807 -0.00000346376 C -0.00143777 -0.0987775 -1.095288 -0.99794 -1.196499 -1.592067 \" style=\"fill:none;stroke-width:0.31879;stroke-linecap:round;stroke-linejoin:round;stroke:rgb(0%,0%,0%);stroke-opacity:1;stroke-miterlimit:10;\" transform=\"matrix(0.86877,-0.49646,-0.49646,-0.86877,222.35846,76.89394)\"/>\n",
       "<path d=\"M 109.507094 -110.446281 L 187.694594 -88.106437 \" style=\"fill:none;stroke-width:0.3985;stroke-linecap:butt;stroke-linejoin:miter;stroke:rgb(0%,0%,0%);stroke-opacity:1;stroke-miterlimit:10;\" transform=\"matrix(1,0,0,-1,33.614,14.667)\"/>\n",
       "<path d=\"M -1.195146 1.595524 C -1.09495 0.994938 -0.000377835 0.0980887 0.300185 0.0000485211 C -0.000375109 -0.100679 -1.095994 -0.996486 -1.193495 -1.593325 \" style=\"fill:none;stroke-width:0.31879;stroke-linecap:round;stroke-linejoin:round;stroke:rgb(0%,0%,0%);stroke-opacity:1;stroke-miterlimit:10;\" transform=\"matrix(0.96297,-0.27512,-0.27512,-0.96297,221.3086,102.77404)\"/>\n",
       "<path d=\"M 109.901625 -113.387687 L 187.280531 -113.387687 \" style=\"fill:none;stroke-width:0.3985;stroke-linecap:butt;stroke-linejoin:miter;stroke:rgb(0%,0%,0%);stroke-opacity:1;stroke-miterlimit:10;\" transform=\"matrix(1,0,0,-1,33.614,14.667)\"/>\n",
       "<path d=\"M -1.196591 1.593343 C -1.095029 0.995686 -0.00127875 0.101155 0.299502 -0.0004075 C -0.00127875 -0.0980637 -1.095029 -0.996501 -1.196591 -1.594157 \" style=\"fill:none;stroke-width:0.31879;stroke-linecap:round;stroke-linejoin:round;stroke:rgb(0%,0%,0%);stroke-opacity:1;stroke-miterlimit:10;\" transform=\"matrix(1,0,0,-1,220.89581,128.05428)\"/>\n",
       "<path d=\"M 109.507094 -116.329094 L 187.694594 -138.668937 \" style=\"fill:none;stroke-width:0.3985;stroke-linecap:butt;stroke-linejoin:miter;stroke:rgb(0%,0%,0%);stroke-opacity:1;stroke-miterlimit:10;\" transform=\"matrix(1,0,0,-1,33.614,14.667)\"/>\n",
       "<path d=\"M -1.19434 1.596284 C -1.095768 0.995694 -0.000148815 0.0998866 0.300412 -0.000840593 C -0.000151541 -0.0988807 -1.094724 -0.99573 -1.195991 -1.592566 \" style=\"fill:none;stroke-width:0.31879;stroke-linecap:round;stroke-linejoin:round;stroke:rgb(0%,0%,0%);stroke-opacity:1;stroke-miterlimit:10;\" transform=\"matrix(0.96297,0.27512,0.27512,-0.96297,221.3086,153.33451)\"/>\n",
       "<path d=\"M 108.499281 -118.692375 L 188.745375 -164.547844 \" style=\"fill:none;stroke-width:0.3985;stroke-linecap:butt;stroke-linejoin:miter;stroke:rgb(0%,0%,0%);stroke-opacity:1;stroke-miterlimit:10;\" transform=\"matrix(1,0,0,-1,33.614,14.667)\"/>\n",
       "<path d=\"M -1.198017 1.594723 C -1.094869 0.997207 -0.00101878 0.0980443 0.298226 -0.000729742 C -0.000531139 -0.0995142 -1.09774 -0.996294 -1.195541 -1.596234 \" style=\"fill:none;stroke-width:0.31879;stroke-linecap:round;stroke-linejoin:round;stroke:rgb(0%,0%,0%);stroke-opacity:1;stroke-miterlimit:10;\" transform=\"matrix(0.86877,0.49646,0.49646,-0.86877,222.35846,179.21459)\"/>\n",
       "<path d=\"M 106.268812 -133.672844 L 191.069594 -36.754875 \" style=\"fill:none;stroke-width:0.3985;stroke-linecap:butt;stroke-linejoin:miter;stroke:rgb(0%,0%,0%);stroke-opacity:1;stroke-miterlimit:10;\" transform=\"matrix(1,0,0,-1,33.614,14.667)\"/>\n",
       "<path d=\"M -1.196509 1.593548 C -1.098261 0.996064 0.00178903 0.0998569 0.296135 0.000159335 C -0.000406576 -0.0988162 -1.095658 -0.995065 -1.196449 -1.595851 \" style=\"fill:none;stroke-width:0.31879;stroke-linecap:round;stroke-linejoin:round;stroke:rgb(0%,0%,0%);stroke-opacity:1;stroke-miterlimit:10;\" transform=\"matrix(0.66016,-0.75444,-0.75444,-0.66016,224.68353,51.42274)\"/>\n",
       "<path d=\"M 107.358656 -134.754875 L 189.936781 -63.973625 \" style=\"fill:none;stroke-width:0.3985;stroke-linecap:butt;stroke-linejoin:miter;stroke:rgb(0%,0%,0%);stroke-opacity:1;stroke-miterlimit:10;\" transform=\"matrix(1,0,0,-1,33.614,14.667)\"/>\n",
       "<path d=\"M -1.195867 1.593185 C -1.097491 0.996185 0.00109198 0.100688 0.298748 -0.000641378 C -0.00017421 -0.0981717 -1.09622 -0.994096 -1.196282 -1.595318 \" style=\"fill:none;stroke-width:0.31879;stroke-linecap:round;stroke-linejoin:round;stroke:rgb(0%,0%,0%);stroke-opacity:1;stroke-miterlimit:10;\" transform=\"matrix(0.76193,-0.65308,-0.65308,-0.76193,223.5493,78.63993)\"/>\n",
       "<path d=\"M 108.499281 -136.42675 L 188.745375 -90.575187 \" style=\"fill:none;stroke-width:0.3985;stroke-linecap:butt;stroke-linejoin:miter;stroke:rgb(0%,0%,0%);stroke-opacity:1;stroke-miterlimit:10;\" transform=\"matrix(1,0,0,-1,33.614,14.667)\"/>\n",
       "<path d=\"M -1.196364 1.594793 C -1.096627 0.998242 0.000582041 0.101462 0.297402 -0.000711723 C -0.00184251 -0.0994858 -1.093756 -0.995259 -1.196904 -1.592775 \" style=\"fill:none;stroke-width:0.31879;stroke-linecap:round;stroke-linejoin:round;stroke:rgb(0%,0%,0%);stroke-opacity:1;stroke-miterlimit:10;\" transform=\"matrix(0.86877,-0.49646,-0.49646,-0.86877,222.35846,105.24078)\"/>\n",
       "<path d=\"M 109.507094 -138.793937 L 187.694594 -116.454094 \" style=\"fill:none;stroke-width:0.3985;stroke-linecap:butt;stroke-linejoin:miter;stroke:rgb(0%,0%,0%);stroke-opacity:1;stroke-miterlimit:10;\" transform=\"matrix(1,0,0,-1,33.614,14.667)\"/>\n",
       "<path d=\"M -1.195372 1.594731 C -1.095177 0.994144 0.000466998 0.101046 0.299959 -0.000744751 C 0.000469724 -0.0977216 -1.096221 -0.997279 -1.193721 -1.594119 \" style=\"fill:none;stroke-width:0.31879;stroke-linecap:round;stroke-linejoin:round;stroke:rgb(0%,0%,0%);stroke-opacity:1;stroke-miterlimit:10;\" transform=\"matrix(0.96297,-0.27512,-0.27512,-0.96297,221.3086,131.12087)\"/>\n",
       "<path d=\"M 109.901625 -141.735344 L 187.280531 -141.735344 \" style=\"fill:none;stroke-width:0.3985;stroke-linecap:butt;stroke-linejoin:miter;stroke:rgb(0%,0%,0%);stroke-opacity:1;stroke-miterlimit:10;\" transform=\"matrix(1,0,0,-1,33.614,14.667)\"/>\n",
       "<path d=\"M -1.196591 1.592506 C -1.095029 0.99485 -0.00127875 0.100319 0.299502 -0.00124375 C -0.00127875 -0.0989 -1.095029 -0.997338 -1.196591 -1.594994 \" style=\"fill:none;stroke-width:0.31879;stroke-linecap:round;stroke-linejoin:round;stroke:rgb(0%,0%,0%);stroke-opacity:1;stroke-miterlimit:10;\" transform=\"matrix(1,0,0,-1,220.89581,156.4011)\"/>\n",
       "<path d=\"M 109.507094 -144.672844 L 187.694594 -167.012687 \" style=\"fill:none;stroke-width:0.3985;stroke-linecap:butt;stroke-linejoin:miter;stroke:rgb(0%,0%,0%);stroke-opacity:1;stroke-miterlimit:10;\" transform=\"matrix(1,0,0,-1,33.614,14.667)\"/>\n",
       "<path d=\"M -1.19411 1.595481 C -1.095539 0.994891 0.0000805659 0.0990837 0.29957 0.00210688 C 0.0000778397 -0.0996836 -1.094494 -0.996533 -1.195761 -1.593369 \" style=\"fill:none;stroke-width:0.31879;stroke-linecap:round;stroke-linejoin:round;stroke:rgb(0%,0%,0%);stroke-opacity:1;stroke-miterlimit:10;\" transform=\"matrix(0.96297,0.27512,0.27512,-0.96297,221.3086,181.68133)\"/>\n",
       "<g style=\"fill:rgb(0%,0%,0%);fill-opacity:1;\">\n",
       "  <use x=\"117.191\" xlink:href=\"#glyph5-1\" y=\"39.527\"/>\n",
       "  <use x=\"124.66295\" xlink:href=\"#glyph5-2\" y=\"39.527\"/>\n",
       "  <use x=\"127.43056\" xlink:href=\"#glyph5-3\" y=\"39.527\"/>\n",
       "  <use x=\"132.965781\" xlink:href=\"#glyph5-3\" y=\"39.527\"/>\n",
       "  <use x=\"138.501001\" xlink:href=\"#glyph5-4\" y=\"39.527\"/>\n",
       "  <use x=\"142.928381\" xlink:href=\"#glyph5-5\" y=\"39.527\"/>\n",
       "</g>\n",
       "<g style=\"fill:rgb(0%,0%,0%);fill-opacity:1;\">\n",
       "  <use x=\"122.435\" xlink:href=\"#glyph5-6\" y=\"51.482\"/>\n",
       "  <use x=\"125.20261\" xlink:href=\"#glyph5-7\" y=\"51.482\"/>\n",
       "</g>\n",
       "<g style=\"fill:rgb(0%,0%,0%);fill-opacity:1;\">\n",
       "  <use x=\"129.904957\" xlink:href=\"#glyph5-8\" y=\"51.482\"/>\n",
       "</g>\n",
       "<g style=\"fill:rgb(0%,0%,0%);fill-opacity:1;\">\n",
       "  <use x=\"134.884265\" xlink:href=\"#glyph5-4\" y=\"51.482\"/>\n",
       "  <use x=\"139.311644\" xlink:href=\"#glyph5-9\" y=\"51.482\"/>\n",
       "</g>\n",
       "<g style=\"fill:rgb(0%,0%,0%);fill-opacity:1;\">\n",
       "  <use x=\"21.576\" xlink:href=\"#glyph5-10\" y=\"10.128\"/>\n",
       "  <use x=\"25.173495\" xlink:href=\"#glyph5-5\" y=\"10.128\"/>\n",
       "  <use x=\"30.708715\" xlink:href=\"#glyph5-11\" y=\"10.128\"/>\n",
       "  <use x=\"36.243936\" xlink:href=\"#glyph5-12\" y=\"10.128\"/>\n",
       "  <use x=\"41.779157\" xlink:href=\"#glyph5-13\" y=\"10.128\"/>\n",
       "</g>\n",
       "<g style=\"fill:rgb(0%,0%,0%);fill-opacity:1;\">\n",
       "  <use x=\"23.222\" xlink:href=\"#glyph5-6\" y=\"22.084\"/>\n",
       "  <use x=\"25.98961\" xlink:href=\"#glyph5-7\" y=\"22.084\"/>\n",
       "</g>\n",
       "<g style=\"fill:rgb(0%,0%,0%);fill-opacity:1;\">\n",
       "  <use x=\"30.691957\" xlink:href=\"#glyph5-8\" y=\"22.084\"/>\n",
       "</g>\n",
       "<g style=\"fill:rgb(0%,0%,0%);fill-opacity:1;\">\n",
       "  <use x=\"35.671265\" xlink:href=\"#glyph5-4\" y=\"22.084\"/>\n",
       "  <use x=\"40.098644\" xlink:href=\"#glyph5-9\" y=\"22.084\"/>\n",
       "</g>\n",
       "<g style=\"fill:rgb(0%,0%,0%);fill-opacity:1;\">\n",
       "  <use x=\"215.988\" xlink:href=\"#glyph5-14\" y=\"11.125\"/>\n",
       "  <use x=\"223.73691\" xlink:href=\"#glyph5-12\" y=\"11.125\"/>\n",
       "  <use x=\"229.272131\" xlink:href=\"#glyph5-13\" y=\"11.125\"/>\n",
       "  <use x=\"233.146586\" xlink:href=\"#glyph5-11\" y=\"11.125\"/>\n",
       "  <use x=\"238.681807\" xlink:href=\"#glyph5-12\" y=\"11.125\"/>\n",
       "  <use x=\"244.217027\" xlink:href=\"#glyph5-13\" y=\"11.125\"/>\n",
       "</g>\n",
       "<g style=\"fill:rgb(0%,0%,0%);fill-opacity:1;\">\n",
       "  <use x=\"221.648\" xlink:href=\"#glyph5-6\" y=\"23.08\"/>\n",
       "  <use x=\"224.41561\" xlink:href=\"#glyph5-7\" y=\"23.08\"/>\n",
       "</g>\n",
       "<g style=\"fill:rgb(0%,0%,0%);fill-opacity:1;\">\n",
       "  <use x=\"229.117957\" xlink:href=\"#glyph5-8\" y=\"23.08\"/>\n",
       "</g>\n",
       "<g style=\"fill:rgb(0%,0%,0%);fill-opacity:1;\">\n",
       "  <use x=\"234.097265\" xlink:href=\"#glyph5-4\" y=\"23.08\"/>\n",
       "  <use x=\"238.524644\" xlink:href=\"#glyph5-9\" y=\"23.08\"/>\n",
       "</g>\n",
       "</g>\n",
       "</svg>"
      ]
     },
     "metadata": {
      "isolated": "true"
     },
     "output_type": "display_data"
    }
   ],
   "source": [
    "%tikz -s 600,300 -sc 1.0 -l positioning -f svg \\input{imgs/05/autoencoder.tikz}"
   ]
  },
  {
   "cell_type": "markdown",
   "metadata": {
    "slideshow": {
     "slide_type": "slide"
    }
   },
   "source": [
    "## Stacked autoencoders"
   ]
  },
  {
   "cell_type": "code",
   "execution_count": 18,
   "metadata": {
    "collapsed": false,
    "scrolled": true,
    "slideshow": {
     "slide_type": "-"
    }
   },
   "outputs": [
    {
     "data": {
      "image/svg+xml": [
       "<svg height=\"300px\" version=\"1.1\" viewBox=\"0 0 456.388 186.524\" width=\"800px\" xmlns=\"http://www.w3.org/2000/svg\" xmlns:xlink=\"http://www.w3.org/1999/xlink\">\n",
       "<defs>\n",
       "<g>\n",
       "<symbol id=\"glyph0-0\" overflow=\"visible\">\n",
       "<path d=\"\" style=\"stroke:none;\"/>\n",
       "</symbol>\n",
       "<symbol id=\"glyph0-1\" overflow=\"visible\">\n",
       "<path d=\"M 3.328125 -3.015625 C 3.390625 -3.265625 3.625 -4.1875 4.3125 -4.1875 C 4.359375 -4.1875 4.609375 -4.1875 4.8125 -4.0625 C 4.53125 -4 4.34375 -3.765625 4.34375 -3.515625 C 4.34375 -3.359375 4.453125 -3.171875 4.71875 -3.171875 C 4.9375 -3.171875 5.25 -3.34375 5.25 -3.75 C 5.25 -4.265625 4.671875 -4.40625 4.328125 -4.40625 C 3.75 -4.40625 3.40625 -3.875 3.28125 -3.65625 C 3.03125 -4.3125 2.5 -4.40625 2.203125 -4.40625 C 1.171875 -4.40625 0.59375 -3.125 0.59375 -2.875 C 0.59375 -2.765625 0.703125 -2.765625 0.71875 -2.765625 C 0.796875 -2.765625 0.828125 -2.796875 0.84375 -2.875 C 1.1875 -3.9375 1.84375 -4.1875 2.1875 -4.1875 C 2.375 -4.1875 2.71875 -4.09375 2.71875 -3.515625 C 2.71875 -3.203125 2.546875 -2.546875 2.1875 -1.140625 C 2.03125 -0.53125 1.671875 -0.109375 1.234375 -0.109375 C 1.171875 -0.109375 0.953125 -0.109375 0.734375 -0.234375 C 0.984375 -0.296875 1.203125 -0.5 1.203125 -0.78125 C 1.203125 -1.046875 0.984375 -1.125 0.84375 -1.125 C 0.53125 -1.125 0.296875 -0.875 0.296875 -0.546875 C 0.296875 -0.09375 0.78125 0.109375 1.21875 0.109375 C 1.890625 0.109375 2.25 -0.59375 2.265625 -0.640625 C 2.390625 -0.28125 2.75 0.109375 3.34375 0.109375 C 4.375 0.109375 4.9375 -1.171875 4.9375 -1.421875 C 4.9375 -1.53125 4.859375 -1.53125 4.828125 -1.53125 C 4.734375 -1.53125 4.71875 -1.484375 4.6875 -1.421875 C 4.359375 -0.34375 3.6875 -0.109375 3.375 -0.109375 C 2.984375 -0.109375 2.828125 -0.421875 2.828125 -0.765625 C 2.828125 -0.984375 2.875 -1.203125 2.984375 -1.640625 Z M 3.328125 -3.015625 \" style=\"stroke:none;\"/>\n",
       "</symbol>\n",
       "<symbol id=\"glyph0-2\" overflow=\"visible\">\n",
       "<path d=\"M 4.84375 -3.796875 C 4.890625 -3.9375 4.890625 -3.953125 4.890625 -4.03125 C 4.890625 -4.203125 4.75 -4.296875 4.59375 -4.296875 C 4.5 -4.296875 4.34375 -4.234375 4.25 -4.09375 C 4.234375 -4.03125 4.140625 -3.734375 4.109375 -3.546875 C 4.03125 -3.296875 3.96875 -3.015625 3.90625 -2.75 L 3.453125 -0.953125 C 3.421875 -0.8125 2.984375 -0.109375 2.328125 -0.109375 C 1.828125 -0.109375 1.71875 -0.546875 1.71875 -0.921875 C 1.71875 -1.375 1.890625 -2 2.21875 -2.875 C 2.375 -3.28125 2.421875 -3.390625 2.421875 -3.59375 C 2.421875 -4.03125 2.109375 -4.40625 1.609375 -4.40625 C 0.65625 -4.40625 0.296875 -2.953125 0.296875 -2.875 C 0.296875 -2.765625 0.390625 -2.765625 0.40625 -2.765625 C 0.515625 -2.765625 0.515625 -2.796875 0.5625 -2.953125 C 0.84375 -3.890625 1.234375 -4.1875 1.578125 -4.1875 C 1.65625 -4.1875 1.828125 -4.1875 1.828125 -3.875 C 1.828125 -3.625 1.71875 -3.359375 1.65625 -3.171875 C 1.25 -2.109375 1.078125 -1.546875 1.078125 -1.078125 C 1.078125 -0.1875 1.703125 0.109375 2.296875 0.109375 C 2.6875 0.109375 3.015625 -0.0625 3.296875 -0.34375 C 3.171875 0.171875 3.046875 0.671875 2.65625 1.203125 C 2.390625 1.53125 2.015625 1.828125 1.5625 1.828125 C 1.421875 1.828125 0.96875 1.796875 0.796875 1.40625 C 0.953125 1.40625 1.09375 1.40625 1.21875 1.28125 C 1.328125 1.203125 1.421875 1.0625 1.421875 0.875 C 1.421875 0.5625 1.15625 0.53125 1.0625 0.53125 C 0.828125 0.53125 0.5 0.6875 0.5 1.171875 C 0.5 1.671875 0.9375 2.046875 1.5625 2.046875 C 2.578125 2.046875 3.609375 1.140625 3.890625 0.015625 Z M 4.84375 -3.796875 \" style=\"stroke:none;\"/>\n",
       "</symbol>\n",
       "<symbol id=\"glyph1-0\" overflow=\"visible\">\n",
       "<path d=\"\" style=\"stroke:none;\"/>\n",
       "</symbol>\n",
       "<symbol id=\"glyph1-1\" overflow=\"visible\">\n",
       "<path d=\"M 2.328125 -4.4375 C 2.328125 -4.625 2.328125 -4.625 2.125 -4.625 C 1.671875 -4.1875 1.046875 -4.1875 0.765625 -4.1875 L 0.765625 -3.9375 C 0.921875 -3.9375 1.390625 -3.9375 1.765625 -4.125 L 1.765625 -0.578125 C 1.765625 -0.34375 1.765625 -0.25 1.078125 -0.25 L 0.8125 -0.25 L 0.8125 0 C 0.9375 0 1.796875 -0.03125 2.046875 -0.03125 C 2.265625 -0.03125 3.140625 0 3.296875 0 L 3.296875 -0.25 L 3.03125 -0.25 C 2.328125 -0.25 2.328125 -0.34375 2.328125 -0.578125 Z M 2.328125 -4.4375 \" style=\"stroke:none;\"/>\n",
       "</symbol>\n",
       "<symbol id=\"glyph1-2\" overflow=\"visible\">\n",
       "<path d=\"M 3.515625 -1.265625 L 3.28125 -1.265625 C 3.265625 -1.109375 3.1875 -0.703125 3.09375 -0.640625 C 3.046875 -0.59375 2.515625 -0.59375 2.40625 -0.59375 L 1.125 -0.59375 C 1.859375 -1.234375 2.109375 -1.4375 2.515625 -1.765625 C 3.03125 -2.171875 3.515625 -2.609375 3.515625 -3.265625 C 3.515625 -4.109375 2.78125 -4.625 1.890625 -4.625 C 1.03125 -4.625 0.4375 -4.015625 0.4375 -3.375 C 0.4375 -3.03125 0.734375 -2.984375 0.8125 -2.984375 C 0.96875 -2.984375 1.171875 -3.109375 1.171875 -3.359375 C 1.171875 -3.484375 1.125 -3.734375 0.765625 -3.734375 C 0.984375 -4.21875 1.453125 -4.375 1.78125 -4.375 C 2.484375 -4.375 2.84375 -3.828125 2.84375 -3.265625 C 2.84375 -2.65625 2.40625 -2.1875 2.1875 -1.9375 L 0.515625 -0.265625 C 0.4375 -0.203125 0.4375 -0.1875 0.4375 0 L 3.3125 0 Z M 3.515625 -1.265625 \" style=\"stroke:none;\"/>\n",
       "</symbol>\n",
       "<symbol id=\"glyph1-3\" overflow=\"visible\">\n",
       "<path d=\"M 1.90625 -2.328125 C 2.453125 -2.328125 2.84375 -1.953125 2.84375 -1.203125 C 2.84375 -0.34375 2.328125 -0.078125 1.9375 -0.078125 C 1.65625 -0.078125 1.03125 -0.15625 0.75 -0.578125 C 1.078125 -0.578125 1.15625 -0.8125 1.15625 -0.96875 C 1.15625 -1.1875 0.984375 -1.34375 0.765625 -1.34375 C 0.578125 -1.34375 0.375 -1.21875 0.375 -0.9375 C 0.375 -0.28125 1.09375 0.140625 1.9375 0.140625 C 2.90625 0.140625 3.578125 -0.515625 3.578125 -1.203125 C 3.578125 -1.75 3.140625 -2.296875 2.375 -2.453125 C 3.09375 -2.71875 3.359375 -3.234375 3.359375 -3.671875 C 3.359375 -4.21875 2.734375 -4.625 1.953125 -4.625 C 1.1875 -4.625 0.59375 -4.25 0.59375 -3.6875 C 0.59375 -3.453125 0.75 -3.328125 0.953125 -3.328125 C 1.171875 -3.328125 1.3125 -3.484375 1.3125 -3.671875 C 1.3125 -3.875 1.171875 -4.03125 0.953125 -4.046875 C 1.203125 -4.34375 1.671875 -4.421875 1.9375 -4.421875 C 2.25 -4.421875 2.6875 -4.265625 2.6875 -3.671875 C 2.6875 -3.375 2.59375 -3.046875 2.40625 -2.84375 C 2.1875 -2.578125 1.984375 -2.5625 1.640625 -2.53125 C 1.46875 -2.515625 1.453125 -2.515625 1.421875 -2.515625 C 1.40625 -2.515625 1.34375 -2.5 1.34375 -2.421875 C 1.34375 -2.328125 1.40625 -2.328125 1.53125 -2.328125 Z M 1.90625 -2.328125 \" style=\"stroke:none;\"/>\n",
       "</symbol>\n",
       "<symbol id=\"glyph1-4\" overflow=\"visible\">\n",
       "<path d=\"M 3.6875 -1.140625 L 3.6875 -1.390625 L 2.90625 -1.390625 L 2.90625 -4.5 C 2.90625 -4.640625 2.90625 -4.703125 2.765625 -4.703125 C 2.671875 -4.703125 2.640625 -4.703125 2.578125 -4.59375 L 0.265625 -1.390625 L 0.265625 -1.140625 L 2.328125 -1.140625 L 2.328125 -0.578125 C 2.328125 -0.328125 2.328125 -0.25 1.75 -0.25 L 1.5625 -0.25 L 1.5625 0 C 1.921875 -0.015625 2.359375 -0.03125 2.609375 -0.03125 C 2.875 -0.03125 3.3125 -0.015625 3.671875 0 L 3.671875 -0.25 L 3.484375 -0.25 C 2.90625 -0.25 2.90625 -0.328125 2.90625 -0.578125 L 2.90625 -1.140625 Z M 2.375 -3.9375 L 2.375 -1.390625 L 0.53125 -1.390625 Z M 2.375 -3.9375 \" style=\"stroke:none;\"/>\n",
       "</symbol>\n",
       "<symbol id=\"glyph1-5\" overflow=\"visible\">\n",
       "<path d=\"M 1.078125 -3.890625 C 1.4375 -3.796875 1.640625 -3.796875 1.75 -3.796875 C 2.671875 -3.796875 3.21875 -4.421875 3.21875 -4.53125 C 3.21875 -4.609375 3.171875 -4.625 3.140625 -4.625 C 3.125 -4.625 3.109375 -4.625 3.078125 -4.609375 C 2.90625 -4.546875 2.546875 -4.40625 2.03125 -4.40625 C 1.828125 -4.40625 1.46875 -4.421875 1.015625 -4.59375 C 0.9375 -4.625 0.921875 -4.625 0.921875 -4.625 C 0.828125 -4.625 0.828125 -4.546875 0.828125 -4.4375 L 0.828125 -2.390625 C 0.828125 -2.265625 0.828125 -2.1875 0.9375 -2.1875 C 1 -2.1875 1.015625 -2.1875 1.078125 -2.28125 C 1.375 -2.65625 1.8125 -2.71875 2.046875 -2.71875 C 2.46875 -2.71875 2.65625 -2.390625 2.6875 -2.328125 C 2.8125 -2.09375 2.859375 -1.828125 2.859375 -1.421875 C 2.859375 -1.21875 2.859375 -0.8125 2.640625 -0.5 C 2.46875 -0.25 2.171875 -0.078125 1.828125 -0.078125 C 1.375 -0.078125 0.90625 -0.328125 0.734375 -0.796875 C 1 -0.78125 1.140625 -0.953125 1.140625 -1.140625 C 1.140625 -1.4375 0.875 -1.484375 0.78125 -1.484375 C 0.78125 -1.484375 0.4375 -1.484375 0.4375 -1.109375 C 0.4375 -0.484375 1.015625 0.140625 1.84375 0.140625 C 2.734375 0.140625 3.515625 -0.515625 3.515625 -1.40625 C 3.515625 -2.1875 2.921875 -2.90625 2.0625 -2.90625 C 1.75 -2.90625 1.390625 -2.84375 1.078125 -2.578125 Z M 1.078125 -3.890625 \" style=\"stroke:none;\"/>\n",
       "</symbol>\n",
       "<symbol id=\"glyph1-6\" overflow=\"visible\">\n",
       "<path d=\"M 1.046875 -2.28125 C 1.046875 -2.84375 1.09375 -3.359375 1.359375 -3.796875 C 1.59375 -4.171875 1.96875 -4.421875 2.421875 -4.421875 C 2.625 -4.421875 2.90625 -4.375 3.046875 -4.1875 C 2.875 -4.171875 2.71875 -4.046875 2.71875 -3.84375 C 2.71875 -3.671875 2.84375 -3.515625 3.046875 -3.515625 C 3.265625 -3.515625 3.390625 -3.65625 3.390625 -3.859375 C 3.390625 -4.265625 3.09375 -4.625 2.40625 -4.625 C 1.40625 -4.625 0.375 -3.703125 0.375 -2.203125 C 0.375 -0.40625 1.21875 0.140625 2 0.140625 C 2.84375 0.140625 3.578125 -0.515625 3.578125 -1.421875 C 3.578125 -2.3125 2.875 -2.96875 2.0625 -2.96875 C 1.5 -2.96875 1.203125 -2.59375 1.046875 -2.28125 Z M 2 -0.078125 C 1.640625 -0.078125 1.375 -0.28125 1.21875 -0.59375 C 1.125 -0.796875 1.0625 -1.15625 1.0625 -1.5625 C 1.0625 -2.25 1.46875 -2.765625 2.03125 -2.765625 C 2.34375 -2.765625 2.5625 -2.640625 2.734375 -2.390625 C 2.90625 -2.125 2.90625 -1.828125 2.90625 -1.421875 C 2.90625 -1.03125 2.90625 -0.734375 2.71875 -0.453125 C 2.5625 -0.21875 2.328125 -0.078125 2 -0.078125 Z M 2 -0.078125 \" style=\"stroke:none;\"/>\n",
       "</symbol>\n",
       "<symbol id=\"glyph2-0\" overflow=\"visible\">\n",
       "<path d=\"\" style=\"stroke:none;\"/>\n",
       "</symbol>\n",
       "<symbol id=\"glyph2-1\" overflow=\"visible\">\n",
       "<path d=\"M 4.40625 -3.625 C 4.078125 -3.5625 3.984375 -3.28125 3.984375 -3.140625 C 3.984375 -2.96875 4.109375 -2.8125 4.328125 -2.8125 C 4.578125 -2.8125 4.828125 -3.03125 4.828125 -3.34375 C 4.828125 -3.765625 4.375 -3.96875 3.953125 -3.96875 C 3.421875 -3.96875 3.109375 -3.484375 3 -3.296875 C 2.828125 -3.734375 2.4375 -3.96875 2 -3.96875 C 1.046875 -3.96875 0.515625 -2.8125 0.515625 -2.578125 C 0.515625 -2.5 0.578125 -2.46875 0.640625 -2.46875 C 0.71875 -2.46875 0.75 -2.515625 0.765625 -2.578125 C 1.046875 -3.46875 1.640625 -3.734375 1.984375 -3.734375 C 2.25 -3.734375 2.46875 -3.5625 2.46875 -3.140625 C 2.46875 -2.828125 2.09375 -1.390625 1.96875 -0.953125 C 1.90625 -0.6875 1.625 -0.125 1.140625 -0.125 C 0.953125 -0.125 0.765625 -0.1875 0.6875 -0.234375 C 0.921875 -0.28125 1.109375 -0.5 1.109375 -0.71875 C 1.109375 -0.953125 0.9375 -1.046875 0.765625 -1.046875 C 0.5 -1.046875 0.265625 -0.828125 0.265625 -0.515625 C 0.265625 -0.078125 0.75 0.09375 1.125 0.09375 C 1.65625 0.09375 1.953125 -0.328125 2.09375 -0.578125 C 2.3125 0.015625 2.84375 0.09375 3.078125 0.09375 C 4.046875 0.09375 4.5625 -1.0625 4.5625 -1.28125 C 4.5625 -1.328125 4.53125 -1.390625 4.453125 -1.390625 C 4.34375 -1.390625 4.34375 -1.359375 4.296875 -1.21875 C 4.09375 -0.578125 3.578125 -0.125 3.109375 -0.125 C 2.859375 -0.125 2.609375 -0.28125 2.609375 -0.71875 C 2.609375 -0.921875 2.734375 -1.40625 2.8125 -1.75 C 2.859375 -1.90625 3.09375 -2.875 3.109375 -2.9375 C 3.21875 -3.265625 3.484375 -3.734375 3.953125 -3.734375 C 4.109375 -3.734375 4.28125 -3.71875 4.40625 -3.625 Z M 4.40625 -3.625 \" style=\"stroke:none;\"/>\n",
       "</symbol>\n",
       "<symbol id=\"glyph3-0\" overflow=\"visible\">\n",
       "<path d=\"\" style=\"stroke:none;\"/>\n",
       "</symbol>\n",
       "<symbol id=\"glyph3-1\" overflow=\"visible\">\n",
       "<path d=\"M 3.296875 -1.90625 C 3.296875 -2.34375 3.296875 -3.984375 1.828125 -3.984375 C 0.359375 -3.984375 0.359375 -2.34375 0.359375 -1.90625 C 0.359375 -1.484375 0.359375 0.125 1.828125 0.125 C 3.296875 0.125 3.296875 -1.484375 3.296875 -1.90625 Z M 1.828125 -0.0625 C 1.578125 -0.0625 1.171875 -0.1875 1.015625 -0.6875 C 0.921875 -1.03125 0.921875 -1.609375 0.921875 -1.984375 C 0.921875 -2.390625 0.921875 -2.84375 1.015625 -3.171875 C 1.15625 -3.703125 1.609375 -3.78125 1.828125 -3.78125 C 2.09375 -3.78125 2.5 -3.65625 2.625 -3.203125 C 2.71875 -2.890625 2.71875 -2.453125 2.71875 -1.984375 C 2.71875 -1.609375 2.71875 -1 2.625 -0.671875 C 2.453125 -0.140625 2.015625 -0.0625 1.828125 -0.0625 Z M 1.828125 -0.0625 \" style=\"stroke:none;\"/>\n",
       "</symbol>\n",
       "<symbol id=\"glyph4-0\" overflow=\"visible\">\n",
       "<path d=\"\" style=\"stroke:none;\"/>\n",
       "</symbol>\n",
       "<symbol id=\"glyph4-1\" overflow=\"visible\">\n",
       "<path d=\"M 6.34375 -2.96875 C 6.46875 -2.96875 6.640625 -2.96875 6.640625 -3.15625 C 6.640625 -3.359375 6.453125 -3.359375 6.3125 -3.359375 L 0.84375 -3.359375 C 0.703125 -3.359375 0.515625 -3.359375 0.515625 -3.15625 C 0.515625 -2.96875 0.6875 -2.96875 0.8125 -2.96875 Z M 6.3125 -1.140625 C 6.453125 -1.140625 6.640625 -1.140625 6.640625 -1.34375 C 6.640625 -1.53125 6.46875 -1.53125 6.34375 -1.53125 L 0.8125 -1.53125 C 0.6875 -1.53125 0.515625 -1.53125 0.515625 -1.34375 C 0.515625 -1.140625 0.703125 -1.140625 0.84375 -1.140625 Z M 6.3125 -1.140625 \" style=\"stroke:none;\"/>\n",
       "</symbol>\n",
       "<symbol id=\"glyph4-2\" overflow=\"visible\">\n",
       "<path d=\"M 2.71875 -5.734375 C 2.71875 -5.953125 2.71875 -5.96875 2.5 -5.96875 C 1.9375 -5.40625 1.109375 -5.40625 0.828125 -5.40625 L 0.828125 -5.125 C 1 -5.125 1.546875 -5.125 2.03125 -5.359375 L 2.03125 -0.71875 C 2.03125 -0.390625 2.015625 -0.28125 1.171875 -0.28125 L 0.890625 -0.28125 L 0.890625 0 C 1.203125 -0.03125 2.015625 -0.03125 2.375 -0.03125 C 2.75 -0.03125 3.546875 -0.03125 3.875 0 L 3.875 -0.28125 L 3.59375 -0.28125 C 2.75 -0.28125 2.71875 -0.390625 2.71875 -0.71875 Z M 2.71875 -5.734375 \" style=\"stroke:none;\"/>\n",
       "</symbol>\n",
       "<symbol id=\"glyph5-0\" overflow=\"visible\">\n",
       "<path d=\"\" style=\"stroke:none;\"/>\n",
       "</symbol>\n",
       "<symbol id=\"glyph5-1\" overflow=\"visible\">\n",
       "<path d=\"M 3.96875 -6.9375 C 3.921875 -7.0625 3.890625 -7.140625 3.734375 -7.140625 C 3.578125 -7.140625 3.546875 -7.078125 3.5 -6.9375 L 1.4375 -0.984375 C 1.25 -0.46875 0.859375 -0.3125 0.3125 -0.3125 L 0.3125 0 C 0.546875 -0.015625 0.984375 -0.03125 1.328125 -0.03125 C 1.640625 -0.03125 2.15625 -0.015625 2.484375 0 L 2.484375 -0.3125 C 1.984375 -0.3125 1.734375 -0.5625 1.734375 -0.8125 C 1.734375 -0.84375 1.75 -0.953125 1.75 -0.96875 L 2.21875 -2.265625 L 4.671875 -2.265625 L 5.203125 -0.75 C 5.21875 -0.703125 5.234375 -0.640625 5.234375 -0.609375 C 5.234375 -0.3125 4.671875 -0.3125 4.40625 -0.3125 L 4.40625 0 C 4.765625 -0.03125 5.46875 -0.03125 5.84375 -0.03125 C 6.265625 -0.03125 6.734375 -0.015625 7.140625 0 L 7.140625 -0.3125 L 6.96875 -0.3125 C 6.375 -0.3125 6.234375 -0.375 6.125 -0.703125 Z M 3.4375 -5.828125 L 4.5625 -2.578125 L 2.328125 -2.578125 Z M 3.4375 -5.828125 \" style=\"stroke:none;\"/>\n",
       "</symbol>\n",
       "<symbol id=\"glyph5-2\" overflow=\"visible\">\n",
       "<path d=\"M 3.890625 -0.78125 L 3.890625 0.109375 L 5.328125 0 L 5.328125 -0.3125 C 4.640625 -0.3125 4.5625 -0.375 4.5625 -0.875 L 4.5625 -4.40625 L 3.09375 -4.296875 L 3.09375 -3.984375 C 3.78125 -3.984375 3.875 -3.921875 3.875 -3.421875 L 3.875 -1.65625 C 3.875 -0.78125 3.390625 -0.109375 2.65625 -0.109375 C 1.828125 -0.109375 1.78125 -0.578125 1.78125 -1.09375 L 1.78125 -4.40625 L 0.3125 -4.296875 L 0.3125 -3.984375 C 1.09375 -3.984375 1.09375 -3.953125 1.09375 -3.078125 L 1.09375 -1.578125 C 1.09375 -0.796875 1.09375 0.109375 2.609375 0.109375 C 3.171875 0.109375 3.609375 -0.171875 3.890625 -0.78125 Z M 3.890625 -0.78125 \" style=\"stroke:none;\"/>\n",
       "</symbol>\n",
       "<symbol id=\"glyph5-3\" overflow=\"visible\">\n",
       "<path d=\"M 1.71875 -3.984375 L 3.15625 -3.984375 L 3.15625 -4.296875 L 1.71875 -4.296875 L 1.71875 -6.125 L 1.46875 -6.125 C 1.46875 -5.3125 1.171875 -4.25 0.1875 -4.203125 L 0.1875 -3.984375 L 1.03125 -3.984375 L 1.03125 -1.234375 C 1.03125 -0.015625 1.96875 0.109375 2.328125 0.109375 C 3.03125 0.109375 3.3125 -0.59375 3.3125 -1.234375 L 3.3125 -1.796875 L 3.0625 -1.796875 L 3.0625 -1.25 C 3.0625 -0.515625 2.765625 -0.140625 2.390625 -0.140625 C 1.71875 -0.140625 1.71875 -1.046875 1.71875 -1.21875 Z M 1.71875 -3.984375 \" style=\"stroke:none;\"/>\n",
       "</symbol>\n",
       "<symbol id=\"glyph5-4\" overflow=\"visible\">\n",
       "<path d=\"M 4.6875 -2.140625 C 4.6875 -3.40625 3.703125 -4.46875 2.5 -4.46875 C 1.25 -4.46875 0.28125 -3.375 0.28125 -2.140625 C 0.28125 -0.84375 1.3125 0.109375 2.484375 0.109375 C 3.6875 0.109375 4.6875 -0.875 4.6875 -2.140625 Z M 2.5 -0.140625 C 2.0625 -0.140625 1.625 -0.34375 1.359375 -0.8125 C 1.109375 -1.25 1.109375 -1.859375 1.109375 -2.21875 C 1.109375 -2.609375 1.109375 -3.140625 1.34375 -3.578125 C 1.609375 -4.03125 2.078125 -4.25 2.484375 -4.25 C 2.921875 -4.25 3.34375 -4.03125 3.609375 -3.59375 C 3.875 -3.171875 3.875 -2.59375 3.875 -2.21875 C 3.875 -1.859375 3.875 -1.3125 3.65625 -0.875 C 3.421875 -0.421875 2.984375 -0.140625 2.5 -0.140625 Z M 2.5 -0.140625 \" style=\"stroke:none;\"/>\n",
       "</symbol>\n",
       "<symbol id=\"glyph5-5\" overflow=\"visible\">\n",
       "<path d=\"M 1.109375 -2.515625 C 1.171875 -4 2.015625 -4.25 2.359375 -4.25 C 3.375 -4.25 3.484375 -2.90625 3.484375 -2.515625 Z M 1.109375 -2.296875 L 3.890625 -2.296875 C 4.109375 -2.296875 4.140625 -2.296875 4.140625 -2.515625 C 4.140625 -3.5 3.59375 -4.46875 2.359375 -4.46875 C 1.203125 -4.46875 0.28125 -3.4375 0.28125 -2.1875 C 0.28125 -0.859375 1.328125 0.109375 2.46875 0.109375 C 3.6875 0.109375 4.140625 -1 4.140625 -1.1875 C 4.140625 -1.28125 4.0625 -1.3125 4 -1.3125 C 3.921875 -1.3125 3.890625 -1.25 3.875 -1.171875 C 3.53125 -0.140625 2.625 -0.140625 2.53125 -0.140625 C 2.03125 -0.140625 1.640625 -0.4375 1.40625 -0.8125 C 1.109375 -1.28125 1.109375 -1.9375 1.109375 -2.296875 Z M 1.109375 -2.296875 \" style=\"stroke:none;\"/>\n",
       "</symbol>\n",
       "<symbol id=\"glyph5-6\" overflow=\"visible\">\n",
       "<path d=\"M 1.09375 -3.421875 L 1.09375 -0.75 C 1.09375 -0.3125 0.984375 -0.3125 0.3125 -0.3125 L 0.3125 0 C 0.671875 -0.015625 1.171875 -0.03125 1.453125 -0.03125 C 1.703125 -0.03125 2.21875 -0.015625 2.5625 0 L 2.5625 -0.3125 C 1.890625 -0.3125 1.78125 -0.3125 1.78125 -0.75 L 1.78125 -2.59375 C 1.78125 -3.625 2.5 -4.1875 3.125 -4.1875 C 3.765625 -4.1875 3.875 -3.65625 3.875 -3.078125 L 3.875 -0.75 C 3.875 -0.3125 3.765625 -0.3125 3.09375 -0.3125 L 3.09375 0 C 3.4375 -0.015625 3.953125 -0.03125 4.21875 -0.03125 C 4.46875 -0.03125 5 -0.015625 5.328125 0 L 5.328125 -0.3125 C 4.8125 -0.3125 4.5625 -0.3125 4.5625 -0.609375 L 4.5625 -2.515625 C 4.5625 -3.375 4.5625 -3.671875 4.25 -4.03125 C 4.109375 -4.203125 3.78125 -4.40625 3.203125 -4.40625 C 2.46875 -4.40625 2 -3.984375 1.71875 -3.359375 L 1.71875 -4.40625 L 0.3125 -4.296875 L 0.3125 -3.984375 C 1.015625 -3.984375 1.09375 -3.921875 1.09375 -3.421875 Z M 1.09375 -3.421875 \" style=\"stroke:none;\"/>\n",
       "</symbol>\n",
       "<symbol id=\"glyph5-7\" overflow=\"visible\">\n",
       "<path d=\"M 1.171875 -2.171875 C 1.171875 -3.796875 1.984375 -4.21875 2.515625 -4.21875 C 2.609375 -4.21875 3.234375 -4.203125 3.578125 -3.84375 C 3.171875 -3.8125 3.109375 -3.515625 3.109375 -3.390625 C 3.109375 -3.125 3.296875 -2.9375 3.5625 -2.9375 C 3.828125 -2.9375 4.03125 -3.09375 4.03125 -3.40625 C 4.03125 -4.078125 3.265625 -4.46875 2.5 -4.46875 C 1.25 -4.46875 0.34375 -3.390625 0.34375 -2.15625 C 0.34375 -0.875 1.328125 0.109375 2.484375 0.109375 C 3.8125 0.109375 4.140625 -1.09375 4.140625 -1.1875 C 4.140625 -1.28125 4.03125 -1.28125 4 -1.28125 C 3.921875 -1.28125 3.890625 -1.25 3.875 -1.1875 C 3.59375 -0.265625 2.9375 -0.140625 2.578125 -0.140625 C 2.046875 -0.140625 1.171875 -0.5625 1.171875 -2.171875 Z M 1.171875 -2.171875 \" style=\"stroke:none;\"/>\n",
       "</symbol>\n",
       "<symbol id=\"glyph5-8\" overflow=\"visible\">\n",
       "<path d=\"M 3.78125 -0.546875 L 3.78125 0.109375 L 5.25 0 L 5.25 -0.3125 C 4.5625 -0.3125 4.46875 -0.375 4.46875 -0.875 L 4.46875 -6.921875 L 3.046875 -6.8125 L 3.046875 -6.5 C 3.734375 -6.5 3.8125 -6.4375 3.8125 -5.9375 L 3.8125 -3.78125 C 3.53125 -4.140625 3.09375 -4.40625 2.5625 -4.40625 C 1.390625 -4.40625 0.34375 -3.421875 0.34375 -2.140625 C 0.34375 -0.875 1.3125 0.109375 2.453125 0.109375 C 3.09375 0.109375 3.53125 -0.234375 3.78125 -0.546875 Z M 3.78125 -3.21875 L 3.78125 -1.171875 C 3.78125 -1 3.78125 -0.984375 3.671875 -0.8125 C 3.375 -0.328125 2.9375 -0.109375 2.5 -0.109375 C 2.046875 -0.109375 1.6875 -0.375 1.453125 -0.75 C 1.203125 -1.15625 1.171875 -1.71875 1.171875 -2.140625 C 1.171875 -2.5 1.1875 -3.09375 1.46875 -3.546875 C 1.6875 -3.859375 2.0625 -4.1875 2.609375 -4.1875 C 2.953125 -4.1875 3.375 -4.03125 3.671875 -3.59375 C 3.78125 -3.421875 3.78125 -3.40625 3.78125 -3.21875 Z M 3.78125 -3.21875 \" style=\"stroke:none;\"/>\n",
       "</symbol>\n",
       "<symbol id=\"glyph5-9\" overflow=\"visible\">\n",
       "<path d=\"M 1.671875 -3.3125 L 1.671875 -4.40625 L 0.28125 -4.296875 L 0.28125 -3.984375 C 0.984375 -3.984375 1.0625 -3.921875 1.0625 -3.421875 L 1.0625 -0.75 C 1.0625 -0.3125 0.953125 -0.3125 0.28125 -0.3125 L 0.28125 0 C 0.671875 -0.015625 1.140625 -0.03125 1.421875 -0.03125 C 1.8125 -0.03125 2.28125 -0.03125 2.6875 0 L 2.6875 -0.3125 L 2.46875 -0.3125 C 1.734375 -0.3125 1.71875 -0.421875 1.71875 -0.78125 L 1.71875 -2.3125 C 1.71875 -3.296875 2.140625 -4.1875 2.890625 -4.1875 C 2.953125 -4.1875 2.984375 -4.1875 3 -4.171875 C 2.96875 -4.171875 2.765625 -4.046875 2.765625 -3.78125 C 2.765625 -3.515625 2.984375 -3.359375 3.203125 -3.359375 C 3.375 -3.359375 3.625 -3.484375 3.625 -3.796875 C 3.625 -4.109375 3.3125 -4.40625 2.890625 -4.40625 C 2.15625 -4.40625 1.796875 -3.734375 1.671875 -3.3125 Z M 1.671875 -3.3125 \" style=\"stroke:none;\"/>\n",
       "</symbol>\n",
       "<symbol id=\"glyph5-10\" overflow=\"visible\">\n",
       "<path d=\"M 2.890625 -3.515625 C 3.703125 -3.78125 4.28125 -4.46875 4.28125 -5.265625 C 4.28125 -6.078125 3.40625 -6.640625 2.453125 -6.640625 C 1.453125 -6.640625 0.6875 -6.046875 0.6875 -5.28125 C 0.6875 -4.953125 0.90625 -4.765625 1.203125 -4.765625 C 1.5 -4.765625 1.703125 -4.984375 1.703125 -5.28125 C 1.703125 -5.765625 1.234375 -5.765625 1.09375 -5.765625 C 1.390625 -6.265625 2.046875 -6.390625 2.40625 -6.390625 C 2.828125 -6.390625 3.375 -6.171875 3.375 -5.28125 C 3.375 -5.15625 3.34375 -4.578125 3.09375 -4.140625 C 2.796875 -3.65625 2.453125 -3.625 2.203125 -3.625 C 2.125 -3.609375 1.890625 -3.59375 1.8125 -3.59375 C 1.734375 -3.578125 1.671875 -3.5625 1.671875 -3.46875 C 1.671875 -3.359375 1.734375 -3.359375 1.90625 -3.359375 L 2.34375 -3.359375 C 3.15625 -3.359375 3.53125 -2.6875 3.53125 -1.703125 C 3.53125 -0.34375 2.84375 -0.0625 2.40625 -0.0625 C 1.96875 -0.0625 1.21875 -0.234375 0.875 -0.8125 C 1.21875 -0.765625 1.53125 -0.984375 1.53125 -1.359375 C 1.53125 -1.71875 1.265625 -1.921875 0.984375 -1.921875 C 0.734375 -1.921875 0.421875 -1.78125 0.421875 -1.34375 C 0.421875 -0.4375 1.34375 0.21875 2.4375 0.21875 C 3.65625 0.21875 4.5625 -0.6875 4.5625 -1.703125 C 4.5625 -2.515625 3.921875 -3.296875 2.890625 -3.515625 Z M 2.890625 -3.515625 \" style=\"stroke:none;\"/>\n",
       "</symbol>\n",
       "<symbol id=\"glyph5-11\" overflow=\"visible\">\n",
       "<path d=\"M 1.265625 -0.765625 L 2.328125 -1.796875 C 3.875 -3.171875 4.46875 -3.703125 4.46875 -4.703125 C 4.46875 -5.84375 3.578125 -6.640625 2.359375 -6.640625 C 1.234375 -6.640625 0.5 -5.71875 0.5 -4.828125 C 0.5 -4.28125 1 -4.28125 1.03125 -4.28125 C 1.203125 -4.28125 1.546875 -4.390625 1.546875 -4.8125 C 1.546875 -5.0625 1.359375 -5.328125 1.015625 -5.328125 C 0.9375 -5.328125 0.921875 -5.328125 0.890625 -5.3125 C 1.109375 -5.96875 1.65625 -6.328125 2.234375 -6.328125 C 3.140625 -6.328125 3.5625 -5.515625 3.5625 -4.703125 C 3.5625 -3.90625 3.078125 -3.125 2.515625 -2.5 L 0.609375 -0.375 C 0.5 -0.265625 0.5 -0.234375 0.5 0 L 4.203125 0 L 4.46875 -1.734375 L 4.234375 -1.734375 C 4.171875 -1.4375 4.109375 -1 4 -0.84375 C 3.9375 -0.765625 3.28125 -0.765625 3.0625 -0.765625 Z M 1.265625 -0.765625 \" style=\"stroke:none;\"/>\n",
       "</symbol>\n",
       "<symbol id=\"glyph5-12\" overflow=\"visible\">\n",
       "<path d=\"M 2.9375 -6.375 C 2.9375 -6.625 2.9375 -6.640625 2.703125 -6.640625 C 2.078125 -6 1.203125 -6 0.890625 -6 L 0.890625 -5.6875 C 1.09375 -5.6875 1.671875 -5.6875 2.1875 -5.953125 L 2.1875 -0.78125 C 2.1875 -0.421875 2.15625 -0.3125 1.265625 -0.3125 L 0.953125 -0.3125 L 0.953125 0 C 1.296875 -0.03125 2.15625 -0.03125 2.5625 -0.03125 C 2.953125 -0.03125 3.828125 -0.03125 4.171875 0 L 4.171875 -0.3125 L 3.859375 -0.3125 C 2.953125 -0.3125 2.9375 -0.421875 2.9375 -0.78125 Z M 2.9375 -6.375 \" style=\"stroke:none;\"/>\n",
       "</symbol>\n",
       "<symbol id=\"glyph5-13\" overflow=\"visible\">\n",
       "<path d=\"M 2.25 -6.03125 C 2.25 -6.390625 2.265625 -6.5 3.0625 -6.5 L 3.3125 -6.5 L 3.3125 -6.8125 C 2.96875 -6.78125 2.1875 -6.78125 1.796875 -6.78125 C 1.421875 -6.78125 0.625 -6.78125 0.28125 -6.8125 L 0.28125 -6.5 L 0.53125 -6.5 C 1.328125 -6.5 1.359375 -6.390625 1.359375 -6.03125 L 1.359375 -0.78125 C 1.359375 -0.421875 1.328125 -0.3125 0.53125 -0.3125 L 0.28125 -0.3125 L 0.28125 0 C 0.625 -0.03125 1.421875 -0.03125 1.796875 -0.03125 C 2.1875 -0.03125 2.96875 -0.03125 3.3125 0 L 3.3125 -0.3125 L 3.0625 -0.3125 C 2.265625 -0.3125 2.25 -0.421875 2.25 -0.78125 Z M 2.25 -6.03125 \" style=\"stroke:none;\"/>\n",
       "</symbol>\n",
       "<symbol id=\"glyph5-14\" overflow=\"visible\">\n",
       "<path d=\"M 1.71875 -3.75 L 1.71875 -4.40625 L 0.28125 -4.296875 L 0.28125 -3.984375 C 0.984375 -3.984375 1.0625 -3.921875 1.0625 -3.484375 L 1.0625 1.171875 C 1.0625 1.625 0.953125 1.625 0.28125 1.625 L 0.28125 1.9375 C 0.625 1.921875 1.140625 1.90625 1.390625 1.90625 C 1.671875 1.90625 2.171875 1.921875 2.515625 1.9375 L 2.515625 1.625 C 1.859375 1.625 1.75 1.625 1.75 1.171875 L 1.75 -0.59375 C 1.796875 -0.421875 2.21875 0.109375 2.96875 0.109375 C 4.15625 0.109375 5.1875 -0.875 5.1875 -2.15625 C 5.1875 -3.421875 4.234375 -4.40625 3.109375 -4.40625 C 2.328125 -4.40625 1.90625 -3.96875 1.71875 -3.75 Z M 1.75 -1.140625 L 1.75 -3.359375 C 2.03125 -3.875 2.515625 -4.15625 3.03125 -4.15625 C 3.765625 -4.15625 4.359375 -3.28125 4.359375 -2.15625 C 4.359375 -0.953125 3.671875 -0.109375 2.9375 -0.109375 C 2.53125 -0.109375 2.15625 -0.3125 1.890625 -0.71875 C 1.75 -0.921875 1.75 -0.9375 1.75 -1.140625 Z M 1.75 -1.140625 \" style=\"stroke:none;\"/>\n",
       "</symbol>\n",
       "<symbol id=\"glyph5-15\" overflow=\"visible\">\n",
       "<path d=\"M 1.765625 -6.921875 L 0.328125 -6.8125 L 0.328125 -6.5 C 1.03125 -6.5 1.109375 -6.4375 1.109375 -5.9375 L 1.109375 -0.75 C 1.109375 -0.3125 1 -0.3125 0.328125 -0.3125 L 0.328125 0 C 0.65625 -0.015625 1.1875 -0.03125 1.4375 -0.03125 C 1.6875 -0.03125 2.171875 -0.015625 2.546875 0 L 2.546875 -0.3125 C 1.875 -0.3125 1.765625 -0.3125 1.765625 -0.75 Z M 1.765625 -6.921875 \" style=\"stroke:none;\"/>\n",
       "</symbol>\n",
       "<symbol id=\"glyph5-16\" overflow=\"visible\">\n",
       "<path d=\"M 3.3125 -0.75 C 3.359375 -0.359375 3.625 0.0625 4.09375 0.0625 C 4.3125 0.0625 4.921875 -0.078125 4.921875 -0.890625 L 4.921875 -1.453125 L 4.671875 -1.453125 L 4.671875 -0.890625 C 4.671875 -0.3125 4.421875 -0.25 4.3125 -0.25 C 3.984375 -0.25 3.9375 -0.703125 3.9375 -0.75 L 3.9375 -2.734375 C 3.9375 -3.15625 3.9375 -3.546875 3.578125 -3.921875 C 3.1875 -4.3125 2.6875 -4.46875 2.21875 -4.46875 C 1.390625 -4.46875 0.703125 -4 0.703125 -3.34375 C 0.703125 -3.046875 0.90625 -2.875 1.171875 -2.875 C 1.453125 -2.875 1.625 -3.078125 1.625 -3.328125 C 1.625 -3.453125 1.578125 -3.78125 1.109375 -3.78125 C 1.390625 -4.140625 1.875 -4.25 2.1875 -4.25 C 2.6875 -4.25 3.25 -3.859375 3.25 -2.96875 L 3.25 -2.609375 C 2.734375 -2.578125 2.046875 -2.546875 1.421875 -2.25 C 0.671875 -1.90625 0.421875 -1.390625 0.421875 -0.953125 C 0.421875 -0.140625 1.390625 0.109375 2.015625 0.109375 C 2.671875 0.109375 3.125 -0.296875 3.3125 -0.75 Z M 3.25 -2.390625 L 3.25 -1.390625 C 3.25 -0.453125 2.53125 -0.109375 2.078125 -0.109375 C 1.59375 -0.109375 1.1875 -0.453125 1.1875 -0.953125 C 1.1875 -1.5 1.609375 -2.328125 3.25 -2.390625 Z M 3.25 -2.390625 \" style=\"stroke:none;\"/>\n",
       "</symbol>\n",
       "<symbol id=\"glyph5-17\" overflow=\"visible\">\n",
       "<path d=\"M 4.140625 -3.34375 C 4.390625 -3.984375 4.90625 -3.984375 5.0625 -3.984375 L 5.0625 -4.296875 C 4.828125 -4.28125 4.546875 -4.265625 4.3125 -4.265625 C 4.140625 -4.265625 3.671875 -4.28125 3.453125 -4.296875 L 3.453125 -3.984375 C 3.765625 -3.984375 3.921875 -3.8125 3.921875 -3.5625 C 3.921875 -3.453125 3.90625 -3.4375 3.859375 -3.3125 L 2.84375 -0.875 L 1.75 -3.546875 C 1.703125 -3.65625 1.6875 -3.6875 1.6875 -3.734375 C 1.6875 -3.984375 2.046875 -3.984375 2.25 -3.984375 L 2.25 -4.296875 C 1.984375 -4.28125 1.328125 -4.265625 1.15625 -4.265625 C 0.890625 -4.265625 0.484375 -4.28125 0.1875 -4.296875 L 0.1875 -3.984375 C 0.671875 -3.984375 0.859375 -3.984375 1 -3.640625 L 2.5 0 C 2.4375 0.125 2.296875 0.453125 2.25 0.59375 C 2.03125 1.140625 1.75 1.828125 1.109375 1.828125 C 1.0625 1.828125 0.828125 1.828125 0.640625 1.640625 C 0.953125 1.609375 1.03125 1.390625 1.03125 1.21875 C 1.03125 0.96875 0.84375 0.8125 0.609375 0.8125 C 0.40625 0.8125 0.1875 0.9375 0.1875 1.234375 C 0.1875 1.6875 0.609375 2.046875 1.109375 2.046875 C 1.734375 2.046875 2.140625 1.46875 2.375 0.90625 Z M 4.140625 -3.34375 \" style=\"stroke:none;\"/>\n",
       "</symbol>\n",
       "<symbol id=\"glyph5-18\" overflow=\"visible\">\n",
       "<path d=\"M 7.1875 -3.375 C 7.1875 -5.40625 5.6875 -7.03125 3.875 -7.03125 C 2.078125 -7.03125 0.5625 -5.4375 0.5625 -3.375 C 0.5625 -1.328125 2.09375 0.21875 3.875 0.21875 C 5.6875 0.21875 7.1875 -1.359375 7.1875 -3.375 Z M 3.875 -0.046875 C 2.921875 -0.046875 1.578125 -0.921875 1.578125 -3.515625 C 1.578125 -6.09375 3.046875 -6.78125 3.875 -6.78125 C 4.734375 -6.78125 6.15625 -6.078125 6.15625 -3.515625 C 6.15625 -0.875 4.796875 -0.046875 3.875 -0.046875 Z M 3.875 -0.046875 \" style=\"stroke:none;\"/>\n",
       "</symbol>\n",
       "</g>\n",
       "</defs>\n",
       "<g id=\"surface1\">\n",
       "<path d=\"M 61.660156 32.308594 C 61.660156 30.355469 60.070312 28.765625 58.113281 28.765625 C 56.15625 28.765625 54.570312 30.355469 54.570312 32.308594 C 54.570312 34.265625 56.15625 35.855469 58.113281 35.855469 C 60.070312 35.855469 61.660156 34.265625 61.660156 32.308594 Z M 61.660156 32.308594 \" style=\" stroke:none;fill-rule:nonzero;fill:rgb(25.999451%,25.999451%,25.999451%);fill-opacity:1;\"/>\n",
       "<g style=\"fill:rgb(0%,0%,0%);fill-opacity:1;\">\n",
       "  <use x=\"27.821\" xlink:href=\"#glyph0-1\" y=\"33.708\"/>\n",
       "</g>\n",
       "<g style=\"fill:rgb(0%,0%,0%);fill-opacity:1;\">\n",
       "  <use x=\"33.515\" xlink:href=\"#glyph1-1\" y=\"35.202\"/>\n",
       "</g>\n",
       "<path d=\"M -5.197031 -27.348594 L -16.611094 -27.348594 \" style=\"fill:none;stroke-width:0.3985;stroke-linecap:butt;stroke-linejoin:miter;stroke:rgb(0%,0%,0%);stroke-opacity:1;stroke-miterlimit:10;\" transform=\"matrix(1,0,0,-1,58.115,4.96)\"/>\n",
       "<path d=\"M -1.195204 1.595676 C -1.097548 0.99802 0.00010875 0.0995825 0.296984 0.00192625 C 0.00010875 -0.0996362 -1.097548 -0.998074 -1.195204 -1.59573 \" style=\"fill:none;stroke-width:0.31879;stroke-linecap:round;stroke-linejoin:round;stroke:rgb(0%,0%,0%);stroke-opacity:1;stroke-miterlimit:10;\" transform=\"matrix(1,0,0,-1,52.91786,32.31052)\"/>\n",
       "<path d=\"M 61.660156 60.65625 C 61.660156 58.699219 60.070312 57.113281 58.113281 57.113281 C 56.15625 57.113281 54.570312 58.699219 54.570312 60.65625 C 54.570312 62.613281 56.15625 64.199219 58.113281 64.199219 C 60.070312 64.199219 61.660156 62.613281 61.660156 60.65625 Z M 61.660156 60.65625 \" style=\" stroke:none;fill-rule:nonzero;fill:rgb(25.999451%,25.999451%,25.999451%);fill-opacity:1;\"/>\n",
       "<g style=\"fill:rgb(0%,0%,0%);fill-opacity:1;\">\n",
       "  <use x=\"27.821\" xlink:href=\"#glyph0-1\" y=\"62.055\"/>\n",
       "</g>\n",
       "<g style=\"fill:rgb(0%,0%,0%);fill-opacity:1;\">\n",
       "  <use x=\"33.515\" xlink:href=\"#glyph1-2\" y=\"63.549\"/>\n",
       "</g>\n",
       "<path d=\"M -5.197031 -55.69625 L -16.611094 -55.69625 \" style=\"fill:none;stroke-width:0.3985;stroke-linecap:butt;stroke-linejoin:miter;stroke:rgb(0%,0%,0%);stroke-opacity:1;stroke-miterlimit:10;\" transform=\"matrix(1,0,0,-1,58.115,4.96)\"/>\n",
       "<path d=\"M -1.195204 1.59486 C -1.097548 0.997204 0.00010875 0.0987663 0.296984 0.00111 C 0.00010875 -0.100452 -1.097548 -0.994984 -1.195204 -1.59264 \" style=\"fill:none;stroke-width:0.31879;stroke-linecap:round;stroke-linejoin:round;stroke:rgb(0%,0%,0%);stroke-opacity:1;stroke-miterlimit:10;\" transform=\"matrix(1,0,0,-1,52.91786,60.65736)\"/>\n",
       "<path d=\"M 61.660156 89.003906 C 61.660156 87.046875 60.070312 85.460938 58.113281 85.460938 C 56.15625 85.460938 54.570312 87.046875 54.570312 89.003906 C 54.570312 90.960938 56.15625 92.546875 58.113281 92.546875 C 60.070312 92.546875 61.660156 90.960938 61.660156 89.003906 Z M 61.660156 89.003906 \" style=\" stroke:none;fill-rule:nonzero;fill:rgb(25.999451%,25.999451%,25.999451%);fill-opacity:1;\"/>\n",
       "<g style=\"fill:rgb(0%,0%,0%);fill-opacity:1;\">\n",
       "  <use x=\"27.821\" xlink:href=\"#glyph0-1\" y=\"90.401\"/>\n",
       "</g>\n",
       "<g style=\"fill:rgb(0%,0%,0%);fill-opacity:1;\">\n",
       "  <use x=\"33.515\" xlink:href=\"#glyph1-3\" y=\"91.895\"/>\n",
       "</g>\n",
       "<path d=\"M -5.197031 -84.043906 L -16.611094 -84.043906 \" style=\"fill:none;stroke-width:0.3985;stroke-linecap:butt;stroke-linejoin:miter;stroke:rgb(0%,0%,0%);stroke-opacity:1;stroke-miterlimit:10;\" transform=\"matrix(1,0,0,-1,58.115,4.96)\"/>\n",
       "<path d=\"M -1.195204 1.594014 C -1.097548 0.996358 0.00010875 0.09792 0.296984 0.00026375 C 0.00010875 -0.101299 -1.097548 -0.99583 -1.195204 -1.593486 \" style=\"fill:none;stroke-width:0.31879;stroke-linecap:round;stroke-linejoin:round;stroke:rgb(0%,0%,0%);stroke-opacity:1;stroke-miterlimit:10;\" transform=\"matrix(1,0,0,-1,52.91786,89.00417)\"/>\n",
       "<path d=\"M 61.660156 117.351562 C 61.660156 115.394531 60.070312 113.808594 58.113281 113.808594 C 56.15625 113.808594 54.570312 115.394531 54.570312 117.351562 C 54.570312 119.308594 56.15625 120.894531 58.113281 120.894531 C 60.070312 120.894531 61.660156 119.308594 61.660156 117.351562 Z M 61.660156 117.351562 \" style=\" stroke:none;fill-rule:nonzero;fill:rgb(25.999451%,25.999451%,25.999451%);fill-opacity:1;\"/>\n",
       "<g style=\"fill:rgb(0%,0%,0%);fill-opacity:1;\">\n",
       "  <use x=\"27.821\" xlink:href=\"#glyph0-1\" y=\"118.747\"/>\n",
       "</g>\n",
       "<g style=\"fill:rgb(0%,0%,0%);fill-opacity:1;\">\n",
       "  <use x=\"33.515\" xlink:href=\"#glyph1-4\" y=\"120.242\"/>\n",
       "</g>\n",
       "<path d=\"M -5.197031 -112.391562 L -16.611094 -112.391562 \" style=\"fill:none;stroke-width:0.3985;stroke-linecap:butt;stroke-linejoin:miter;stroke:rgb(0%,0%,0%);stroke-opacity:1;stroke-miterlimit:10;\" transform=\"matrix(1,0,0,-1,58.115,4.96)\"/>\n",
       "<path d=\"M -1.195204 1.593188 C -1.097548 0.995531 0.00010875 0.101 0.296984 -0.0005625 C 0.00010875 -0.0982187 -1.097548 -0.996656 -1.195204 -1.594312 \" style=\"fill:none;stroke-width:0.31879;stroke-linecap:round;stroke-linejoin:round;stroke:rgb(0%,0%,0%);stroke-opacity:1;stroke-miterlimit:10;\" transform=\"matrix(1,0,0,-1,52.91786,117.351)\"/>\n",
       "<path d=\"M 61.660156 145.699219 C 61.660156 143.742188 60.070312 142.15625 58.113281 142.15625 C 56.15625 142.15625 54.570312 143.742188 54.570312 145.699219 C 54.570312 147.65625 56.15625 149.242188 58.113281 149.242188 C 60.070312 149.242188 61.660156 147.65625 61.660156 145.699219 Z M 61.660156 145.699219 \" style=\" stroke:none;fill-rule:nonzero;fill:rgb(25.999451%,25.999451%,25.999451%);fill-opacity:1;\"/>\n",
       "<g style=\"fill:rgb(0%,0%,0%);fill-opacity:1;\">\n",
       "  <use x=\"27.821\" xlink:href=\"#glyph0-1\" y=\"147.094\"/>\n",
       "</g>\n",
       "<g style=\"fill:rgb(0%,0%,0%);fill-opacity:1;\">\n",
       "  <use x=\"33.515\" xlink:href=\"#glyph1-5\" y=\"148.588\"/>\n",
       "</g>\n",
       "<path d=\"M -5.197031 -140.739219 L -16.611094 -140.739219 \" style=\"fill:none;stroke-width:0.3985;stroke-linecap:butt;stroke-linejoin:miter;stroke:rgb(0%,0%,0%);stroke-opacity:1;stroke-miterlimit:10;\" transform=\"matrix(1,0,0,-1,58.115,4.96)\"/>\n",
       "<path d=\"M -1.195204 1.592351 C -1.097548 0.994695 0.00010875 0.100164 0.296984 -0.00139875 C 0.00010875 -0.099055 -1.097548 -0.997492 -1.195204 -1.595149 \" style=\"fill:none;stroke-width:0.31879;stroke-linecap:round;stroke-linejoin:round;stroke:rgb(0%,0%,0%);stroke-opacity:1;stroke-miterlimit:10;\" transform=\"matrix(1,0,0,-1,52.91786,145.69782)\"/>\n",
       "<path d=\"M 61.660156 174.042969 C 61.660156 172.085938 60.070312 170.5 58.113281 170.5 C 56.15625 170.5 54.570312 172.085938 54.570312 174.042969 C 54.570312 176 56.15625 177.589844 58.113281 177.589844 C 60.070312 177.589844 61.660156 176 61.660156 174.042969 Z M 61.660156 174.042969 \" style=\" stroke:none;fill-rule:nonzero;fill:rgb(25.999451%,25.999451%,25.999451%);fill-opacity:1;\"/>\n",
       "<g style=\"fill:rgb(0%,0%,0%);fill-opacity:1;\">\n",
       "  <use x=\"27.821\" xlink:href=\"#glyph0-1\" y=\"175.44\"/>\n",
       "</g>\n",
       "<g style=\"fill:rgb(0%,0%,0%);fill-opacity:1;\">\n",
       "  <use x=\"33.515\" xlink:href=\"#glyph1-6\" y=\"176.935\"/>\n",
       "</g>\n",
       "<path d=\"M -5.197031 -169.082969 L -16.611094 -169.082969 \" style=\"fill:none;stroke-width:0.3985;stroke-linecap:butt;stroke-linejoin:miter;stroke:rgb(0%,0%,0%);stroke-opacity:1;stroke-miterlimit:10;\" transform=\"matrix(1,0,0,-1,58.115,4.96)\"/>\n",
       "<path d=\"M -1.195204 1.595421 C -1.097548 0.997765 0.00010875 0.0993275 0.296984 0.00167125 C 0.00010875 -0.0998912 -1.097548 -0.994422 -1.195204 -1.592079 \" style=\"fill:none;stroke-width:0.31879;stroke-linecap:round;stroke-linejoin:round;stroke:rgb(0%,0%,0%);stroke-opacity:1;stroke-miterlimit:10;\" transform=\"matrix(1,0,0,-1,52.91786,174.04464)\"/>\n",
       "<path d=\"M 153.644531 47.480469 C 153.644531 41.6875 148.949219 36.992188 143.15625 36.992188 C 137.363281 36.992188 132.667969 41.6875 132.667969 47.480469 C 132.667969 53.273438 137.363281 57.96875 143.15625 57.96875 C 148.949219 57.96875 153.644531 53.273438 153.644531 47.480469 Z M 153.644531 47.480469 \" style=\" stroke:none;fill-rule:nonzero;fill:rgb(43.998718%,43.998718%,100%);fill-opacity:1;\"/>\n",
       "<path d=\"M -5.669625 -2.8325 L -5.439156 -2.828594 L -5.204781 -2.828594 L -4.513375 -2.816875 L -4.279 -2.809062 L -4.048531 -2.797344 L -3.818062 -2.781719 L -3.587594 -2.762187 L -3.357125 -2.734844 L -3.12275 -2.699687 L -2.892281 -2.648906 L -2.661812 -2.5825 L -2.431344 -2.48875 L -2.196969 -2.367656 L -1.9665 -2.2075 L -1.736031 -2.000469 L -1.505562 -1.73875 L -1.271187 -1.422344 L -1.040719 -1.047344 L -0.81025 -0.625469 L -0.579781 -0.17625 L -0.345406 0.288594 L -0.114937 0.733906 L 0.115531 1.144063 L 0.346 1.503438 L 0.576469 1.808125 L 0.810844 2.054219 L 1.041313 2.249531 L 1.271781 2.397969 L 1.50225 2.515156 L 1.736625 2.601094 L 1.967094 2.663594 L 2.197563 2.710469 L 2.428031 2.745625 L 2.662406 2.769063 L 2.892875 2.788594 L 3.123344 2.800313 L 3.353813 2.808125 L 3.588188 2.815938 L 4.279594 2.827656 L 4.510063 2.827656 L 4.744438 2.831563 L 5.670219 2.831563 \" style=\"fill:none;stroke-width:1.41731;stroke-linecap:butt;stroke-linejoin:miter;stroke:rgb(0%,0%,0%);stroke-opacity:1;stroke-miterlimit:10;\" transform=\"matrix(1,0,0,-1,143.154,47.48)\"/>\n",
       "<path d=\"M 153.644531 75.828125 C 153.644531 70.035156 148.949219 65.339844 143.15625 65.339844 C 137.363281 65.339844 132.667969 70.035156 132.667969 75.828125 C 132.667969 81.621094 137.363281 86.316406 143.15625 86.316406 C 148.949219 86.316406 153.644531 81.621094 153.644531 75.828125 Z M 153.644531 75.828125 \" style=\" stroke:none;fill-rule:nonzero;fill:rgb(43.998718%,43.998718%,100%);fill-opacity:1;\"/>\n",
       "<path d=\"M -5.669625 -2.83025 L -5.439156 -2.83025 L -5.204781 -2.826344 L -4.974312 -2.826344 L -4.743844 -2.822437 L -4.513375 -2.814625 L -4.279 -2.806812 L -4.048531 -2.799 L -3.818062 -2.783375 L -3.587594 -2.763844 L -3.357125 -2.7365 L -3.12275 -2.701344 L -2.892281 -2.650562 L -2.661812 -2.58025 L -2.431344 -2.490406 L -2.196969 -2.365406 L -1.9665 -2.20525 L -1.736031 -1.998219 L -1.505562 -1.740406 L -1.271187 -1.420094 L -1.040719 -1.049 L -0.81025 -0.627125 L -0.579781 -0.174 L -0.345406 0.286938 L -0.114937 0.73225 L 0.115531 1.142406 L 0.346 1.505688 L 0.576469 1.806469 L 0.810844 2.056469 L 1.041313 2.247875 L 1.271781 2.400219 L 1.50225 2.5135 L 1.736625 2.599438 L 1.967094 2.661938 L 2.197563 2.708813 L 2.428031 2.743969 L 2.662406 2.767406 L 2.892875 2.786938 L 3.123344 2.802563 L 3.353813 2.810375 L 3.588188 2.818188 L 4.049125 2.826 L 4.279594 2.826 L 4.510063 2.829906 L 4.974906 2.829906 L 5.205375 2.833813 L 5.670219 2.833813 \" style=\"fill:none;stroke-width:1.41731;stroke-linecap:butt;stroke-linejoin:miter;stroke:rgb(0%,0%,0%);stroke-opacity:1;stroke-miterlimit:10;\" transform=\"matrix(1,0,0,-1,143.154,75.826)\"/>\n",
       "<path d=\"M 153.644531 104.175781 C 153.644531 98.382812 148.949219 93.683594 143.15625 93.683594 C 137.363281 93.683594 132.667969 98.382812 132.667969 104.175781 C 132.667969 109.964844 137.363281 114.664062 143.15625 114.664062 C 148.949219 114.664062 153.644531 109.964844 153.644531 104.175781 Z M 153.644531 104.175781 \" style=\" stroke:none;fill-rule:nonzero;fill:rgb(43.998718%,43.998718%,100%);fill-opacity:1;\"/>\n",
       "<path d=\"M -5.669625 -2.830906 L -5.439156 -2.830906 L -5.204781 -2.827 L -4.513375 -2.815281 L -4.279 -2.807469 L -3.818062 -2.784031 L -3.587594 -2.7645 L -3.357125 -2.737156 L -3.12275 -2.698094 L -2.892281 -2.651219 L -2.661812 -2.580906 L -2.431344 -2.491062 L -2.196969 -2.366062 L -1.9665 -2.205906 L -1.736031 -1.998875 L -1.505562 -1.741062 L -1.271187 -1.42075 L -1.040719 -1.049656 L -0.81025 -0.627781 L -0.579781 -0.174656 L -0.345406 0.286281 L -0.114937 0.7355 L 0.115531 1.145656 L 0.346 1.505031 L 0.576469 1.809719 L 0.810844 2.055813 L 1.041313 2.247219 L 1.271781 2.399563 L 1.50225 2.512844 L 1.736625 2.598781 L 1.967094 2.665188 L 2.197563 2.708156 L 2.428031 2.743313 L 2.662406 2.770656 L 3.123344 2.801906 L 3.353813 2.809719 L 3.588188 2.817531 L 4.279594 2.82925 L 4.744438 2.82925 L 4.974906 2.833156 L 5.670219 2.833156 \" style=\"fill:none;stroke-width:1.41731;stroke-linecap:butt;stroke-linejoin:miter;stroke:rgb(0%,0%,0%);stroke-opacity:1;stroke-miterlimit:10;\" transform=\"matrix(1,0,0,-1,143.154,104.173)\"/>\n",
       "<path d=\"M 153.644531 132.519531 C 153.644531 126.726562 148.949219 122.03125 143.15625 122.03125 C 137.363281 122.03125 132.667969 126.726562 132.667969 132.519531 C 132.667969 138.3125 137.363281 143.007812 143.15625 143.007812 C 148.949219 143.007812 153.644531 138.3125 153.644531 132.519531 Z M 153.644531 132.519531 \" style=\" stroke:none;fill-rule:nonzero;fill:rgb(43.998718%,43.998718%,100%);fill-opacity:1;\"/>\n",
       "<path d=\"M -5.669625 -2.832562 L -5.439156 -2.828656 L -5.204781 -2.828656 L -4.513375 -2.816937 L -4.279 -2.809125 L -4.048531 -2.797406 L -3.818062 -2.781781 L -3.587594 -2.76225 L -3.357125 -2.734906 L -3.12275 -2.69975 L -2.892281 -2.648969 L -2.661812 -2.582562 L -2.431344 -2.488812 L -2.196969 -2.367719 L -1.9665 -2.207562 L -1.736031 -2.000531 L -1.505562 -1.738812 L -1.271187 -1.422406 L -1.040719 -1.047406 L -0.81025 -0.625531 L -0.579781 -0.176312 L -0.345406 0.288531 L -0.114937 0.733844 L 0.115531 1.144 L 0.346 1.503375 L 0.576469 1.808063 L 0.810844 2.054156 L 1.041313 2.249469 L 1.271781 2.397906 L 1.50225 2.515094 L 1.736625 2.601031 L 1.967094 2.663531 L 2.197563 2.710406 L 2.428031 2.745563 L 2.662406 2.769 L 2.892875 2.788531 L 3.123344 2.80025 L 3.353813 2.808063 L 3.588188 2.815875 L 4.279594 2.827594 L 4.510063 2.827594 L 4.744438 2.8315 L 5.205375 2.8315 L 5.435844 2.835406 L 5.670219 2.835406 \" style=\"fill:none;stroke-width:1.41731;stroke-linecap:butt;stroke-linejoin:miter;stroke:rgb(0%,0%,0%);stroke-opacity:1;stroke-miterlimit:10;\" transform=\"matrix(1,0,0,-1,143.154,132.519)\"/>\n",
       "<path d=\"M 153.644531 160.867188 C 153.644531 155.074219 148.949219 150.378906 143.15625 150.378906 C 137.363281 150.378906 132.667969 155.074219 132.667969 160.867188 C 132.667969 166.660156 137.363281 171.355469 143.15625 171.355469 C 148.949219 171.355469 153.644531 166.660156 153.644531 160.867188 Z M 153.644531 160.867188 \" style=\" stroke:none;fill-rule:nonzero;fill:rgb(43.998718%,43.998718%,100%);fill-opacity:1;\"/>\n",
       "<path d=\"M -5.669625 -2.829312 L -5.439156 -2.829312 L -5.204781 -2.825406 L -4.974312 -2.825406 L -4.743844 -2.8215 L -4.513375 -2.813687 L -4.279 -2.805875 L -4.048531 -2.798062 L -3.818062 -2.782437 L -3.587594 -2.762906 L -3.357125 -2.735562 L -3.12275 -2.700406 L -2.892281 -2.649625 L -2.661812 -2.579312 L -2.431344 -2.489469 L -2.196969 -2.368375 L -1.9665 -2.208219 L -1.736031 -2.001187 L -1.505562 -1.739469 L -1.271187 -1.423062 L -1.040719 -1.048062 L -0.81025 -0.626187 L -0.579781 -0.173062 L -0.345406 0.287875 L -0.114937 0.733188 L 0.115531 1.143344 L 0.346 1.506625 L 0.576469 1.807406 L 0.810844 2.0535 L 1.041313 2.248813 L 1.271781 2.401156 L 1.50225 2.514438 L 1.736625 2.600375 L 1.967094 2.662875 L 2.197563 2.70975 L 2.428031 2.744906 L 2.662406 2.768344 L 2.892875 2.787875 L 3.353813 2.811313 L 3.588188 2.815219 L 3.818656 2.823031 L 4.049125 2.826938 L 4.279594 2.826938 L 4.510063 2.830844 L 4.974906 2.830844 L 5.205375 2.83475 L 5.670219 2.83475 \" style=\"fill:none;stroke-width:1.41731;stroke-linecap:butt;stroke-linejoin:miter;stroke:rgb(0%,0%,0%);stroke-opacity:1;stroke-miterlimit:10;\" transform=\"matrix(1,0,0,-1,143.154,160.866)\"/>\n",
       "<path d=\"M 238.683594 75.828125 C 238.683594 70.035156 233.988281 65.339844 228.195312 65.339844 C 222.402344 65.339844 217.707031 70.035156 217.707031 75.828125 C 217.707031 81.621094 222.402344 86.316406 228.195312 86.316406 C 233.988281 86.316406 238.683594 81.621094 238.683594 75.828125 Z M 238.683594 75.828125 \" style=\" stroke:none;fill-rule:nonzero;fill:rgb(61.999512%,61.999512%,100%);fill-opacity:1;\"/>\n",
       "<path d=\"M -5.670562 -2.83025 L -5.436187 -2.83025 L -5.205719 -2.826344 L -4.97525 -2.826344 L -4.744781 -2.822437 L -4.510406 -2.814625 L -4.049469 -2.799 L -3.819 -2.783375 L -3.588531 -2.763844 L -3.354156 -2.7365 L -3.123687 -2.701344 L -2.893219 -2.650562 L -2.66275 -2.58025 L -2.428375 -2.490406 L -2.197906 -2.365406 L -1.967437 -2.20525 L -1.736969 -1.998219 L -1.502594 -1.740406 L -1.272125 -1.420094 L -1.041656 -1.049 L -0.811187 -0.627125 L -0.576812 -0.174 L -0.346344 0.286938 L -0.115875 0.73225 L 0.114594 1.142406 L 0.345063 1.505688 L 0.579438 1.806469 L 0.809906 2.056469 L 1.040375 2.247875 L 1.270844 2.400219 L 1.505219 2.5135 L 1.735688 2.599438 L 1.966156 2.661938 L 2.196625 2.708813 L 2.431 2.743969 L 2.661469 2.767406 L 2.891938 2.786938 L 3.122406 2.802563 L 3.356781 2.810375 L 3.58725 2.818188 L 4.048188 2.826 L 4.278656 2.826 L 4.513031 2.829906 L 4.973969 2.829906 L 5.204438 2.833813 L 5.669281 2.833813 \" style=\"fill:none;stroke-width:1.41731;stroke-linecap:butt;stroke-linejoin:miter;stroke:rgb(0%,0%,0%);stroke-opacity:1;stroke-miterlimit:10;\" transform=\"matrix(1,0,0,-1,228.194,75.826)\"/>\n",
       "<path d=\"M 238.683594 104.175781 C 238.683594 98.382812 233.988281 93.683594 228.195312 93.683594 C 222.402344 93.683594 217.707031 98.382812 217.707031 104.175781 C 217.707031 109.964844 222.402344 114.664062 228.195312 114.664062 C 233.988281 114.664062 238.683594 109.964844 238.683594 104.175781 Z M 238.683594 104.175781 \" style=\" stroke:none;fill-rule:nonzero;fill:rgb(61.999512%,61.999512%,100%);fill-opacity:1;\"/>\n",
       "<path d=\"M -5.670562 -2.830906 L -5.436187 -2.830906 L -4.744781 -2.819187 L -4.510406 -2.815281 L -4.279937 -2.807469 L -3.819 -2.784031 L -3.588531 -2.7645 L -3.354156 -2.737156 L -3.123687 -2.698094 L -2.893219 -2.651219 L -2.66275 -2.580906 L -2.428375 -2.491062 L -2.197906 -2.366062 L -1.967437 -2.205906 L -1.736969 -1.998875 L -1.502594 -1.741062 L -1.272125 -1.42075 L -1.041656 -1.049656 L -0.811187 -0.627781 L -0.576812 -0.174656 L -0.346344 0.286281 L -0.115875 0.7355 L 0.114594 1.145656 L 0.345063 1.505031 L 0.579438 1.809719 L 0.809906 2.055813 L 1.040375 2.247219 L 1.270844 2.399563 L 1.505219 2.512844 L 1.735688 2.598781 L 1.966156 2.665188 L 2.196625 2.708156 L 2.431 2.743313 L 2.661469 2.770656 L 3.122406 2.801906 L 3.356781 2.809719 L 3.58725 2.817531 L 4.278656 2.82925 L 4.7435 2.82925 L 4.973969 2.833156 L 5.669281 2.833156 \" style=\"fill:none;stroke-width:1.41731;stroke-linecap:butt;stroke-linejoin:miter;stroke:rgb(0%,0%,0%);stroke-opacity:1;stroke-miterlimit:10;\" transform=\"matrix(1,0,0,-1,228.194,104.173)\"/>\n",
       "<path d=\"M 238.683594 132.519531 C 238.683594 126.726562 233.988281 122.03125 228.195312 122.03125 C 222.402344 122.03125 217.707031 126.726562 217.707031 132.519531 C 217.707031 138.3125 222.402344 143.007812 228.195312 143.007812 C 233.988281 143.007812 238.683594 138.3125 238.683594 132.519531 Z M 238.683594 132.519531 \" style=\" stroke:none;fill-rule:nonzero;fill:rgb(61.999512%,61.999512%,100%);fill-opacity:1;\"/>\n",
       "<path d=\"M -5.670562 -2.832562 L -5.436187 -2.828656 L -5.205719 -2.828656 L -4.744781 -2.820844 L -4.510406 -2.816937 L -4.279937 -2.809125 L -4.049469 -2.797406 L -3.819 -2.781781 L -3.588531 -2.76225 L -3.354156 -2.734906 L -3.123687 -2.69975 L -2.893219 -2.648969 L -2.66275 -2.582562 L -2.428375 -2.488812 L -2.197906 -2.367719 L -1.967437 -2.207562 L -1.736969 -2.000531 L -1.502594 -1.738812 L -1.272125 -1.422406 L -1.041656 -1.047406 L -0.811187 -0.625531 L -0.576812 -0.176312 L -0.346344 0.288531 L -0.115875 0.733844 L 0.114594 1.144 L 0.345063 1.503375 L 0.579438 1.808063 L 0.809906 2.054156 L 1.040375 2.249469 L 1.270844 2.397906 L 1.505219 2.515094 L 1.735688 2.601031 L 1.966156 2.663531 L 2.196625 2.710406 L 2.431 2.745563 L 2.661469 2.769 L 2.891938 2.788531 L 3.122406 2.80025 L 3.356781 2.808063 L 3.58725 2.815875 L 4.278656 2.827594 L 4.513031 2.827594 L 4.7435 2.8315 L 5.204438 2.8315 L 5.438813 2.835406 L 5.669281 2.835406 \" style=\"fill:none;stroke-width:1.41731;stroke-linecap:butt;stroke-linejoin:miter;stroke:rgb(0%,0%,0%);stroke-opacity:1;stroke-miterlimit:10;\" transform=\"matrix(1,0,0,-1,228.194,132.519)\"/>\n",
       "<path d=\"M 323.726562 90 C 323.726562 84.207031 319.027344 79.511719 313.238281 79.511719 C 307.445312 79.511719 302.746094 84.207031 302.746094 90 C 302.746094 95.792969 307.445312 100.488281 313.238281 100.488281 C 319.027344 100.488281 323.726562 95.792969 323.726562 90 Z M 323.726562 90 \" style=\" stroke:none;fill-rule:nonzero;fill:rgb(79.998779%,79.998779%,100%);fill-opacity:1;\"/>\n",
       "<path d=\"M -5.6705 -2.832031 L -5.436125 -2.828125 L -5.205656 -2.828125 L -4.744719 -2.820312 L -4.510344 -2.816406 L -4.279875 -2.808594 L -3.818938 -2.785156 L -3.588469 -2.765625 L -3.354094 -2.738281 L -3.123625 -2.699219 L -2.893156 -2.648437 L -2.662688 -2.582031 L -2.428313 -2.488281 L -2.197844 -2.367187 L -1.967375 -2.207031 L -1.736906 -2 L -1.502531 -1.738281 L -1.272063 -1.421875 L -1.041594 -1.046875 L -0.811125 -0.628906 L -0.57675 -0.175781 L -0.346281 0.285156 L -0.115813 0.734375 L 0.114656 1.144531 L 0.345125 1.503906 L 0.5795 1.808594 L 0.809969 2.054688 L 1.040437 2.25 L 1.270906 2.398438 L 1.505281 2.515625 L 1.73575 2.601563 L 1.966219 2.664063 L 2.196687 2.710938 L 2.431062 2.742188 L 2.661531 2.769531 L 3.122469 2.800781 L 3.356844 2.808594 L 3.587312 2.816406 L 4.278719 2.828125 L 4.513094 2.828125 L 4.743562 2.832031 L 5.669344 2.832031 \" style=\"fill:none;stroke-width:1.41731;stroke-linecap:butt;stroke-linejoin:miter;stroke:rgb(0%,0%,0%);stroke-opacity:1;stroke-miterlimit:10;\" transform=\"matrix(1,0,0,-1,313.233,90)\"/>\n",
       "<path d=\"M 323.726562 118.347656 C 323.726562 112.554688 319.027344 107.859375 313.238281 107.859375 C 307.445312 107.859375 302.746094 112.554688 302.746094 118.347656 C 302.746094 124.140625 307.445312 128.835938 313.238281 128.835938 C 319.027344 128.835938 323.726562 124.140625 323.726562 118.347656 Z M 323.726562 118.347656 \" style=\" stroke:none;fill-rule:nonzero;fill:rgb(79.998779%,79.998779%,100%);fill-opacity:1;\"/>\n",
       "<path d=\"M -5.6705 -2.829781 L -5.436125 -2.829781 L -5.205656 -2.825875 L -4.975188 -2.825875 L -4.744719 -2.821969 L -4.510344 -2.814156 L -4.049406 -2.798531 L -3.818938 -2.782906 L -3.588469 -2.763375 L -3.354094 -2.736031 L -3.123625 -2.700875 L -2.893156 -2.650094 L -2.662688 -2.579781 L -2.428313 -2.489937 L -2.197844 -2.368844 L -1.967375 -2.204781 L -1.736906 -1.99775 L -1.502531 -1.739937 L -1.272063 -1.423531 L -1.041594 -1.048531 L -0.811125 -0.626656 L -0.57675 -0.173531 L -0.346281 0.287406 L -0.115813 0.732719 L 0.114656 1.142875 L 0.345125 1.506156 L 0.5795 1.806938 L 0.809969 2.053031 L 1.040437 2.248344 L 1.270906 2.400688 L 1.505281 2.513969 L 1.73575 2.599906 L 1.966219 2.662406 L 2.196687 2.709281 L 2.431062 2.744438 L 2.661531 2.767875 L 2.892 2.787406 L 3.122469 2.799125 L 3.356844 2.810844 L 3.587312 2.81475 L 3.817781 2.822563 L 4.04825 2.826469 L 4.278719 2.826469 L 4.513094 2.830375 L 4.974031 2.830375 L 5.2045 2.834281 L 5.669344 2.834281 \" style=\"fill:none;stroke-width:1.41731;stroke-linecap:butt;stroke-linejoin:miter;stroke:rgb(0%,0%,0%);stroke-opacity:1;stroke-miterlimit:10;\" transform=\"matrix(1,0,0,-1,313.233,118.346)\"/>\n",
       "<path d=\"M 408.765625 61.652344 C 408.765625 55.859375 404.070312 51.164062 398.277344 51.164062 C 392.484375 51.164062 387.789062 55.859375 387.789062 61.652344 C 387.789062 67.445312 392.484375 72.140625 398.277344 72.140625 C 404.070312 72.140625 408.765625 67.445312 408.765625 61.652344 Z M 408.765625 61.652344 \" style=\" stroke:none;fill-rule:nonzero;fill:rgb(100%,50%,50%);fill-opacity:1;\"/>\n",
       "<path d=\"M -2.127469 -4.25325 L 2.126437 4.250656 \" style=\"fill:none;stroke-width:1.41731;stroke-linecap:butt;stroke-linejoin:miter;stroke:rgb(0%,0%,0%);stroke-opacity:1;stroke-miterlimit:10;\" transform=\"matrix(1,0,0,-1,398.272,61.653)\"/>\n",
       "<g style=\"fill:rgb(0%,0%,0%);fill-opacity:1;\">\n",
       "  <use x=\"425.348\" xlink:href=\"#glyph0-2\" y=\"62.829\"/>\n",
       "</g>\n",
       "<g style=\"fill:rgb(0%,0%,0%);fill-opacity:1;\">\n",
       "  <use x=\"430.233\" xlink:href=\"#glyph1-1\" y=\"64.324\"/>\n",
       "</g>\n",
       "<path d=\"M 351.845937 -56.692344 L 363.26 -56.692344 \" style=\"fill:none;stroke-width:0.3985;stroke-linecap:butt;stroke-linejoin:miter;stroke:rgb(0%,0%,0%);stroke-opacity:1;stroke-miterlimit:10;\" transform=\"matrix(1,0,0,-1,58.115,4.96)\"/>\n",
       "<path d=\"M -1.195053 1.595026 C -1.097396 0.99737 0.00026 0.0989325 0.297135 0.00127625 C 0.00026 -0.100286 -1.097396 -0.994817 -1.195053 -1.592474 \" style=\"fill:none;stroke-width:0.31879;stroke-linecap:round;stroke-linejoin:round;stroke:rgb(0%,0%,0%);stroke-opacity:1;stroke-miterlimit:10;\" transform=\"matrix(1,0,0,-1,421.37474,61.65362)\"/>\n",
       "<path d=\"M 408.765625 90 C 408.765625 84.207031 404.070312 79.511719 398.277344 79.511719 C 392.484375 79.511719 387.789062 84.207031 387.789062 90 C 387.789062 95.792969 392.484375 100.488281 398.277344 100.488281 C 404.070312 100.488281 408.765625 95.792969 408.765625 90 Z M 408.765625 90 \" style=\" stroke:none;fill-rule:nonzero;fill:rgb(100%,50%,50%);fill-opacity:1;\"/>\n",
       "<path d=\"M -2.127469 -4.25 L 2.126437 4.25 \" style=\"fill:none;stroke-width:1.41731;stroke-linecap:butt;stroke-linejoin:miter;stroke:rgb(0%,0%,0%);stroke-opacity:1;stroke-miterlimit:10;\" transform=\"matrix(1,0,0,-1,398.272,90)\"/>\n",
       "<g style=\"fill:rgb(0%,0%,0%);fill-opacity:1;\">\n",
       "  <use x=\"425.348\" xlink:href=\"#glyph0-2\" y=\"91.176\"/>\n",
       "</g>\n",
       "<g style=\"fill:rgb(0%,0%,0%);fill-opacity:1;\">\n",
       "  <use x=\"430.233\" xlink:href=\"#glyph1-2\" y=\"92.67\"/>\n",
       "</g>\n",
       "<path d=\"M 351.845937 -85.04 L 363.26 -85.04 \" style=\"fill:none;stroke-width:0.3985;stroke-linecap:butt;stroke-linejoin:miter;stroke:rgb(0%,0%,0%);stroke-opacity:1;stroke-miterlimit:10;\" transform=\"matrix(1,0,0,-1,58.115,4.96)\"/>\n",
       "<path d=\"M -1.195053 1.59419 C -1.097396 0.996534 0.00026 0.0980963 0.297135 0.00044 C 0.00026 -0.101122 -1.097396 -0.995654 -1.195053 -1.59331 \" style=\"fill:none;stroke-width:0.31879;stroke-linecap:round;stroke-linejoin:round;stroke:rgb(0%,0%,0%);stroke-opacity:1;stroke-miterlimit:10;\" transform=\"matrix(1,0,0,-1,421.37474,90.00044)\"/>\n",
       "<path d=\"M 408.765625 118.347656 C 408.765625 112.554688 404.070312 107.859375 398.277344 107.859375 C 392.484375 107.859375 387.789062 112.554688 387.789062 118.347656 C 387.789062 124.140625 392.484375 128.835938 398.277344 128.835938 C 404.070312 128.835938 408.765625 124.140625 408.765625 118.347656 Z M 408.765625 118.347656 \" style=\" stroke:none;fill-rule:nonzero;fill:rgb(100%,50%,50%);fill-opacity:1;\"/>\n",
       "<path d=\"M -2.127469 -4.251656 L 2.126437 4.25225 \" style=\"fill:none;stroke-width:1.41731;stroke-linecap:butt;stroke-linejoin:miter;stroke:rgb(0%,0%,0%);stroke-opacity:1;stroke-miterlimit:10;\" transform=\"matrix(1,0,0,-1,398.272,118.346)\"/>\n",
       "<g style=\"fill:rgb(0%,0%,0%);fill-opacity:1;\">\n",
       "  <use x=\"425.348\" xlink:href=\"#glyph0-2\" y=\"119.522\"/>\n",
       "</g>\n",
       "<g style=\"fill:rgb(0%,0%,0%);fill-opacity:1;\">\n",
       "  <use x=\"430.233\" xlink:href=\"#glyph1-3\" y=\"121.017\"/>\n",
       "</g>\n",
       "<path d=\"M 351.845937 -113.387656 L 363.26 -113.387656 \" style=\"fill:none;stroke-width:0.3985;stroke-linecap:butt;stroke-linejoin:miter;stroke:rgb(0%,0%,0%);stroke-opacity:1;stroke-miterlimit:10;\" transform=\"matrix(1,0,0,-1,58.115,4.96)\"/>\n",
       "<path d=\"M -1.195053 1.593364 C -1.097396 0.995708 0.00026 0.101176 0.297135 -0.00038625 C 0.00026 -0.0980425 -1.097396 -0.99648 -1.195053 -1.594136 \" style=\"fill:none;stroke-width:0.31879;stroke-linecap:round;stroke-linejoin:round;stroke:rgb(0%,0%,0%);stroke-opacity:1;stroke-miterlimit:10;\" transform=\"matrix(1,0,0,-1,421.37474,118.34727)\"/>\n",
       "<path d=\"M 408.765625 146.695312 C 408.765625 140.902344 404.070312 136.207031 398.277344 136.207031 C 392.484375 136.207031 387.789062 140.902344 387.789062 146.695312 C 387.789062 152.488281 392.484375 157.183594 398.277344 157.183594 C 404.070312 157.183594 408.765625 152.488281 408.765625 146.695312 Z M 408.765625 146.695312 \" style=\" stroke:none;fill-rule:nonzero;fill:rgb(100%,50%,50%);fill-opacity:1;\"/>\n",
       "<path d=\"M -2.127469 -4.253312 L 2.126437 4.250594 \" style=\"fill:none;stroke-width:1.41731;stroke-linecap:butt;stroke-linejoin:miter;stroke:rgb(0%,0%,0%);stroke-opacity:1;stroke-miterlimit:10;\" transform=\"matrix(1,0,0,-1,398.272,146.692)\"/>\n",
       "<g style=\"fill:rgb(0%,0%,0%);fill-opacity:1;\">\n",
       "  <use x=\"425.348\" xlink:href=\"#glyph0-2\" y=\"147.869\"/>\n",
       "</g>\n",
       "<g style=\"fill:rgb(0%,0%,0%);fill-opacity:1;\">\n",
       "  <use x=\"430.233\" xlink:href=\"#glyph1-4\" y=\"149.363\"/>\n",
       "</g>\n",
       "<path d=\"M 351.845937 -141.735312 L 363.26 -141.735312 \" style=\"fill:none;stroke-width:0.3985;stroke-linecap:butt;stroke-linejoin:miter;stroke:rgb(0%,0%,0%);stroke-opacity:1;stroke-miterlimit:10;\" transform=\"matrix(1,0,0,-1,58.115,4.96)\"/>\n",
       "<path d=\"M -1.195053 1.592527 C -1.097396 0.994871 0.00026 0.10034 0.297135 -0.0012225 C 0.00026 -0.0988788 -1.097396 -0.997316 -1.195053 -1.594973 \" style=\"fill:none;stroke-width:0.31879;stroke-linecap:round;stroke-linejoin:round;stroke:rgb(0%,0%,0%);stroke-opacity:1;stroke-miterlimit:10;\" transform=\"matrix(1,0,0,-1,421.37474,146.69409)\"/>\n",
       "<path d=\"M 115.519531 179.574219 C 115.519531 177.617188 113.933594 176.03125 111.976562 176.03125 C 110.019531 176.03125 108.429688 177.617188 108.429688 179.574219 C 108.429688 181.53125 110.019531 183.117188 111.976562 183.117188 C 113.933594 183.117188 115.519531 181.53125 115.519531 179.574219 Z M 115.519531 179.574219 \" style=\" stroke:none;fill-rule:nonzero;fill:rgb(25.999451%,25.999451%,25.999451%);fill-opacity:1;\"/>\n",
       "<g style=\"fill:rgb(0%,0%,0%);fill-opacity:1;\">\n",
       "  <use x=\"65.574\" xlink:href=\"#glyph2-1\" y=\"181.964\"/>\n",
       "</g>\n",
       "<g style=\"fill:rgb(0%,0%,0%);fill-opacity:1;\">\n",
       "  <use x=\"70.798\" xlink:href=\"#glyph3-1\" y=\"182.961\"/>\n",
       "</g>\n",
       "<g style=\"fill:rgb(0%,0%,0%);fill-opacity:1;\">\n",
       "  <use x=\"77.509\" xlink:href=\"#glyph4-1\" y=\"181.964\"/>\n",
       "</g>\n",
       "<g style=\"fill:rgb(0%,0%,0%);fill-opacity:1;\">\n",
       "  <use x=\"87.232164\" xlink:href=\"#glyph4-2\" y=\"181.964\"/>\n",
       "</g>\n",
       "<path d=\"M 48.662344 -174.614219 L 37.248281 -174.614219 \" style=\"fill:none;stroke-width:0.3985;stroke-linecap:butt;stroke-linejoin:miter;stroke:rgb(0%,0%,0%);stroke-opacity:1;stroke-miterlimit:10;\" transform=\"matrix(1,0,0,-1,58.115,4.96)\"/>\n",
       "<path d=\"M -1.195749 1.594871 C -1.094186 0.997215 -0.00043625 0.0987775 0.300345 0.00112125 C -0.00043625 -0.100441 -1.094186 -0.994972 -1.195749 -1.592629 \" style=\"fill:none;stroke-width:0.31879;stroke-linecap:round;stroke-linejoin:round;stroke:rgb(0%,0%,0%);stroke-opacity:1;stroke-miterlimit:10;\" transform=\"matrix(1,0,0,-1,106.77778,179.57534)\"/>\n",
       "<path d=\"M 203.09375 161.164062 C 203.09375 159.207031 201.507812 157.621094 199.550781 157.621094 C 197.59375 157.621094 196.007812 159.207031 196.007812 161.164062 C 196.007812 163.121094 197.59375 164.707031 199.550781 164.707031 C 201.507812 164.707031 203.09375 163.121094 203.09375 161.164062 Z M 203.09375 161.164062 \" style=\" stroke:none;fill-rule:nonzero;fill:rgb(25.999451%,25.999451%,25.999451%);fill-opacity:1;\"/>\n",
       "<g style=\"fill:rgb(0%,0%,0%);fill-opacity:1;\">\n",
       "  <use x=\"158.015\" xlink:href=\"#glyph2-1\" y=\"182.207\"/>\n",
       "</g>\n",
       "<g style=\"fill:rgb(0%,0%,0%);fill-opacity:1;\">\n",
       "  <use x=\"163.239\" xlink:href=\"#glyph3-1\" y=\"183.203\"/>\n",
       "</g>\n",
       "<g style=\"fill:rgb(0%,0%,0%);fill-opacity:1;\">\n",
       "  <use x=\"169.949\" xlink:href=\"#glyph4-1\" y=\"182.207\"/>\n",
       "</g>\n",
       "<g style=\"fill:rgb(0%,0%,0%);fill-opacity:1;\">\n",
       "  <use x=\"179.681131\" xlink:href=\"#glyph4-2\" y=\"182.207\"/>\n",
       "</g>\n",
       "<path d=\"M 137.080312 -159.067344 L 123.552969 -167.950156 \" style=\"fill:none;stroke-width:0.3985;stroke-linecap:butt;stroke-linejoin:miter;stroke:rgb(0%,0%,0%);stroke-opacity:1;stroke-miterlimit:10;\" transform=\"matrix(1,0,0,-1,58.115,4.96)\"/>\n",
       "<path d=\"M -1.196132 1.59568 C -1.096937 0.994755 0.00014754 0.0972118 0.298931 -0.00117443 C 0.00150415 -0.099355 -1.09508 -0.995836 -1.195706 -1.59598 \" style=\"fill:none;stroke-width:0.31879;stroke-linecap:round;stroke-linejoin:round;stroke:rgb(0%,0%,0%);stroke-opacity:1;stroke-miterlimit:10;\" transform=\"matrix(0.83844,-0.55064,-0.55064,-0.83844,195.19403,164.0269)\"/>\n",
       "<path d=\"M 284.527344 150.601562 C 284.527344 148.644531 282.941406 147.054688 280.984375 147.054688 C 279.027344 147.054688 277.441406 148.644531 277.441406 150.601562 C 277.441406 152.558594 279.027344 154.144531 280.984375 154.144531 C 282.941406 154.144531 284.527344 152.558594 284.527344 150.601562 Z M 284.527344 150.601562 \" style=\" stroke:none;fill-rule:nonzero;fill:rgb(25.999451%,25.999451%,25.999451%);fill-opacity:1;\"/>\n",
       "<g style=\"fill:rgb(0%,0%,0%);fill-opacity:1;\">\n",
       "  <use x=\"239.446\" xlink:href=\"#glyph2-1\" y=\"171.642\"/>\n",
       "</g>\n",
       "<g style=\"fill:rgb(0%,0%,0%);fill-opacity:1;\">\n",
       "  <use x=\"244.67\" xlink:href=\"#glyph3-1\" y=\"172.638\"/>\n",
       "</g>\n",
       "<g style=\"fill:rgb(0%,0%,0%);fill-opacity:1;\">\n",
       "  <use x=\"251.381\" xlink:href=\"#glyph4-1\" y=\"171.642\"/>\n",
       "</g>\n",
       "<g style=\"fill:rgb(0%,0%,0%);fill-opacity:1;\">\n",
       "  <use x=\"261.104164\" xlink:href=\"#glyph4-2\" y=\"171.642\"/>\n",
       "</g>\n",
       "<path d=\"M 218.51 -148.500937 L 204.982656 -157.38375 \" style=\"fill:none;stroke-width:0.3985;stroke-linecap:butt;stroke-linejoin:miter;stroke:rgb(0%,0%,0%);stroke-opacity:1;stroke-miterlimit:10;\" transform=\"matrix(1,0,0,-1,58.115,4.96)\"/>\n",
       "<path d=\"M -1.196592 1.592666 C -1.095259 0.994996 -0.00142974 0.0995909 0.297354 0.00120471 C -0.00221084 -0.100231 -1.093402 -0.995595 -1.197284 -1.593601 \" style=\"fill:none;stroke-width:0.31879;stroke-linecap:round;stroke-linejoin:round;stroke:rgb(0%,0%,0%);stroke-opacity:1;stroke-miterlimit:10;\" transform=\"matrix(0.83844,-0.55064,-0.55064,-0.83844,276.62635,153.46162)\"/>\n",
       "<path d=\"M 359.042969 146.695312 C 359.042969 144.738281 357.457031 143.152344 355.5 143.152344 C 353.542969 143.152344 351.957031 144.738281 351.957031 146.695312 C 351.957031 148.652344 353.542969 150.238281 355.5 150.238281 C 357.457031 150.238281 359.042969 148.652344 359.042969 146.695312 Z M 359.042969 146.695312 \" style=\" stroke:none;fill-rule:nonzero;fill:rgb(25.999451%,25.999451%,25.999451%);fill-opacity:1;\"/>\n",
       "<g style=\"fill:rgb(0%,0%,0%);fill-opacity:1;\">\n",
       "  <use x=\"313.961\" xlink:href=\"#glyph2-1\" y=\"167.736\"/>\n",
       "</g>\n",
       "<g style=\"fill:rgb(0%,0%,0%);fill-opacity:1;\">\n",
       "  <use x=\"319.185\" xlink:href=\"#glyph3-1\" y=\"168.732\"/>\n",
       "</g>\n",
       "<g style=\"fill:rgb(0%,0%,0%);fill-opacity:1;\">\n",
       "  <use x=\"325.896\" xlink:href=\"#glyph4-1\" y=\"167.736\"/>\n",
       "</g>\n",
       "<g style=\"fill:rgb(0%,0%,0%);fill-opacity:1;\">\n",
       "  <use x=\"335.619164\" xlink:href=\"#glyph4-2\" y=\"167.736\"/>\n",
       "</g>\n",
       "<path d=\"M 293.025625 -144.594687 L 279.498281 -153.481406 \" style=\"fill:none;stroke-width:0.3985;stroke-linecap:butt;stroke-linejoin:miter;stroke:rgb(0%,0%,0%);stroke-opacity:1;stroke-miterlimit:10;\" transform=\"matrix(1,0,0,-1,58.115,4.96)\"/>\n",
       "<path d=\"M -1.196562 1.593302 C -1.095229 0.995632 -0.00139957 0.100227 0.300639 -0.000296839 C -0.00218067 -0.0995948 -1.095509 -0.998214 -1.193999 -1.595103 \" style=\"fill:none;stroke-width:0.31879;stroke-linecap:round;stroke-linejoin:round;stroke:rgb(0%,0%,0%);stroke-opacity:1;stroke-miterlimit:10;\" transform=\"matrix(0.83844,-0.55064,-0.55064,-0.83844,351.1423,149.55592)\"/>\n",
       "<path d=\"M 54.720937 -170.969687 L 82.474844 -53.38375 \" style=\"fill:none;stroke-width:0.3985;stroke-linecap:butt;stroke-linejoin:miter;stroke:rgb(0%,0%,0%);stroke-opacity:1;stroke-miterlimit:10;\" transform=\"matrix(1,0,0,-1,58.115,4.96)\"/>\n",
       "<path d=\"M -1.195622 1.595455 C -1.094677 0.998002 -0.000397398 0.0979168 0.299216 0.00029295 C -0.00204395 -0.0988766 -1.097276 -0.994717 -1.196025 -1.595216 \" style=\"fill:none;stroke-width:0.31879;stroke-linecap:round;stroke-linejoin:round;stroke:rgb(0%,0%,0%);stroke-opacity:1;stroke-miterlimit:10;\" transform=\"matrix(0.23004,-0.97455,-0.97455,-0.23004,140.59161,58.34245)\"/>\n",
       "<path d=\"M 54.935781 -171.032187 L 81.830312 -81.543906 \" style=\"fill:none;stroke-width:0.3985;stroke-linecap:butt;stroke-linejoin:miter;stroke:rgb(0%,0%,0%);stroke-opacity:1;stroke-miterlimit:10;\" transform=\"matrix(1,0,0,-1,58.115,4.96)\"/>\n",
       "<path d=\"M -1.194553 1.596266 C -1.096239 0.99776 0.00143753 0.100104 0.300016 0.00224011 C 0.00041568 -0.100039 -1.096361 -0.996551 -1.194449 -1.592911 \" style=\"fill:none;stroke-width:0.31879;stroke-linecap:round;stroke-linejoin:round;stroke:rgb(0%,0%,0%);stroke-opacity:1;stroke-miterlimit:10;\" transform=\"matrix(0.28787,-0.95782,-0.95782,-0.28787,139.94703,86.50285)\"/>\n",
       "<path d=\"M 55.29125 -171.153281 L 80.775625 -109.528281 \" style=\"fill:none;stroke-width:0.3985;stroke-linecap:butt;stroke-linejoin:miter;stroke:rgb(0%,0%,0%);stroke-opacity:1;stroke-miterlimit:10;\" transform=\"matrix(1,0,0,-1,58.115,4.96)\"/>\n",
       "<path d=\"M -1.197469 1.594755 C -1.097047 0.994562 -0.00134635 0.100881 0.297595 0.000738844 C 0.00171269 -0.100502 -1.096411 -0.997879 -1.196748 -1.59243 \" style=\"fill:none;stroke-width:0.31879;stroke-linecap:round;stroke-linejoin:round;stroke:rgb(0%,0%,0%);stroke-opacity:1;stroke-miterlimit:10;\" transform=\"matrix(0.3826,-0.92525,-0.92525,-0.3826,138.89073,114.48657)\"/>\n",
       "<path d=\"M 55.927969 -171.493125 L 78.877187 -136.864219 \" style=\"fill:none;stroke-width:0.3985;stroke-linecap:butt;stroke-linejoin:miter;stroke:rgb(0%,0%,0%);stroke-opacity:1;stroke-miterlimit:10;\" transform=\"matrix(1,0,0,-1,58.115,4.96)\"/>\n",
       "<path d=\"M -1.194071 1.594933 C -1.096193 0.995176 -0.000368786 0.09722 0.298019 0.0000799095 C -0.00091871 -0.0997206 -1.095266 -0.998054 -1.196483 -1.594008 \" style=\"fill:none;stroke-width:0.31879;stroke-linecap:round;stroke-linejoin:round;stroke:rgb(0%,0%,0%);stroke-opacity:1;stroke-miterlimit:10;\" transform=\"matrix(0.55304,-0.8346,-0.8346,-0.55304,136.9915,141.82299)\"/>\n",
       "<path d=\"M 57.084219 -172.680625 L 75.482656 -161.641562 \" style=\"fill:none;stroke-width:0.3985;stroke-linecap:butt;stroke-linejoin:miter;stroke:rgb(0%,0%,0%);stroke-opacity:1;stroke-miterlimit:10;\" transform=\"matrix(1,0,0,-1,58.115,4.96)\"/>\n",
       "<path d=\"M -1.195843 1.594559 C -1.097124 0.99561 -0.000595458 0.101864 0.300215 -0.00151487 C 0.00140755 -0.0988974 -1.095103 -0.996667 -1.195144 -1.594285 \" style=\"fill:none;stroke-width:0.31879;stroke-linecap:round;stroke-linejoin:round;stroke:rgb(0%,0%,0%);stroke-opacity:1;stroke-miterlimit:10;\" transform=\"matrix(0.86127,-0.51675,-0.51675,-0.86127,133.59612,166.60305)\"/>\n",
       "<path d=\"M 3.689687 -28.00875 L 74.052969 -40.559531 \" style=\"fill:none;stroke-width:0.3985;stroke-linecap:butt;stroke-linejoin:miter;stroke:rgb(0%,0%,0%);stroke-opacity:1;stroke-miterlimit:10;\" transform=\"matrix(1,0,0,-1,58.115,4.96)\"/>\n",
       "<path d=\"M -1.194931 1.594437 C -1.096447 0.99785 -0.00114011 0.0996232 0.29822 -0.0015111 C -0.00145461 -0.0985467 -1.097537 -0.995369 -1.196538 -1.595482 \" style=\"fill:none;stroke-width:0.31879;stroke-linecap:round;stroke-linejoin:round;stroke:rgb(0%,0%,0%);stroke-opacity:1;stroke-miterlimit:10;\" transform=\"matrix(0.98586,0.17584,0.17584,-0.98586,132.1672,45.52029)\"/>\n",
       "<path d=\"M 3.334219 -29.055625 L 75.111562 -65.786094 \" style=\"fill:none;stroke-width:0.3985;stroke-linecap:butt;stroke-linejoin:miter;stroke:rgb(0%,0%,0%);stroke-opacity:1;stroke-miterlimit:10;\" transform=\"matrix(1,0,0,-1,58.115,4.96)\"/>\n",
       "<path d=\"M -1.196411 1.593173 C -1.096555 0.995306 0.00115701 0.10125 0.298891 -0.000715375 C -0.000442834 -0.101274 -1.095424 -0.994862 -1.196314 -1.594604 \" style=\"fill:none;stroke-width:0.31879;stroke-linecap:round;stroke-linejoin:round;stroke:rgb(0%,0%,0%);stroke-opacity:1;stroke-miterlimit:10;\" transform=\"matrix(0.89084,0.45587,0.45587,-0.89084,133.22625,70.74592)\"/>\n",
       "<path d=\"M 2.865469 -29.770469 L 76.506094 -92.000937 \" style=\"fill:none;stroke-width:0.3985;stroke-linecap:butt;stroke-linejoin:miter;stroke:rgb(0%,0%,0%);stroke-opacity:1;stroke-miterlimit:10;\" transform=\"matrix(1,0,0,-1,58.115,4.96)\"/>\n",
       "<path d=\"M -1.193733 1.593795 C -1.097319 0.996768 -0.000505367 0.0973152 0.301006 0.000111222 C -0.000629667 -0.10175 -1.096047 -0.996859 -1.193207 -1.594223 \" style=\"fill:none;stroke-width:0.31879;stroke-linecap:round;stroke-linejoin:round;stroke:rgb(0%,0%,0%);stroke-opacity:1;stroke-miterlimit:10;\" transform=\"matrix(0.7657,0.64708,0.64708,-0.7657,134.62101,96.96156)\"/>\n",
       "<path d=\"M 2.431875 -30.215781 L 77.799062 -119.024375 \" style=\"fill:none;stroke-width:0.3985;stroke-linecap:butt;stroke-linejoin:miter;stroke:rgb(0%,0%,0%);stroke-opacity:1;stroke-miterlimit:10;\" transform=\"matrix(1,0,0,-1,58.115,4.96)\"/>\n",
       "<path d=\"M -1.195838 1.593476 C -1.0946 0.997407 0.0000155659 0.0990873 0.297947 -0.000701489 C -0.000271437 -0.0996293 -1.097021 -0.995241 -1.197016 -1.593988 \" style=\"fill:none;stroke-width:0.31879;stroke-linecap:round;stroke-linejoin:round;stroke:rgb(0%,0%,0%);stroke-opacity:1;stroke-miterlimit:10;\" transform=\"matrix(0.6498,0.7657,0.7657,-0.6498,135.9124,123.98625)\"/>\n",
       "<path d=\"M 2.064687 -30.473594 L 78.885 -146.606406 \" style=\"fill:none;stroke-width:0.3985;stroke-linecap:butt;stroke-linejoin:miter;stroke:rgb(0%,0%,0%);stroke-opacity:1;stroke-miterlimit:10;\" transform=\"matrix(1,0,0,-1,58.115,4.96)\"/>\n",
       "<path d=\"M -1.195653 1.593646 C -1.096048 0.994197 0.00177814 0.0995277 0.300959 -0.0000825293 C 0.000335605 -0.100775 -1.096449 -0.994702 -1.19389 -1.594862 \" style=\"fill:none;stroke-width:0.31879;stroke-linecap:round;stroke-linejoin:round;stroke:rgb(0%,0%,0%);stroke-opacity:1;stroke-miterlimit:10;\" transform=\"matrix(0.55206,0.8346,0.8346,-0.55206,137.00189,151.56518)\"/>\n",
       "<path d=\"M 3.701406 -55.122031 L 74.017812 -44.2275 \" style=\"fill:none;stroke-width:0.3985;stroke-linecap:butt;stroke-linejoin:miter;stroke:rgb(0%,0%,0%);stroke-opacity:1;stroke-miterlimit:10;\" transform=\"matrix(1,0,0,-1,58.115,4.96)\"/>\n",
       "<path d=\"M -1.194513 1.595646 C -1.097822 0.996073 -0.000459386 0.0992443 0.300356 0.00128263 C 0.000513856 -0.0984033 -1.094338 -0.995235 -1.195295 -1.595781 \" style=\"fill:none;stroke-width:0.31879;stroke-linecap:round;stroke-linejoin:round;stroke:rgb(0%,0%,0%);stroke-opacity:1;stroke-miterlimit:10;\" transform=\"matrix(0.98894,-0.15324,-0.15324,-0.98894,132.13285,49.18792)\"/>\n",
       "<path d=\"M 3.689687 -56.356406 L 74.052969 -68.907187 \" style=\"fill:none;stroke-width:0.3985;stroke-linecap:butt;stroke-linejoin:miter;stroke:rgb(0%,0%,0%);stroke-opacity:1;stroke-miterlimit:10;\" transform=\"matrix(1,0,0,-1,58.115,4.96)\"/>\n",
       "<path d=\"M -1.194783 1.593606 C -1.096299 0.997018 -0.00099173 0.0987913 0.297683 0.00149708 C -0.00130623 -0.0993787 -1.097389 -0.996201 -1.197075 -1.592474 \" style=\"fill:none;stroke-width:0.31879;stroke-linecap:round;stroke-linejoin:round;stroke:rgb(0%,0%,0%);stroke-opacity:1;stroke-miterlimit:10;\" transform=\"matrix(0.98586,0.17584,0.17584,-0.98586,132.1672,73.8671)\"/>\n",
       "<path d=\"M 3.334219 -57.403281 L 75.111562 -94.13375 \" style=\"fill:none;stroke-width:0.3985;stroke-linecap:butt;stroke-linejoin:miter;stroke:rgb(0%,0%,0%);stroke-opacity:1;stroke-miterlimit:10;\" transform=\"matrix(1,0,0,-1,58.115,4.96)\"/>\n",
       "<path d=\"M -1.19603 1.592429 C -1.096174 0.994562 0.0015377 0.100506 0.299271 -0.00145929 C -0.00184038 -0.0985435 -1.095043 -0.995606 -1.195933 -1.595348 \" style=\"fill:none;stroke-width:0.31879;stroke-linecap:round;stroke-linejoin:round;stroke:rgb(0%,0%,0%);stroke-opacity:1;stroke-miterlimit:10;\" transform=\"matrix(0.89084,0.45587,0.45587,-0.89084,133.22625,99.09274)\"/>\n",
       "<path d=\"M 2.865469 -58.118125 L 76.506094 -120.348594 \" style=\"fill:none;stroke-width:0.3985;stroke-linecap:butt;stroke-linejoin:miter;stroke:rgb(0%,0%,0%);stroke-opacity:1;stroke-miterlimit:10;\" transform=\"matrix(1,0,0,-1,58.115,4.96)\"/>\n",
       "<path d=\"M -1.195717 1.596142 C -1.096787 0.996139 -0.00248844 0.0996618 0.299023 0.00245782 C -0.00261274 -0.0994034 -1.095515 -0.997489 -1.19519 -1.591877 \" style=\"fill:none;stroke-width:0.31879;stroke-linecap:round;stroke-linejoin:round;stroke:rgb(0%,0%,0%);stroke-opacity:1;stroke-miterlimit:10;\" transform=\"matrix(0.7657,0.64708,0.64708,-0.7657,134.62101,125.30839)\"/>\n",
       "<path d=\"M 2.431875 -58.563437 L 77.799062 -147.372031 \" style=\"fill:none;stroke-width:0.3985;stroke-linecap:butt;stroke-linejoin:miter;stroke:rgb(0%,0%,0%);stroke-opacity:1;stroke-miterlimit:10;\" transform=\"matrix(1,0,0,-1,58.115,4.96)\"/>\n",
       "<path d=\"M -1.195196 1.59293 C -1.093957 0.996862 0.000658055 0.098542 0.298589 -0.00124673 C 0.000371052 -0.100174 -1.096378 -0.995786 -1.196373 -1.594533 \" style=\"fill:none;stroke-width:0.31879;stroke-linecap:round;stroke-linejoin:round;stroke:rgb(0%,0%,0%);stroke-opacity:1;stroke-miterlimit:10;\" transform=\"matrix(0.6498,0.7657,0.7657,-0.6498,135.9124,152.33306)\"/>\n",
       "<path d=\"M 3.373281 -82.395469 L 74.990469 -47.426719 \" style=\"fill:none;stroke-width:0.3985;stroke-linecap:butt;stroke-linejoin:miter;stroke:rgb(0%,0%,0%);stroke-opacity:1;stroke-miterlimit:10;\" transform=\"matrix(1,0,0,-1,58.115,4.96)\"/>\n",
       "<path d=\"M -1.195413 1.593349 C -1.097485 0.995248 -0.000704661 0.100081 0.297992 0.00189773 C 0.00118236 -0.100156 -1.0944 -0.995087 -1.19671 -1.595076 \" style=\"fill:none;stroke-width:0.31879;stroke-linecap:round;stroke-linejoin:round;stroke:rgb(0%,0%,0%);stroke-opacity:1;stroke-miterlimit:10;\" transform=\"matrix(0.90152,-0.44019,-0.44019,-0.90152,133.10719,52.38679)\"/>\n",
       "<path d=\"M 3.701406 -83.469687 L 74.017812 -72.575156 \" style=\"fill:none;stroke-width:0.3985;stroke-linecap:butt;stroke-linejoin:miter;stroke:rgb(0%,0%,0%);stroke-opacity:1;stroke-miterlimit:10;\" transform=\"matrix(1,0,0,-1,58.115,4.96)\"/>\n",
       "<path d=\"M -1.194641 1.594821 C -1.09795 0.995247 -0.000587343 0.0984185 0.300228 0.000456859 C 0.000385899 -0.0992291 -1.094466 -0.99606 -1.194825 -1.59275 \" style=\"fill:none;stroke-width:0.31879;stroke-linecap:round;stroke-linejoin:round;stroke:rgb(0%,0%,0%);stroke-opacity:1;stroke-miterlimit:10;\" transform=\"matrix(0.98894,-0.15324,-0.15324,-0.98894,132.13285,77.53474)\"/>\n",
       "<path d=\"M 3.689687 -84.704062 L 74.052969 -97.254844 \" style=\"fill:none;stroke-width:0.3985;stroke-linecap:butt;stroke-linejoin:miter;stroke:rgb(0%,0%,0%);stroke-opacity:1;stroke-miterlimit:10;\" transform=\"matrix(1,0,0,-1,58.115,4.96)\"/>\n",
       "<path d=\"M -1.194639 1.592803 C -1.096156 0.996216 -0.000848607 0.0979888 0.297827 0.000694655 C -0.00116311 -0.100181 -1.097246 -0.997004 -1.196932 -1.593276 \" style=\"fill:none;stroke-width:0.31879;stroke-linecap:round;stroke-linejoin:round;stroke:rgb(0%,0%,0%);stroke-opacity:1;stroke-miterlimit:10;\" transform=\"matrix(0.98586,0.17584,0.17584,-0.98586,132.1672,102.21394)\"/>\n",
       "<path d=\"M 3.334219 -85.750937 L 75.111562 -122.481406 \" style=\"fill:none;stroke-width:0.3985;stroke-linecap:butt;stroke-linejoin:miter;stroke:rgb(0%,0%,0%);stroke-opacity:1;stroke-miterlimit:10;\" transform=\"matrix(1,0,0,-1,58.115,4.96)\"/>\n",
       "<path d=\"M -1.197433 1.595169 C -1.097577 0.997302 0.00191383 0.099771 0.297869 0.00128063 C -0.00146425 -0.0992785 -1.094667 -0.996341 -1.195557 -1.596083 \" style=\"fill:none;stroke-width:0.31879;stroke-linecap:round;stroke-linejoin:round;stroke:rgb(0%,0%,0%);stroke-opacity:1;stroke-miterlimit:10;\" transform=\"matrix(0.89084,0.45587,0.45587,-0.89084,133.22625,127.43957)\"/>\n",
       "<path d=\"M 2.865469 -86.465781 L 76.506094 -148.69625 \" style=\"fill:none;stroke-width:0.3985;stroke-linecap:butt;stroke-linejoin:miter;stroke:rgb(0%,0%,0%);stroke-opacity:1;stroke-miterlimit:10;\" transform=\"matrix(1,0,0,-1,58.115,4.96)\"/>\n",
       "<path d=\"M -1.195172 1.595497 C -1.096243 0.995494 -0.00194358 0.099017 0.299568 0.00181308 C -0.00206788 -0.100048 -1.097486 -0.995158 -1.194645 -1.592521 \" style=\"fill:none;stroke-width:0.31879;stroke-linecap:round;stroke-linejoin:round;stroke:rgb(0%,0%,0%);stroke-opacity:1;stroke-miterlimit:10;\" transform=\"matrix(0.7657,0.64708,0.64708,-0.7657,134.62101,153.6552)\"/>\n",
       "<path d=\"M 2.892812 -110.012656 L 76.420156 -49.6025 \" style=\"fill:none;stroke-width:0.3985;stroke-linecap:butt;stroke-linejoin:miter;stroke:rgb(0%,0%,0%);stroke-opacity:1;stroke-miterlimit:10;\" transform=\"matrix(1,0,0,-1,58.115,4.96)\"/>\n",
       "<path d=\"M -1.197516 1.594372 C -1.097422 0.996866 -0.000254542 0.100426 0.300794 -0.000434818 C 0.000149136 -0.101969 -1.096612 -0.994129 -1.195898 -1.594517 \" style=\"fill:none;stroke-width:0.31879;stroke-linecap:round;stroke-linejoin:round;stroke:rgb(0%,0%,0%);stroke-opacity:1;stroke-miterlimit:10;\" transform=\"matrix(0.77327,-0.63536,-0.63536,-0.77327,134.53666,54.56187)\"/>\n",
       "<path d=\"M 3.373281 -110.743125 L 74.990469 -75.774375 \" style=\"fill:none;stroke-width:0.3985;stroke-linecap:butt;stroke-linejoin:miter;stroke:rgb(0%,0%,0%);stroke-opacity:1;stroke-miterlimit:10;\" transform=\"matrix(1,0,0,-1,58.115,4.96)\"/>\n",
       "<path d=\"M -1.195774 1.592609 C -1.096138 0.998006 -0.00106602 0.0993411 0.29763 0.00115766 C 0.000821004 -0.100896 -1.094762 -0.995827 -1.195363 -1.592317 \" style=\"fill:none;stroke-width:0.31879;stroke-linecap:round;stroke-linejoin:round;stroke:rgb(0%,0%,0%);stroke-opacity:1;stroke-miterlimit:10;\" transform=\"matrix(0.90152,-0.44019,-0.44019,-0.90152,133.10719,80.73362)\"/>\n",
       "<path d=\"M 3.701406 -111.817344 L 74.017812 -100.922812 \" style=\"fill:none;stroke-width:0.3985;stroke-linecap:butt;stroke-linejoin:miter;stroke:rgb(0%,0%,0%);stroke-opacity:1;stroke-miterlimit:10;\" transform=\"matrix(1,0,0,-1,58.115,4.96)\"/>\n",
       "<path d=\"M -1.194768 1.594005 C -1.097479 0.998289 -0.000116064 0.10146 0.300102 -0.000359041 C 0.000259473 -0.100045 -1.094593 -0.996876 -1.194952 -1.593565 \" style=\"fill:none;stroke-width:0.31879;stroke-linecap:round;stroke-linejoin:round;stroke:rgb(0%,0%,0%);stroke-opacity:1;stroke-miterlimit:10;\" transform=\"matrix(0.98894,-0.15324,-0.15324,-0.98894,132.13285,105.88157)\"/>\n",
       "<path d=\"M 3.689687 -113.047812 L 74.052969 -125.6025 \" style=\"fill:none;stroke-width:0.3985;stroke-linecap:butt;stroke-linejoin:miter;stroke:rgb(0%,0%,0%);stroke-opacity:1;stroke-miterlimit:10;\" transform=\"matrix(1,0,0,-1,58.115,4.96)\"/>\n",
       "<path d=\"M -1.195176 1.595811 C -1.096007 0.995384 -0.00138515 0.100997 0.297975 -0.000137266 C -0.00101472 -0.101013 -1.097097 -0.997835 -1.196783 -1.594108 \" style=\"fill:none;stroke-width:0.31879;stroke-linecap:round;stroke-linejoin:round;stroke:rgb(0%,0%,0%);stroke-opacity:1;stroke-miterlimit:10;\" transform=\"matrix(0.98586,0.17584,0.17584,-0.98586,132.1672,130.56075)\"/>\n",
       "<path d=\"M 3.334219 -114.098594 L 75.111562 -150.825156 \" style=\"fill:none;stroke-width:0.3985;stroke-linecap:butt;stroke-linejoin:miter;stroke:rgb(0%,0%,0%);stroke-opacity:1;stroke-miterlimit:10;\" transform=\"matrix(1,0,0,-1,58.115,4.96)\"/>\n",
       "<path d=\"M -1.197052 1.594425 C -1.097196 0.996558 0.00229451 0.099027 0.29825 0.000536712 C -0.00108357 -0.100022 -1.094286 -0.997085 -1.196954 -1.593352 \" style=\"fill:none;stroke-width:0.31879;stroke-linecap:round;stroke-linejoin:round;stroke:rgb(0%,0%,0%);stroke-opacity:1;stroke-miterlimit:10;\" transform=\"matrix(0.89084,0.45587,0.45587,-0.89084,133.22625,155.78639)\"/>\n",
       "<path d=\"M 2.455312 -137.899375 L 77.724844 -50.969687 \" style=\"fill:none;stroke-width:0.3985;stroke-linecap:butt;stroke-linejoin:miter;stroke:rgb(0%,0%,0%);stroke-opacity:1;stroke-miterlimit:10;\" transform=\"matrix(1,0,0,-1,58.115,4.96)\"/>\n",
       "<path d=\"M -1.194827 1.595774 C -1.097175 0.995097 -0.00186403 0.0990629 0.300274 0.0000352567 C 0.000403774 -0.0999069 -1.093923 -0.995966 -1.194846 -1.593417 \" style=\"fill:none;stroke-width:0.31879;stroke-linecap:round;stroke-linejoin:round;stroke:rgb(0%,0%,0%);stroke-opacity:1;stroke-miterlimit:10;\" transform=\"matrix(0.65651,-0.75818,-0.75818,-0.65651,135.83805,55.93081)\"/>\n",
       "<path d=\"M 2.892812 -138.360312 L 76.420156 -77.950156 \" style=\"fill:none;stroke-width:0.3985;stroke-linecap:butt;stroke-linejoin:miter;stroke:rgb(0%,0%,0%);stroke-opacity:1;stroke-miterlimit:10;\" transform=\"matrix(1,0,0,-1,58.115,4.96)\"/>\n",
       "<path d=\"M -1.19804 1.593734 C -1.097946 0.996228 -0.000778654 0.0997885 0.30027 -0.00107269 C 0.00210286 -0.0995914 -1.097136 -0.994767 -1.196422 -1.595154 \" style=\"fill:none;stroke-width:0.31879;stroke-linecap:round;stroke-linejoin:round;stroke:rgb(0%,0%,0%);stroke-opacity:1;stroke-miterlimit:10;\" transform=\"matrix(0.77327,-0.63536,-0.63536,-0.77327,134.53666,82.9087)\"/>\n",
       "<path d=\"M 3.373281 -139.090781 L 74.990469 -104.122031 \" style=\"fill:none;stroke-width:0.3985;stroke-linecap:butt;stroke-linejoin:miter;stroke:rgb(0%,0%,0%);stroke-opacity:1;stroke-miterlimit:10;\" transform=\"matrix(1,0,0,-1,58.115,4.96)\"/>\n",
       "<path d=\"M -1.194432 1.595359 C -1.096503 0.997257 -0.00143175 0.0985921 0.297264 0.000408639 C 0.000455274 -0.101645 -1.095127 -0.996576 -1.195728 -1.593066 \" style=\"fill:none;stroke-width:0.31879;stroke-linecap:round;stroke-linejoin:round;stroke:rgb(0%,0%,0%);stroke-opacity:1;stroke-miterlimit:10;\" transform=\"matrix(0.90152,-0.44019,-0.44019,-0.90152,133.10719,109.08044)\"/>\n",
       "<path d=\"M 3.701406 -140.165 L 74.017812 -129.266562 \" style=\"fill:none;stroke-width:0.3985;stroke-linecap:butt;stroke-linejoin:miter;stroke:rgb(0%,0%,0%);stroke-opacity:1;stroke-miterlimit:10;\" transform=\"matrix(1,0,0,-1,58.115,4.96)\"/>\n",
       "<path d=\"M -1.194896 1.593179 C -1.097607 0.997463 -0.000244021 0.100634 0.299974 -0.00118482 C 0.000131516 -0.100871 -1.09472 -0.997702 -1.19508 -1.594391 \" style=\"fill:none;stroke-width:0.31879;stroke-linecap:round;stroke-linejoin:round;stroke:rgb(0%,0%,0%);stroke-opacity:1;stroke-miterlimit:10;\" transform=\"matrix(0.98894,-0.15324,-0.15324,-0.98894,132.13285,134.22839)\"/>\n",
       "<path d=\"M 3.689687 -141.395469 L 74.052969 -153.94625 \" style=\"fill:none;stroke-width:0.3985;stroke-linecap:butt;stroke-linejoin:miter;stroke:rgb(0%,0%,0%);stroke-opacity:1;stroke-miterlimit:10;\" transform=\"matrix(1,0,0,-1,58.115,4.96)\"/>\n",
       "<path d=\"M -1.195033 1.595009 C -1.095864 0.994582 -0.00124203 0.100195 0.298118 -0.000939696 C -0.00155653 -0.0979753 -1.097639 -0.994798 -1.19664 -1.59491 \" style=\"fill:none;stroke-width:0.31879;stroke-linecap:round;stroke-linejoin:round;stroke:rgb(0%,0%,0%);stroke-opacity:1;stroke-miterlimit:10;\" transform=\"matrix(0.98586,0.17584,0.17584,-0.98586,132.1672,158.90759)\"/>\n",
       "<path d=\"M 2.088125 -165.973594 L 78.818594 -51.778281 \" style=\"fill:none;stroke-width:0.3985;stroke-linecap:butt;stroke-linejoin:miter;stroke:rgb(0%,0%,0%);stroke-opacity:1;stroke-miterlimit:10;\" transform=\"matrix(1,0,0,-1,58.115,4.96)\"/>\n",
       "<path d=\"M -1.196322 1.594269 C -1.094559 0.994959 0.000889615 0.0994199 0.29893 -0.00124796 C -0.00163414 -0.0997607 -1.09707 -0.995682 -1.194487 -1.592468 \" style=\"fill:none;stroke-width:0.31879;stroke-linecap:round;stroke-linejoin:round;stroke:rgb(0%,0%,0%);stroke-opacity:1;stroke-miterlimit:10;\" transform=\"matrix(0.55821,-0.83076,-0.83076,-0.55821,136.93366,56.73983)\"/>\n",
       "<path d=\"M 2.455312 -166.247031 L 77.724844 -79.317344 \" style=\"fill:none;stroke-width:0.3985;stroke-linecap:butt;stroke-linejoin:miter;stroke:rgb(0%,0%,0%);stroke-opacity:1;stroke-miterlimit:10;\" transform=\"matrix(1,0,0,-1,58.115,4.96)\"/>\n",
       "<path d=\"M -1.19545 1.595235 C -1.094853 0.997107 0.000457599 0.101073 0.299651 -0.000504034 C -0.000219034 -0.100446 -1.094546 -0.996505 -1.195469 -1.593956 \" style=\"fill:none;stroke-width:0.31879;stroke-linecap:round;stroke-linejoin:round;stroke:rgb(0%,0%,0%);stroke-opacity:1;stroke-miterlimit:10;\" transform=\"matrix(0.65651,-0.75818,-0.75818,-0.65651,135.83805,84.27764)\"/>\n",
       "<path d=\"M 2.892812 -166.707969 L 76.420156 -106.293906 \" style=\"fill:none;stroke-width:0.3985;stroke-linecap:butt;stroke-linejoin:miter;stroke:rgb(0%,0%,0%);stroke-opacity:1;stroke-miterlimit:10;\" transform=\"matrix(1,0,0,-1,58.115,4.96)\"/>\n",
       "<path d=\"M -1.196093 1.596104 C -1.095999 0.998599 -0.00130911 0.0991429 0.299739 -0.00171829 C 0.00157241 -0.100237 -1.097667 -0.995413 -1.194475 -1.592784 \" style=\"fill:none;stroke-width:0.31879;stroke-linecap:round;stroke-linejoin:round;stroke:rgb(0%,0%,0%);stroke-opacity:1;stroke-miterlimit:10;\" transform=\"matrix(0.77327,-0.63536,-0.63536,-0.77327,134.53666,111.25552)\"/>\n",
       "<path d=\"M 3.373281 -167.438437 L 74.990469 -132.465781 \" style=\"fill:none;stroke-width:0.3985;stroke-linecap:butt;stroke-linejoin:miter;stroke:rgb(0%,0%,0%);stroke-opacity:1;stroke-miterlimit:10;\" transform=\"matrix(1,0,0,-1,58.115,4.96)\"/>\n",
       "<path d=\"M -1.194793 1.594619 C -1.096865 0.996517 -0.0000847244 0.101351 0.296903 -0.000331427 C 0.0018023 -0.0988867 -1.095489 -0.997316 -1.19609 -1.593806 \" style=\"fill:none;stroke-width:0.31879;stroke-linecap:round;stroke-linejoin:round;stroke:rgb(0%,0%,0%);stroke-opacity:1;stroke-miterlimit:10;\" transform=\"matrix(0.90152,-0.44019,-0.44019,-0.90152,133.10719,137.42727)\"/>\n",
       "<path d=\"M 3.701406 -168.512656 L 74.017812 -157.614219 \" style=\"fill:none;stroke-width:0.3985;stroke-linecap:butt;stroke-linejoin:miter;stroke:rgb(0%,0%,0%);stroke-opacity:1;stroke-miterlimit:10;\" transform=\"matrix(1,0,0,-1,58.115,4.96)\"/>\n",
       "<path d=\"M -1.195022 1.592363 C -1.097733 0.996647 -0.000370447 0.0998183 0.299847 -0.00200072 C 0.000602795 -0.0978294 -1.094249 -0.994661 -1.195206 -1.595207 \" style=\"fill:none;stroke-width:0.31879;stroke-linecap:round;stroke-linejoin:round;stroke:rgb(0%,0%,0%);stroke-opacity:1;stroke-miterlimit:10;\" transform=\"matrix(0.98894,-0.15324,-0.15324,-0.98894,132.13285,162.57522)\"/>\n",
       "<path d=\"M 142.631094 -152.649375 L 166.529531 -81.450156 \" style=\"fill:none;stroke-width:0.3985;stroke-linecap:butt;stroke-linejoin:miter;stroke:rgb(0%,0%,0%);stroke-opacity:1;stroke-miterlimit:10;\" transform=\"matrix(1,0,0,-1,58.115,4.96)\"/>\n",
       "<path d=\"M -1.195559 1.592615 C -1.094435 0.997193 0.00127183 0.0980014 0.297442 -0.0000397177 C 0.00168108 -0.0993086 -1.096471 -0.994418 -1.195113 -1.595188 \" style=\"fill:none;stroke-width:0.31879;stroke-linecap:round;stroke-linejoin:round;stroke:rgb(0%,0%,0%);stroke-opacity:1;stroke-miterlimit:10;\" transform=\"matrix(0.31873,-0.94962,-0.94962,-0.31873,224.64344,86.41135)\"/>\n",
       "<path d=\"M 143.119375 -152.856406 L 165.068594 -109.184531 \" style=\"fill:none;stroke-width:0.3985;stroke-linecap:butt;stroke-linejoin:miter;stroke:rgb(0%,0%,0%);stroke-opacity:1;stroke-miterlimit:10;\" transform=\"matrix(1,0,0,-1,58.115,4.96)\"/>\n",
       "<path d=\"M -1.195653 1.593444 C -1.096679 0.996821 0.00113123 0.0986363 0.299753 -0.000210936 C -0.000201581 -0.0985646 -1.096007 -0.994355 -1.195968 -1.594884 \" style=\"fill:none;stroke-width:0.31879;stroke-linecap:round;stroke-linejoin:round;stroke:rgb(0%,0%,0%);stroke-opacity:1;stroke-miterlimit:10;\" transform=\"matrix(0.44955,-0.89442,-0.89442,-0.44955,223.18537,114.14301)\"/>\n",
       "<path d=\"M 144.084219 -153.559531 L 162.1975 -135.442344 \" style=\"fill:none;stroke-width:0.3985;stroke-linecap:butt;stroke-linejoin:miter;stroke:rgb(0%,0%,0%);stroke-opacity:1;stroke-miterlimit:10;\" transform=\"matrix(1,0,0,-1,58.115,4.96)\"/>\n",
       "<path d=\"M -1.197338 1.594556 C -1.095124 0.995186 -0.00131361 0.100302 0.296994 0.000875474 C -0.00130799 -0.098568 -1.09783 -0.996276 -1.194486 -1.595651 \" style=\"fill:none;stroke-width:0.31879;stroke-linecap:round;stroke-linejoin:round;stroke:rgb(0%,0%,0%);stroke-opacity:1;stroke-miterlimit:10;\" transform=\"matrix(0.70714,-0.7071,-0.7071,-0.70714,220.31404,140.40203)\"/>\n",
       "<path d=\"M 95.189687 -45.903281 L 159.498281 -67.340781 \" style=\"fill:none;stroke-width:0.3985;stroke-linecap:butt;stroke-linejoin:miter;stroke:rgb(0%,0%,0%);stroke-opacity:1;stroke-miterlimit:10;\" transform=\"matrix(1,0,0,-1,58.115,4.96)\"/>\n",
       "<path d=\"M -1.195872 1.594342 C -1.094672 0.994606 0.0011574 0.101188 0.298559 -0.00123129 C -0.00130746 -0.101192 -1.097109 -0.997113 -1.194588 -1.593149 \" style=\"fill:none;stroke-width:0.31879;stroke-linecap:round;stroke-linejoin:round;stroke:rgb(0%,0%,0%);stroke-opacity:1;stroke-miterlimit:10;\" transform=\"matrix(0.94963,0.31656,0.31656,-0.94963,217.6114,72.29885)\"/>\n",
       "<path d=\"M 93.959219 -48.465781 L 160.779531 -93.012656 \" style=\"fill:none;stroke-width:0.3985;stroke-linecap:butt;stroke-linejoin:miter;stroke:rgb(0%,0%,0%);stroke-opacity:1;stroke-miterlimit:10;\" transform=\"matrix(1,0,0,-1,58.115,4.96)\"/>\n",
       "<path d=\"M -1.196607 1.593314 C -1.097242 0.994949 0.00119399 0.0984763 0.299296 0.00234756 C 0.0011929 -0.0980982 -1.094013 -0.996719 -1.196624 -1.594003 \" style=\"fill:none;stroke-width:0.31879;stroke-linecap:round;stroke-linejoin:round;stroke:rgb(0%,0%,0%);stroke-opacity:1;stroke-miterlimit:10;\" transform=\"matrix(0.83461,0.5564,0.5564,-0.83461,218.89343,97.97215)\"/>\n",
       "<path d=\"M 92.595937 -50.079062 L 162.1975 -119.680625 \" style=\"fill:none;stroke-width:0.3985;stroke-linecap:butt;stroke-linejoin:miter;stroke:rgb(0%,0%,0%);stroke-opacity:1;stroke-miterlimit:10;\" transform=\"matrix(1,0,0,-1,58.115,4.96)\"/>\n",
       "<path d=\"M -1.193435 1.594391 C -1.096784 0.995019 -0.00027586 0.0973095 0.300786 0.000626629 C -0.000282891 -0.101559 -1.094092 -0.996429 -1.19631 -1.595794 \" style=\"fill:none;stroke-width:0.31879;stroke-linecap:round;stroke-linejoin:round;stroke:rgb(0%,0%,0%);stroke-opacity:1;stroke-miterlimit:10;\" transform=\"matrix(0.70715,0.7071,0.7071,-0.70715,220.3142,124.63932)\"/>\n",
       "<path d=\"M 95.72875 -70.868125 L 158.935781 -70.868125 \" style=\"fill:none;stroke-width:0.3985;stroke-linecap:butt;stroke-linejoin:miter;stroke:rgb(0%,0%,0%);stroke-opacity:1;stroke-miterlimit:10;\" transform=\"matrix(1,0,0,-1,58.115,4.96)\"/>\n",
       "<path d=\"M -1.194511 1.592645 C -1.096855 0.994989 0.00080125 0.100458 0.297676 -0.001105 C 0.00080125 -0.0987612 -1.096855 -0.997199 -1.194511 -1.594855 \" style=\"fill:none;stroke-width:0.31879;stroke-linecap:round;stroke-linejoin:round;stroke:rgb(0%,0%,0%);stroke-opacity:1;stroke-miterlimit:10;\" transform=\"matrix(1,0,0,-1,217.04998,75.82702)\"/>\n",
       "<path d=\"M 95.189687 -74.250937 L 159.498281 -95.684531 \" style=\"fill:none;stroke-width:0.3985;stroke-linecap:butt;stroke-linejoin:miter;stroke:rgb(0%,0%,0%);stroke-opacity:1;stroke-miterlimit:10;\" transform=\"matrix(1,0,0,-1,58.115,4.96)\"/>\n",
       "<path d=\"M -1.195611 1.593559 C -1.095646 0.997525 0.00141843 0.100405 0.29882 -0.00201435 C -0.00104642 -0.101975 -1.096848 -0.997896 -1.194327 -1.593932 \" style=\"fill:none;stroke-width:0.31879;stroke-linecap:round;stroke-linejoin:round;stroke:rgb(0%,0%,0%);stroke-opacity:1;stroke-miterlimit:10;\" transform=\"matrix(0.94963,0.31656,0.31656,-0.94963,217.6114,100.64568)\"/>\n",
       "<path d=\"M 93.959219 -76.813437 L 160.779531 -121.360312 \" style=\"fill:none;stroke-width:0.3985;stroke-linecap:butt;stroke-linejoin:miter;stroke:rgb(0%,0%,0%);stroke-opacity:1;stroke-miterlimit:10;\" transform=\"matrix(1,0,0,-1,58.115,4.96)\"/>\n",
       "<path d=\"M -1.196139 1.592612 C -1.096775 0.994247 -0.000498179 0.101015 0.299764 0.00164559 C 0.00166088 -0.0988002 -1.095705 -0.994181 -1.196156 -1.594704 \" style=\"fill:none;stroke-width:0.31879;stroke-linecap:round;stroke-linejoin:round;stroke:rgb(0%,0%,0%);stroke-opacity:1;stroke-miterlimit:10;\" transform=\"matrix(0.83461,0.5564,0.5564,-0.83461,218.89343,126.31896)\"/>\n",
       "<path d=\"M 95.189687 -95.829062 L 159.498281 -74.395469 \" style=\"fill:none;stroke-width:0.3985;stroke-linecap:butt;stroke-linejoin:miter;stroke:rgb(0%,0%,0%);stroke-opacity:1;stroke-miterlimit:10;\" transform=\"matrix(1,0,0,-1,58.115,4.96)\"/>\n",
       "<path d=\"M -1.194052 1.594757 C -1.097807 0.995018 -0.00200565 0.0990977 0.297861 -0.000863193 C 0.00169329 -0.0995807 -1.095371 -0.996701 -1.195336 -1.592734 \" style=\"fill:none;stroke-width:0.31879;stroke-linecap:round;stroke-linejoin:round;stroke:rgb(0%,0%,0%);stroke-opacity:1;stroke-miterlimit:10;\" transform=\"matrix(0.94963,-0.31656,-0.31656,-0.94963,217.6114,79.35519)\"/>\n",
       "<path d=\"M 95.72875 -99.215781 L 158.935781 -99.215781 \" style=\"fill:none;stroke-width:0.3985;stroke-linecap:butt;stroke-linejoin:miter;stroke:rgb(0%,0%,0%);stroke-opacity:1;stroke-miterlimit:10;\" transform=\"matrix(1,0,0,-1,58.115,4.96)\"/>\n",
       "<path d=\"M -1.194511 1.595725 C -1.096855 0.998069 0.00080125 0.0996313 0.297676 -0.00193125 C 0.00080125 -0.0995875 -1.096855 -0.998025 -1.194511 -1.595681 \" style=\"fill:none;stroke-width:0.31879;stroke-linecap:round;stroke-linejoin:round;stroke:rgb(0%,0%,0%);stroke-opacity:1;stroke-miterlimit:10;\" transform=\"matrix(1,0,0,-1,217.04998,104.17385)\"/>\n",
       "<path d=\"M 95.189687 -102.598594 L 159.498281 -124.032187 \" style=\"fill:none;stroke-width:0.3985;stroke-linecap:butt;stroke-linejoin:miter;stroke:rgb(0%,0%,0%);stroke-opacity:1;stroke-miterlimit:10;\" transform=\"matrix(1,0,0,-1,58.115,4.96)\"/>\n",
       "<path d=\"M -1.195347 1.592766 C -1.095381 0.996733 0.00168263 0.0996126 0.297851 0.000895178 C -0.00201632 -0.0990657 -1.097818 -0.994986 -1.194063 -1.594725 \" style=\"fill:none;stroke-width:0.31879;stroke-linecap:round;stroke-linejoin:round;stroke:rgb(0%,0%,0%);stroke-opacity:1;stroke-miterlimit:10;\" transform=\"matrix(0.94963,0.31656,0.31656,-0.94963,217.6114,128.9925)\"/>\n",
       "<path d=\"M 93.959219 -121.614219 L 160.779531 -77.067344 \" style=\"fill:none;stroke-width:0.3985;stroke-linecap:butt;stroke-linejoin:miter;stroke:rgb(0%,0%,0%);stroke-opacity:1;stroke-miterlimit:10;\" transform=\"matrix(1,0,0,-1,58.115,4.96)\"/>\n",
       "<path d=\"M -1.196138 1.594732 C -1.095687 0.994209 0.00167954 0.0988282 0.299782 -0.0016176 C -0.000479516 -0.100987 -1.096756 -0.994219 -1.19612 -1.592584 \" style=\"fill:none;stroke-width:0.31879;stroke-linecap:round;stroke-linejoin:round;stroke:rgb(0%,0%,0%);stroke-opacity:1;stroke-miterlimit:10;\" transform=\"matrix(0.83461,-0.5564,-0.5564,-0.83461,218.89343,82.02873)\"/>\n",
       "<path d=\"M 95.189687 -124.176719 L 159.498281 -102.743125 \" style=\"fill:none;stroke-width:0.3985;stroke-linecap:butt;stroke-linejoin:miter;stroke:rgb(0%,0%,0%);stroke-opacity:1;stroke-miterlimit:10;\" transform=\"matrix(1,0,0,-1,58.115,4.96)\"/>\n",
       "<path d=\"M -1.194313 1.593974 C -1.096834 0.997937 -0.00226669 0.0983147 0.298834 0.00205581 C 0.00143226 -0.100364 -1.095632 -0.997484 -1.195597 -1.593517 \" style=\"fill:none;stroke-width:0.31879;stroke-linecap:round;stroke-linejoin:round;stroke:rgb(0%,0%,0%);stroke-opacity:1;stroke-miterlimit:10;\" transform=\"matrix(0.94963,-0.31656,-0.31656,-0.94963,217.6114,107.70202)\"/>\n",
       "<path d=\"M 95.72875 -127.559531 L 158.935781 -127.559531 \" style=\"fill:none;stroke-width:0.3985;stroke-linecap:butt;stroke-linejoin:miter;stroke:rgb(0%,0%,0%);stroke-opacity:1;stroke-miterlimit:10;\" transform=\"matrix(1,0,0,-1,58.115,4.96)\"/>\n",
       "<path d=\"M -1.194511 1.594889 C -1.096855 0.997232 0.00080125 0.098795 0.297676 0.00113875 C 0.00080125 -0.100424 -1.096855 -0.994955 -1.194511 -1.592611 \" style=\"fill:none;stroke-width:0.31879;stroke-linecap:round;stroke-linejoin:round;stroke:rgb(0%,0%,0%);stroke-opacity:1;stroke-miterlimit:10;\" transform=\"matrix(1,0,0,-1,217.04998,132.52067)\"/>\n",
       "<path d=\"M 92.595937 -148.348594 L 162.1975 -78.747031 \" style=\"fill:none;stroke-width:0.3985;stroke-linecap:butt;stroke-linejoin:miter;stroke:rgb(0%,0%,0%);stroke-opacity:1;stroke-miterlimit:10;\" transform=\"matrix(1,0,0,-1,58.115,4.96)\"/>\n",
       "<path d=\"M -1.196279 1.595825 C -1.094061 0.99646 -0.000251957 0.10159 0.300817 -0.000595693 C -0.000244926 -0.0972786 -1.096753 -0.994988 -1.193404 -1.59436 \" style=\"fill:none;stroke-width:0.31879;stroke-linecap:round;stroke-linejoin:round;stroke:rgb(0%,0%,0%);stroke-opacity:1;stroke-miterlimit:10;\" transform=\"matrix(0.70715,-0.7071,-0.7071,-0.70715,220.3142,83.70838)\"/>\n",
       "<path d=\"M 93.959219 -149.961875 L 160.779531 -105.415 \" style=\"fill:none;stroke-width:0.3985;stroke-linecap:butt;stroke-linejoin:miter;stroke:rgb(0%,0%,0%);stroke-opacity:1;stroke-miterlimit:10;\" transform=\"matrix(1,0,0,-1,58.115,4.96)\"/>\n",
       "<path d=\"M -1.196594 1.594047 C -1.093984 0.996763 0.00122263 0.0981428 0.299325 -0.00230298 C 0.00122371 -0.0984318 -1.097213 -0.994904 -1.196577 -1.593269 \" style=\"fill:none;stroke-width:0.31879;stroke-linecap:round;stroke-linejoin:round;stroke:rgb(0%,0%,0%);stroke-opacity:1;stroke-miterlimit:10;\" transform=\"matrix(0.83461,-0.5564,-0.5564,-0.83461,218.89343,110.37556)\"/>\n",
       "<path d=\"M 95.189687 -152.524375 L 159.498281 -131.086875 \" style=\"fill:none;stroke-width:0.3985;stroke-linecap:butt;stroke-linejoin:miter;stroke:rgb(0%,0%,0%);stroke-opacity:1;stroke-miterlimit:10;\" transform=\"matrix(1,0,0,-1,58.115,4.96)\"/>\n",
       "<path d=\"M -1.194577 1.593181 C -1.097098 0.997145 -0.00129679 0.101224 0.29857 0.00126327 C 0.00116806 -0.101156 -1.095896 -0.998276 -1.195861 -1.59431 \" style=\"fill:none;stroke-width:0.31879;stroke-linecap:round;stroke-linejoin:round;stroke:rgb(0%,0%,0%);stroke-opacity:1;stroke-miterlimit:10;\" transform=\"matrix(0.94963,-0.31656,-0.31656,-0.94963,217.6114,136.04884)\"/>\n",
       "<path d=\"M 224.627187 -142.332969 L 249.881094 -94.887656 \" style=\"fill:none;stroke-width:0.3985;stroke-linecap:butt;stroke-linejoin:miter;stroke:rgb(0%,0%,0%);stroke-opacity:1;stroke-miterlimit:10;\" transform=\"matrix(1,0,0,-1,58.115,4.96)\"/>\n",
       "<path d=\"M -1.19648 1.594067 C -1.095758 0.997796 0.000791677 0.10039 0.29845 -0.0020252 C 0.000619263 -0.0986442 -1.095649 -0.995988 -1.197405 -1.59392 \" style=\"fill:none;stroke-width:0.31879;stroke-linecap:round;stroke-linejoin:round;stroke:rgb(0%,0%,0%);stroke-opacity:1;stroke-miterlimit:10;\" transform=\"matrix(0.47026,-0.88358,-0.88358,-0.47026,307.99458,99.84869)\"/>\n",
       "<path d=\"M 225.513906 -142.993125 L 247.240469 -121.270469 \" style=\"fill:none;stroke-width:0.3985;stroke-linecap:butt;stroke-linejoin:miter;stroke:rgb(0%,0%,0%);stroke-opacity:1;stroke-miterlimit:10;\" transform=\"matrix(1,0,0,-1,58.115,4.96)\"/>\n",
       "<path d=\"M -1.194008 1.594579 C -1.097318 0.995209 0.0020168 0.100325 0.300325 0.000898548 C -0.000739583 -0.101307 -1.0945 -0.996253 -1.193918 -1.592866 \" style=\"fill:none;stroke-width:0.31879;stroke-linecap:round;stroke-linejoin:round;stroke:rgb(0%,0%,0%);stroke-opacity:1;stroke-miterlimit:10;\" transform=\"matrix(0.70714,-0.7071,-0.7071,-0.70714,305.35467,126.22862)\"/>\n",
       "<path d=\"M 180.635 -72.625937 L 244.115469 -83.207969 \" style=\"fill:none;stroke-width:0.3985;stroke-linecap:butt;stroke-linejoin:miter;stroke:rgb(0%,0%,0%);stroke-opacity:1;stroke-miterlimit:10;\" transform=\"matrix(1,0,0,-1,58.115,4.96)\"/>\n",
       "<path d=\"M -1.195421 1.595178 C -1.09536 0.994726 -0.000971738 0.101083 0.300534 0.00100164 C 0.000948148 -0.100349 -1.096047 -0.995225 -1.194211 -1.593106 \" style=\"fill:none;stroke-width:0.31879;stroke-linecap:round;stroke-linejoin:round;stroke:rgb(0%,0%,0%);stroke-opacity:1;stroke-miterlimit:10;\" transform=\"matrix(0.98744,0.16455,0.16455,-0.98744,302.23042,88.16638)\"/>\n",
       "<path d=\"M 179.677969 -75.665 L 245.150625 -108.403281 \" style=\"fill:none;stroke-width:0.3985;stroke-linecap:butt;stroke-linejoin:miter;stroke:rgb(0%,0%,0%);stroke-opacity:1;stroke-miterlimit:10;\" transform=\"matrix(1,0,0,-1,58.115,4.96)\"/>\n",
       "<path d=\"M -1.195995 1.59368 C -1.094682 0.997966 0.00064467 0.10001 0.299373 0.00042789 C 0.000641076 -0.10089 -1.098211 -0.995313 -1.196052 -1.594518 \" style=\"fill:none;stroke-width:0.31879;stroke-linecap:round;stroke-linejoin:round;stroke:rgb(0%,0%,0%);stroke-opacity:1;stroke-miterlimit:10;\" transform=\"matrix(0.89442,0.44719,0.44719,-0.89442,303.2672,113.3626)\"/>\n",
       "<path d=\"M 180.635 -97.454062 L 244.115469 -86.875937 \" style=\"fill:none;stroke-width:0.3985;stroke-linecap:butt;stroke-linejoin:miter;stroke:rgb(0%,0%,0%);stroke-opacity:1;stroke-miterlimit:10;\" transform=\"matrix(1,0,0,-1,58.115,4.96)\"/>\n",
       "<path d=\"M -1.194067 1.593973 C -1.095903 0.996092 0.00109265 0.101216 0.300678 -0.000134526 C -0.00082724 -0.100216 -1.095857 -0.997708 -1.195276 -1.594311 \" style=\"fill:none;stroke-width:0.31879;stroke-linecap:round;stroke-linejoin:round;stroke:rgb(0%,0%,0%);stroke-opacity:1;stroke-miterlimit:10;\" transform=\"matrix(0.98744,-0.16455,-0.16455,-0.98744,302.23042,91.8345)\"/>\n",
       "<path d=\"M 180.635 -100.973594 L 244.115469 -111.551719 \" style=\"fill:none;stroke-width:0.3985;stroke-linecap:butt;stroke-linejoin:miter;stroke:rgb(0%,0%,0%);stroke-opacity:1;stroke-miterlimit:10;\" transform=\"matrix(1,0,0,-1,58.115,4.96)\"/>\n",
       "<path d=\"M -1.195284 1.594354 C -1.095864 0.997751 -0.000834424 0.100259 0.300671 0.000177635 C 0.00108546 -0.101173 -1.09591 -0.996049 -1.194074 -1.59393 \" style=\"fill:none;stroke-width:0.31879;stroke-linecap:round;stroke-linejoin:round;stroke:rgb(0%,0%,0%);stroke-opacity:1;stroke-miterlimit:10;\" transform=\"matrix(0.98744,0.16455,0.16455,-0.98744,302.23042,116.5132)\"/>\n",
       "<path d=\"M 179.677969 -122.762656 L 245.150625 -90.024375 \" style=\"fill:none;stroke-width:0.3985;stroke-linecap:butt;stroke-linejoin:miter;stroke:rgb(0%,0%,0%);stroke-opacity:1;stroke-miterlimit:10;\" transform=\"matrix(1,0,0,-1,58.115,4.96)\"/>\n",
       "<path d=\"M -1.196037 1.594548 C -1.098196 0.995343 0.000656169 0.100921 0.299388 -0.000397702 C 0.000659763 -0.0999796 -1.094667 -0.997936 -1.19598 -1.59365 \" style=\"fill:none;stroke-width:0.31879;stroke-linecap:round;stroke-linejoin:round;stroke:rgb(0%,0%,0%);stroke-opacity:1;stroke-miterlimit:10;\" transform=\"matrix(0.89442,-0.44719,-0.44719,-0.89442,303.2672,94.98509)\"/>\n",
       "<path d=\"M 180.635 -125.801719 L 244.115469 -115.219687 \" style=\"fill:none;stroke-width:0.3985;stroke-linecap:butt;stroke-linejoin:miter;stroke:rgb(0%,0%,0%);stroke-opacity:1;stroke-miterlimit:10;\" transform=\"matrix(1,0,0,-1,58.115,4.96)\"/>\n",
       "<path d=\"M -1.194206 1.593139 C -1.096042 0.995258 0.000953689 0.100383 0.300539 -0.000968384 C -0.000966196 -0.10105 -1.095354 -0.994693 -1.195415 -1.595144 \" style=\"fill:none;stroke-width:0.31879;stroke-linecap:round;stroke-linejoin:round;stroke:rgb(0%,0%,0%);stroke-opacity:1;stroke-miterlimit:10;\" transform=\"matrix(0.98744,-0.16455,-0.16455,-0.98744,302.23042,120.18131)\"/>\n",
       "<path d=\"M 299.068594 -138.387656 L 335.146719 -66.661094 \" style=\"fill:none;stroke-width:0.3985;stroke-linecap:butt;stroke-linejoin:miter;stroke:rgb(0%,0%,0%);stroke-opacity:1;stroke-miterlimit:10;\" transform=\"matrix(1,0,0,-1,58.115,4.96)\"/>\n",
       "<path d=\"M -1.197727 1.594631 C -1.096809 0.994662 -0.000631478 0.100502 0.299725 -0.00170952 C -0.000142122 -0.10015 -1.095444 -0.996165 -1.196932 -1.593138 \" style=\"fill:none;stroke-width:0.31879;stroke-linecap:round;stroke-linejoin:round;stroke:rgb(0%,0%,0%);stroke-opacity:1;stroke-miterlimit:10;\" transform=\"matrix(0.44994,-0.89442,-0.89442,-0.44994,393.26205,71.62278)\"/>\n",
       "<path d=\"M 299.642812 -138.739219 L 333.431875 -93.957969 \" style=\"fill:none;stroke-width:0.3985;stroke-linecap:butt;stroke-linejoin:miter;stroke:rgb(0%,0%,0%);stroke-opacity:1;stroke-miterlimit:10;\" transform=\"matrix(1,0,0,-1,58.115,4.96)\"/>\n",
       "<path d=\"M -1.195187 1.595563 C -1.095213 0.997174 0.00109862 0.100804 0.298402 -0.00200298 C 0.000905995 -0.0995367 -1.095612 -0.995315 -1.195978 -1.593511 \" style=\"fill:none;stroke-width:0.31879;stroke-linecap:round;stroke-linejoin:round;stroke:rgb(0%,0%,0%);stroke-opacity:1;stroke-miterlimit:10;\" transform=\"matrix(0.60367,-0.8,-0.8,-0.60367,391.54873,98.9172)\"/>\n",
       "<path d=\"M 300.51 -139.665 L 330.857656 -119.551719 \" style=\"fill:none;stroke-width:0.3985;stroke-linecap:butt;stroke-linejoin:miter;stroke:rgb(0%,0%,0%);stroke-opacity:1;stroke-miterlimit:10;\" transform=\"matrix(1,0,0,-1,58.115,4.96)\"/>\n",
       "<path d=\"M -1.197041 1.593824 C -1.095848 0.997887 -0.00157319 0.0995466 0.297351 -0.00026111 C 0.00222172 -0.0995421 -1.096847 -0.995271 -1.194744 -1.595003 \" style=\"fill:none;stroke-width:0.31879;stroke-linecap:round;stroke-linejoin:round;stroke:rgb(0%,0%,0%);stroke-opacity:1;stroke-miterlimit:10;\" transform=\"matrix(0.83461,-0.55309,-0.55309,-0.83461,388.97434,124.5119)\"/>\n",
       "<path d=\"M 301.127187 -141.735312 L 329.017812 -141.735312 \" style=\"fill:none;stroke-width:0.3985;stroke-linecap:butt;stroke-linejoin:miter;stroke:rgb(0%,0%,0%);stroke-opacity:1;stroke-miterlimit:10;\" transform=\"matrix(1,0,0,-1,58.115,4.96)\"/>\n",
       "<path d=\"M -1.197316 1.592527 C -1.095754 0.994871 0.0019025 0.10034 0.298778 -0.0012225 C 0.0019025 -0.0988788 -1.095754 -0.997316 -1.197316 -1.594973 \" style=\"fill:none;stroke-width:0.31879;stroke-linecap:round;stroke-linejoin:round;stroke:rgb(0%,0%,0%);stroke-opacity:1;stroke-miterlimit:10;\" transform=\"matrix(1,0,0,-1,387.13091,146.69409)\"/>\n",
       "<path d=\"M 265.271719 -81.657187 L 329.576406 -60.223594 \" style=\"fill:none;stroke-width:0.3985;stroke-linecap:butt;stroke-linejoin:miter;stroke:rgb(0%,0%,0%);stroke-opacity:1;stroke-miterlimit:10;\" transform=\"matrix(1,0,0,-1,58.115,4.96)\"/>\n",
       "<path d=\"M -1.197189 1.594176 C -1.096008 0.996905 -0.000206511 0.100984 0.29966 0.00102356 C -0.00144372 -0.100162 -1.094806 -0.998516 -1.194771 -1.594549 \" style=\"fill:none;stroke-width:0.31879;stroke-linecap:round;stroke-linejoin:round;stroke:rgb(0%,0%,0%);stroke-opacity:1;stroke-miterlimit:10;\" transform=\"matrix(0.94963,-0.31656,-0.31656,-0.94963,387.69232,65.18177)\"/>\n",
       "<path d=\"M 265.810781 -85.04 L 329.017812 -85.04 \" style=\"fill:none;stroke-width:0.3985;stroke-linecap:butt;stroke-linejoin:miter;stroke:rgb(0%,0%,0%);stroke-opacity:1;stroke-miterlimit:10;\" transform=\"matrix(1,0,0,-1,58.115,4.96)\"/>\n",
       "<path d=\"M -1.197316 1.59419 C -1.095754 0.996534 0.0019025 0.0980963 0.298778 0.00044 C 0.0019025 -0.101122 -1.095754 -0.995654 -1.197316 -1.59331 \" style=\"fill:none;stroke-width:0.31879;stroke-linecap:round;stroke-linejoin:round;stroke:rgb(0%,0%,0%);stroke-opacity:1;stroke-miterlimit:10;\" transform=\"matrix(1,0,0,-1,387.13091,90.00044)\"/>\n",
       "<path d=\"M 265.271719 -88.422812 L 329.576406 -109.860312 \" style=\"fill:none;stroke-width:0.3985;stroke-linecap:butt;stroke-linejoin:miter;stroke:rgb(0%,0%,0%);stroke-opacity:1;stroke-miterlimit:10;\" transform=\"matrix(1,0,0,-1,58.115,4.96)\"/>\n",
       "<path d=\"M -1.195046 1.595374 C -1.093846 0.995639 -0.00171857 0.100986 0.299386 -0.000199034 C -0.000481367 -0.10016 -1.096283 -0.996081 -1.197464 -1.593351 \" style=\"fill:none;stroke-width:0.31879;stroke-linecap:round;stroke-linejoin:round;stroke:rgb(0%,0%,0%);stroke-opacity:1;stroke-miterlimit:10;\" transform=\"matrix(0.94963,0.31656,0.31656,-0.94963,387.69232,114.8191)\"/>\n",
       "<path d=\"M 264.04125 -90.989219 L 330.857656 -135.532187 \" style=\"fill:none;stroke-width:0.3985;stroke-linecap:butt;stroke-linejoin:miter;stroke:rgb(0%,0%,0%);stroke-opacity:1;stroke-miterlimit:10;\" transform=\"matrix(1,0,0,-1,58.115,4.96)\"/>\n",
       "<path d=\"M -1.196063 1.594513 C -1.096699 0.996149 0.00173767 0.099676 0.298759 -0.00185317 C -0.00150367 -0.0990587 -1.09671 -0.997679 -1.19608 -1.592803 \" style=\"fill:none;stroke-width:0.31879;stroke-linecap:round;stroke-linejoin:round;stroke:rgb(0%,0%,0%);stroke-opacity:1;stroke-miterlimit:10;\" transform=\"matrix(0.83461,0.5564,0.5564,-0.83461,388.97434,140.49238)\"/>\n",
       "<path d=\"M 264.04125 -107.438437 L 330.857656 -62.895469 \" style=\"fill:none;stroke-width:0.3985;stroke-linecap:butt;stroke-linejoin:miter;stroke:rgb(0%,0%,0%);stroke-opacity:1;stroke-miterlimit:10;\" transform=\"matrix(1,0,0,-1,58.115,4.96)\"/>\n",
       "<path d=\"M -1.196056 1.592839 C -1.096686 0.997716 -0.00147948 0.099095 0.298783 0.00188946 C 0.00176186 -0.0996397 -1.096675 -0.996112 -1.196039 -1.594477 \" style=\"fill:none;stroke-width:0.31879;stroke-linecap:round;stroke-linejoin:round;stroke:rgb(0%,0%,0%);stroke-opacity:1;stroke-miterlimit:10;\" transform=\"matrix(0.83461,-0.5564,-0.5564,-0.83461,388.97434,67.85532)\"/>\n",
       "<path d=\"M 265.271719 -110.004844 L 329.576406 -88.567344 \" style=\"fill:none;stroke-width:0.3985;stroke-linecap:butt;stroke-linejoin:miter;stroke:rgb(0%,0%,0%);stroke-opacity:1;stroke-miterlimit:10;\" transform=\"matrix(1,0,0,-1,58.115,4.96)\"/>\n",
       "<path d=\"M -1.19745 1.593393 C -1.096269 0.996122 -0.000467545 0.100201 0.299399 0.000240497 C -0.00170475 -0.100945 -1.093833 -0.995597 -1.195032 -1.595332 \" style=\"fill:none;stroke-width:0.31879;stroke-linecap:round;stroke-linejoin:round;stroke:rgb(0%,0%,0%);stroke-opacity:1;stroke-miterlimit:10;\" transform=\"matrix(0.94963,-0.31656,-0.31656,-0.94963,387.69232,93.5286)\"/>\n",
       "<path d=\"M 265.810781 -113.387656 L 329.017812 -113.387656 \" style=\"fill:none;stroke-width:0.3985;stroke-linecap:butt;stroke-linejoin:miter;stroke:rgb(0%,0%,0%);stroke-opacity:1;stroke-miterlimit:10;\" transform=\"matrix(1,0,0,-1,58.115,4.96)\"/>\n",
       "<path d=\"M -1.197316 1.593364 C -1.095754 0.995708 0.0019025 0.101176 0.298778 -0.00038625 C 0.0019025 -0.0980425 -1.095754 -0.99648 -1.197316 -1.594136 \" style=\"fill:none;stroke-width:0.31879;stroke-linecap:round;stroke-linejoin:round;stroke:rgb(0%,0%,0%);stroke-opacity:1;stroke-miterlimit:10;\" transform=\"matrix(1,0,0,-1,387.13091,118.34727)\"/>\n",
       "<path d=\"M 265.271719 -116.770469 L 329.576406 -138.204062 \" style=\"fill:none;stroke-width:0.3985;stroke-linecap:butt;stroke-linejoin:miter;stroke:rgb(0%,0%,0%);stroke-opacity:1;stroke-miterlimit:10;\" transform=\"matrix(1,0,0,-1,58.115,4.96)\"/>\n",
       "<path d=\"M -1.194782 1.594581 C -1.094816 0.998548 -0.00145438 0.100194 0.29965 -0.000991571 C -0.000217174 -0.100952 -1.096019 -0.996873 -1.1972 -1.594144 \" style=\"fill:none;stroke-width:0.31879;stroke-linecap:round;stroke-linejoin:round;stroke:rgb(0%,0%,0%);stroke-opacity:1;stroke-miterlimit:10;\" transform=\"matrix(0.94963,0.31656,0.31656,-0.94963,387.69232,143.16592)\"/>\n",
       "<g style=\"fill:rgb(0%,0%,0%);fill-opacity:1;\">\n",
       "  <use x=\"281.256\" xlink:href=\"#glyph5-1\" y=\"68.705\"/>\n",
       "  <use x=\"288.72795\" xlink:href=\"#glyph5-2\" y=\"68.705\"/>\n",
       "  <use x=\"294.263171\" xlink:href=\"#glyph5-3\" y=\"68.705\"/>\n",
       "  <use x=\"298.137626\" xlink:href=\"#glyph5-4\" y=\"68.705\"/>\n",
       "</g>\n",
       "<g style=\"fill:rgb(0%,0%,0%);fill-opacity:1;\">\n",
       "  <use x=\"303.397878\" xlink:href=\"#glyph5-5\" y=\"68.705\"/>\n",
       "  <use x=\"307.825258\" xlink:href=\"#glyph5-6\" y=\"68.705\"/>\n",
       "  <use x=\"313.360478\" xlink:href=\"#glyph5-7\" y=\"68.705\"/>\n",
       "  <use x=\"317.787858\" xlink:href=\"#glyph5-4\" y=\"68.705\"/>\n",
       "</g>\n",
       "<g style=\"fill:rgb(0%,0%,0%);fill-opacity:1;\">\n",
       "  <use x=\"323.048111\" xlink:href=\"#glyph5-8\" y=\"68.705\"/>\n",
       "  <use x=\"328.583331\" xlink:href=\"#glyph5-5\" y=\"68.705\"/>\n",
       "  <use x=\"333.010711\" xlink:href=\"#glyph5-9\" y=\"68.705\"/>\n",
       "</g>\n",
       "<g style=\"fill:rgb(0%,0%,0%);fill-opacity:1;\">\n",
       "  <use x=\"340.230607\" xlink:href=\"#glyph5-10\" y=\"68.705\"/>\n",
       "</g>\n",
       "<g style=\"fill:rgb(0%,0%,0%);fill-opacity:1;\">\n",
       "  <use x=\"196.217\" xlink:href=\"#glyph5-1\" y=\"54.532\"/>\n",
       "  <use x=\"203.68895\" xlink:href=\"#glyph5-2\" y=\"54.532\"/>\n",
       "  <use x=\"209.224171\" xlink:href=\"#glyph5-3\" y=\"54.532\"/>\n",
       "  <use x=\"213.098626\" xlink:href=\"#glyph5-4\" y=\"54.532\"/>\n",
       "</g>\n",
       "<g style=\"fill:rgb(0%,0%,0%);fill-opacity:1;\">\n",
       "  <use x=\"218.358879\" xlink:href=\"#glyph5-5\" y=\"54.532\"/>\n",
       "  <use x=\"222.786258\" xlink:href=\"#glyph5-6\" y=\"54.532\"/>\n",
       "  <use x=\"228.321479\" xlink:href=\"#glyph5-7\" y=\"54.532\"/>\n",
       "  <use x=\"232.748858\" xlink:href=\"#glyph5-4\" y=\"54.532\"/>\n",
       "</g>\n",
       "<g style=\"fill:rgb(0%,0%,0%);fill-opacity:1;\">\n",
       "  <use x=\"238.009111\" xlink:href=\"#glyph5-8\" y=\"54.532\"/>\n",
       "</g>\n",
       "<g style=\"fill:rgb(0%,0%,0%);fill-opacity:1;\">\n",
       "  <use x=\"243.534369\" xlink:href=\"#glyph5-5\" y=\"54.532\"/>\n",
       "</g>\n",
       "<g style=\"fill:rgb(0%,0%,0%);fill-opacity:1;\">\n",
       "  <use x=\"247.971711\" xlink:href=\"#glyph5-9\" y=\"54.532\"/>\n",
       "</g>\n",
       "<g style=\"fill:rgb(0%,0%,0%);fill-opacity:1;\">\n",
       "  <use x=\"255.191607\" xlink:href=\"#glyph5-11\" y=\"54.532\"/>\n",
       "</g>\n",
       "<g style=\"fill:rgb(0%,0%,0%);fill-opacity:1;\">\n",
       "  <use x=\"111.177\" xlink:href=\"#glyph5-1\" y=\"26.186\"/>\n",
       "  <use x=\"118.64895\" xlink:href=\"#glyph5-2\" y=\"26.186\"/>\n",
       "  <use x=\"124.184171\" xlink:href=\"#glyph5-3\" y=\"26.186\"/>\n",
       "  <use x=\"128.058626\" xlink:href=\"#glyph5-4\" y=\"26.186\"/>\n",
       "</g>\n",
       "<g style=\"fill:rgb(0%,0%,0%);fill-opacity:1;\">\n",
       "  <use x=\"133.318879\" xlink:href=\"#glyph5-5\" y=\"26.186\"/>\n",
       "  <use x=\"137.746258\" xlink:href=\"#glyph5-6\" y=\"26.186\"/>\n",
       "  <use x=\"143.281479\" xlink:href=\"#glyph5-7\" y=\"26.186\"/>\n",
       "  <use x=\"147.708858\" xlink:href=\"#glyph5-4\" y=\"26.186\"/>\n",
       "</g>\n",
       "<g style=\"fill:rgb(0%,0%,0%);fill-opacity:1;\">\n",
       "  <use x=\"152.969111\" xlink:href=\"#glyph5-8\" y=\"26.186\"/>\n",
       "  <use x=\"158.504331\" xlink:href=\"#glyph5-5\" y=\"26.186\"/>\n",
       "  <use x=\"162.931711\" xlink:href=\"#glyph5-9\" y=\"26.186\"/>\n",
       "</g>\n",
       "<g style=\"fill:rgb(0%,0%,0%);fill-opacity:1;\">\n",
       "  <use x=\"170.151607\" xlink:href=\"#glyph5-12\" y=\"26.186\"/>\n",
       "</g>\n",
       "<g style=\"fill:rgb(0%,0%,0%);fill-opacity:1;\">\n",
       "  <use x=\"34.025\" xlink:href=\"#glyph5-13\" y=\"16.024\"/>\n",
       "  <use x=\"37.622495\" xlink:href=\"#glyph5-6\" y=\"16.024\"/>\n",
       "  <use x=\"43.157715\" xlink:href=\"#glyph5-14\" y=\"16.024\"/>\n",
       "  <use x=\"48.692936\" xlink:href=\"#glyph5-2\" y=\"16.024\"/>\n",
       "  <use x=\"54.228157\" xlink:href=\"#glyph5-3\" y=\"16.024\"/>\n",
       "</g>\n",
       "<g style=\"fill:rgb(0%,0%,0%);fill-opacity:1;\">\n",
       "  <use x=\"61.420157\" xlink:href=\"#glyph5-15\" y=\"16.024\"/>\n",
       "  <use x=\"64.187768\" xlink:href=\"#glyph5-16\" y=\"16.024\"/>\n",
       "</g>\n",
       "<g style=\"fill:rgb(0%,0%,0%);fill-opacity:1;\">\n",
       "  <use x=\"68.890115\" xlink:href=\"#glyph5-17\" y=\"16.024\"/>\n",
       "</g>\n",
       "<g style=\"fill:rgb(0%,0%,0%);fill-opacity:1;\">\n",
       "  <use x=\"73.879385\" xlink:href=\"#glyph5-5\" y=\"16.024\"/>\n",
       "  <use x=\"78.306764\" xlink:href=\"#glyph5-9\" y=\"16.024\"/>\n",
       "</g>\n",
       "<g style=\"fill:rgb(0%,0%,0%);fill-opacity:1;\">\n",
       "  <use x=\"370.17\" xlink:href=\"#glyph5-18\" y=\"38.422\"/>\n",
       "  <use x=\"377.91891\" xlink:href=\"#glyph5-2\" y=\"38.422\"/>\n",
       "  <use x=\"383.454131\" xlink:href=\"#glyph5-3\" y=\"38.422\"/>\n",
       "  <use x=\"387.328586\" xlink:href=\"#glyph5-14\" y=\"38.422\"/>\n",
       "  <use x=\"392.863807\" xlink:href=\"#glyph5-2\" y=\"38.422\"/>\n",
       "  <use x=\"398.399027\" xlink:href=\"#glyph5-3\" y=\"38.422\"/>\n",
       "</g>\n",
       "<g style=\"fill:rgb(0%,0%,0%);fill-opacity:1;\">\n",
       "  <use x=\"405.591028\" xlink:href=\"#glyph5-15\" y=\"38.422\"/>\n",
       "  <use x=\"408.358638\" xlink:href=\"#glyph5-16\" y=\"38.422\"/>\n",
       "</g>\n",
       "<g style=\"fill:rgb(0%,0%,0%);fill-opacity:1;\">\n",
       "  <use x=\"413.060986\" xlink:href=\"#glyph5-17\" y=\"38.422\"/>\n",
       "</g>\n",
       "<g style=\"fill:rgb(0%,0%,0%);fill-opacity:1;\">\n",
       "  <use x=\"418.050256\" xlink:href=\"#glyph5-5\" y=\"38.422\"/>\n",
       "  <use x=\"422.477635\" xlink:href=\"#glyph5-9\" y=\"38.422\"/>\n",
       "</g>\n",
       "</g>\n",
       "</svg>"
      ]
     },
     "metadata": {
      "isolated": "true"
     },
     "output_type": "display_data"
    }
   ],
   "source": [
    "%tikz -s 800,300 -sc 1.0 -l positioning -f svg \\input{imgs/05/stacked-autoencoder.tikz}"
   ]
  },
  {
   "cell_type": "markdown",
   "metadata": {
    "slideshow": {
     "slide_type": "slide"
    }
   },
   "source": [
    "\n",
    "* The hidden layer of autoencoder $t$  acts as an input layer to autoencoder $t+1$.\n",
    "* The input layer of the first autoencoder is the input layer for the whole network.\n",
    "\n",
    "The greedy layer-wise training procedure works like this:\n",
    "* Train the hidden layers as autoencoders in succession.\n",
    "* Train final (output layer) to predict targets."
   ]
  },
  {
   "cell_type": "markdown",
   "metadata": {
    "slideshow": {
     "slide_type": "slide"
    }
   },
   "source": [
    "# Can we look back (again) to nature for inspiration?"
   ]
  },
  {
   "cell_type": "markdown",
   "metadata": {
    "slideshow": {
     "slide_type": "slide"
    }
   },
   "source": [
    "# Convolutional Neural Networks (CNNs / ConvNets)\n",
    "\n",
    "Convolutional Neural Networks are very similar to ordinary neural networks:\n",
    "\n",
    "* They are made up of neurons that have learnable weights and biases. \n",
    "* Each neuron receives some inputs, performs a dot product and optionally follows it with a non-linear activation. \n",
    "* The whole network still expresses a single differentiable score function: from the raw image pixels on one end to class scores at the other.\n",
    "* They still have a loss function on the last (fully-connected) layer and all the tips/tricks we debated for learning regular NN still apply.\n",
    "\n",
    "Difference: \n",
    "* ConvNetz make the explicit assumption that the inputs are images, this allows to encode certain properties into the architecture. \n",
    "* Forward function more efficient to implement and vastly reduce the amount of parameters in the network.\n",
    "* Main application: image classification."
   ]
  },
  {
   "cell_type": "markdown",
   "metadata": {
    "slideshow": {
     "slide_type": "slide"
    }
   },
   "source": [
    "## Yet another problem with regular NNs\n",
    "\n",
    "* Regular Neural Nets don’t scale well to full images.\n",
    "* Images  only of size 32x32x3 (32 wide, 32 high, 3 color channels), imply that the first hidden layer will have 32*32*3 = 3072 weights.\n",
    "* This fully-connected structure does not scale to larger images. \n",
    "* For example, an image of more \"normal\" size, e.g. 200x200x3, would lead to neurons that have 200*200*3 = 120,000 weights. \n",
    "* Moreover, we would almost certainly want to have several such neurons, so the parameters would add up quickly! \n",
    "* Clearly, this full connectivity is wasteful.\n",
    "* The huge number of parameters would quickly lead to overfitting."
   ]
  },
  {
   "cell_type": "markdown",
   "metadata": {
    "slideshow": {
     "slide_type": "slide"
    }
   },
   "source": [
    "Convolutional Neural Networks take advantage of the fact that the input consists of images\n",
    "\n",
    "* constrain the architecture in a more sensible way. \n",
    "* unlike a regular Neural Network, the layers of a ConvNet have neurons arranged in 3 dimensions: width, height, depth.\n",
    "* neurons in a layer will only be connected to a small region of the layer before it, instead of all of the neurons in a fully-connected manner.\n",
    "* The ConvNet architecture we will reduce the full image into a single vector of class scores, arranged along the depth dimension."
   ]
  },
  {
   "cell_type": "markdown",
   "metadata": {
    "slideshow": {
     "slide_type": "slide"
    }
   },
   "source": [
    "<div class=\"container-fluid\">\n",
    "  <div class=\"row\">\n",
    "      <div class=\"col-md-1\" align='center'>\n",
    "      </div>\n",
    "      <div class=\"col-md-5\">\n",
    "      <div class='well well-sm' align='center'>Regular network\n",
    "              <img src='imgs/06/conv.jpeg'/>\n",
    "      </div>\n",
    "      </div>\n",
    "      <div class=\"col-md-5\">\n",
    "      <div class='well well-sm' align='center'>ConvNet\n",
    "              <img src='imgs/06/cnn.jpeg'/>\n",
    "      </div>\n",
    "      </div>\n",
    "      <div class=\"col-md-1\" align='center'>\n",
    "      </div>\n",
    "  </div>\n",
    "</div>"
   ]
  },
  {
   "cell_type": "markdown",
   "metadata": {
    "slideshow": {
     "slide_type": "slide"
    }
   },
   "source": [
    "## Key concepts\n",
    "\n",
    "* **Local receptive fields**: We won't connect every input pixel to every hidden neuron. Instead, we only make connections in small, localized regions of the input image.\n",
    "* **Shared weights and biases**.\n",
    "* **Pooling**: usually used immediately after convolutional layers. They simplify the information in the output from the convolutional layer."
   ]
  },
  {
   "cell_type": "markdown",
   "metadata": {
    "slideshow": {
     "slide_type": "slide"
    }
   },
   "source": [
    "## ConvNets layer types\n",
    "\n",
    "* As we described above, a ConvNet is a sequence of layers, and\n",
    "* every layer of a ConvNet transforms one volume of activations to another through a differentiable function. \n",
    "* Three main types of layers to build ConvNet architectures: \n",
    "    * Convolutional Layer, \n",
    "    * Rectified linear units (RELU) Layer,\n",
    "    * Pooling Layer, and \n",
    "    * Fully-Connected Layer (exactly as seen in regular Neural Networks). \n",
    "\n",
    "We will stack these layers to form a full ConvNet architecture."
   ]
  },
  {
   "cell_type": "markdown",
   "metadata": {
    "slideshow": {
     "slide_type": "slide"
    }
   },
   "source": [
    "<div class=\"container-fluid\">\n",
    "  <div class=\"row\">\n",
    "      <div class=\"col-md-1\" align='center'>\n",
    "      </div>\n",
    "      <div class=\"col-md-10\">\n",
    "      <div class='well well-sm' align='center'>\n",
    "              <img src='imgs/06/convnet.jpeg'/>\n",
    "      </div>\n",
    "      </div>\n",
    "      <div class=\"col-md-1\" align='center'>\n",
    "      </div>\n",
    "  </div>\n",
    "</div>"
   ]
  },
  {
   "cell_type": "markdown",
   "metadata": {
    "slideshow": {
     "slide_type": "slide"
    }
   },
   "source": [
    "## Convolutional Layer\n",
    "\n",
    "The convolutional layer is the core building block of a convolutional network that does most of the computational heavy lifting.\n",
    "* consist of a set of learnable filters. \n",
    "* Every filter is small spatially (along width and height), but extends through the full depth of the input volume. "
   ]
  },
  {
   "cell_type": "markdown",
   "metadata": {
    "slideshow": {
     "slide_type": "slide"
    }
   },
   "source": [
    "For example,\n",
    "* a typical filter on a first layer of a ConvNet might have size 5x5x3 (i.e. 5 pixels width and height, and 3 color channels).\n",
    "* During the forward pass, we slide (*convolve*) each filter across the width and height of the input volume and compute dot products between the entries of the filter and the input at any position. \n",
    "* We will produce a 2-dimensional activation map that gives the responses of that filter at every spatial position. "
   ]
  },
  {
   "cell_type": "markdown",
   "metadata": {
    "slideshow": {
     "slide_type": "slide"
    }
   },
   "source": [
    "* The network will learn filters that activate when they see some type of visual feature:\n",
    "    * an edge of some orientation or a blotch of some color on the first layer, or \n",
    "    * entire honeycomb or wheel-like patterns on higher layers of the network.\n",
    "* We will have an entire set of filters in each CONV layer (e.g. 12 filters), and each of them will produce a separate 2-dimensional activation map. We will stack these activation maps along the depth dimension and produce the output volume."
   ]
  },
  {
   "cell_type": "markdown",
   "metadata": {
    "slideshow": {
     "slide_type": "slide"
    }
   },
   "source": [
    "## Spatial arrangement\n",
    "\n",
    "How many neurons there are in the output volume and how they are arranged?\n",
    "Three hyperparameters control the size of the output volume: \n",
    "* depth, \n",
    "* stride and \n",
    "* zero-padding."
   ]
  },
  {
   "cell_type": "markdown",
   "metadata": {
    "slideshow": {
     "slide_type": "slide"
    }
   },
   "source": [
    "### Depth of the output volume \n",
    "\n",
    "Corresponds to the number of filters we would like to use, \n",
    "* each learning to look for something different in the input. \n",
    "\n",
    "For example, if the first Convolutional Layer takes as input the raw image, then different neurons along the depth dimension may activate in presence of various oriented edged, or blobs of color."
   ]
  },
  {
   "cell_type": "markdown",
   "metadata": {
    "slideshow": {
     "slide_type": "slide"
    }
   },
   "source": [
    "### Stride\n",
    "\n",
    "* We must specify the stride with which we slide the filter. \n",
    "* When the stride is 1 then we move the filters one pixel at a time.\n",
    "* When the stride is 2 (or uncommonly 3 or more, though this is rare in practice) then the filters jump 2 pixels at a time as we slide them around. \n",
    "* This will produce smaller output volumes spatially."
   ]
  },
  {
   "cell_type": "markdown",
   "metadata": {
    "slideshow": {
     "slide_type": "slide"
    }
   },
   "source": [
    "### Zero padding\n",
    "\n",
    "* Sometimes it is convenient to pad the input volume with zeros around the border.\n",
    "* The nice feature of zero padding is that it will allow us to control the spatial size of the output volumes."
   ]
  },
  {
   "cell_type": "markdown",
   "metadata": {
    "slideshow": {
     "slide_type": "slide"
    }
   },
   "source": [
    "### Shared weight and biases\n",
    "\n",
    "* All neurons in the layer detect the same *feature*.\n",
    "* We need to add layers to encode more features.\n",
    "\n",
    "<div align='center'>\n",
    "<img src='http://neuralnetworksanddeeplearning.com/images/tikz46.png' width='47%'/>\n",
    "</div>"
   ]
  },
  {
   "cell_type": "markdown",
   "metadata": {
    "slideshow": {
     "slide_type": "slide"
    }
   },
   "source": [
    "<div class=\"container-fluid\">\n",
    "  <div class=\"row\">\n",
    "      <div class=\"col-md-1\" align='center'>\n",
    "      </div>\n",
    "      <div class=\"col-md-10\">\n",
    "      <div class='well well-sm' align='center'>\n",
    "              <img src='imgs/06/weights.jpeg'/>\n",
    "      </div>\n",
    "      </div>\n",
    "      <div class=\"col-md-1\" align='center'>\n",
    "      </div>\n",
    "  </div>\n",
    "</div>\n",
    "Krizhevsky et al. Each of the 96 filters shown here is of size [11x11x3], and each one is shared by the 55*55 neurons in one depth slice"
   ]
  },
  {
   "cell_type": "markdown",
   "metadata": {
    "slideshow": {
     "slide_type": "slide"
    }
   },
   "source": [
    "## Summarizing the Convolutional layer\n",
    "* Accepts a volume of size $W_1\\times H_1\\times D_1$\n",
    "* Requires four hyperparameters:\n",
    "    * Number of filters $K$,\n",
    "    * their spatial extent $F$,\n",
    "    * the stride $S$,\n",
    "    * the amount of zero padding $P$.\n",
    "Produces a volume of size $W_2\\times H_2\\times D_2$ where:\n",
    "$$\n",
    "W_2 = \\frac{W_1−F+2P}{S+1},\\ H_2 = \\frac{H_1−F+2P}{S+1},\\ D_2=K\n",
    "$$"
   ]
  },
  {
   "cell_type": "markdown",
   "metadata": {
    "slideshow": {
     "slide_type": "slide"
    }
   },
   "source": [
    "## Pooling\n",
    "\n",
    "* Subsampling layers reduce the size of the input. \n",
    "\n",
    "* There are multiple ways to subsample, but the most popular are:\n",
    "    - max pooling (most popular), \n",
    "    - average pooling, and\n",
    "    - stochastic pooling."
   ]
  },
  {
   "cell_type": "markdown",
   "metadata": {
    "slideshow": {
     "slide_type": "slide"
    }
   },
   "source": [
    "In max-pooling, a pooling unit simply outputs the maximum activation in the 2×22×2 input region:\n",
    "<div class=\"container-fluid\">\n",
    "  <div class=\"row\">\n",
    "      <div class=\"col-md-1\" align='center'>\n",
    "      </div>\n",
    "      <div class=\"col-md-10\">\n",
    "      <div class='well well-sm' align='center'>\n",
    "              <img src='http://neuralnetworksanddeeplearning.com/images/tikz47.png'/>\n",
    "      </div>\n",
    "      </div>\n",
    "      <div class=\"col-md-1\" align='center'>\n",
    "      </div>\n",
    "  </div>\n",
    "</div>"
   ]
  },
  {
   "cell_type": "markdown",
   "metadata": {
    "slideshow": {
     "slide_type": "slide"
    }
   },
   "source": [
    "We can see convolution as the application of a filter or a dimensionality reduction.\n",
    "\n",
    "* Convolutional layers apply a number of filters to the input. \n",
    "* The result of one filter applied across the image is called feature map.\n",
    "* If the previous layer is also convolutional, the filters are applied across all of it’s FMs with different weights, so each input FM is connected to each output FM. \n",
    "> The intuition behind the shared weights across the image is that the features will be detected regardless of their location, while the multiplicity of filters allows each of them to detect different set of features."
   ]
  },
  {
   "cell_type": "markdown",
   "metadata": {
    "slideshow": {
     "slide_type": "slide"
    }
   },
   "source": [
    "* The convolutional architecture is quite different to the architecture of traditional neural network.\n",
    "* But the overall picture is similar: \n",
    "    * a network made of many simple units, \n",
    "    * whose behaviors are determined by their weights and biases. \n",
    "The overall goal is still the same: to use training data to train the network's weights and biases so that the network does a good job classifying input."
   ]
  },
  {
   "cell_type": "markdown",
   "metadata": {
    "slideshow": {
     "slide_type": "slide"
    }
   },
   "source": [
    "## Restricted Boltzmann machines\n",
    "\n",
    "Restricted Boltzmann machines (RBM) are generative stochastic neural network that can learn a probability distribution over its set of inputs.\n",
    "\n",
    "<div class=\"container-fluid\">\n",
    "  <div class=\"row\">\n",
    "      <div class=\"col-md-3\" align='center'>\n",
    "      </div>\n",
    "      <div class=\"col-md-6\">\n",
    "      <div class='well well-sm' align='center'>\n",
    "              <img src='imgs/06/rbm.png'/>\n",
    "      </div>\n",
    "      </div>\n",
    "      <div class=\"col-md-3\" align='center'>\n",
    "      </div>\n",
    "  </div>\n",
    "</div>"
   ]
  },
  {
   "cell_type": "markdown",
   "metadata": {
    "slideshow": {
     "slide_type": "slide"
    }
   },
   "source": [
    "## Training RBMs: Contrastive Divergence\n",
    "\n",
    "* **Positive phase:**\n",
    "    - An input sample $\\vec{x}$ is presented to the input layer. \n",
    "    - $\\vec{x}$ is propagated to the hidden layer in a similar manner to the feedforward networks. \n",
    "    - The result is the hidden layer activations, $\\vec{h}$.\n",
    "* **Negative phase:**\n",
    "    - Propagate $\\vec{h}$ back to the visible layer with result resulting in a $\\vec{x}'$.\n",
    "    - $\\vec{x}'$ back to the hidden layer.\n",
    "* **Weight update**:\n",
    "$$ \\vec{w}(t+1) = \\vec{w}(t) + \\alpha (\\vec{x}\\vec{h}^{\\intercal} -\\vec{x'}\\vec{h'}^{\\intercal}).$$\n",
    "\n",
    "* The positive phase reflects the network internal representation of the data.\n",
    "* The negative phase represents an attempt to recreate the data based on this internal representation. "
   ]
  },
  {
   "cell_type": "markdown",
   "metadata": {
    "slideshow": {
     "slide_type": "slide"
    }
   },
   "source": [
    "* The goal is that the \"generated\" data to be as close as possible to the \"real\" one.\n",
    "* This is reflected in the weight update formula.\n",
    "\n",
    "> In other words, the net has a perception of how the input data must be represented, so it tries to reproduce the data based on this perception. If its reproduction isn’t close enough to reality, it makes an adjustment and tries again."
   ]
  },
  {
   "cell_type": "markdown",
   "metadata": {
    "slideshow": {
     "slide_type": "slide"
    }
   },
   "source": [
    "## Deep Belief Networks\n",
    "\n",
    "Restricted Boltzmann machines can be stacked to create a class of neural networks known as deep belief networks (DBNs).\n",
    "<div class=\"container-fluid\">\n",
    "  <div class=\"row\">\n",
    "      <div class=\"col-md-3\" align='center'>\n",
    "      </div>\n",
    "      <div class=\"col-md-6\">\n",
    "      <div class='well well-sm' align='center'>\n",
    "              <img src='imgs/06/deep-belief.png'/>\n",
    "      </div>\n",
    "      </div>\n",
    "      <div class=\"col-md-3\" align='center'>\n",
    "      </div>\n",
    "  </div>\n",
    "</div>"
   ]
  },
  {
   "cell_type": "markdown",
   "metadata": {
    "slideshow": {
     "slide_type": "slide"
    }
   },
   "source": [
    "## Programming Deep Learning\n",
    "\n",
    "* Theano - An open source machine learning library for Python.\n",
    "* Torch - An open source software library for machine learning based on the Lua programming language.\n",
    "* Caffe - A deep learning framework.\n",
    "* Apache SINGA - A deep learning platform developed for scalability, usability and extensibility.\n",
    "\n",
    "My current preference:\n",
    "* Tensorflow"
   ]
  },
  {
   "cell_type": "markdown",
   "metadata": {
    "slideshow": {
     "slide_type": "slide"
    }
   },
   "source": [
    "# General Principles\n",
    "\n",
    "* Supervise the learning process (did I mentioned that you should check your gradients?).\n",
    "* Use a correct experimental methodology.\n",
    "* Contrast your results with a baseline method."
   ]
  },
  {
   "cell_type": "markdown",
   "metadata": {
    "slideshow": {
     "slide_type": "slide"
    }
   },
   "source": [
    "# [Applications of Deep Learning](https://en.wikipedia.org/wiki/Deep_learning#Applications)\n",
    "\n",
    "There are many successfull applications, for example:\n",
    "\n",
    "* Computer vision and image recognition;\n",
    "* Speech recognition;\n",
    "* Natural language processing $\\rightarrow$ probabilistic context free grammars;\n",
    "* Anomaly detection on many variables;\n",
    "* ... and many more. "
   ]
  },
  {
   "cell_type": "markdown",
   "metadata": {
    "slideshow": {
     "slide_type": "skip"
    }
   },
   "source": [
    "<hr/>\n",
    "<div class=\"container-fluid\">\n",
    "  <div class='well'>\n",
    "      <div class=\"row\">\n",
    "          <div class=\"col-md-3\" align='center'>\n",
    "              <img align='center'alt=\"Creative Commons License\" style=\"border-width:0\" src=\"https://i.creativecommons.org/l/by-nc-sa/4.0/88x31.png\"/>\n",
    "          </div>\n",
    "          <div class=\"col-md-9\">\n",
    "              This work is licensed under a [Creative Commons Attribution-NonCommercial-ShareAlike 4.0 International License](http://creativecommons.org/licenses/by-nc-sa/4.0/).\n",
    "          </div>\n",
    "      </div>\n",
    "  </div>\n",
    "</div>"
   ]
  },
  {
   "cell_type": "markdown",
   "metadata": {
    "collapsed": true,
    "slideshow": {
     "slide_type": "slide"
    }
   },
   "source": [
    "# Final remarks\n",
    "\n",
    "* Deep learning as a step towards realising *strong AI*;\n",
    "* thus many organizations have become interested in its use for particular applications.\n",
    "    * see https://en.wikipedia.org/wiki/Deep_learning#Commercial_activities\n",
    "* Better understanding of mental processes.\n",
    "* Deep learning $\\iff$ big data."
   ]
  },
  {
   "cell_type": "code",
   "execution_count": 7,
   "metadata": {
    "collapsed": false,
    "slideshow": {
     "slide_type": "skip"
    }
   },
   "outputs": [
    {
     "data": {
      "application/json": {
       "Software versions": [
        {
         "module": "Python",
         "version": "3.5.1 64bit [GCC 4.2.1 (Apple Inc. build 5577)]"
        },
        {
         "module": "IPython",
         "version": "4.2.0"
        },
        {
         "module": "OS",
         "version": "Darwin 15.5.0 x86_64 i386 64bit"
        },
        {
         "module": "scipy",
         "version": "0.17.1"
        },
        {
         "module": "numpy",
         "version": "1.11.0"
        },
        {
         "module": "matplotlib",
         "version": "1.5.1"
        },
        {
         "module": "sklearn",
         "version": "0.17.1"
        }
       ]
      },
      "text/html": [
       "<table><tr><th>Software</th><th>Version</th></tr><tr><td>Python</td><td>3.5.1 64bit [GCC 4.2.1 (Apple Inc. build 5577)]</td></tr><tr><td>IPython</td><td>4.2.0</td></tr><tr><td>OS</td><td>Darwin 15.5.0 x86_64 i386 64bit</td></tr><tr><td>scipy</td><td>0.17.1</td></tr><tr><td>numpy</td><td>1.11.0</td></tr><tr><td>matplotlib</td><td>1.5.1</td></tr><tr><td>sklearn</td><td>0.17.1</td></tr><tr><td colspan='2'>Wed Jun 08 22:36:35 2016 BRT</td></tr></table>"
      ],
      "text/latex": [
       "\\begin{tabular}{|l|l|}\\hline\n",
       "{\\bf Software} & {\\bf Version} \\\\ \\hline\\hline\n",
       "Python & 3.5.1 64bit [GCC 4.2.1 (Apple Inc. build 5577)] \\\\ \\hline\n",
       "IPython & 4.2.0 \\\\ \\hline\n",
       "OS & Darwin 15.5.0 x86\\_64 i386 64bit \\\\ \\hline\n",
       "scipy & 0.17.1 \\\\ \\hline\n",
       "numpy & 1.11.0 \\\\ \\hline\n",
       "matplotlib & 1.5.1 \\\\ \\hline\n",
       "sklearn & 0.17.1 \\\\ \\hline\n",
       "\\hline \\multicolumn{2}{|l|}{Wed Jun 08 22:36:35 2016 BRT} \\\\ \\hline\n",
       "\\end{tabular}\n"
      ],
      "text/plain": [
       "Software versions\n",
       "Python 3.5.1 64bit [GCC 4.2.1 (Apple Inc. build 5577)]\n",
       "IPython 4.2.0\n",
       "OS Darwin 15.5.0 x86_64 i386 64bit\n",
       "scipy 0.17.1\n",
       "numpy 1.11.0\n",
       "matplotlib 1.5.1\n",
       "sklearn 0.17.1\n",
       "Wed Jun 08 22:36:35 2016 BRT"
      ]
     },
     "execution_count": 7,
     "metadata": {},
     "output_type": "execute_result"
    }
   ],
   "source": [
    "%load_ext version_information\n",
    "%version_information scipy, numpy, matplotlib, sklearn"
   ]
  },
  {
   "cell_type": "code",
   "execution_count": 8,
   "metadata": {
    "collapsed": false,
    "slideshow": {
     "slide_type": "skip"
    }
   },
   "outputs": [
    {
     "data": {
      "text/html": [
       "<link href='https://fonts.googleapis.com/css?family=Inconsolata:400,700' rel='stylesheet' type='text/css'/>\n",
       "<style>\n",
       "@font-face {\n",
       "    font-family: 'Optima';\n",
       "    src: url('fonts/optima-webfont.eot');\n",
       "    src: url('fonts/optima-webfont.eot?#iefix') format('embedded-opentype'),\n",
       "         url('fonts/optima-webfont.woff') format('woff'),\n",
       "         url('fonts/optima-webfont.ttf') format('truetype');\n",
       "    font-weight: normal;\n",
       "    font-style: normal;\n",
       "}\n",
       ".text_cell_render h1 h2 h3 h4 h5 {\n",
       "font-style:regular;\n",
       "font-family: 'Optima', sans-serif;\n",
       "display: block;\n",
       "}\n",
       "/*font-weight: 200;*/\n",
       "/*text-align: left;\n",
       "line-height: 100%;\n",
       "display: block;\n",
       "}*/\n",
       ".text_cell_render h1 {\n",
       "/*font-size: 24pt;*/\n",
       "font-weight: bold;\n",
       "margin-bottom: 0.1em;\n",
       "margin-top: 0.5em;\n",
       "color:#4a4a4a;\n",
       "}\n",
       "\n",
       ".reveal h1 {\n",
       "font-family: 'Optima', sans-serif;\n",
       "/*font-size: 24pt;*/\n",
       "font-weight: bold;\n",
       "margin-bottom: 0.1em;\n",
       "margin-top: 0.5em;\n",
       "color:#4a4a4a;\n",
       "}\n",
       ".text_cell_render h2 {\n",
       "/*font-size: 21pt;*/\n",
       "margin-bottom: 0.1em;\n",
       "margin-top: 0.3em;\n",
       "color:#595959;\n",
       "}\n",
       ".text_cell_render h3 {\n",
       "/*font-size: 19pt;*/\n",
       "margin-bottom: 0.1em;\n",
       "margin-top: 0.3em;\n",
       "color:#595959;\n",
       "}\n",
       ".text_cell_render h4 {\n",
       "/*font-size: 17pt;*/\n",
       "margin-bottom: 0.1em;\n",
       "margin-top: 0.3em;\n",
       "color:#595959;\n",
       "}\n",
       ".text_cell_render h5 {\n",
       "/*font-size: 15pt;*/\n",
       "margin-bottom: 0.1em;\n",
       "margin-top: 0.3em;\n",
       "color:#595959;\n",
       "}\n",
       "div.text_cell_render{\n",
       "font-family: 'Optima', sans-serif;\n",
       "line-height: 120%;\n",
       "font-size: 100%;\n",
       "font-weight: 400;\n",
       "text-align: justify;\n",
       "margin-left:0em;\n",
       "margin-right:0em;\n",
       "}\n",
       ".reveal div.text_cell_render{\n",
       "font-family: 'Optima', sans-serif;\n",
       "line-height: 120%;\n",
       "font-size: 74%;\n",
       "font-weight: 400;\n",
       "text-align: justify;\n",
       "margin-left:0em;\n",
       "margin-right:0em;\n",
       "}\n",
       ".reveal h1 {\n",
       "font-family: 'Optima', sans-serif;\n",
       "/*font-size: 90%; */\n",
       "/*font-size: 24pt;*/\n",
       "font-weight: bold;\n",
       "margin-bottom: 0.1em;\n",
       "margin-top: 0.5em;\n",
       "color:#4a4a4a;\n",
       "}\n",
       ".reveal h2 {\n",
       "font-family: 'Optima', sans-serif;\n",
       "/*font-size: 24pt;*/\n",
       "font-weight: bold;\n",
       "margin-bottom: 0.1em;\n",
       "margin-top: 0.5em;\n",
       "color:#595959;\n",
       "}\n",
       ".reveal h3 {\n",
       "font-family: 'Optima', sans-serif;\n",
       "/*font-size: 24pt;*/\n",
       "font-weight: bold;\n",
       "margin-bottom: 0.1em;\n",
       "margin-top: 0.5em;\n",
       "color:#595959;\n",
       "}\n",
       ".reveal h4 {\n",
       "font-family: 'Optima', sans-serif;\n",
       "font-weight: bold;\n",
       "margin-bottom: 0.1em;\n",
       "margin-top: 0.5em;\n",
       "color:#595959;\n",
       "}\n",
       ".reveal code {\n",
       "font-family: 'Inconsolata', monospace;\n",
       "}\n",
       ".reveal pre {\n",
       "font-family: 'Inconsolata', monospace;\n",
       "}\n",
       "code {\n",
       "font-family: 'Inconsolata', monospace;\n",
       "}\n",
       "pre {\n",
       "font-family: 'Inconsolata', monospace;\n",
       "}\n",
       ".CodeMirror{\n",
       "font-family: \"Inconsolata\", monospace;\n",
       "}\n",
       "/*body{\n",
       "  font-family: 'Optima', sans-serif;\n",
       "}*/\n",
       "</style>\n",
       "<script>\n",
       "    MathJax.Hub.Config({\n",
       "                        TeX: {\n",
       "                           extensions: [\"AMSmath.js\",\"color.js\"],\n",
       "                           equationNumbers: { autoNumber: \"all\"}\n",
       "                           },\n",
       "                tex2jax: {\n",
       "                    inlineMath: [ ['$','$'], [\"\\\\(\",\"\\\\)\"] ],\n",
       "                    displayMath: [ ['$$','$$'], [\"\\\\[\",\"\\\\]\"] ]\n",
       "                },\n",
       "                displayAlign: 'center', // Change this to 'center' to center equations.\n",
       "                \"HTML-CSS\": {\n",
       "                    styles: {'.MathJax_Display': {\"margin\": 4}}\n",
       "                }\n",
       "        });\n",
       "</script>\n"
      ],
      "text/plain": [
       "<IPython.core.display.HTML object>"
      ]
     },
     "execution_count": 8,
     "metadata": {},
     "output_type": "execute_result"
    }
   ],
   "source": [
    "# this code is here only for cosmetic reasons\n",
    "from IPython.core.display import HTML\n",
    "HTML(open('custom/custom.include', 'r').read())"
   ]
  },
  {
   "cell_type": "markdown",
   "metadata": {
    "slideshow": {
     "slide_type": "skip"
    }
   },
   "source": [
    " "
   ]
  }
 ],
 "metadata": {
  "kernelspec": {
   "display_name": "Python 3",
   "language": "python",
   "name": "python3"
  },
  "language_info": {
   "codemirror_mode": {
    "name": "ipython",
    "version": 3
   },
   "file_extension": ".py",
   "mimetype": "text/x-python",
   "name": "python",
   "nbconvert_exporter": "python",
   "pygments_lexer": "ipython3",
   "version": "3.5.1"
  }
 },
 "nbformat": 4,
 "nbformat_minor": 0
}
