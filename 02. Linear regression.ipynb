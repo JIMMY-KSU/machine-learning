{
 "cells": [
  {
   "cell_type": "markdown",
   "metadata": {
    "slideshow": {
     "slide_type": "slide"
    }
   },
   "source": [
    "<div align='left' style=\"width:400px;height:120px;overflow:hidden;\">\n",
    "<a href='http://www.uff.br'>\n",
    "<img align='left' style='display: block;height: 92%' src='imgs/UFF.png' alt='UFF logo' title='UFF logo'/>\n",
    "</a>\n",
    "<a href='http://www.ic.uff.br'>\n",
    "<img align='left' style='display: block;height: 100%' src='imgs/logo-ic.png' alt='IC logo' title='IC logo'/>\n",
    "</a>\n",
    "</div>"
   ]
  },
  {
   "cell_type": "markdown",
   "metadata": {},
   "source": [
    "# Machine Learning: Linear Regression"
   ]
  },
  {
   "cell_type": "markdown",
   "metadata": {},
   "source": [
    "### [Luis Martí](http://lmarti.com)\n",
    "#### [Instituto de Computação](http://www.ic.uff)\n",
    "#### [Universidade Federal Fluminense](http://www.uff.br)\n",
    "#### [`http://lmarti.com/2016-1-ml`](http://lmarti.com/2016-1-ml)"
   ]
  },
  {
   "cell_type": "markdown",
   "metadata": {
    "slideshow": {
     "slide_type": "slide"
    }
   },
   "source": [
    "### About the notebook/slides\n",
    "\n",
    "* The slides are _programmed_ as a [Jupyter](http://jupyter.org)/[IPython](https://ipython.org/) notebook.\n",
    "* **Feel free to try them and experiment on your own by launching the notebooks.**\n",
    "\n",
    "* You can run the notebook online: [![Binder](http://mybinder.org/badge.svg)](http://mybinder.org/repo/lmarti/machine-learning)"
   ]
  },
  {
   "cell_type": "markdown",
   "metadata": {
    "slideshow": {
     "slide_type": "skip"
    }
   },
   "source": [
    "If you are using [nbviewer](http://nbviewer.jupyter.org) you can change to slides mode by clicking on the icon:\n",
    "\n",
    "<div class=\"container-fluid\">\n",
    "  <div class=\"row\">\n",
    "      <div class=\"col-md-3\"><span/></div>\n",
    "      <div class=\"col-md-6\">\n",
    "      <div class='well well-sm'>\n",
    "              <img src='imgs/view-as-slides.png'/>\n",
    "      </div>\n",
    "      </div>\n",
    "      <div class=\"col-md-3\" align='center'><span/></div>\n",
    "  </div>\n",
    "</div>"
   ]
  },
  {
   "cell_type": "code",
   "execution_count": 1,
   "metadata": {
    "collapsed": true,
    "slideshow": {
     "slide_type": "skip"
    }
   },
   "outputs": [],
   "source": [
    "import numpy as np\n",
    "import matplotlib.pyplot as plt\n",
    "import random, math\n",
    "%matplotlib inline\n",
    "%config InlineBackend.figure_format = 'retina'\n",
    "# Fixed seed to make the results repeatable\n",
    "random.seed(0)\n",
    "# Pretty matrix outputs\n",
    "np.set_printoptions(precision=3, threshold=1000, edgeitems=5, linewidth=80, suppress=True)"
   ]
  },
  {
   "cell_type": "markdown",
   "metadata": {
    "slideshow": {
     "align_type": "Left",
     "slide_type": "slide"
    }
   },
   "source": [
    "# Regression$\\renewcommand{\\vec}[1]{\\boldsymbol{#1}}$\n",
    "\n",
    "* We are already familiar with regression problems.\n",
    "* We have a dataset $\\Psi=\\left\\{\\left<\\vec{x}^{(1)},\\vec{y}^{(1)}\\right>,\\ldots,\\left<\\vec{x}^{(i)},\\vec{y}^{(i)}\\right>,\\ldots\\right\\}$ of **noisy samples** drawn from and **unknown** function $\\mathbf{F}:\\mathcal{D}\\rightarrow\\mathcal{I}$.\n",
    "* In the regression case $\\mathcal{D}\\subseteq\\mathbb{R}^n$ and $\\mathcal{I}\\subseteq\\mathbb{R}^m$.\n",
    "\n",
    "We can assume that $m=1$ and noise is Gaussian."
   ]
  },
  {
   "cell_type": "markdown",
   "metadata": {
    "slideshow": {
     "slide_type": "slide"
    }
   },
   "source": [
    "### Gaussian Noise: Model Assumption \n",
    "We will *assume* that the target variable is described by\n",
    "    $$y = \\mathbf{F}(\\vec{x},\\vec{w}) + \\epsilon$$\n",
    "where $\\mathbf{F}(\\vec{x},\\vec{w})$ is an as of yet undefined function of $\\vec{x}$ and $\\vec{w}$ and $\\epsilon$ is a **Gaussian** distributed noise component. "
   ]
  },
  {
   "cell_type": "markdown",
   "metadata": {
    "slideshow": {
     "slide_type": "subslide"
    }
   },
   "source": [
    "#### Gaussian Noise? \n",
    "\n",
    "The derivations provided below all assume Gaussian noise on the target data. Is this a good assumption? In many cases yes. The argument hinges\n",
    "on the use of the [Central_Limit_Theorem](http://en.wikipedia.org/wiki/Central_limit_theorem) that basically says the the **sum** of many independent random variables behaves behaves like a Gaussian distributed random variable. \n",
    "\n",
    "The _noise_ term in this model, $\\epsilon$, can be thought of as the sum of features not included in the model function, $\\mathbf{F}(\\vec{x},\\vec{w})$. Assuming these features are themselves independent random variables then the Central Limit Theorom suggests a Gaussian model is appropriate, assuming there are many independent unaccounted for features. \n",
    "\n",
    "It is possible that there is only a small number of unaccounted for features or that there is genuine *non-Gaussian* noise in our observation measurements, e.g. sensor shot noise that often has a Poisson distribution. In such cases, the assumption is no longer valid."
   ]
  },
  {
   "cell_type": "markdown",
   "metadata": {
    "slideshow": {
     "align_type": "Left",
     "slide_type": "slide"
    }
   },
   "source": [
    "## An Example"
   ]
  },
  {
   "cell_type": "markdown",
   "metadata": {
    "slideshow": {
     "align_type": "Left",
     "slide_type": "-"
    }
   },
   "source": [
    "Training dataset"
   ]
  },
  {
   "cell_type": "code",
   "execution_count": 2,
   "metadata": {
    "collapsed": true
   },
   "outputs": [],
   "source": [
    "N = 5                                              # Size of the data set\n",
    "X = np.array([[0.0], [1.0], [2.0], [3.0], [4.0]])  # Inputs, shape: N x 1\n",
    "y = np.array([10.5, 5.0, 3.0, 2.5, 1.0])           # Outputs, shape: N"
   ]
  },
  {
   "cell_type": "code",
   "execution_count": 3,
   "metadata": {
    "collapsed": false
   },
   "outputs": [
    {
     "name": "stdout",
     "output_type": "stream",
     "text": [
      "[[ 0.  1.  2.  3.  4.]]\n",
      "[ 10.5   5.    3.    2.5   1. ]\n"
     ]
    }
   ],
   "source": [
    "print(X.T)\n",
    "print(y)"
   ]
  },
  {
   "cell_type": "markdown",
   "metadata": {
    "slideshow": {
     "slide_type": "slide"
    }
   },
   "source": [
    "Test dataset"
   ]
  },
  {
   "cell_type": "code",
   "execution_count": 4,
   "metadata": {
    "collapsed": false,
    "slideshow": {
     "align_type": "Left",
     "slide_type": "-"
    }
   },
   "outputs": [],
   "source": [
    "N_test = 100\n",
    "X_test = np.linspace(0.0, 4.0, N_test).reshape((N_test, 1))\n",
    "y_test = np.linspace(7.0, -5.0, N_test) + 2*np.random.randn(N_test)"
   ]
  },
  {
   "cell_type": "markdown",
   "metadata": {
    "slideshow": {
     "slide_type": "slide"
    }
   },
   "source": [
    "The training and test datasets"
   ]
  },
  {
   "cell_type": "code",
   "execution_count": 5,
   "metadata": {
    "collapsed": false,
    "slideshow": {
     "align_type": "Left",
     "slide_type": "-"
    }
   },
   "outputs": [
    {
     "data": {
      "image/png": "[encoded data removed]",
      "text/plain": [
       "<matplotlib.figure.Figure at 0x108d3cbe0>"
      ]
     },
     "metadata": {
      "image/png": {
       "height": 270,
       "width": 396
      }
     },
     "output_type": "display_data"
    }
   ],
   "source": [
    "plt.plot(X[:, 0], y, 'bo', label='Training')\n",
    "plt.plot(X_test[:, 0], y_test, \"g.\", label='Test')\n",
    "plt.xlabel('X'); plt.ylabel('y'); plt.legend();"
   ]
  },
  {
   "cell_type": "markdown",
   "metadata": {
    "slideshow": {
     "align_type": "Left",
     "slide_type": "slide"
    }
   },
   "source": [
    "# Linear Regression Model"
   ]
  },
  {
   "cell_type": "markdown",
   "metadata": {
    "slideshow": {
     "align_type": "Left",
     "slide_type": "-"
    }
   },
   "source": [
    "* We can express our constraints down with a **linear** model: \n",
    "$$y^{(i)} + \\epsilon^{(i)} =  \\vec{x}^{(i)}\\cdot \\vec{w} + b, \\forall i \\in \\{1,\\ldots,N\\}$$ \n",
    "where $\\boldsymbol{w}$ and $b$ constitute a weight vector and $\\epsilon^{(n)} \\sim \\mathcal{N}(0, \\sigma^2)$.\n",
    "\n",
    "* Weights are parameters of the linear model that can be tuned to fit the training data better."
   ]
  },
  {
   "cell_type": "markdown",
   "metadata": {
    "slideshow": {
     "align_type": "Left",
     "slide_type": "slide"
    }
   },
   "source": [
    "* A shorter version of this expression is the following equation:\n",
    "$$\\vec{y} + \\vec{\\epsilon} = \\vec{X} \\cdot \\vec{w}, \\quad \\vec{X} \\in \\mathbb{R}^{N \\times n}, \\vec{y} \\in \\mathbb{R}^N, \\vec{\\epsilon} \\in \\mathbb{R}^N, \\vec{w} \\in \\mathbb{R}^n,$$\n",
    "where the $i$-th **row** of $\\vec{X}$ represents $\\vec{x}^{(i)}$ and the $i$-th entry of the vector $\\vec{y}$ represents $\\vec{y}^{(i)}$.\n"
   ]
  },
  {
   "cell_type": "markdown",
   "metadata": {
    "slideshow": {
     "align_type": "Left",
     "slide_type": "fragment"
    }
   },
   "source": [
    "* It might not be possible to find a weight vector that satisfies the constraints perfectly.\n",
    "* Instead, we can minimize the sum of squared errors (SSE): \n",
    "$$\\hat{\\boldsymbol{w}} = \\text{argmin}_\\boldsymbol{w} \\dfrac{1}{2}\\left\\|\\boldsymbol{X}\\boldsymbol{w} - \\boldsymbol{y}\\right\\|^2_2,$$ \n",
    "where $\\left\\|\\boldsymbol{A}\\right\\|_2$ is called [Frobenius norm](http://en.wikipedia.org/wiki/Matrix_norm#Frobenius_norm) and is the generalization of the Euclidean norm for matrices."
   ]
  },
  {
   "cell_type": "markdown",
   "metadata": {
    "slideshow": {
     "slide_type": "skip"
    }
   },
   "source": [
    "The *frequentist* (*maximum likelihood*) approach\n",
    "\n",
    "* assumes that we first obtain observation training data, $\\vec{y}$, and that the *best*  value of $\\vec{w}$, is that which maximizes the likelihood function, $p(\\vec{y}|\\vec{x},\\vec{w})$.\n",
    "\n",
    "Under the Gaussian noise condition it can be shown that the maximum likelihood function for the training data is\n",
    "$$\n",
    "\\begin{array}{rl}\n",
    "p(\\vec{y}|\\vec{X},\\vec{w},\\sigma^2) & = \\prod_{i=1}^N \\mathcal{ND}(y^{(i)}|\\vec{w}^\\intercal\\phi(\\vec{x}^{(i)}),\\sigma^2) \\\\\n",
    "& =\\frac{N}{2}\\ln\\left(\\frac{1}{\\sigma^2}\\right) -\\frac{N}{2}\\ln(2\\pi) - \\frac{1}{2\\sigma^2}\\sum_{i=1}^N\\{t_n -\\vec{w}^\\intercal\\phi(\\vec{x}^{(i)})\\}^2\n",
    "\\end{array}\n",
    "$$ where $\\vec{X}=\\{\\vec{x}^{(1)},\\ldots,\\vec{x}^{(N)}\\}$ is the input value set for the corresponding $N$ oberved output values contained in the vector $\\mathbf{t}$, and $\\mathcal{ND}(\\mu,\\sigma^2)$ is the Normal Distribution (Gaussian).\n",
    "\n",
    "**Note:** I used $\\mathcal{ND}$ instead of the standard $\\mathcal{N}$ to avoid confusion with the product limit, $N$.\n",
    "    \n",
    "Taking the logarithm of the maximum likelihood and setting the derivative with respect to $\\vec{w}$ equal to zero, one can obtain the maximum likelikhood parameters given by the **normal equations**:\n",
    "$$\\vec{w}_\\text{ML} = \\left(\\vec{\\Phi}^\\intercal\\vec{\\Phi}\\right)^{-1}\\vec{\\Phi}^\\intercal\\vec{y},$$ \n",
    "where $\\vec{\\Phi}$ is the $N \\times M$ *design matrix* with elements $\\Phi_{i,j}=\\phi_j(\\vec{x}^{(i)})$, and $\\vec{y}$ is the $N \\times K$\n",
    "matrix of training set target values (for $K=1$, it is simply a column vector). \n",
    "\n",
    "Note that $\\vec{\\Phi}^\\intercal$ is a $M \\times N$ matrix, so that $\\vec{w}_{ML}=\\left(\\vec{\\Phi}^intercal\\vec{\\Phi}\\right)^{-1}\\vec{\\Phi}^\\intercal\\vec{y}$ is $(M \\times N)\\times(N \\times M)\\times(M\\times N)\\times(N \\times K) = M \\times K$, where $M$ is the number of free parameters and $K$ is the number of predicted \n",
    "target values for a given input.\n",
    "\n",
    "Note that the only term in the likelihood function that depends on $\\vec{w}$ is the last term. Thus, maximizing the likelihood function with respect to $\\vec{w}$ *under the assumption of Gaussian noise* is equivalent to minimizing a \n",
    "sum-of-squares error function."
   ]
  },
  {
   "cell_type": "markdown",
   "metadata": {
    "slideshow": {
     "align_type": "Left",
     "slide_type": "slide"
    }
   },
   "source": [
    "## Learning Weights"
   ]
  },
  {
   "cell_type": "markdown",
   "metadata": {
    "slideshow": {
     "align_type": "Left",
     "slide_type": "-"
    }
   },
   "source": [
    "There are two ways to adjust the weights of a linear model (which includes linear models with nonlinear features):\n",
    "\n",
    "* **Normal equations** (analytical solution), requires inversion of $n \\times n$ matrix.\n",
    "    * It does not scale well with the number of features\n",
    "* **Gradient descent** (iterative solution), requires the calculation of $N$ gradients in each step.\n",
    "    * It does not scale well with the number of examples.\n",
    "\n",
    "In addition, we can add a constraint to the objective function to penalize large weights: **Tikhonov regularization** (forward pointer)."
   ]
  },
  {
   "cell_type": "markdown",
   "metadata": {
    "slideshow": {
     "align_type": "Left",
     "slide_type": "slide"
    }
   },
   "source": [
    "## Normal Equations"
   ]
  },
  {
   "cell_type": "markdown",
   "metadata": {
    "slideshow": {
     "align_type": "Left",
     "slide_type": "-"
    }
   },
   "source": [
    "* Frequently solving the equation $\\boldsymbol{X} \\cdot \\boldsymbol{w} = \\boldsymbol{y}$ directly for $\\boldsymbol{w}$ by inversion is not possible.\n",
    "    * $\\boldsymbol{X}$ is not necessarily a square matrix, therefore $\\boldsymbol{w} = \\boldsymbol{X}^{-1} \\boldsymbol{y}$ is usually not possible. \n",
    "\n",
    "* It is usually not possible to find an exact solution. \n",
    "    * Instead, we find the [least squares](http://en.wikipedia.org/wiki/Linear_least_squares_%28mathematics%29) solution, which is the solution of $$\\vec{X}^\\intercal\\vec{X} \\hat{\\boldsymbol{w}} = \\vec{X}^\\intercal\\vec{y}$$ for $\\hat{\\boldsymbol{w}}$, i.e. $$\\hat{\\vec{w}} = (\\vec{X}^\\intercal\\vec{X})^{-1}\\vec{X}^\\intercal\\vec{y}.$$"
   ]
  },
  {
   "cell_type": "markdown",
   "metadata": {
    "slideshow": {
     "slide_type": "skip"
    }
   },
   "source": [
    "*Hint:* The expression $(\\vec{X}^\\intercal\\vec{X})^{-1}\\vec{X}^\\intercal$ is equivalent to the [Moore-Penrose pseudoinverse](http://en.wikipedia.org/wiki/Moore%E2%80%93Penrose_pseudoinverse) $\\vec{X}^+$ of $\\vec{X}$. It is a generalization of the inverse for non-square matrices. You can use this to implement normal equations if your library provides the function. You could also use a least squares solver (e.g. `numpy.linalg.lstsq` or `dgelsd/zgelsd` from LAPACK)."
   ]
  },
  {
   "cell_type": "markdown",
   "metadata": {
    "slideshow": {
     "slide_type": "skip"
    }
   },
   "source": [
    "[Inversion of 2x2 matrices](https://en.wikipedia.org/wiki/Invertible_matrix#Inversion_of_2.C3.972_matrices):\n",
    "\n",
    "$$\\left(\\begin{array}{cc}a & b\\\\ c & d\\end{array}\\right)^{-1} = \\frac{1}{ad - bc}\\left(\\begin{array}{cc}d & -b\\\\ -c & a\\end{array}\\right)$$"
   ]
  },
  {
   "cell_type": "code",
   "execution_count": 6,
   "metadata": {
    "collapsed": false,
    "slideshow": {
     "align_type": "Left",
     "slide_type": "slide"
    }
   },
   "outputs": [],
   "source": [
    "def normal_equations(X, y):\n",
    "    #w = np.linalg.inv(X.T.dot(X)).dot(X.T).dot(y)\n",
    "    # ... or we can use the Moore-Penrose pseudoinverse (is usually more likely to be numerically stable)\n",
    "    #w = np.linalg.pinv(X).dot(y)\n",
    "    # ... or we use the solver\n",
    "    w = np.linalg.lstsq(X, y)[0]\n",
    "    return w"
   ]
  },
  {
   "cell_type": "code",
   "execution_count": 7,
   "metadata": {
    "collapsed": true,
    "slideshow": {
     "slide_type": "slide"
    }
   },
   "outputs": [],
   "source": [
    "# Add bias to each row/instance:\n",
    "X_bias = np.hstack((X, np.ones((N, 1))))\n",
    "X_test_bias = np.hstack((X_test, np.ones((N_test, 1))))"
   ]
  },
  {
   "cell_type": "code",
   "execution_count": 8,
   "metadata": {
    "collapsed": false
   },
   "outputs": [
    {
     "data": {
      "text/plain": [
       "array([[ 0.,  1.],\n",
       "       [ 1.,  1.],\n",
       "       [ 2.,  1.],\n",
       "       [ 3.,  1.],\n",
       "       [ 4.,  1.]])"
      ]
     },
     "execution_count": 8,
     "metadata": {},
     "output_type": "execute_result"
    }
   ],
   "source": [
    "X_bias"
   ]
  },
  {
   "cell_type": "code",
   "execution_count": 9,
   "metadata": {
    "collapsed": true,
    "slideshow": {
     "slide_type": "slide"
    }
   },
   "outputs": [],
   "source": [
    "w = normal_equations(X_bias, y)"
   ]
  },
  {
   "cell_type": "code",
   "execution_count": 10,
   "metadata": {
    "collapsed": false,
    "slideshow": {
     "align_type": "Left",
     "slide_type": "fragment"
    }
   },
   "outputs": [
    {
     "data": {
      "image/png": "[encoded data removed]",
      "text/plain": [
       "<matplotlib.figure.Figure at 0x10d690d30>"
      ]
     },
     "metadata": {
      "image/png": {
       "height": 281,
       "width": 388
      }
     },
     "output_type": "display_data"
    }
   ],
   "source": [
    "plt.plot(X_bias[:, 0], y, \"o\")\n",
    "plt.plot(X_bias[:, 0], X_bias.dot(w), \"m-\", linewidth=2)\n",
    "plt.xlabel(\"x\"); plt.ylabel(\"y\"); plt.title(\"Model: $y = %.2f x + %.2f$\" % tuple(w));"
   ]
  },
  {
   "cell_type": "markdown",
   "metadata": {
    "slideshow": {
     "slide_type": "fragment"
    }
   },
   "source": [
    "We can now solve linear regression problems at will!"
   ]
  },
  {
   "cell_type": "markdown",
   "metadata": {
    "slideshow": {
     "slide_type": "slide"
    }
   },
   "source": [
    "## Homework 1\n",
    "\n",
    "Test the other forms of normal equations."
   ]
  },
  {
   "cell_type": "markdown",
   "metadata": {
    "slideshow": {
     "align_type": "Left",
     "slide_type": "slide"
    }
   },
   "source": [
    "## Computational cost and complexity"
   ]
  },
  {
   "cell_type": "markdown",
   "metadata": {
    "slideshow": {
     "align_type": "Left",
     "slide_type": "fragment"
    }
   },
   "source": [
    "Think of this problem:\n",
    "* inputs: 100 images of size 256x256 pixels\n",
    "* output: radius of the ball which is at the center of the image\n",
    "* Is the direct solution via normal equations viable?"
   ]
  },
  {
   "cell_type": "markdown",
   "metadata": {
    "slideshow": {
     "align_type": "Left",
     "slide_type": "subslide"
    }
   },
   "source": [
    "## Estimating problem tractability"
   ]
  },
  {
   "cell_type": "code",
   "execution_count": 21,
   "metadata": {
    "collapsed": false,
    "slideshow": {
     "align_type": "Left",
     "slide_type": "fragment"
    }
   },
   "outputs": [
    {
     "name": "stdout",
     "output_type": "stream",
     "text": [
      "Required memory: 32 GiB\n"
     ]
    }
   ],
   "source": [
    "n_pixels = 256 * 256\n",
    "memory_size_xtx = n_pixels * n_pixels * 8\n",
    "print(\"Required memory: %d GiB\" % (memory_size_xtx / 2**30))"
   ]
  },
  {
   "cell_type": "markdown",
   "metadata": {
    "slideshow": {
     "align_type": "Left",
     "slide_type": "fragment"
    }
   },
   "source": [
    "Inversion is an operation that requires $O(n^{2.373})$ operations ([Source](http://en.wikipedia.org/wiki/Computational_complexity_of_mathematical_operations))."
   ]
  },
  {
   "cell_type": "markdown",
   "metadata": {
    "slideshow": {
     "align_type": "Left",
     "slide_type": "slide"
    }
   },
   "source": [
    "## (Stochastic) Gradient Descent"
   ]
  },
  {
   "cell_type": "markdown",
   "metadata": {},
   "source": [
    "In cases where the training data set is very large or data is received in a stream, a direct solution using the normal equations may not be possible. An alternative approach is the **stochastic gradient descent** algorithm."
   ]
  },
  {
   "cell_type": "markdown",
   "metadata": {
    "slideshow": {
     "slide_type": "slide"
    }
   },
   "source": [
    "Iteratively update the weights using the gradient as reference.\n",
    "<div class=\"container-fluid\">\n",
    "  <div class=\"row\">\n",
    "      <div class=\"col-md-3\"><span/></div>\n",
    "      <div class=\"col-md-6\">\n",
    "          <div class='well'>\n",
    "              <img class='img-thumbnail' src='https://upload.wikimedia.org/wikipedia/commons/7/7a/Graph_of_sliding_derivative_line.gif'/>\n",
    "          </div>\n",
    "      </div>\n",
    "      <div class=\"col-md-3\" align='center'><span/></div>\n",
    "  </div>\n",
    "</div>"
   ]
  },
  {
   "cell_type": "markdown",
   "metadata": {
    "slideshow": {
     "align_type": "Left",
     "slide_type": "slide"
    }
   },
   "source": [
    "* $\\Delta \\boldsymbol{w}_t$ is minus the derivative of the error function $E(\\boldsymbol{X}, \\boldsymbol{y};\\boldsymbol{w}_t)$ with respect to the weight $w_i$: \n",
    "$$\\Delta w_i = - \\frac{\\partial E(\\boldsymbol{X}, \\boldsymbol{y};\\boldsymbol{w})}{\\partial w_i}$$\n",
    "\n",
    "Update $\\boldsymbol{w}$ incrementally in every iteration $t$ as:\n",
    "\n",
    "$$\\boldsymbol{w}(t+1) = \\boldsymbol{w}(t) + \\alpha \\Delta \\boldsymbol{w}(t),$$\n",
    "\n",
    "where\n",
    "\n",
    "* $\\alpha$ is a hyperparameter called **learning rate**, it has to be set manually and must usually be within $(0, 1)$, typical values are 10e-1, 10e-2, 10e-3, ..."
   ]
  },
  {
   "cell_type": "markdown",
   "metadata": {
    "slideshow": {
     "slide_type": "slide"
    }
   },
   "source": [
    "**Note:** Gradient descent actually is a more general rule that can be applied to any minimization problem if the gradient can be computed, e.g., for artificial neural networks, support vector machines, $k$-means, etc. (another forward pointer)."
   ]
  },
  {
   "cell_type": "markdown",
   "metadata": {
    "slideshow": {
     "align_type": "Left",
     "slide_type": "slide"
    }
   },
   "source": [
    "## Gradient of the Linear Model"
   ]
  },
  {
   "cell_type": "markdown",
   "metadata": {
    "slideshow": {
     "align_type": "Left",
     "slide_type": "fragment"
    }
   },
   "source": [
    "Using as error function the sum of squared errors (SSE),\n",
    "\n",
    "$$E(\\boldsymbol{X}, \\boldsymbol{y};\\boldsymbol{w}) = \\frac{1}{2}\\left\\|\\boldsymbol{X} \\cdot \\boldsymbol{w} - \\boldsymbol{y}\\right\\|^2_2$$\n",
    "\n",
    "The gradient becomes\n",
    "$$\\nabla \\boldsymbol{w} = \\nabla_{\\boldsymbol{w}} E(\\boldsymbol{X}, \\boldsymbol{y};\\boldsymbol{w}) = \\boldsymbol{X}^T \\cdot (\\boldsymbol{X} \\cdot \\boldsymbol{w} - \\boldsymbol{y})$$"
   ]
  },
  {
   "cell_type": "markdown",
   "metadata": {
    "slideshow": {
     "slide_type": "slide"
    }
   },
   "source": [
    "# Homework!\n",
    "\n",
    "Implement the linear SSE gradient as the function"
   ]
  },
  {
   "cell_type": "code",
   "execution_count": 12,
   "metadata": {
    "collapsed": true
   },
   "outputs": [],
   "source": [
    "def linear_gradient_descent(X, y, w):\n",
    "    pass"
   ]
  },
  {
   "cell_type": "markdown",
   "metadata": {},
   "source": [
    "...and implement the learning loop.\n",
    "\n",
    "See: Read Chapter 3 of Hastie, Tibshirani and Friedman (2009) [The Elements of Statistical Learning (2nd edition)](http://statweb.stanford.edu/~tibs/ElemStatLearn/) Springer-Verlag."
   ]
  },
  {
   "cell_type": "markdown",
   "metadata": {
    "slideshow": {
     "align_type": "Left",
     "slide_type": "slide"
    }
   },
   "source": [
    "### Questions on the homework"
   ]
  },
  {
   "cell_type": "markdown",
   "metadata": {
    "slideshow": {
     "align_type": "Left",
     "slide_type": "-"
    }
   },
   "source": [
    "* Why don't we always choose a very small learning rate?\n",
    "* Your implementation of gradient descent oscillates between two error values. What could be the cause?"
   ]
  },
  {
   "cell_type": "markdown",
   "metadata": {
    "slideshow": {
     "slide_type": "slide"
    }
   },
   "source": [
    "## Can we make linear models non-linear?"
   ]
  },
  {
   "cell_type": "markdown",
   "metadata": {
    "slideshow": {
     "slide_type": "-"
    }
   },
   "source": [
    "* Nonlinear projection of features (e.g. polynomial regression)\n",
    "* Kernel trick (e.g. SVR, SVM, ...)\n",
    "* Mixture of experts (e.g. locally weighted regression, locally weighted projection regression, Gaussian mixture regression, ...)\n",
    "* Learn nonlinear features (e.g. artificial neural networks)"
   ]
  },
  {
   "cell_type": "markdown",
   "metadata": {
    "slideshow": {
     "align_type": "Left",
     "slide_type": "slide"
    }
   },
   "source": [
    "## Approximation of Nonlinear Functions (with a Linear Model)"
   ]
  },
  {
   "cell_type": "markdown",
   "metadata": {
    "slideshow": {
     "align_type": "Left",
     "slide_type": "-"
    }
   },
   "source": [
    "* To approximate nonlinear funtions with a linear model, we have to generate **nonlinear features**. \n",
    "\n",
    "* In this example, we generate **sinusoidal** features. You could also try radial basis functions, polynomials, ...\n",
    "\n",
    "* We expand each feature $x_j$ to the nonlinear feature vector $$\\left\\langle\\cos(\\frac{0}{d} \\pi x_j), \\cos(\\frac{1}{d} \\pi x_j), \\ldots, \\cos(\\frac{d}{d} \\pi x_j)\\right\\rangle^\\intercal,$$ where $d$ is the number of basis functions. \n",
    "\n",
    "* Note that $\\cos \\left(\\frac{0}{D} \\pi x_j \\right)=1$ is the bias we added manually in the previous example."
   ]
  },
  {
   "cell_type": "code",
   "execution_count": 13,
   "metadata": {
    "collapsed": false,
    "slideshow": {
     "align_type": "Left",
     "slide_type": "slide"
    }
   },
   "outputs": [],
   "source": [
    "from itertools import chain\n",
    "\n",
    "def sinusoidalize(X, n_degree):\n",
    "    X_sinusoidal = np.ndarray((len(X), n_degree+1))\n",
    "    for d in range(n_degree+1):\n",
    "        X_sinusoidal[:, d] = np.cos(X[:, 0] * np.pi * d / n_degree)\n",
    "    return X_sinusoidal\n",
    "\n",
    "# Utility function\n",
    "def build_sinusoidal(n_degree, w):\n",
    "    return (((\"%+.2f \\sin(%d /\" + str(n_degree) + \" \\pi x)\") * (n_degree+1)) % tuple(chain(*zip(w, range(n_degree+1)))))\n",
    "\n",
    "n_degree = 4\n",
    "X_sinusoidal = sinusoidalize(X, n_degree=n_degree)\n",
    "X_test_sinusoidal = sinusoidalize(X_test, n_degree=n_degree)\n",
    "w_sin = normal_equations(X_sinusoidal, y)"
   ]
  },
  {
   "cell_type": "code",
   "execution_count": 14,
   "metadata": {
    "collapsed": false,
    "slideshow": {
     "align_type": "Left",
     "slide_type": "slide"
    }
   },
   "outputs": [
    {
     "data": {
      "image/png": "[encoded data removed]",
      "text/plain": [
       "<matplotlib.figure.Figure at 0x10dd895c0>"
      ]
     },
     "metadata": {
      "image/png": {
       "height": 280,
       "width": 540
      }
     },
     "output_type": "display_data"
    }
   ],
   "source": [
    "plt.plot(X_bias[:, 0], X_bias.dot(w), \"m-\", linewidth=2, label='linear')\n",
    "plt.plot(X_test_bias[:, 0], X_test_sinusoidal.dot(w_sin), \"-\", linewidth=2, color=\"r\", label='sinusoidal')\n",
    "plt.plot(X_bias[:, 0], y, \"bo\", label='training')\n",
    "plt.xlabel(\"x\"); plt.ylabel(\"y\"); plt.legend()\n",
    "plt.title(\"Model: $y = \" + build_sinusoidal(n_degree, w_sin) + \"$\");"
   ]
  },
  {
   "cell_type": "markdown",
   "metadata": {
    "slideshow": {
     "slide_type": "slide"
    }
   },
   "source": [
    "You might be wondering, is this cheating? \n",
    "* I am hand-picking basis functions.\n",
    "* This approach has little applicability in real-world practice but...\n",
    "* hints us towards an interesting direction."
   ]
  },
  {
   "cell_type": "markdown",
   "metadata": {
    "slideshow": {
     "align_type": "Left",
     "slide_type": "slide"
    }
   },
   "source": [
    "## How can we make a model more general?"
   ]
  },
  {
   "cell_type": "markdown",
   "metadata": {
    "slideshow": {
     "align_type": "Left",
     "slide_type": "fragment"
    }
   },
   "source": [
    "* **Get more training data.**\n",
    "* Generate artificial training data:\n",
    "    * Add noise to your training data\n",
    "    * Example for object recognition: scale, rotate, distort images, select random samples from a bigger image, corrupt image, ...\n",
    "* Prefer simple models (e.g. degree of polynomial)\n",
    "* Penalize large weights, for example\n",
    "    * quadratic values of weights\n",
    "    * absolute values of weights\n",
    "    * ...\n",
    "* Average **different** models (ensemble methods)"
   ]
  },
  {
   "cell_type": "markdown",
   "metadata": {
    "slideshow": {
     "slide_type": "slide"
    }
   },
   "source": [
    "## Over and Under Fitting\n",
    "Techniques used to account for over fitting or under fitting a given model when using a maximum likelihood approach.\n",
    "\n",
    "### Regularized Least Squares\n",
    "* Regularization attempts to address the problem of overfitting a given model to the training data and/or eliminating parameters that are not important based on the data. \n",
    "* The general total error function with a **regularization term** is given by\n",
    "$$E_D(\\vec{w}) + \\lambda E_W(\\vec{w})$$\n",
    "where $\\lambda$ is the regularization coefficient and $E_W$ is the regularization term."
   ]
  },
  {
   "cell_type": "markdown",
   "metadata": {
    "slideshow": {
     "slide_type": "slide"
    }
   },
   "source": [
    "A commonly used regularization term is the sum-of-squares of the model parameters,\n",
    "    $$E_W(\\vec{w}) = \\frac1{2}\\vec{w}^\\intercal\\vec{w}$$\n",
    "known as the **weight decay** regularizer. \n",
    "\n",
    "This regularization terms leads to the optimal solution, assuming a linear regression model with Gaussian noise on the training data, of $$\\vec{w} = \\left(\\lambda \\vec{I} + \\vec{\\Phi}^\\intercal \\vec{\\Phi}\\right)^{-1} \\vec{\\Phi}^T\\vec{y}$$"
   ]
  },
  {
   "cell_type": "code",
   "execution_count": 15,
   "metadata": {
    "collapsed": true,
    "slideshow": {
     "slide_type": "slide"
    }
   },
   "outputs": [],
   "source": [
    "def y(x,m,b,mu=0,sigma=1): \n",
    "    return m*x + b + np.random.normal(mu,sigma,1)[0]\n",
    "\n",
    "def el_pow(x,pow):\n",
    "    temp = x\n",
    "    for i in range(pow-1):\n",
    "        temp = temp * x\n",
    "    return temp\n",
    "\n",
    "def prediction(params, x):\n",
    "    pred = 0\n",
    "    for i in range(len(params)):\n",
    "        pred += params[i]*math.pow(x,i)\n",
    "    return pred"
   ]
  },
  {
   "cell_type": "code",
   "execution_count": 16,
   "metadata": {
    "collapsed": false,
    "slideshow": {
     "slide_type": "slide"
    }
   },
   "outputs": [
    {
     "name": "stdout",
     "output_type": "stream",
     "text": [
      "w1= [    1.65    -12.386   152.416  -618.992  1189.687 -1049.657   310.822    33.286]\n"
     ]
    }
   ],
   "source": [
    "#training data, with N data points\n",
    "N = 101\n",
    "M = 8\n",
    "t = np.empty(N)\n",
    "domain = np.empty(N)\n",
    "domain_bound = 1.0/N\n",
    "for i in range(N): \n",
    "    domain[i] = i*domain_bound\n",
    "for i in range(N): \n",
    "    t[i] = y(x=domain[i],m=4.89,b=0.57)\n",
    "#find the solution without using regularization\n",
    "#design matrix, phi, N X M\n",
    "phi = np.array([np.ones(N), domain, el_pow(domain,2), el_pow(domain,3),\n",
    "                el_pow(domain,4), el_pow(domain,5), el_pow(domain,6),el_pow(domain,7)]).T\n",
    "temp1 = np.linalg.inv(np.dot(phi.T,phi)) #inverse of phi.T X phi\n",
    "temp2 = np.dot(temp1, phi.T)\n",
    "w1 = np.dot(temp2,t) #solution\n",
    "predicted_t = [prediction(w1,x) for x in domain]\n",
    "print('w1=',w1)"
   ]
  },
  {
   "cell_type": "code",
   "execution_count": 17,
   "metadata": {
    "collapsed": false,
    "slideshow": {
     "slide_type": "slide"
    }
   },
   "outputs": [
    {
     "name": "stdout",
     "output_type": "stream",
     "text": [
      "w2= [ 1.313  2.673  1.053 -0.035 -0.344 -0.15   0.337  0.979]\n"
     ]
    }
   ],
   "source": [
    "#find the regularized solution\n",
    "lam = 0.1\n",
    "temp1 = np.linalg.inv(lam*np.eye(M)+np.dot(phi.T,phi))\n",
    "temp2 = np.dot(temp1,phi.T)\n",
    "w2 = np.dot(temp2,t)\n",
    "print('w2=',w2)\n",
    "predicted_t_reg = [prediction(w2,x) for x in domain]"
   ]
  },
  {
   "cell_type": "code",
   "execution_count": 18,
   "metadata": {
    "collapsed": false,
    "slideshow": {
     "slide_type": "slide"
    }
   },
   "outputs": [
    {
     "data": {
      "image/png": "[encoded data removed]",
      "text/plain": [
       "<matplotlib.figure.Figure at 0x10f0c8940>"
      ]
     },
     "metadata": {
      "image/png": {
       "height": 255,
       "width": 367
      }
     },
     "output_type": "display_data"
    }
   ],
   "source": [
    "plt.plot(domain,t, label='training')\n",
    "plt.plot(domain,predicted_t, label='predicted')\n",
    "plt.plot(domain,predicted_t_reg, label='regularized')\n",
    "plt.legend(loc='lower right');"
   ]
  },
  {
   "cell_type": "markdown",
   "metadata": {
    "slideshow": {
     "slide_type": "slide"
    }
   },
   "source": [
    "# Final remarks\n",
    "\n",
    "* We now have a tool for solving regression problems.\n",
    "* ...but the world is highly non-linear 😱.\n",
    "* Gradient descent is applicable in cases where the loss function is differenciable with respect to the parameters.\n",
    "* We saw regularization in action for the first time.\n",
    "* Read Chapter 3 of Hastie, Tibshirani and Friedman (2009) [The Elements of Statistical Learning (2nd edition)](http://statweb.stanford.edu/~tibs/ElemStatLearn/) Springer-Verlag."
   ]
  },
  {
   "cell_type": "markdown",
   "metadata": {
    "slideshow": {
     "slide_type": "skip"
    }
   },
   "source": [
    "<hr/>\n",
    "<div class=\"container-fluid\">\n",
    "  <div class='well'>\n",
    "      <div class=\"row\">\n",
    "          <div class=\"col-md-3\" align='center'>\n",
    "              <img align='center'alt=\"Creative Commons License\" style=\"border-width:0\" src=\"https://i.creativecommons.org/l/by-nc-sa/4.0/88x31.png\"/>\n",
    "          </div>\n",
    "          <div class=\"col-md-9\">\n",
    "              This work is licensed under a [Creative Commons Attribution-NonCommercial-ShareAlike 4.0 International License](http://creativecommons.org/licenses/by-nc-sa/4.0/).\n",
    "          </div>\n",
    "      </div>\n",
    "  </div>\n",
    "</div>"
   ]
  },
  {
   "cell_type": "code",
   "execution_count": 19,
   "metadata": {
    "collapsed": false,
    "slideshow": {
     "slide_type": "skip"
    }
   },
   "outputs": [
    {
     "data": {
      "application/json": {
       "Software versions": [
        {
         "module": "Python",
         "version": "3.5.1 64bit [GCC 4.2.1 (Apple Inc. build 5577)]"
        },
        {
         "module": "IPython",
         "version": "4.1.2"
        },
        {
         "module": "OS",
         "version": "Darwin 15.4.0 x86_64 i386 64bit"
        },
        {
         "module": "scipy",
         "version": "0.17.0"
        },
        {
         "module": "numpy",
         "version": "1.10.4"
        },
        {
         "module": "matplotlib",
         "version": "1.5.1"
        }
       ]
      },
      "text/html": [
       "<table><tr><th>Software</th><th>Version</th></tr><tr><td>Python</td><td>3.5.1 64bit [GCC 4.2.1 (Apple Inc. build 5577)]</td></tr><tr><td>IPython</td><td>4.1.2</td></tr><tr><td>OS</td><td>Darwin 15.4.0 x86_64 i386 64bit</td></tr><tr><td>scipy</td><td>0.17.0</td></tr><tr><td>numpy</td><td>1.10.4</td></tr><tr><td>matplotlib</td><td>1.5.1</td></tr><tr><td colspan='2'>Mon Mar 28 10:45:53 2016 BRT</td></tr></table>"
      ],
      "text/latex": [
       "\\begin{tabular}{|l|l|}\\hline\n",
       "{\\bf Software} & {\\bf Version} \\\\ \\hline\\hline\n",
       "Python & 3.5.1 64bit [GCC 4.2.1 (Apple Inc. build 5577)] \\\\ \\hline\n",
       "IPython & 4.1.2 \\\\ \\hline\n",
       "OS & Darwin 15.4.0 x86\\_64 i386 64bit \\\\ \\hline\n",
       "scipy & 0.17.0 \\\\ \\hline\n",
       "numpy & 1.10.4 \\\\ \\hline\n",
       "matplotlib & 1.5.1 \\\\ \\hline\n",
       "\\hline \\multicolumn{2}{|l|}{Mon Mar 28 10:45:53 2016 BRT} \\\\ \\hline\n",
       "\\end{tabular}\n"
      ],
      "text/plain": [
       "Software versions\n",
       "Python 3.5.1 64bit [GCC 4.2.1 (Apple Inc. build 5577)]\n",
       "IPython 4.1.2\n",
       "OS Darwin 15.4.0 x86_64 i386 64bit\n",
       "scipy 0.17.0\n",
       "numpy 1.10.4\n",
       "matplotlib 1.5.1\n",
       "Mon Mar 28 10:45:53 2016 BRT"
      ]
     },
     "execution_count": 19,
     "metadata": {},
     "output_type": "execute_result"
    }
   ],
   "source": [
    "%load_ext version_information\n",
    "%version_information scipy, numpy, matplotlib"
   ]
  },
  {
   "cell_type": "code",
   "execution_count": 20,
   "metadata": {
    "collapsed": false,
    "slideshow": {
     "slide_type": "skip"
    }
   },
   "outputs": [
    {
     "data": {
      "text/html": [
       "<link href='https://fonts.googleapis.com/css?family=Inconsolata:400,700' rel='stylesheet' type='text/css'/>\n",
       "<style>\n",
       "@font-face {\n",
       "    font-family: 'Optima';\n",
       "    src: url('fonts/optima-webfont.eot');\n",
       "    src: url('fonts/optima-webfont.eot?#iefix') format('embedded-opentype'),\n",
       "         url('fonts/optima-webfont.woff') format('woff'),\n",
       "         url('fonts/optima-webfont.ttf') format('truetype');\n",
       "    font-weight: normal;\n",
       "    font-style: normal;\n",
       "}\n",
       ".text_cell_render h1 h2 h3 h4 h5 {\n",
       "font-style:regular;\n",
       "font-family: 'Optima', sans-serif;\n",
       "display: block;\n",
       "}\n",
       "/*font-weight: 200;*/\n",
       "/*text-align: left;\n",
       "line-height: 100%;\n",
       "display: block;\n",
       "}*/\n",
       ".text_cell_render h1 {\n",
       "/*font-size: 24pt;*/\n",
       "font-weight: bold;\n",
       "margin-bottom: 0.1em;\n",
       "margin-top: 0.5em;\n",
       "color:#4a4a4a;\n",
       "}\n",
       "\n",
       ".reveal h1 {\n",
       "font-family: 'Optima', sans-serif;\n",
       "/*font-size: 24pt;*/\n",
       "font-weight: bold;\n",
       "margin-bottom: 0.1em;\n",
       "margin-top: 0.5em;\n",
       "color:#4a4a4a;\n",
       "}\n",
       ".text_cell_render h2 {\n",
       "/*font-size: 21pt;*/\n",
       "margin-bottom: 0.1em;\n",
       "margin-top: 0.3em;\n",
       "color:#595959;\n",
       "}\n",
       ".text_cell_render h3 {\n",
       "/*font-size: 19pt;*/\n",
       "margin-bottom: 0.1em;\n",
       "margin-top: 0.3em;\n",
       "color:#595959;\n",
       "}\n",
       ".text_cell_render h4 {\n",
       "/*font-size: 17pt;*/\n",
       "margin-bottom: 0.1em;\n",
       "margin-top: 0.3em;\n",
       "color:#595959;\n",
       "}\n",
       ".text_cell_render h5 {\n",
       "/*font-size: 15pt;*/\n",
       "margin-bottom: 0.1em;\n",
       "margin-top: 0.3em;\n",
       "color:#595959;\n",
       "}\n",
       "div.text_cell_render{\n",
       "font-family: 'Optima', sans-serif;\n",
       "line-height: 120%;\n",
       "font-size: 100%;\n",
       "font-weight: 400;\n",
       "text-align: justify;\n",
       "margin-left:0em;\n",
       "margin-right:0em;\n",
       "}\n",
       ".reveal div.text_cell_render{\n",
       "font-family: 'Optima', sans-serif;\n",
       "line-height: 120%;\n",
       "font-size: 74%;\n",
       "font-weight: 400;\n",
       "text-align: justify;\n",
       "margin-left:0em;\n",
       "margin-right:0em;\n",
       "}\n",
       ".reveal h1 {\n",
       "font-family: 'Optima', sans-serif;\n",
       "/*font-size: 90%; */\n",
       "/*font-size: 24pt;*/\n",
       "font-weight: bold;\n",
       "margin-bottom: 0.1em;\n",
       "margin-top: 0.5em;\n",
       "color:#4a4a4a;\n",
       "}\n",
       ".reveal h2 {\n",
       "font-family: 'Optima', sans-serif;\n",
       "/*font-size: 24pt;*/\n",
       "font-weight: bold;\n",
       "margin-bottom: 0.1em;\n",
       "margin-top: 0.5em;\n",
       "color:#595959;\n",
       "}\n",
       ".reveal h3 {\n",
       "font-family: 'Optima', sans-serif;\n",
       "/*font-size: 24pt;*/\n",
       "font-weight: bold;\n",
       "margin-bottom: 0.1em;\n",
       "margin-top: 0.5em;\n",
       "color:#595959;\n",
       "}\n",
       ".reveal h4 {\n",
       "font-family: 'Optima', sans-serif;\n",
       "font-weight: bold;\n",
       "margin-bottom: 0.1em;\n",
       "margin-top: 0.5em;\n",
       "color:#595959;\n",
       "}\n",
       ".reveal code {\n",
       "font-family: 'Inconsolata', monospace;\n",
       "}\n",
       ".reveal pre {\n",
       "font-family: 'Inconsolata', monospace;\n",
       "}\n",
       "code {\n",
       "font-family: 'Inconsolata', monospace;\n",
       "}\n",
       "pre {\n",
       "font-family: 'Inconsolata', monospace;\n",
       "}\n",
       ".CodeMirror{\n",
       "font-family: \"Inconsolata\", monospace;\n",
       "}\n",
       "/*body{\n",
       "  font-family: 'Optima', sans-serif;\n",
       "}*/\n",
       "</style>\n",
       "<script>\n",
       "    MathJax.Hub.Config({\n",
       "                        TeX: {\n",
       "                           extensions: [\"AMSmath.js\"],\n",
       "                           equationNumbers: { autoNumber: \"AMS\", useLabelIds: true}\n",
       "                           },\n",
       "                tex2jax: {\n",
       "                    inlineMath: [ ['$','$'], [\"\\\\(\",\"\\\\)\"] ],\n",
       "                    displayMath: [ ['$$','$$'], [\"\\\\[\",\"\\\\]\"] ]\n",
       "                },\n",
       "                displayAlign: 'center', // Change this to 'center' to center equations.\n",
       "                \"HTML-CSS\": {\n",
       "                    styles: {'.MathJax_Display': {\"margin\": 4}}\n",
       "                }\n",
       "        });\n",
       "</script>\n"
      ],
      "text/plain": [
       "<IPython.core.display.HTML object>"
      ]
     },
     "execution_count": 20,
     "metadata": {},
     "output_type": "execute_result"
    }
   ],
   "source": [
    "# this code is here only for cosmetic reasons\n",
    "from IPython.core.display import HTML\n",
    "def css_styling():\n",
    "    return HTML(open('custom/custom.include', 'r').read())\n",
    "css_styling()"
   ]
  },
  {
   "cell_type": "code",
   "execution_count": null,
   "metadata": {
    "collapsed": true
   },
   "outputs": [],
   "source": []
  }
 ],
 "metadata": {
  "kernelspec": {
   "display_name": "Python 3",
   "language": "python",
   "name": "python3"
  },
  "language_info": {
   "codemirror_mode": {
    "name": "ipython",
    "version": 3
   },
   "file_extension": ".py",
   "mimetype": "text/x-python",
   "name": "python",
   "nbconvert_exporter": "python",
   "pygments_lexer": "ipython3",
   "version": "3.5.1"
  }
 },
 "nbformat": 4,
 "nbformat_minor": 0
}
