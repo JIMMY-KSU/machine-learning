{
 "cells": [
  {
   "cell_type": "markdown",
   "metadata": {
    "slideshow": {
     "slide_type": "slide"
    }
   },
   "source": [
    "<div align='left' style=\"width:400px;height:120px;overflow:hidden;\">\n",
    "<a href='http://www.uff.br'>\n",
    "<img align='left' style='display: block;height: 92%' src='imgs/UFF.png' alt='UFF logo' title='UFF logo'/>\n",
    "</a>\n",
    "<a href='http://www.ic.uff.br'>\n",
    "<img align='left' style='display: block;height: 100%' src='imgs/logo-ic.png' alt='IC logo' title='IC logo'/>\n",
    "</a>\n",
    "</div>"
   ]
  },
  {
   "cell_type": "markdown",
   "metadata": {},
   "source": [
    "# Machine Learning: Linear Classification"
   ]
  },
  {
   "cell_type": "markdown",
   "metadata": {},
   "source": [
    "### [Luis Martí](http://lmarti.com)\n",
    "#### [Instituto de Computação](http://www.ic.uff)\n",
    "#### [Universidade Federal Fluminense](http://www.uff.br)\n",
    "#### [`http://lmarti.com/2016-1-ml`](http://lmarti.com/2016-1-ml)"
   ]
  },
  {
   "cell_type": "markdown",
   "metadata": {
    "slideshow": {
     "slide_type": "skip"
    }
   },
   "source": [
    "### About the notebook/slides\n",
    "\n",
    "* The slides are _programmed_ as a [Jupyter](http://jupyter.org)/[IPython](https://ipython.org/) notebook.\n",
    "* **Feel free to try them and experiment on your own by launching the notebooks.**\n",
    "\n",
    "* You can run the notebook online: [![Binder](http://mybinder.org/badge.svg)](http://mybinder.org/repo/lmarti/machine-learning)"
   ]
  },
  {
   "cell_type": "markdown",
   "metadata": {
    "slideshow": {
     "slide_type": "skip"
    }
   },
   "source": [
    "If you are using [nbviewer](http://nbviewer.jupyter.org) you can change to slides mode by clicking on the icon:\n",
    "\n",
    "<div class=\"container-fluid\">\n",
    "  <div class=\"row\">\n",
    "      <div class=\"col-md-3\"><span/></div>\n",
    "      <div class=\"col-md-6\">\n",
    "      <div class='well well-sm'>\n",
    "              <img src='imgs/view-as-slides.png'/>\n",
    "      </div>\n",
    "      </div>\n",
    "      <div class=\"col-md-3\" align='center'><span/></div>\n",
    "  </div>\n",
    "</div>"
   ]
  },
  {
   "cell_type": "code",
   "execution_count": 1,
   "metadata": {
    "collapsed": true,
    "slideshow": {
     "slide_type": "skip"
    }
   },
   "outputs": [],
   "source": [
    "import numpy as np\n",
    "import matplotlib.pyplot as plt\n",
    "import matplotlib.cm as cm\n",
    "import random, math\n",
    "%matplotlib inline\n",
    "%config InlineBackend.figure_format = 'retina'\n",
    "# Fixed seed to make the results repeatable\n",
    "random.seed(0)\n",
    "# Pretty matrix outputs\n",
    "np.set_printoptions(precision=3, threshold=1000, edgeitems=5, linewidth=80, suppress=True)"
   ]
  },
  {
   "cell_type": "markdown",
   "metadata": {
    "slideshow": {
     "slide_type": "slide"
    }
   },
   "source": [
    "# Classification$\\renewcommand{\\vec}[1]{\\boldsymbol{#1}}$\n",
    "\n",
    "* Given an input vector $\\vec{x}$ determine $p\\left(C_k\\right|\\left.\\vec{x}\\right)$ where $k\\in \\{1\\ldots K\\}$ and $C_k$ is a \n",
    "discrete class label.\n",
    "\n",
    "* In this class we will discuss **linear models** for classification.\n",
    "* Note that the algorithms described here can also be applied to transformed input, $\\phi(\\vec{x})$, to determine $p\\left(C_k\\right|\\left.\\phi(\\vec{x})\\right)$, where $\\phi$ may be a nonlinear tranformation of the input space."
   ]
  },
  {
   "cell_type": "markdown",
   "metadata": {
    "slideshow": {
     "slide_type": "slide"
    }
   },
   "source": [
    "Our **first model assumption** is that our target output can be modeled as\n",
    "\n",
    "$$y(\\phi(\\vec{x})) = f(\\vec{w}^\\intercal\\phi(\\vec{x}))$$\n",
    "\n",
    "where $y$ will be a vector of probabilities with $K$ elements. \n",
    "\n",
    "* Elements of $y$ are $y_k = p\\left(C_k\\right|\\left.\\phi(\\vec{x})\\right)$ i.e. the probability that the correct class label is $C_k$ given the input vector $\\vec{x}$. \n",
    "* Often we will have simply that $\\vec{w}^\\intercal\\phi(\\vec{x}) = \\vec{w}^\\intercal\\vec{x}+w_0$ in which case we will simply omit $\\phi$ from the notation.\n",
    "* The function $f$ is known as the **activation function** and its inverse is known as the **link function**. \n",
    "* Note that $f$ will often be nonlinear."
   ]
  },
  {
   "cell_type": "markdown",
   "metadata": {
    "slideshow": {
     "slide_type": "skip"
    }
   },
   "source": [
    "It should be noted that nearly all of the material presented fails to be a fully Bayesian treatment of the classification problem. Primarily this is because a Bayesian approach to the classification problem is mathematically intractable. However, Bayes' Theorem will appear often in the discussion, which can lead to confusion. Where appropriate, I will try to clarify the difference."
   ]
  },
  {
   "cell_type": "markdown",
   "metadata": {
    "slideshow": {
     "slide_type": "slide"
    }
   },
   "source": [
    "The target variable, $y$, does **not provide a decision** for a class assignment for a given input $\\vec{x}$. \n",
    "\n",
    "* In real world cases where it is necessary to make a decision as to which class $\\vec{x}$ should be assigned;\n",
    "* one must apply an additional modeling step based on [*decision theory*](https://en.wikipedia.org/wiki/Decision_theory).\n",
    "\n",
    "There are a variety of decision models, all of which leverage the class posterior probability models, $p\\left(C_k\\right|\\left.\\vec{x}\\right)$, such as\n",
    "\n",
    "* Minimizing the misclassification rate - this effectively corresponds to chosing the class with the highest probability for a given $\\vec{x}$.\n",
    "* Minimizing the expected loss - minimizes the expected value of a given loss function, $\\ell(\\cdot)$, under the class posterior probability distribution.\n",
    "* Reject option."
   ]
  },
  {
   "cell_type": "markdown",
   "metadata": {
    "slideshow": {
     "slide_type": "slide"
    }
   },
   "source": [
    "## Linear models\n",
    "\n",
    "The models discusses today are called *linear* because, \n",
    "* when the decision criteria is that of minimizing the misclassification rate, \n",
    "* they divide the input space into $K$ regions, \n",
    "* where the boundaries between regions are linear functions of the input vector $\\vec{x}$. \n",
    "* The decision boundaries will correspond to where $\\vec{w}^\\intercal\\vec{x}=\\text{constant}$, and thus represent a linear function of $\\vec{x}$. \n",
    "* In the case of transformed input, $\\phi(\\vec{x})$, the decision boundaries will correspond to where \n",
    "$\\vec{w}^\\intercal\\phi(\\vec{x})=\\text{constant}$, and thus represent a linear function of $\\phi(\\vec{x})$. "
   ]
  },
  {
   "cell_type": "markdown",
   "metadata": {
    "slideshow": {
     "slide_type": "slide"
    }
   },
   "source": [
    "<div class=\"container-fluid\">\n",
    "  <div class=\"row\">\n",
    "      <div class=\"col-md-3\"><span/></div>\n",
    "      <div class=\"col-md-6\">\n",
    "          <div class='well'>\n",
    "              <img class='img-thumbnail' src='https://upload.wikimedia.org/wikipedia/commons/2/20/Svm_separating_hyperplanes.png'/>\n",
    "          </div>\n",
    "      </div>\n",
    "      <div class=\"col-md-3\" align='center'><span/></div>\n",
    "  </div>\n",
    "</div>"
   ]
  },
  {
   "cell_type": "markdown",
   "metadata": {
    "slideshow": {
     "slide_type": "slide"
    }
   },
   "source": [
    "# Probabilistic generative models\n",
    "\n",
    "Our first step is to form a model of the class posterior probabilities for the *inference stage*:\n",
    "* This can be done by modeling the *class-conditional densities*, $p\\left(\\vec{x}\\right|\\left.C_k\\right)$, and the class priors, $p(C_k)$, and then applying [Bayes' theorem](https://en.wikipedia.org/wiki/Bayes%27_theorem) to obtain the posterior model, or\n",
    "* can be done directly, as in *probabilistic discriminative modeling*."
   ]
  },
  {
   "cell_type": "markdown",
   "metadata": {
    "slideshow": {
     "slide_type": "slide"
    }
   },
   "source": [
    "### Bayes' theorem flashback\n",
    "\n",
    "Bayes' theorem describes the probability of an event, based on conditions that might be related to the event.\n",
    "\n",
    "$$ P\\left(A\\right|\\left.B\\right) = \\frac{P\\left(B\\right|\\left.A\\right) \\, P(A)}{P(B)},$$\n",
    "where $A$ and $B$ are events.\n",
    "\n",
    "* $P(A)$ and $P(B)$ are the probabilities of $A$ and $B$ without regard to each other.\n",
    "* $P\\left(A\\right|\\left.B\\right)$, a *conditional probability*, is the probability of observing event $A$ given that $B$ is true.\n",
    "$P\\left(B\\right|\\left.A\\right)$ is the probability of observing event $B$ given that $A$ is true."
   ]
  },
  {
   "cell_type": "markdown",
   "metadata": {
    "slideshow": {
     "slide_type": "slide"
    }
   },
   "source": [
    "* We will see that our class posterior probability model will depend only on the input $\\vec{x}$ \n",
    "    * (or a fixed transformation using basis functions $\\phi$) \n",
    "* and the class labels, $C_k$. In this case, for $K$ classes, our activation function will take the form of the *softmax function*\n",
    "$$f = p\\left(C_k\\right|\\left.\\vec{x}\\right) = \\frac{\\exp(a_k)}{\\sum_j \\exp(a_j)},$$\n",
    "where $$a_j = \\ln\\left(p\\left(\\vec{x}\\right|\\left.C_k\\right)p(C_k)\\right).$$"
   ]
  },
  {
   "cell_type": "markdown",
   "metadata": {
    "slideshow": {
     "slide_type": "slide"
    }
   },
   "source": [
    "In the **case of $K=2$**, the activation function will reduce to the *logistic sigmoid* function\n",
    "$$f = p(C_1|\\vec{x}) = \\frac{1}{1+\\exp(-a)} = \\sigma(a)$$\n",
    "where $$a = \\ln \\frac {p(\\vec{x}|C_1)p(C_1)} {p(\\vec{x}|C_2)p(C_2)}.$$"
   ]
  },
  {
   "cell_type": "markdown",
   "metadata": {
    "slideshow": {
     "slide_type": "slide"
    }
   },
   "source": [
    "* Note this is not the only possible form for the class posterior models. For example, one might also add a noise term to account for misclassification. \n",
    "* This particular form for the activation function is a consequence of the model we choose for $p(\\vec{x}|C_k)$ in sections below. \n",
    "* Showing the outcome may be a bit of \"putting the cart before the horse\" but it will simplify the notation as we proceed.\n",
    "* Although we have applied Bayes' Theorem, this is **not** a Bayesian model. \n",
    "    * Nowhere have we modeled the parameter posterior probability $p(\\vec{w}|\\vec{t})$. \n",
    "* Indeed, we will see shortly that we will use a *maximum likelihood* approach to determine $\\vec{w}$."
   ]
  },
  {
   "cell_type": "markdown",
   "metadata": {
    "slideshow": {
     "slide_type": "slide"
    }
   },
   "source": [
    "These models are **known as generative models** because they can be used to generate synthetic input\n",
    "data by applying [inverse transform sampling](http://en.wikipedia.org/wiki/Inverse_transform_sampling) to the marginal distribution for $\\vec{x}$ defined by\n",
    "\n",
    "$$p(\\vec{x}) = \\sum_k p(\\vec{x}|C_k)p(C_k)$$"
   ]
  },
  {
   "cell_type": "markdown",
   "metadata": {
    "slideshow": {
     "slide_type": "slide"
    }
   },
   "source": [
    "### Model assumptions\n",
    "\n",
    "To move forward, it is necessary to start making **model assumptions**. \n",
    "Here we will *assume* that:\n",
    "* we have continuous inputs, i.e. $x\\in \\mathbb{R}^n$ (see Bishop p.202 and Ng Lecture 5 pdf for discrete input using Naive Bayes & Laplace), and\n",
    "* that the *class-conditional densities*, $p(\\vec{x}|C_k)$ are modeled by a Gaussian distribution. "
   ]
  },
  {
   "cell_type": "markdown",
   "metadata": {
    "slideshow": {
     "slide_type": "slide"
    }
   },
   "source": [
    "### Transformation under the Gaussian assumption\n",
    "\n",
    "Under the Gaussian assumption, the class-conditional density  for class $C_k$ is\n",
    "\n",
    "$$p(\\vec{x}|C_k) = \\frac{1}{\\left(2 \\pi \\right)^{n/2}} \\frac{1}{\\left|\\vec{\\Sigma}\\right|^{1/2}} \\exp \\left( -\\frac{1}{2} \\left(\\vec{x} - \\vec{\\mu}_k\\right)^\\intercal \\vec{\\Sigma}^{-1} \\left(\\vec{x} - \\vec{\\mu}_k\\right) \\right)$$\n",
    "\n",
    "* where $n$ is the dimension of the input vector $\\vec{x}$, \n",
    "* $\\vec{\\Sigma}$ is the *covariance matrix*, \n",
    "* $\\vec{\\mu}$ is the mean vector and \n",
    "* where we have *assumed* that all classes share the same covariance matrix."
   ]
  },
  {
   "cell_type": "markdown",
   "metadata": {
    "slideshow": {
     "slide_type": "slide"
    }
   },
   "source": [
    "In the case of **two classes**, this result is substituted into the logistic sigmoid function and reduces to\n",
    "\n",
    "$$p(C_1|\\vec{x}) = \\sigma \\left( \\vec{w}^\\intercal \\vec{x} + w_0 \\right)$$\n",
    "\n",
    "were we have defined $\\vec{w} = \\mathbf{\\Sigma}^{-1} \\left( \\mathbf{\\mu}_1 - \\mathbf{\\mu}_2 \\right)$\n",
    "\n",
    "$$w_0 = -\\frac{1}{2} \\vec{\\mu}_1^\\intercal \\vec{\\Sigma}^{-1} \\vec{\\mu}_1 + \\frac{1}{2} \\vec{\\mu}_2^\\intercal \\vec{\\Sigma}^{-1} \\vec{\\mu}_2 + \\ln \\frac{p(C_1)} {p(C_2)}$$"
   ]
  },
  {
   "cell_type": "markdown",
   "metadata": {
    "slideshow": {
     "slide_type": "slide"
    }
   },
   "source": [
    "### What about the $p(C_k)$?\n",
    "\n",
    "* The class prior probabilities, $p(C_k)$, effectively act as a bias term. \n",
    "* Note that we have yet to specify a model for these distributions. \n",
    "\n",
    "If we are to use the result above, we will need to make **another model assumption**. \n",
    "* We will *assume* that the *class priors* are modeled by a [Bernoulli distribution](https://en.wikipedia.org/wiki/Bernoulli_distribution) with $p(C_1)=\\gamma$ and $p(C_2)=1-\\gamma$. "
   ]
  },
  {
   "cell_type": "markdown",
   "metadata": {
    "slideshow": {
     "slide_type": "slide"
    }
   },
   "source": [
    "These results can be extended to the case of $K>2$ classes for which we obtain\n",
    "\n",
    "$$a_k(\\vec{x}) = \\left[\\vec{\\Sigma}^{-1} \\vec{\\mu}_k \\right]^\\intercal \\vec{x} - \\frac{1}{2} \\vec{\\mu}_k^\\intercal \\vec{\\Sigma}^{-1} \\vec{\\mu}_k + \\ln p(C_k)$$\n",
    "\n",
    "which is used in the first activation function provided at the begining of this section. "
   ]
  },
  {
   "cell_type": "markdown",
   "metadata": {
    "slideshow": {
     "slide_type": "slide"
    }
   },
   "source": [
    "### What about the posterior class densities\n",
    "\n",
    "We have not formulated a complete model for the posterior class densities, in that we have not yet solved for the model parameters, $\\vec{\\mu}$ and $\\vec{\\Sigma}$. \n",
    "\n",
    "We do that now using a **maximum likelihood** approach."
   ]
  },
  {
   "cell_type": "markdown",
   "metadata": {
    "slideshow": {
     "slide_type": "slide"
    }
   },
   "source": [
    "## Maximum Likelihood Solution\n",
    "\n",
    "Considering the case of two classes, $C_1$ and $C_2$, with \n",
    "* Bernoulli prior distributions, $p(C_1)=\\gamma$ and $p(C_2)=1-\\gamma$, and\n",
    "* Gaussian *class-conditional density* distributions $p(\\vec{x}|C_k)$, \n",
    "* assume we have a training data set, $\\vec{X}$, with $m$ elements of the form $\\left\\{\\vec{x}_i, t_i\\right\\}$ where $t_i=0$ indicates that $\\vec{x_i}$ is in class $C_1$ and $t_i=1$ indicates that $\\mathbf{x_n}$ is in class $C_2$.\n",
    "\n",
    "The likelihood function is then given by\n",
    "$$p\\left(\\vec{t}, \\vec{X} \\mid \\gamma, \\vec{\\mu}_1, \\mu_2, \\vec{\\Sigma}\\right) = \\prod_{i=1}^m \\left[\\gamma \\mathcal{N} \\left(\\vec{x}_i \\mid \\mu_1, \\vec{\\Sigma}\\right)\\right]^{t_i} \\left[\\left(1-\\gamma\\right) ND\\left(\\vec{x}_i \\mid \\mu_2, \\vec{\\Sigma}\\right)\\right]^{1-t_i}$$ "
   ]
  },
  {
   "cell_type": "markdown",
   "metadata": {
    "slideshow": {
     "slide_type": "slide"
    }
   },
   "source": [
    "Taking the derivate of this expression with respect to the various model parameters, $\\gamma$, $\\mu_1$, $\\mu_2$, and $\\vec{\\Sigma}$, and setting it equal to zero, we obtain the following estimates\n",
    "$$\\gamma = \\frac{N_1}{N_1+N_2}$$\n",
    "where $N_1$ is the number of training inputs in class $C_1$ and $N_2$ is the number in class $C_2$."
   ]
  },
  {
   "cell_type": "markdown",
   "metadata": {
    "slideshow": {
     "slide_type": "slide"
    }
   },
   "source": [
    "#### similarly...\n",
    "\n",
    "$$\\mu_1 = \\frac{1}{N_1} \\sum_{i=1}^m t_i \\vec{x_i},$$\n",
    "$$\\mu_2 = \\frac{1}{N_2} \\sum_{i=1}^m (1-t_i) \\vec{x_i}, \\text{ and}$$\n",
    "\n",
    "$$\\vec{\\Sigma} = \\frac{1}{m}\\left[ \\sum_{i\\in C_1} (\\mathbf{x_i}-\\mu_1)(\\mathbf{x_i}-\\mu_1)^T + \\sum_{i\\in C_2} (\\mathbf{x_i}-\\mu_2)(\\mathbf{x_i}-\\mu_2)^T \\right].$$"
   ]
  },
  {
   "cell_type": "markdown",
   "metadata": {
    "slideshow": {
     "slide_type": "slide"
    }
   },
   "source": [
    "## Example\n",
    "\n",
    "* We will choose some *truth* values for our parameters and use our generative model to generate synthetic data. \n",
    "* We can then use that data as input to the maxium likelihood solution to see the estimates of the truth parameters. \n",
    "* Let's use 1-D input for simplicity. \n",
    "* We will be using a basic form of inverse transform sampling. Specifically, we wish for our training input data,  $\\vec{x}$, to be dervied from a distribution modeled by the marginal distribution $p(\\vec{x})$."
   ]
  },
  {
   "cell_type": "markdown",
   "metadata": {
    "slideshow": {
     "slide_type": "slide"
    }
   },
   "source": [
    "* To obtain this, we first formulate the cumulative distribution function, \n",
    "$CDF(\\vec{X}) = \\int_{-\\infty}^{\\vec{X}} p(\\vec{x})d\\vec{x}$. Note that the range of the CDF is $[0,1]$. \n",
    "\n",
    "* To obtain appropriately distributed $\\vec{x}$ values, we choose some value from a uniform distribution on $[0,1]$, say $y$, and find the value $\\vec{X}$ such that $CDF(\\vec{X})=y$. \n",
    "* This value of $\\vec{X}$ is our input $\\vec{x}$.\n",
    "* This approach requires us to find the inverse of the CDF, which we will do numerically.\n",
    "* Once we have obtained a value for $\\vec{x}$ we need to assign it to a particular class. \n",
    "\n",
    "We will *assume* that the correct class is that for which the posterior probability $p(C_k|\\vec{x})$ is greatest, **unless** the difference between the two posterior probabilities is less than some minimum value in which case we will chose randomly - this will add some \"noise\" to our input training data."
   ]
  },
  {
   "cell_type": "markdown",
   "metadata": {
    "slideshow": {
     "slide_type": "slide"
    }
   },
   "source": [
    "Select truth data values, these will NOT be known to the training algorithm, they are only used in generating the sample data."
   ]
  },
  {
   "cell_type": "code",
   "execution_count": 2,
   "metadata": {
    "collapsed": true
   },
   "outputs": [],
   "source": [
    "tu1 =-2.0\n",
    "tu2 = 2.0\n",
    "tSigma = 2.0\n",
    "tGamma = 0.5"
   ]
  },
  {
   "cell_type": "code",
   "execution_count": 3,
   "metadata": {
    "collapsed": true
   },
   "outputs": [],
   "source": [
    "import scipy.integrate as sci_intgr\n",
    "import scipy.optimize as sci_opt"
   ]
  },
  {
   "cell_type": "markdown",
   "metadata": {
    "slideshow": {
     "slide_type": "slide"
    }
   },
   "source": [
    "Defining probabilities"
   ]
  },
  {
   "cell_type": "code",
   "execution_count": 4,
   "metadata": {
    "collapsed": true,
    "slideshow": {
     "slide_type": "fragment"
    }
   },
   "outputs": [],
   "source": [
    "#the class conditional probability p(x|Ck)\n",
    "def p_xCk(x, mu, sigma):\n",
    "    denom = math.sqrt(2.0 * math.pi * sigma)\n",
    "    arg = -0.5 * (x - mu) * (x - mu) / sigma\n",
    "    return math.exp(arg) / denom"
   ]
  },
  {
   "cell_type": "code",
   "execution_count": 5,
   "metadata": {
    "collapsed": true,
    "slideshow": {
     "slide_type": "fragment"
    }
   },
   "outputs": [],
   "source": [
    "#the marginal probability p(x)\n",
    "def p_x(x, mu1, mu2, sigma, gamma):\n",
    "    return gamma * p_xCk(x, mu1, sigma) + (1.0 - gamma) * p_xCk(x, mu2, sigma)"
   ]
  },
  {
   "cell_type": "code",
   "execution_count": 6,
   "metadata": {
    "collapsed": true,
    "slideshow": {
     "slide_type": "slide"
    }
   },
   "outputs": [],
   "source": [
    "#posterior class probability vector (p(C_1|x), p(C_2|x))\n",
    "def p_Ckx(x, mu1, mu2, sigma, gamma):\n",
    "    a = math.log(p_xCk(x, mu1, sigma)*gamma/(p_xCk(x,mu2,sigma)*(1-gamma)))\n",
    "    pc1 = 1.0/(1.0 + math.exp(-a))\n",
    "    return (pc1, 1.0 - pc1)"
   ]
  },
  {
   "cell_type": "code",
   "execution_count": 7,
   "metadata": {
    "collapsed": true,
    "slideshow": {
     "slide_type": "fragment"
    }
   },
   "outputs": [],
   "source": [
    "#the cumulative distribution function P(x<X)\n",
    "def cdf(x, mu1, mu2, sigma, gamma):\n",
    "    return sci_intgr.quad(func=p_x, a=-np.inf, b=x, args=(mu1, mu2, sigma, gamma))"
   ]
  },
  {
   "cell_type": "code",
   "execution_count": 8,
   "metadata": {
    "collapsed": true,
    "slideshow": {
     "slide_type": "fragment"
    }
   },
   "outputs": [],
   "source": [
    "#inverse of the CDF\n",
    "def inv_cdf(y, mu1, mu2, sigma, gamma):\n",
    "    def f(x):\n",
    "        return cdf(x,mu1,mu2,sigma,gamma)[0] - y\n",
    "    return sci_opt.newton(f, 0)"
   ]
  },
  {
   "cell_type": "code",
   "execution_count": 9,
   "metadata": {
    "collapsed": true,
    "slideshow": {
     "slide_type": "slide"
    }
   },
   "outputs": [],
   "source": [
    "domain = range(0,100,1)\n",
    "domain = [(-5.0 + x/10.0) for x in domain]"
   ]
  },
  {
   "cell_type": "code",
   "execution_count": 10,
   "metadata": {
    "collapsed": false
   },
   "outputs": [
    {
     "data": {
      "image/png": "[encoded data removed]",
      "text/plain": [
       "<matplotlib.figure.Figure at 0x10cc91240>"
      ]
     },
     "metadata": {
      "image/png": {
       "height": 428,
       "width": 654
      }
     },
     "output_type": "display_data"
    }
   ],
   "source": [
    "f, axarr = plt.subplots(2,2)\n",
    "f.subplots_adjust(right=1.5)\n",
    "f.subplots_adjust(top=1.5)\n",
    "\n",
    "#plot p(x|Ck)\n",
    "pxC1 = [p_xCk(x,tu1,tSigma) for x in domain]\n",
    "pxC2 = [p_xCk(x,tu2,tSigma) for x in domain]\n",
    "ax1 = axarr[0,0]\n",
    "ax1.plot(domain, pxC1)\n",
    "ax1.plot(domain, pxC2)\n",
    "ax1.set_ylabel('$p(x|C_k)$')\n",
    "\n",
    "#plot the marginal distribution p(x)\n",
    "px = [p_x(x, tu1, tu2, tSigma, tGamma) for x in domain]\n",
    "ax2 = axarr[0,1]\n",
    "ax2.plot(domain,px)\n",
    "ax2.set_ylabel('$p(x)$')\n",
    "\n",
    "#plot the posterior distributions p(C_1|x) & p(C_2|x)\n",
    "pc1x = []\n",
    "pc2x = []\n",
    "for x in domain:\n",
    "    pck = p_Ckx(x, tu1, tu2, tSigma, tGamma)\n",
    "    pc1x.append(pck[0])\n",
    "    pc2x.append(pck[1])\n",
    "ax3 = axarr[1,0]\n",
    "ax3.plot(domain, pc1x)\n",
    "ax3.plot(domain, pc2x)\n",
    "ax3.set_ylabel('$p(C_k|x)$')\n",
    "\n",
    "seed = 123456789\n",
    "np.random.seed(seed)\n",
    "num_samples = 100\n",
    "x = np.zeros(num_samples)\n",
    "t = np.zeros(num_samples)\n",
    "pcx = np.zeros(num_samples)\n",
    "n1 = 0\n",
    "nae = 0\n",
    "assignment_epsilon = 0.5\n",
    "#assign x to 1 for C1 and 0 for C2\n",
    "for i in range(num_samples):\n",
    "    rv = np.random.uniform()\n",
    "    x[i] = inv_cdf(rv, tu1, tu2, tSigma, tGamma)\n",
    "    pcx1 = p_Ckx(x[i], tu1, tu2, tSigma, tGamma)\n",
    "    pcx2 = pcx1[1]\n",
    "    pcx1 = pcx1[0]\n",
    "    #we don't want a perfect dividing line for our domain, otherwise why would we need a learning algorithim?\n",
    "    if math.fabs(pcx2-pcx1) <= assignment_epsilon:\n",
    "        nae = nae + 1\n",
    "        if np.random.uniform() <= 0.5:\n",
    "            t[i] = 1\n",
    "            n1 = n1 + 1\n",
    "        else:\n",
    "            t[i] = 0\n",
    "    elif pcx1 > pcx2:\n",
    "        t[i] = 1\n",
    "        n1 = n1 + 1\n",
    "    else: t[i]=0\n",
    "\n",
    "#plot the simulated data\n",
    "ax4 = axarr[1,1]\n",
    "ax4.scatter(x, t)\n",
    "ax4.axvline(0)\n",
    "ax4.set_ylabel('class')\n",
    "plt.show()"
   ]
  },
  {
   "cell_type": "markdown",
   "metadata": {
    "slideshow": {
     "slide_type": "slide"
    }
   },
   "source": [
    "## Estimating the parameters"
   ]
  },
  {
   "cell_type": "code",
   "execution_count": 11,
   "metadata": {
    "collapsed": false
   },
   "outputs": [],
   "source": [
    "n2 = num_samples - n1\n",
    "eGamma = n1 / float(num_samples)"
   ]
  },
  {
   "cell_type": "code",
   "execution_count": 12,
   "metadata": {
    "collapsed": true
   },
   "outputs": [],
   "source": [
    "from functools import reduce "
   ]
  },
  {
   "cell_type": "code",
   "execution_count": 13,
   "metadata": {
    "collapsed": false,
    "slideshow": {
     "slide_type": "fragment"
    }
   },
   "outputs": [],
   "source": [
    "eu1 = reduce(lambda accum, Z: accum + Z[0]*Z[1], zip(x,t), 0) / float(n1)\n",
    "eu2 = reduce(lambda accum, Z: accum + Z[0]*(1-Z[1]), zip(x,t), 0) / float(n2)"
   ]
  },
  {
   "cell_type": "code",
   "execution_count": 14,
   "metadata": {
    "collapsed": true,
    "slideshow": {
     "slide_type": "slide"
    }
   },
   "outputs": [],
   "source": [
    "def Sn(Z, ck, mu=(eu1,eu2)):\n",
    "    idx = 1-int(ck)\n",
    "    return (Z[0]-mu[idx])*(Z[0]-mu[idx])"
   ]
  },
  {
   "cell_type": "code",
   "execution_count": 15,
   "metadata": {
    "collapsed": false,
    "slideshow": {
     "slide_type": "slide"
    }
   },
   "outputs": [],
   "source": [
    "eSigma = reduce(lambda accum, Z: accum + Sn(Z, Z[1]),  zip(x,t), 0) / float(num_samples)"
   ]
  },
  {
   "cell_type": "code",
   "execution_count": 16,
   "metadata": {
    "collapsed": false
   },
   "outputs": [
    {
     "name": "stdout",
     "output_type": "stream",
     "text": [
      "The number of inputs in C1 is 49\n",
      "The number of inputs that were assigned based on the assignment factor is 12\n",
      "The true model parameters are gamma=0.5, u1=-2.0, u2=2.0, Sigma=2.0\n",
      "The estimated model parameters are gamma=0.49, u1=-2.1627582966950736, u2=2.028003758731953, Sigma=1.6660489752832408\n"
     ]
    }
   ],
   "source": [
    "print('The number of inputs in C1 is {0}'.format(n1))\n",
    "print('The number of inputs that were assigned based on the assignment factor is {0}'.format(nae))\n",
    "print('The true model parameters are gamma={0}, u1={1}, u2={2}, Sigma={3}'.format(tGamma, tu1, tu2, tSigma))\n",
    "print('The estimated model parameters are gamma={0}, u1={1}, u2={2}, Sigma={3}'.format(eGamma, eu1, eu2, eSigma))"
   ]
  },
  {
   "cell_type": "markdown",
   "metadata": {
    "slideshow": {
     "slide_type": "slide"
    }
   },
   "source": [
    "<h1>Probabilistic Discriminative Models</h1>\n",
    "Probablistic discriminative models assume the same generalized linear model <br/>\n",
    "\n",
    "$y(\\phi(\\mathbf{x})) = f(\\mathbf{w}^T\\phi(\\mathbf{x}))$\n",
    "\n",
    "as the probabilistic generative models. However, rather than formulate models for the *class-conditional* densities, $p(\\phi(\\mathbf{x})|C_k)$, and the *class priors*, $p(C_k)$, the discriminative approach\n",
    "explicitly models the *class posterior* probabilities, $p(C_k|\\phi(\\mathbf{x}))$ with model parameters $\\mathbf{w}$. As in the probabilistic generative approach, maximum likelihood is used to estimate the model \n",
    "parameters given some training data set, $\\mathbf{t}$. The **difference** is the form of the likelihood function. In the probabilistic generative case, the likelihood function is a function of the joint probability,\n",
    "$p(\\phi(\\mathbf{x}),C_k)=p(\\phi(\\mathbf{x})|C_k)p(C_k)$. In the probabilistic discriminative approach, the likelihood function is a function of the conditional class posteriors, $p(C_k|\\phi(\\mathbf{x}))$ only. \n",
    "\n",
    "**NOTE** The section on probablistic generative models focused on models that used the input, $\\mathbf{x}$, directly. However, as noted previously, those models, and the results, hold equally well for input that undergoes \n",
    "a **fixed** transformation using a set of basis functions, $\\phi$. In this section, we will focus on the inclusion of an input transformation via the basis functions.\n",
    "\n",
    "<h2>Logistic Regression</h2>\n",
    "We first consider Logistic Regression, which is one specific example of discriminative modeling, for the case of two classes. It assumes a model for the class posterior probabilities, $p(C_k|\\phi(\\mathbf{x}))$, in the form of the logistic \n",
    "sigmoid<br/><br/>\n",
    "$p(C_1|\\phi) = f(a) = \\sigma(\\mathbf{w}^T\\phi)$<br/><br/>\n",
    "with $p(C_2|\\phi) = 1 - p(C_1|\\phi)$. We now apply maximum likelihood to obtain the model parameters. Assume that our training set, $\\mathbf{t}$, is of the form $\\\\{\\phi_n,t_n\\\\}$ where $\\phi_n=\\phi(\\mathbf{x}_n)$, $t_n \\in \\{0,1\\}$,\n",
    "and $n=1\\ldots N$. The likelihood function of the training data is then<br/><br/>\n",
    "$p(\\mathbf{t}|\\mathbf{w}) = \\prod_{n=1}^N \\sigma(\\mathbf{w}^T \\phi(\\mathbf{x}_n))^{t_n} (1 - \\sigma(\\mathbf{w}^T \\phi(\\mathbf{x}_n)))^{1-t_n}$ <br/><br/>\n",
    "Defining the error function, $E(\\mathbf{w})$, as the negative of the log-likelihood function, and taking the gradient with respect to $\\mathbf{w}$, we obtain<br/><br/>\n",
    "$\\bigtriangledown E(\\mathbf{w}) = \\sum_{n=1}^N \\left[\\sigma(\\mathbf{w}^T \\phi(\\mathbf{x}_n)) - t_n\\right] \\phi(\\mathbf{x}_n)$<br/><br/>\n",
    "\n",
    "Superficially, this error function looks the same as that obtained for **linear** regression under the assumption of a Gaussian noise model which had a closed form solution. However, the nonlinearity of the *sigmoid* function, $\\sigma(\\mathbf{w}^T \\phi(\\mathbf{x}_n))$ prevents a closed form solution in the **logistic** regression problem. We therefore must apply an iterative method to obtain a numerical solution for the parameters, $\\mathbf{w}$. Here we will\n",
    "consider the *Newton-Raphson* method for which minimizing the error function takes the form<br/><br/>\n",
    "$\\mathbf{w}^{\\tau+1} = \\mathbf{w}^{\\tau} - \\mathbf{H}^{-1}\\bigtriangledown E(\\mathbf{w})$<br/><br/>\n",
    "\n",
    "where $\\mathbf{H}$ is the *Hessian* matrix composed of the second derivatives of the error function<br/><br/>\n",
    "$\\mathbf{H} = \\bigtriangledown \\bigtriangledown E(\\mathbf{w}) = \\Phi^T \\mathbf{R} \\Phi$<br/><br/>\n",
    "\n",
    "where $\\Phi$ is the $N \\times M$ design matrix whos $n^{th}$ row is given by $\\phi(\\mathbf{x_n})^T$ and $\\mathbf{R}$ is an $N \\times N$ diagonal matrix with elements $R_{n,n} = \\sigma(\\mathbf{w}^T \\phi(\\mathbf{x}_n)) \\left[1-\\sigma(\\mathbf{w}^T \\phi(\\mathbf{x}_n))\\right]$. This can be reduced to a form equivalent to that of localy weighted linear *regression* as follows<br/><br/>\n",
    "$\\mathbf{w}^{\\tau+1} = \\left( \\Phi^T \\mathbf{R} \\Phi \\right)^{-1} \\Phi^T \\mathbf{R} \\mathbf{z}$ <br/><br/>\n",
    "where $\\mathbf{z}$ is an $N$ dimensional vector defined by<br/><br/>\n",
    "$\\mathbf{z} = \\Phi \\mathbf{w}^{\\tau} - \\mathbf{R}^{-1}(\\mathbf{y} - \\mathbf{t})$"
   ]
  },
  {
   "cell_type": "markdown",
   "metadata": {},
   "source": [
    "<h1>Readings</h1>\n",
    "<ul>\n",
    "    <li>Bishop: 4.2.0-4.2.4, 4.3.0-4.3.4, 4.4, 4,5</li>\n",
    "    <li>Ng: Lecture 2 pdf</li>\n",
    "    <li>Ng: Lecture 5 pdf</li>\n",
    "</ul>"
   ]
  },
  {
   "cell_type": "markdown",
   "metadata": {},
   "source": [
    "<h2>Example 2</h2>\n",
    "Let's consider an example with two classes and 2D input, $\\mathbf{x_n} = (x_n^{(1)},x_n^{(2)})$. As an experiment, you can try increasing the number of training points, $N$. Eventually, the training\n",
    "points will overlap so that it will not be possible to completely seperate them with the transformation provided."
   ]
  },
  {
   "cell_type": "code",
   "execution_count": 18,
   "metadata": {
    "collapsed": false
   },
   "outputs": [
    {
     "name": "stdout",
     "output_type": "stream",
     "text": [
      "The total number of iterations was 13\n",
      "The total error was 0.003482221426895694\n",
      "The final change in error was 0.005771801683976271\n",
      "The final parameters were [ -17.844  -14.062  163.065]\n"
     ]
    },
    {
     "data": {
      "text/plain": [
       "<matplotlib.text.Text at 0x10f0fcba8>"
      ]
     },
     "execution_count": 18,
     "metadata": {},
     "output_type": "execute_result"
    },
    {
     "data": {
      "image/png": "[encoded data removed]",
      "text/plain": [
       "<matplotlib.figure.Figure at 0x10f082940>"
      ]
     },
     "metadata": {
      "image/png": {
       "height": 287,
       "width": 1089
      }
     },
     "output_type": "display_data"
    }
   ],
   "source": [
    "import numpy as np\n",
    "from matplotlib import pyplot as plt\n",
    "\n",
    "seed = 123456789\n",
    "np.random.seed(seed)\n",
    "N = 100 #number of data points, SEE WHAT HAPPENS AS YOU INCREASE THIS TO SAY 200\n",
    "D = 2   #dimension of input vector\n",
    "t = np.zeros(N) #training set classifications\n",
    "X = np.zeros((N,D)) #training data in input space\n",
    "sigma = .25\n",
    "mu0 = 0.0\n",
    "mu1 = 1.0\n",
    "\n",
    "#func for generating 2D class scatter plot\n",
    "def createScatter(X, t, ax):\n",
    "    C1x = []  \n",
    "    C1y = []\n",
    "    C2x = []\n",
    "    C2y = []\n",
    "    for i in range(len(t)):\n",
    "        if t[i] > 0: \n",
    "            C1x.append(X[i,0])\n",
    "            C1y.append(X[i,1])\n",
    "        else: \n",
    "            C2x.append(X[i,0])\n",
    "            C2y.append(X[i,1])\n",
    "    ax.scatter(C1x,C1y)\n",
    "    ax.scatter(C2x,C2y, color='r')\n",
    "    \n",
    "#Generate test data. (NOTE THIS IS NOT BASED ON A GENERATIVE APPROACH. I AM PICKING SOMETHING THAT I KNOW (OK, THINK) WILL WORK. IN PRACTICE THIS DATA WOULD BE OBTAINED VIA OBSERVATION)\n",
    "#Pick a value from a uniform distribution [0,1). If it is less than 0.5, assign class 1 and pick x1,x2 from a ND(mu0,sigma) otherwise assign class 2 and pick x1,x2 from ND(mu1,sigma)\n",
    "for i in range(N):\n",
    "    #choose class to sample for\n",
    "    fac = 1\n",
    "    if np.random.rand() <= 0.5:\n",
    "        thismu = mu0\n",
    "        t[i] = 1\n",
    "    else: \n",
    "        thismu = mu1\n",
    "        t[i] = 0\n",
    "        if np.random.rand() < 0.5: fac = -1\n",
    "        \n",
    "    X[i,0] = fac * np.random.normal(thismu, sigma)\n",
    "    X[i,1] = fac * np.random.normal(thismu, sigma)\n",
    "    \n",
    "\n",
    "f, axarr = plt.subplots(1,3)\n",
    "f.subplots_adjust(right=2.5)\n",
    "f.text(0.75,0.975,'Fixed Input Transformation Yields Linear Class Boundary',horizontalalignment='center',verticalalignment='top')\n",
    "\n",
    "ax1 = axarr[0]\n",
    "ax1.set_xlabel('x1')\n",
    "ax1.set_ylabel('x2')\n",
    "createScatter(X,t,ax1)\n",
    "\n",
    "#The training data does not have a linear boundary in the original input space. So lets apply a tranformation, phi to try to make it linearly seperable\n",
    "#NOTE: This transformation is not the only one that works. For example try switching the values of MU1 and MU2. The result will be a different mapping\n",
    "#that is still linearly seperable\n",
    "def phi(x,mu,sigma):\n",
    "    detSigma = np.linalg.det(sigma)\n",
    "    fac = math.pow(2*math.pi, len(mu)/2.0) * math.sqrt(detSigma)\n",
    "    arg = -0.5 * np.dot((x-mu).T, np.dot(np.linalg.inv(sigma), x-mu) )\n",
    "    return math.exp(arg) / fac\n",
    "    \n",
    "phiX = np.zeros((N,D))\n",
    "MU1 = np.ones(D)*mu0\n",
    "MU2 = np.ones(D)*mu1\n",
    "SIGMA = np.diag(np.ones(D))*sigma\n",
    "for i in range(N):\n",
    "    phiX[i,0] = phi(x=X[i,:], mu=MU2, sigma=SIGMA)\n",
    "    phiX[i,1] = phi(x=X[i,:], mu=MU1, sigma=SIGMA)\n",
    "    \n",
    "ax2 = axarr[1]\n",
    "ax2.set_xlabel('phi1(x)')\n",
    "ax2.set_ylabel('phi2(x)')\n",
    "createScatter(phiX, t, ax2)\n",
    "\n",
    "#Now lets apply machine learning to determine the boundary. We will assume M = 3, i.e. that there are 3 free parameters that is w = [w0, w1, w2]^T and phi_n = [1, phiX[0], phiX[1]]\n",
    "M = 3\n",
    "Phi = np.ones((N,M))\n",
    "Phi[:,1] = phiX[:,0]\n",
    "Phi[:,2] = phiX[:,1]\n",
    "w = np.zeros(M)\n",
    "R = np.zeros((N,N))\n",
    "y = np.zeros(N)\n",
    "\n",
    "def sigmoid(a):\n",
    "    return 1.0 / (1.0 + math.exp(-a))\n",
    "\n",
    "def totalErr(y,t):\n",
    "    e = 0.0\n",
    "    for i in range(len(y)):\n",
    "        if t[i] > 0:\n",
    "            e += math.log(y[i])\n",
    "        else:\n",
    "            e += math.log(1.0 - y[i])\n",
    "    return -e\n",
    "\n",
    "#start Newton-Raphson. As a stopping criteria we will use a tolerance on the change in the error function and a max number of iterations\n",
    "max_its = 100\n",
    "tol = 1e-2\n",
    "w0 = [w[0]] \n",
    "w1 = [w[1]]\n",
    "w2 = [w[2]]\n",
    "err = []\n",
    "error_delta = 1 + tol\n",
    "current_error = 0\n",
    "idx = 0\n",
    "while math.fabs(error_delta)>tol and idx < max_its:\n",
    "    #update y & R\n",
    "    for i in range(N): \n",
    "        zipped = zip(w, Phi[i,:])\n",
    "        y[i] = sigmoid(reduce(lambda accum, Z: accum + Z[0]*Z[1], zipped, 0))\n",
    "        R[i,i] = y[i] - y[i]*y[i]\n",
    "    #update w\n",
    "    z = np.dot(Phi,w) - np.dot(np.linalg.pinv(R),y-t)\n",
    "    temp = np.linalg.pinv(np.dot(np.dot(Phi.T,R),Phi))\n",
    "    temp2 = np.dot(np.dot(temp, Phi.T),R)\n",
    "    w = np.dot(temp2, z)\n",
    "    w0.append(w[0])\n",
    "    w1.append(w[1])\n",
    "    w2.append(w[2])\n",
    "    idx += 1\n",
    "    temp = totalErr(y,t)\n",
    "    error_delta = current_error - temp\n",
    "    current_error = temp\n",
    "    err.append(error_delta)\n",
    "print('The total number of iterations was {0}'.format(idx))\n",
    "print('The total error was {0}'.format(current_error))\n",
    "print('The final change in error was {0}'.format(error_delta))\n",
    "print('The final parameters were {0}'.format(w))  \n",
    "    \n",
    "#our decision boundary is now formed by the line where sigma(a) = 0.5, i.e. where a = 0, which for this example is where phi2 = -(w1/w2)phi1, i.e. where w * phi = .5\n",
    "bdryx = (0,1)\n",
    "bdryy = (-(w[0]+w[1]*bdryx[0])/w[2], -(w[0]+w[1]*bdryx[1])/w[2])\n",
    "ax2.plot(bdryx, bdryy)\n",
    "\n",
    "ax3 = axarr[2]\n",
    "ax3.plot(w0, color = 'blue')\n",
    "ax3.plot(w1, color = 'red')\n",
    "ax3.plot(w2, color = 'green')\n",
    "ax3.plot(err, color = 'black')\n",
    "ax3.legend((\"w0\",\"w1\",\"w2\", \"error delta\"), loc='upper left')\n",
    "ax3.set_xlabel('Newton-Raphson Iteration')"
   ]
  },
  {
   "cell_type": "markdown",
   "metadata": {
    "collapsed": false
   },
   "source": [
    "<hr/>\n",
    "<div class=\"container-fluid\">\n",
    "  <div class='well'>\n",
    "      <div class=\"row\">\n",
    "          <div class=\"col-md-3\" align='center'>\n",
    "              <img align='center'alt=\"Creative Commons License\" style=\"border-width:0\" src=\"https://i.creativecommons.org/l/by-nc-sa/4.0/88x31.png\"/>\n",
    "          </div>\n",
    "          <div class=\"col-md-9\">\n",
    "              This work is licensed under a [Creative Commons Attribution-NonCommercial-ShareAlike 4.0 International License](http://creativecommons.org/licenses/by-nc-sa/4.0/).\n",
    "          </div>\n",
    "      </div>\n",
    "  </div>\n",
    "</div>"
   ]
  },
  {
   "cell_type": "code",
   "execution_count": 19,
   "metadata": {
    "collapsed": false
   },
   "outputs": [
    {
     "data": {
      "application/json": {
       "Software versions": [
        {
         "module": "Python",
         "version": "3.5.1 64bit [GCC 4.2.1 (Apple Inc. build 5577)]"
        },
        {
         "module": "IPython",
         "version": "4.2.0"
        },
        {
         "module": "OS",
         "version": "Darwin 15.4.0 x86_64 i386 64bit"
        },
        {
         "module": "scipy",
         "version": "0.17.0"
        },
        {
         "module": "numpy",
         "version": "1.10.4"
        },
        {
         "module": "matplotlib",
         "version": "1.5.1"
        }
       ]
      },
      "text/html": [
       "<table><tr><th>Software</th><th>Version</th></tr><tr><td>Python</td><td>3.5.1 64bit [GCC 4.2.1 (Apple Inc. build 5577)]</td></tr><tr><td>IPython</td><td>4.2.0</td></tr><tr><td>OS</td><td>Darwin 15.4.0 x86_64 i386 64bit</td></tr><tr><td>scipy</td><td>0.17.0</td></tr><tr><td>numpy</td><td>1.10.4</td></tr><tr><td>matplotlib</td><td>1.5.1</td></tr><tr><td colspan='2'>Wed May 04 10:41:25 2016 BRT</td></tr></table>"
      ],
      "text/latex": [
       "\\begin{tabular}{|l|l|}\\hline\n",
       "{\\bf Software} & {\\bf Version} \\\\ \\hline\\hline\n",
       "Python & 3.5.1 64bit [GCC 4.2.1 (Apple Inc. build 5577)] \\\\ \\hline\n",
       "IPython & 4.2.0 \\\\ \\hline\n",
       "OS & Darwin 15.4.0 x86\\_64 i386 64bit \\\\ \\hline\n",
       "scipy & 0.17.0 \\\\ \\hline\n",
       "numpy & 1.10.4 \\\\ \\hline\n",
       "matplotlib & 1.5.1 \\\\ \\hline\n",
       "\\hline \\multicolumn{2}{|l|}{Wed May 04 10:41:25 2016 BRT} \\\\ \\hline\n",
       "\\end{tabular}\n"
      ],
      "text/plain": [
       "Software versions\n",
       "Python 3.5.1 64bit [GCC 4.2.1 (Apple Inc. build 5577)]\n",
       "IPython 4.2.0\n",
       "OS Darwin 15.4.0 x86_64 i386 64bit\n",
       "scipy 0.17.0\n",
       "numpy 1.10.4\n",
       "matplotlib 1.5.1\n",
       "Wed May 04 10:41:25 2016 BRT"
      ]
     },
     "execution_count": 19,
     "metadata": {},
     "output_type": "execute_result"
    }
   ],
   "source": [
    "%load_ext version_information\n",
    "%version_information scipy, numpy, matplotlib"
   ]
  },
  {
   "cell_type": "code",
   "execution_count": 20,
   "metadata": {
    "collapsed": false
   },
   "outputs": [
    {
     "data": {
      "text/html": [
       "<link href='https://fonts.googleapis.com/css?family=Inconsolata:400,700' rel='stylesheet' type='text/css'/>\n",
       "<style>\n",
       "@font-face {\n",
       "    font-family: 'Optima';\n",
       "    src: url('fonts/optima-webfont.eot');\n",
       "    src: url('fonts/optima-webfont.eot?#iefix') format('embedded-opentype'),\n",
       "         url('fonts/optima-webfont.woff') format('woff'),\n",
       "         url('fonts/optima-webfont.ttf') format('truetype');\n",
       "    font-weight: normal;\n",
       "    font-style: normal;\n",
       "}\n",
       ".text_cell_render h1 h2 h3 h4 h5 {\n",
       "font-style:regular;\n",
       "font-family: 'Optima', sans-serif;\n",
       "display: block;\n",
       "}\n",
       "/*font-weight: 200;*/\n",
       "/*text-align: left;\n",
       "line-height: 100%;\n",
       "display: block;\n",
       "}*/\n",
       ".text_cell_render h1 {\n",
       "/*font-size: 24pt;*/\n",
       "font-weight: bold;\n",
       "margin-bottom: 0.1em;\n",
       "margin-top: 0.5em;\n",
       "color:#4a4a4a;\n",
       "}\n",
       "\n",
       ".reveal h1 {\n",
       "font-family: 'Optima', sans-serif;\n",
       "/*font-size: 24pt;*/\n",
       "font-weight: bold;\n",
       "margin-bottom: 0.1em;\n",
       "margin-top: 0.5em;\n",
       "color:#4a4a4a;\n",
       "}\n",
       ".text_cell_render h2 {\n",
       "/*font-size: 21pt;*/\n",
       "margin-bottom: 0.1em;\n",
       "margin-top: 0.3em;\n",
       "color:#595959;\n",
       "}\n",
       ".text_cell_render h3 {\n",
       "/*font-size: 19pt;*/\n",
       "margin-bottom: 0.1em;\n",
       "margin-top: 0.3em;\n",
       "color:#595959;\n",
       "}\n",
       ".text_cell_render h4 {\n",
       "/*font-size: 17pt;*/\n",
       "margin-bottom: 0.1em;\n",
       "margin-top: 0.3em;\n",
       "color:#595959;\n",
       "}\n",
       ".text_cell_render h5 {\n",
       "/*font-size: 15pt;*/\n",
       "margin-bottom: 0.1em;\n",
       "margin-top: 0.3em;\n",
       "color:#595959;\n",
       "}\n",
       "div.text_cell_render{\n",
       "font-family: 'Optima', sans-serif;\n",
       "line-height: 120%;\n",
       "font-size: 100%;\n",
       "font-weight: 400;\n",
       "text-align: justify;\n",
       "margin-left:0em;\n",
       "margin-right:0em;\n",
       "}\n",
       ".reveal div.text_cell_render{\n",
       "font-family: 'Optima', sans-serif;\n",
       "line-height: 120%;\n",
       "font-size: 74%;\n",
       "font-weight: 400;\n",
       "text-align: justify;\n",
       "margin-left:0em;\n",
       "margin-right:0em;\n",
       "}\n",
       ".reveal h1 {\n",
       "font-family: 'Optima', sans-serif;\n",
       "/*font-size: 90%; */\n",
       "/*font-size: 24pt;*/\n",
       "font-weight: bold;\n",
       "margin-bottom: 0.1em;\n",
       "margin-top: 0.5em;\n",
       "color:#4a4a4a;\n",
       "}\n",
       ".reveal h2 {\n",
       "font-family: 'Optima', sans-serif;\n",
       "/*font-size: 24pt;*/\n",
       "font-weight: bold;\n",
       "margin-bottom: 0.1em;\n",
       "margin-top: 0.5em;\n",
       "color:#595959;\n",
       "}\n",
       ".reveal h3 {\n",
       "font-family: 'Optima', sans-serif;\n",
       "/*font-size: 24pt;*/\n",
       "font-weight: bold;\n",
       "margin-bottom: 0.1em;\n",
       "margin-top: 0.5em;\n",
       "color:#595959;\n",
       "}\n",
       ".reveal h4 {\n",
       "font-family: 'Optima', sans-serif;\n",
       "font-weight: bold;\n",
       "margin-bottom: 0.1em;\n",
       "margin-top: 0.5em;\n",
       "color:#595959;\n",
       "}\n",
       ".reveal code {\n",
       "font-family: 'Inconsolata', monospace;\n",
       "}\n",
       ".reveal pre {\n",
       "font-family: 'Inconsolata', monospace;\n",
       "}\n",
       "code {\n",
       "font-family: 'Inconsolata', monospace;\n",
       "}\n",
       "pre {\n",
       "font-family: 'Inconsolata', monospace;\n",
       "}\n",
       ".CodeMirror{\n",
       "font-family: \"Inconsolata\", monospace;\n",
       "}\n",
       "/*body{\n",
       "  font-family: 'Optima', sans-serif;\n",
       "}*/\n",
       "</style>\n",
       "<script>\n",
       "    MathJax.Hub.Config({\n",
       "                        TeX: {\n",
       "                           extensions: [\"AMSmath.js\"],\n",
       "                           equationNumbers: { autoNumber: \"AMS\", useLabelIds: true}\n",
       "                           },\n",
       "                tex2jax: {\n",
       "                    inlineMath: [ ['$','$'], [\"\\\\(\",\"\\\\)\"] ],\n",
       "                    displayMath: [ ['$$','$$'], [\"\\\\[\",\"\\\\]\"] ]\n",
       "                },\n",
       "                displayAlign: 'center', // Change this to 'center' to center equations.\n",
       "                \"HTML-CSS\": {\n",
       "                    styles: {'.MathJax_Display': {\"margin\": 4}}\n",
       "                }\n",
       "        });\n",
       "</script>\n"
      ],
      "text/plain": [
       "<IPython.core.display.HTML object>"
      ]
     },
     "execution_count": 20,
     "metadata": {},
     "output_type": "execute_result"
    }
   ],
   "source": [
    "# this code is here only for cosmetic reasons\n",
    "from IPython.core.display import HTML\n",
    "def css_styling():\n",
    "    return HTML(open('custom/custom.include', 'r').read())\n",
    "css_styling()"
   ]
  }
 ],
 "metadata": {
  "kernelspec": {
   "display_name": "Python 3",
   "language": "python",
   "name": "python3"
  },
  "language_info": {
   "codemirror_mode": {
    "name": "ipython",
    "version": 3
   },
   "file_extension": ".py",
   "mimetype": "text/x-python",
   "name": "python",
   "nbconvert_exporter": "python",
   "pygments_lexer": "ipython3",
   "version": "3.5.1"
  }
 },
 "nbformat": 4,
 "nbformat_minor": 0
}
