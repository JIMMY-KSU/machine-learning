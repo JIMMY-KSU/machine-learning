{
 "cells": [
  {
   "cell_type": "markdown",
   "metadata": {
    "slideshow": {
     "slide_type": "slide"
    }
   },
   "source": [
    "<div align='left'>\n",
    "<a href='http://www.ic.uff.br'>\n",
    "<img align='left' src='http://www.proac.uff.br/logotipos/sites/default/files/images/logo-instituto-de-computacao.preview.png' alt='IC logo' title='IC logo' width='20%'/>\n",
    "</a>\n",
    "</div>"
   ]
  },
  {
   "cell_type": "markdown",
   "metadata": {},
   "source": [
    "# Understanding the Perceptron"
   ]
  },
  {
   "cell_type": "markdown",
   "metadata": {},
   "source": [
    "## [Luis Martí](http://lmarti.com) - [IC](http://www.ic.uff.br)/[UFF](http://www.uff.br)"
   ]
  },
  {
   "cell_type": "markdown",
   "metadata": {
    "slideshow": {
     "slide_type": "slide"
    }
   },
   "source": [
    "In this notebook we are doing to study the [perceptron](https://en.wikipedia.org/wiki/Perceptron) and its learning algorithm.\n",
    "\n",
    "The perceptron is an algorithm for learning a binary classifier. That is a function that maps its input $\\newcommand{\\vec}[1]{\\mathbf{#1}}\\vec{x}\\in\\mathbb{R}^n$ (a real-valued vector) to an output value $f(\\vec{x})$ (a single binary value) as,\n",
    "\n",
    "$$\n",
    "f(\\vec{x}) = \\begin{cases}\n",
    "                1 & \\text{if }\\vec{w} \\cdot \\vec{x} + b > 0\\,,\\\\\n",
    "                0 & \\text{otherwise};\n",
    "             \\end{cases}\n",
    "$$\n",
    "\n",
    "where $\\vec{w}$ is a vector of real-valued *weights*, $\\vec{w} \\cdot \\vec{x}$ is the *dot product* $\\sum_{i=1}^n w_i x_i$, and $b$ is known as the *bias*. "
   ]
  },
  {
   "cell_type": "markdown",
   "metadata": {
    "slideshow": {
     "slide_type": "slide"
    }
   },
   "source": [
    "## Preparing the environment \n",
    "\n",
    "The environment used for the notebook is the following:"
   ]
  },
  {
   "cell_type": "code",
   "execution_count": 1,
   "metadata": {
    "collapsed": false
   },
   "outputs": [
    {
     "name": "stdout",
     "output_type": "stream",
     "text": [
      "CPython 3.4.3\n",
      "IPython 4.0.0\n",
      "\n",
      "numpy 1.9.3\n",
      "pandas 0.16.2\n",
      "\n",
      "compiler   : GCC 4.2.1 (Apple Inc. build 5577)\n",
      "system     : Darwin\n",
      "release    : 14.5.0\n",
      "machine    : x86_64\n",
      "processor  : i386\n",
      "CPU cores  : 4\n",
      "interpreter: 64bit\n"
     ]
    }
   ],
   "source": [
    "%load_ext watermark\n",
    "%watermark -v -m -p numpy,pandas"
   ]
  },
  {
   "cell_type": "code",
   "execution_count": 2,
   "metadata": {
    "collapsed": false,
    "slideshow": {
     "slide_type": "slide"
    }
   },
   "outputs": [],
   "source": [
    "import numpy as np\n",
    "import pandas as pd\n",
    "import matplotlib.pyplot as plt\n",
    "%matplotlib inline\n",
    "\n",
    "import random, itertools\n",
    "random.seed(a=42)"
   ]
  },
  {
   "cell_type": "markdown",
   "metadata": {},
   "source": [
    "*Note*: I am fixing a given random seed to always have a the same result. You should not do this in practice (nor in the exercises of the class). "
   ]
  },
  {
   "cell_type": "markdown",
   "metadata": {
    "slideshow": {
     "slide_type": "slide"
    }
   },
   "source": [
    "## Implementing the Perceptron"
   ]
  },
  {
   "cell_type": "markdown",
   "metadata": {},
   "source": [
    "We are going to start implementing a perceptron as a class. \n",
    "\n",
    "*Note*: Bear in mind that I have made the implementation as clear and easy to follow as possible and, therefore, I have sacrificed performance in the sake of clarity. There are many points where it can be improved."
   ]
  },
  {
   "cell_type": "code",
   "execution_count": 3,
   "metadata": {
    "collapsed": true,
    "slideshow": {
     "slide_type": "slide"
    }
   },
   "outputs": [],
   "source": [
    "class Perceptron:\n",
    "    'A simple Perceptron implementation.'\n",
    "    def __init__(self, weights, bias, alpha=0.1):\n",
    "        self.weights = weights\n",
    "        self.bias = bias\n",
    "        self.alpha = alpha\n",
    "    \n",
    "    def propagate(self, x):\n",
    "        return self.activation(self.net(x)) \n",
    "        \n",
    "    def activation(self, net):\n",
    "        if net > 0:\n",
    "            return 1\n",
    "        return 0\n",
    "    \n",
    "    def net(self, x):\n",
    "        return np.dot(self.weights, x) + self.bias\n",
    "    \n",
    "    def learn(self, x, y):\n",
    "        y_hat = self.propagate(x)\n",
    "        self.weights = [ w_i + self.alpha*x_i*(y-y_hat) for (w_i, x_i) in zip(self.weights, x)]\n",
    "        self.bias = self.bias + self.alpha*(y-y_hat)\n",
    "        return np.abs(y_hat - y)"
   ]
  },
  {
   "cell_type": "markdown",
   "metadata": {
    "slideshow": {
     "slide_type": "slide"
    }
   },
   "source": [
    "Perhaps the most tricky element of our `Perceptron` class is the `learn` method. \n",
    "\n",
    "It goes by calculating the prediction of the perceptron, $\\hat{y}$, as\n",
    "\n",
    "$$\\hat{y} = f[\\mathbf{w}\\cdot\\mathbf{x} + b] = f[ w_{1}x_{1} + w_2x_{2} + \\cdots + w_nx_{n}+b]\\,.$$\n",
    "\n",
    "After that, we update the weights and the bias using the perceptron rule:\n",
    "\n",
    "$$\n",
    "\\begin{align}\n",
    "w_i & = w_i + \\alpha (y - \\hat{y}) x_{i} \\,,\\  i=1,\\ldots,n\\,;\\\\\n",
    "b & = b + \\alpha (y - \\hat{y})\\,.\n",
    "\\end{align}\n",
    "$$\n",
    "\n",
    "Here $\\alpha\\in\\left(0,1\\right]$ is known as the *learning rate*."
   ]
  },
  {
   "cell_type": "markdown",
   "metadata": {
    "slideshow": {
     "slide_type": "slide"
    }
   },
   "source": [
    "## Preparing the data set\n",
    "\n",
    "After having the perceptron implementation ready we need an example data set.\n",
    "\n",
    "We are going to create a dataset containing random points such that $\\mathbf{x}\\in\\left[0,1\\right]^2$."
   ]
  },
  {
   "cell_type": "code",
   "execution_count": 4,
   "metadata": {
    "collapsed": true
   },
   "outputs": [],
   "source": [
    "size = 50 # size of data set"
   ]
  },
  {
   "cell_type": "code",
   "execution_count": 5,
   "metadata": {
    "collapsed": false
   },
   "outputs": [],
   "source": [
    "data = pd.DataFrame(columns=('$x_1$', '$x_2$'),\n",
    "                    data=np.random.uniform(size=(size,2)))"
   ]
  },
  {
   "cell_type": "markdown",
   "metadata": {
    "slideshow": {
     "slide_type": "slide"
    }
   },
   "source": [
    "So far, our data set looks like this (we are showning only the first ten elements):"
   ]
  },
  {
   "cell_type": "code",
   "execution_count": 6,
   "metadata": {
    "collapsed": false
   },
   "outputs": [
    {
     "data": {
      "text/html": [
       "<div>\n",
       "<table border=\"1\" class=\"dataframe\">\n",
       "  <thead>\n",
       "    <tr style=\"text-align: right;\">\n",
       "      <th></th>\n",
       "      <th>$x_1$</th>\n",
       "      <th>$x_2$</th>\n",
       "    </tr>\n",
       "  </thead>\n",
       "  <tbody>\n",
       "    <tr>\n",
       "      <th>0</th>\n",
       "      <td>0.176998</td>\n",
       "      <td>0.845451</td>\n",
       "    </tr>\n",
       "    <tr>\n",
       "      <th>1</th>\n",
       "      <td>0.357229</td>\n",
       "      <td>0.497691</td>\n",
       "    </tr>\n",
       "    <tr>\n",
       "      <th>2</th>\n",
       "      <td>0.643802</td>\n",
       "      <td>0.285172</td>\n",
       "    </tr>\n",
       "    <tr>\n",
       "      <th>3</th>\n",
       "      <td>0.977791</td>\n",
       "      <td>0.888909</td>\n",
       "    </tr>\n",
       "    <tr>\n",
       "      <th>4</th>\n",
       "      <td>0.053478</td>\n",
       "      <td>0.361519</td>\n",
       "    </tr>\n",
       "    <tr>\n",
       "      <th>5</th>\n",
       "      <td>0.268272</td>\n",
       "      <td>0.116245</td>\n",
       "    </tr>\n",
       "    <tr>\n",
       "      <th>6</th>\n",
       "      <td>0.420868</td>\n",
       "      <td>0.167383</td>\n",
       "    </tr>\n",
       "    <tr>\n",
       "      <th>7</th>\n",
       "      <td>0.701919</td>\n",
       "      <td>0.084028</td>\n",
       "    </tr>\n",
       "    <tr>\n",
       "      <th>8</th>\n",
       "      <td>0.592559</td>\n",
       "      <td>0.555809</td>\n",
       "    </tr>\n",
       "    <tr>\n",
       "      <th>9</th>\n",
       "      <td>0.154669</td>\n",
       "      <td>0.385328</td>\n",
       "    </tr>\n",
       "  </tbody>\n",
       "</table>\n",
       "</div>"
      ],
      "text/plain": [
       "      $x_1$     $x_2$\n",
       "0  0.176998  0.845451\n",
       "1  0.357229  0.497691\n",
       "2  0.643802  0.285172\n",
       "3  0.977791  0.888909\n",
       "4  0.053478  0.361519\n",
       "5  0.268272  0.116245\n",
       "6  0.420868  0.167383\n",
       "7  0.701919  0.084028\n",
       "8  0.592559  0.555809\n",
       "9  0.154669  0.385328"
      ]
     },
     "execution_count": 6,
     "metadata": {},
     "output_type": "execute_result"
    }
   ],
   "source": [
    "data.head(10)"
   ]
  },
  {
   "cell_type": "markdown",
   "metadata": {
    "slideshow": {
     "slide_type": "slide"
    }
   },
   "source": [
    "We need to add a *target* or *classification* attribute. In this example, we are going to make this target to be equal to one if the point lies in the upper-right triangle of the $\\left[0,1\\right]\\times\\left[0,1\\right]$ square and zero otherwise:\n",
    "\n",
    "<div align='center'>\n",
    "<img src='figs/dataset.jpeg' alt='description of the data set' title='description of the data set' width='38%'/>\n",
    "</div>"
   ]
  },
  {
   "cell_type": "markdown",
   "metadata": {
    "slideshow": {
     "slide_type": "slide"
    }
   },
   "source": [
    "We can formalize this condition as:\n",
    "\n",
    "$$\n",
    "y = \\begin{cases}\n",
    "    1 & \\ \\text{if}\\ x_1 + x_2 > 1\\,,\\\\\n",
    "    0 & \\ \\text{otherwise}\\,.\n",
    "    \\end{cases}\n",
    "$$\n",
    "\n",
    "Lets code it..."
   ]
  },
  {
   "cell_type": "code",
   "execution_count": 7,
   "metadata": {
    "collapsed": false
   },
   "outputs": [],
   "source": [
    "def condition(x):\n",
    "    return int(np.sum(x) > 1)"
   ]
  },
  {
   "cell_type": "markdown",
   "metadata": {},
   "source": [
    "...and apply this condition to the data set."
   ]
  },
  {
   "cell_type": "code",
   "execution_count": 8,
   "metadata": {
    "collapsed": false
   },
   "outputs": [],
   "source": [
    "data['y'] = data.apply(condition, axis=1)"
   ]
  },
  {
   "cell_type": "markdown",
   "metadata": {
    "slideshow": {
     "slide_type": "slide"
    }
   },
   "source": [
    "The resulting data set looks like this:"
   ]
  },
  {
   "cell_type": "code",
   "execution_count": 9,
   "metadata": {
    "collapsed": false
   },
   "outputs": [
    {
     "data": {
      "text/html": [
       "<div>\n",
       "<table border=\"1\" class=\"dataframe\">\n",
       "  <thead>\n",
       "    <tr style=\"text-align: right;\">\n",
       "      <th></th>\n",
       "      <th>$x_1$</th>\n",
       "      <th>$x_2$</th>\n",
       "      <th>y</th>\n",
       "    </tr>\n",
       "  </thead>\n",
       "  <tbody>\n",
       "    <tr>\n",
       "      <th>0</th>\n",
       "      <td>0.176998</td>\n",
       "      <td>0.845451</td>\n",
       "      <td>1</td>\n",
       "    </tr>\n",
       "    <tr>\n",
       "      <th>1</th>\n",
       "      <td>0.357229</td>\n",
       "      <td>0.497691</td>\n",
       "      <td>0</td>\n",
       "    </tr>\n",
       "    <tr>\n",
       "      <th>2</th>\n",
       "      <td>0.643802</td>\n",
       "      <td>0.285172</td>\n",
       "      <td>0</td>\n",
       "    </tr>\n",
       "    <tr>\n",
       "      <th>3</th>\n",
       "      <td>0.977791</td>\n",
       "      <td>0.888909</td>\n",
       "      <td>1</td>\n",
       "    </tr>\n",
       "    <tr>\n",
       "      <th>4</th>\n",
       "      <td>0.053478</td>\n",
       "      <td>0.361519</td>\n",
       "      <td>0</td>\n",
       "    </tr>\n",
       "    <tr>\n",
       "      <th>5</th>\n",
       "      <td>0.268272</td>\n",
       "      <td>0.116245</td>\n",
       "      <td>0</td>\n",
       "    </tr>\n",
       "    <tr>\n",
       "      <th>6</th>\n",
       "      <td>0.420868</td>\n",
       "      <td>0.167383</td>\n",
       "      <td>0</td>\n",
       "    </tr>\n",
       "    <tr>\n",
       "      <th>7</th>\n",
       "      <td>0.701919</td>\n",
       "      <td>0.084028</td>\n",
       "      <td>0</td>\n",
       "    </tr>\n",
       "    <tr>\n",
       "      <th>8</th>\n",
       "      <td>0.592559</td>\n",
       "      <td>0.555809</td>\n",
       "      <td>1</td>\n",
       "    </tr>\n",
       "    <tr>\n",
       "      <th>9</th>\n",
       "      <td>0.154669</td>\n",
       "      <td>0.385328</td>\n",
       "      <td>0</td>\n",
       "    </tr>\n",
       "  </tbody>\n",
       "</table>\n",
       "</div>"
      ],
      "text/plain": [
       "      $x_1$     $x_2$  y\n",
       "0  0.176998  0.845451  1\n",
       "1  0.357229  0.497691  0\n",
       "2  0.643802  0.285172  0\n",
       "3  0.977791  0.888909  1\n",
       "4  0.053478  0.361519  0\n",
       "5  0.268272  0.116245  0\n",
       "6  0.420868  0.167383  0\n",
       "7  0.701919  0.084028  0\n",
       "8  0.592559  0.555809  1\n",
       "9  0.154669  0.385328  0"
      ]
     },
     "execution_count": 9,
     "metadata": {},
     "output_type": "execute_result"
    }
   ],
   "source": [
    "data.head(10)"
   ]
  },
  {
   "cell_type": "markdown",
   "metadata": {
    "slideshow": {
     "slide_type": "slide"
    }
   },
   "source": [
    "We can now take a better look at the data set in graphical form. Elements with $y=1$ are shown in red ($\\color{red}{\\bullet}$) and those with $y=0$ are shown in gray ($\\color{gray}{\\bullet}$):"
   ]
  },
  {
   "cell_type": "code",
   "execution_count": 10,
   "metadata": {
    "collapsed": true
   },
   "outputs": [],
   "source": [
    "def plot_data(data, ax):\n",
    "    data[data.y==1].plot(kind='scatter', \n",
    "                         x='$x_1$', y='$x_2$', \n",
    "                         color='Red', ax=ax)\n",
    "    data[data.y==0].plot(kind='scatter', \n",
    "                         x='$x_1$', y='$x_2$', \n",
    "                         color='Gray', ax=ax)\n",
    "    ax.set_xlim(-0.1,1.1); ax.set_ylim(-0.1,1.1)"
   ]
  },
  {
   "cell_type": "code",
   "execution_count": 11,
   "metadata": {
    "collapsed": false,
    "slideshow": {
     "slide_type": "slide"
    }
   },
   "outputs": [
    {
     "data": {
      "image/png": "[encoded data removed]",
      "text/plain": [
       "<matplotlib.figure.Figure at 0x107c3b0f0>"
      ]
     },
     "metadata": {},
     "output_type": "display_data"
    }
   ],
   "source": [
    "fig = plt.figure(figsize=(5,5))\n",
    "ax = fig.gca()\n",
    "plot_data(data, ax)"
   ]
  },
  {
   "cell_type": "markdown",
   "metadata": {
    "slideshow": {
     "slide_type": "slide"
    }
   },
   "source": [
    "## Iterating the data set\n",
    "\n",
    "Having the data set we can now code how the perceptron learns it by iterating throu it."
   ]
  },
  {
   "cell_type": "code",
   "execution_count": 12,
   "metadata": {
    "collapsed": true
   },
   "outputs": [],
   "source": [
    "def learn_data(perceptron, data):\n",
    "    'Returns the number of errors made.'\n",
    "    count = 0 \n",
    "    for i, row in data.iterrows():\n",
    "        count += perceptron.learn(row[0:2], row[2])\n",
    "    return count"
   ]
  },
  {
   "cell_type": "markdown",
   "metadata": {
    "slideshow": {
     "slide_type": "slide"
    }
   },
   "source": [
    "## Visualizing learning\n",
    "\n",
    "We need now to plot the decision boundary or threshold of the perceptron.\n",
    "\n",
    "To calculate it we start with the equation that describes the boundary,\n",
    "$$w_1x_1+w_2x_2 + b =0.$$\n",
    "\n",
    "From it we can obtain $x_2$ from a given $x_1$ applying a fairy simple math,\n",
    "$$x_2 = \\frac{-w_1x_1-b}{w_2}.$$"
   ]
  },
  {
   "cell_type": "code",
   "execution_count": 13,
   "metadata": {
    "collapsed": false,
    "slideshow": {
     "slide_type": "slide"
    }
   },
   "outputs": [],
   "source": [
    "def threshold(perceptron, x_1):\n",
    "    return (-perceptron.weights[0] * x_1 - perceptron.bias) / perceptron.weights[1]"
   ]
  },
  {
   "cell_type": "code",
   "execution_count": 14,
   "metadata": {
    "collapsed": false
   },
   "outputs": [],
   "source": [
    "def plot_perceptron_threshold(perceptron, ax):\n",
    "    xlim = ax.get_xlim(); ylim = ax.get_ylim()\n",
    "    \n",
    "    x2s = [threshold(perceptron, x1) for x1 in xlim]\n",
    "    ax.plot(xlim, x2s)\n",
    "    \n",
    "    ax.set_xlim(-0.1,1.1); ax.set_ylim(-0.1,1.1)"
   ]
  },
  {
   "cell_type": "markdown",
   "metadata": {
    "slideshow": {
     "slide_type": "slide"
    }
   },
   "source": [
    "A function that plots a perceptron as the threshold and the data set."
   ]
  },
  {
   "cell_type": "code",
   "execution_count": 15,
   "metadata": {
    "collapsed": true
   },
   "outputs": [],
   "source": [
    "def plot_all(perceptron, data, t, ax=None):\n",
    "    if ax==None:\n",
    "        fig = plt.figure(figsize=(5,4))\n",
    "        ax = fig.gca()\n",
    "    plot_data(data, ax)\n",
    "    plot_perceptron_threshold(perceptron, ax)\n",
    "    \n",
    "    ax.set_title('$t='+str(t+1)+'$')"
   ]
  },
  {
   "cell_type": "markdown",
   "metadata": {
    "slideshow": {
     "slide_type": "slide"
    }
   },
   "source": [
    "## Our perceptron in action\n",
    "\n",
    "All set now! Let's create a perceptron and train it. \n",
    "\n",
    "*Note*: Normally the initial weights and the bias should be set to *small* random values. I am setting them by hand to a value that I know that looks good in the examples."
   ]
  },
  {
   "cell_type": "code",
   "execution_count": 16,
   "metadata": {
    "collapsed": true
   },
   "outputs": [],
   "source": [
    "perceptron = Perceptron([0.1,-0.1],0.02)"
   ]
  },
  {
   "cell_type": "code",
   "execution_count": 17,
   "metadata": {
    "collapsed": false,
    "slideshow": {
     "slide_type": "slide"
    }
   },
   "outputs": [
    {
     "data": {
      "image/png": "[encoded data removed]",
      "text/plain": [
       "<matplotlib.figure.Figure at 0x107f8ac88>"
      ]
     },
     "metadata": {},
     "output_type": "display_data"
    }
   ],
   "source": [
    "f, axarr = plt.subplots(2, 3, sharex=True, sharey=True, figsize=(8,6))\n",
    "axs = list(itertools.chain.from_iterable(axarr))\n",
    "for t in range(6):\n",
    "    plot_all(perceptron, data, t, ax=axs[t])\n",
    "    learn_data(perceptron, data)\n",
    "f.tight_layout()"
   ]
  },
  {
   "cell_type": "markdown",
   "metadata": {},
   "source": [
    "It is clear how the Perceptron threshold is progresively adjusted according to the data set."
   ]
  },
  {
   "cell_type": "markdown",
   "metadata": {
    "slideshow": {
     "slide_type": "slide"
    }
   },
   "source": [
    "## Animating the Perceptron\n",
    "\n",
    "This results are better understood in animated from."
   ]
  },
  {
   "cell_type": "code",
   "execution_count": 18,
   "metadata": {
    "collapsed": false
   },
   "outputs": [],
   "source": [
    "from JSAnimation import IPython_display\n",
    "from matplotlib import animation"
   ]
  },
  {
   "cell_type": "code",
   "execution_count": 19,
   "metadata": {
    "collapsed": true,
    "slideshow": {
     "slide_type": "subslide"
    }
   },
   "outputs": [],
   "source": [
    "def animate(frame_index, perceptron, data, ax):\n",
    "    ax.clear()\n",
    "    plot_data(data, ax=ax)\n",
    "    ax.set_title('$t='+str(frame_index)+'$')\n",
    "    \n",
    "    if not frame_index:\n",
    "        return None\n",
    "    plot_perceptron_threshold(perceptron, ax=ax)\n",
    "    learn_data(perceptron, data)\n",
    "    return None"
   ]
  },
  {
   "cell_type": "code",
   "execution_count": 20,
   "metadata": {
    "collapsed": false,
    "slideshow": {
     "slide_type": "slide"
    }
   },
   "outputs": [
    {
     "data": {
      "text/html": [
       "\n",
       "<script language=\"javascript\">\n",
       "  /* Define the Animation class */\n",
       "  function Animation(frames, img_id, slider_id, interval, loop_select_id){\n",
       "    this.img_id = img_id;\n",
       "    this.slider_id = slider_id;\n",
       "    this.loop_select_id = loop_select_id;\n",
       "    this.interval = interval;\n",
       "    this.current_frame = 0;\n",
       "    this.direction = 0;\n",
       "    this.timer = null;\n",
       "    this.frames = new Array(frames.length);\n",
       "\n",
       "    for (var i=0; i<frames.length; i++)\n",
       "    {\n",
       "     this.frames[i] = new Image();\n",
       "     this.frames[i].src = frames[i];\n",
       "    }\n",
       "    document.getElementById(this.slider_id).max = this.frames.length - 1;\n",
       "    this.set_frame(this.current_frame);\n",
       "  }\n",
       "\n",
       "  Animation.prototype.get_loop_state = function(){\n",
       "    var button_group = document[this.loop_select_id].state;\n",
       "    for (var i = 0; i < button_group.length; i++) {\n",
       "        var button = button_group[i];\n",
       "        if (button.checked) {\n",
       "            return button.value;\n",
       "        }\n",
       "    }\n",
       "    return undefined;\n",
       "  }\n",
       "\n",
       "  Animation.prototype.set_frame = function(frame){\n",
       "    this.current_frame = frame;\n",
       "    document.getElementById(this.img_id).src = this.frames[this.current_frame].src;\n",
       "    document.getElementById(this.slider_id).value = this.current_frame;\n",
       "  }\n",
       "\n",
       "  Animation.prototype.next_frame = function()\n",
       "  {\n",
       "    this.set_frame(Math.min(this.frames.length - 1, this.current_frame + 1));\n",
       "  }\n",
       "\n",
       "  Animation.prototype.previous_frame = function()\n",
       "  {\n",
       "    this.set_frame(Math.max(0, this.current_frame - 1));\n",
       "  }\n",
       "\n",
       "  Animation.prototype.first_frame = function()\n",
       "  {\n",
       "    this.set_frame(0);\n",
       "  }\n",
       "\n",
       "  Animation.prototype.last_frame = function()\n",
       "  {\n",
       "    this.set_frame(this.frames.length - 1);\n",
       "  }\n",
       "\n",
       "  Animation.prototype.slower = function()\n",
       "  {\n",
       "    this.interval /= 0.7;\n",
       "    if(this.direction > 0){this.play_animation();}\n",
       "    else if(this.direction < 0){this.reverse_animation();}\n",
       "  }\n",
       "\n",
       "  Animation.prototype.faster = function()\n",
       "  {\n",
       "    this.interval *= 0.7;\n",
       "    if(this.direction > 0){this.play_animation();}\n",
       "    else if(this.direction < 0){this.reverse_animation();}\n",
       "  }\n",
       "\n",
       "  Animation.prototype.anim_step_forward = function()\n",
       "  {\n",
       "    this.current_frame += 1;\n",
       "    if(this.current_frame < this.frames.length){\n",
       "      this.set_frame(this.current_frame);\n",
       "    }else{\n",
       "      var loop_state = this.get_loop_state();\n",
       "      if(loop_state == \"loop\"){\n",
       "        this.first_frame();\n",
       "      }else if(loop_state == \"reflect\"){\n",
       "        this.last_frame();\n",
       "        this.reverse_animation();\n",
       "      }else{\n",
       "        this.pause_animation();\n",
       "        this.last_frame();\n",
       "      }\n",
       "    }\n",
       "  }\n",
       "\n",
       "  Animation.prototype.anim_step_reverse = function()\n",
       "  {\n",
       "    this.current_frame -= 1;\n",
       "    if(this.current_frame >= 0){\n",
       "      this.set_frame(this.current_frame);\n",
       "    }else{\n",
       "      var loop_state = this.get_loop_state();\n",
       "      if(loop_state == \"loop\"){\n",
       "        this.last_frame();\n",
       "      }else if(loop_state == \"reflect\"){\n",
       "        this.first_frame();\n",
       "        this.play_animation();\n",
       "      }else{\n",
       "        this.pause_animation();\n",
       "        this.first_frame();\n",
       "      }\n",
       "    }\n",
       "  }\n",
       "\n",
       "  Animation.prototype.pause_animation = function()\n",
       "  {\n",
       "    this.direction = 0;\n",
       "    if (this.timer){\n",
       "      clearInterval(this.timer);\n",
       "      this.timer = null;\n",
       "    }\n",
       "  }\n",
       "\n",
       "  Animation.prototype.play_animation = function()\n",
       "  {\n",
       "    this.pause_animation();\n",
       "    this.direction = 1;\n",
       "    var t = this;\n",
       "    if (!this.timer) this.timer = setInterval(function(){t.anim_step_forward();}, this.interval);\n",
       "  }\n",
       "\n",
       "  Animation.prototype.reverse_animation = function()\n",
       "  {\n",
       "    this.pause_animation();\n",
       "    this.direction = -1;\n",
       "    var t = this;\n",
       "    if (!this.timer) this.timer = setInterval(function(){t.anim_step_reverse();}, this.interval);\n",
       "  }\n",
       "</script>\n",
       "\n",
       "<div class=\"animation\" align=\"center\">\n",
       "    <img id=\"_anim_imgXUEEIVNBOEGCUGJR\">\n",
       "    <br>\n",
       "    <input id=\"_anim_sliderXUEEIVNBOEGCUGJR\" type=\"range\" style=\"width:350px\" name=\"points\" min=\"0\" max=\"1\" step=\"1\" value=\"0\" onchange=\"animXUEEIVNBOEGCUGJR.set_frame(parseInt(this.value));\"></input>\n",
       "    <br>\n",
       "    <button onclick=\"animXUEEIVNBOEGCUGJR.slower()\">&#8211;</button>\n",
       "    <button onclick=\"animXUEEIVNBOEGCUGJR.first_frame()\"><img class=\"anim_icon\" src=\"data:image/png;base64,iVBORw0KGgoAAAANSUhEUgAAABQAAAAUCAQAAAAngNWGAAAAAXNSR0IArs4c6QAAAAJiS0dEAP+Hj8y/AAAACXBIWXMAAAsTAAALEwEAmpwYAAAAB3RJTUUH3QURCAgaeZk4EQAAASlJREFUKM/dkj9LQnEUhp9zr3bpj1uBcKGiJWxzLWivKAIRjIhcCqcgqJbKRagPICiVSVEuNTu0tLYGUg4tkRGUdxLJ0u79Ndxr5FfwTO/L+xzO4XCgO+v2T70AFU+/A/Dhmlzg6Pr0DKAMwOH4zQxAAbAkv2xNeF2RoQUVc1ytgttXUbWVdN1dOPE8pz4j4APQsdFtKA0WY6vpKjqvVciHnvZTS6Ja4HgggJLs7MHxl9nCh8NYcO+iGG0agiaC4h9oa6Vsw2yiK+QHSZT934YoEQABNBcTNDszsrhm1m1B+bFS86PT6QFppx6oeSaeOwlMXRp1h4aK13Y2kuHhUo9ykPboPvFjeEvsrhTMt3ylHyB0r8KZyYdCrbfj4OveoHMANjuyx+76rV+/blxKMZUnLgAAAABJRU5ErkJggg==\"></button>\n",
       "    <button onclick=\"animXUEEIVNBOEGCUGJR.previous_frame()\"><img class=\"anim_icon\" src=\"data:image/png;base64,iVBORw0KGgoAAAANSUhEUgAAABQAAAAUCAQAAAAngNWGAAAAAXNSR0IArs4c6QAAAAJiS0dEAP+Hj8y/AAAACXBIWXMAAAsTAAALEwEAmpwYAAAAB3RJTUUH3QURCAgyTCyQ6wAAANRJREFUKM9jYBjO4AiUfgzFGGAp4+yayUvX6jMwMDCsYmBgOCS4OAOrSYmMgcc8/pd5Q3irC+Neh/1AlmeBMVgZmP8yMLD8/c/cqv9r90whzv/MX7Eq/MfAwMDIwCuZdfSV8U8WDgZGRmYGrAoZGRgY/jO8b3sj/J2F6T8j4z80pzEhmIwMjAxsSbqqlkeZGP//Z8SlkJnhPwMjwx/Guoe1NhmRwk+YGH5jV8jOwMPHzcDBysAwh8FrxQwtPU99HrwBXsnAwMDAsJiBgYGBoZ1xmKYqALHhMpn1o7igAAAAAElFTkSuQmCC\"></button>\n",
       "    <button onclick=\"animXUEEIVNBOEGCUGJR.reverse_animation()\"><img class=\"anim_icon\" src=\"data:image/png;base64,iVBORw0KGgoAAAANSUhEUgAAABQAAAAUCAQAAAAngNWGAAAAAXNSR0IArs4c6QAAAAJiS0dEAP+Hj8y/AAAACXBIWXMAAAsTAAALEwEAmpwYAAAAB3RJTUUH3QURCAgmVvZElgAAAVFJREFUKM+t0k8ow3EYx/H3s/2aLDUSZctFkgsHEi1XLi5ukpPSWsuJklwclsPSsDKFi7MSJ0I5qF2GHO2m0FY7+BdNv7Y9DpuxDSt5vsfvq+fT9/k+8D8VBxIAWH6H0ead4Qb5BRwCENoceZi5Stl/6BgCBmtWhjzxg4mUQ02rAhil7JgB9tze7aTLxFAKsUUd14B9ZzCyFUk401gQyQJaDNcBHwv7t7ETd0ZVQFEEzcNCdE/1wtj15imGWlEB8qkf2QaAWjbG/bPSamIDyX65/iwDIFx7tWjUvWCoSo5oGbYATN7PORt7W9IZEQXJH8ohuN7C0VVX91KNqYhq4a1lEGJI0j892tazXCWQRUpwAbYDcHczPxXuajq3mbnhfANz5eOJxsuNvs7+jud0UcuyL3QAkuEMx4rnIvBYq1JhEwPAUb3fG7x8tVdc292/7Po7f2VqA+Yz7ZwAAAAASUVORK5CYII=\"></button>\n",
       "    <button onclick=\"animXUEEIVNBOEGCUGJR.pause_animation()\"><img class=\"anim_icon\" src=\"data:image/png;base64,iVBORw0KGgoAAAANSUhEUgAAABQAAAAUCAQAAAAngNWGAAAAAXNSR0IArs4c6QAAAAJiS0dEAP+Hj8y/AAAACXBIWXMAAAsTAAALEwEAmpwYAAAAB3RJTUUH3QURCAkR91DQ2AAAAKtJREFUKM9jYCANTEVib2K4jcRbzQihGWEC00JuNjN8Z2Q0Zo3VYWA4lL005venH9+c3ZK5IfIsMIXMBtc12Bj+MMgxMDAwMPzWe2TBzPCf4SLcZCYY4/9/RgZGBiaYFf8gljFhKiQERhUOeoX/Gf8y/GX4y/APmlj+Mfxj+MfwH64Qnnq0zr9fyfLrPzP3eQYGBobvk5x4GX4xMIij23gdib0cRWYHiVmAAQDK5ircshCbHQAAAABJRU5ErkJggg==\"></button>\n",
       "    <button onclick=\"animXUEEIVNBOEGCUGJR.play_animation()\"><img class=\"anim_icon\" src=\"data:image/png;base64,iVBORw0KGgoAAAANSUhEUgAAABQAAAAUCAQAAAAngNWGAAAAAXNSR0IArs4c6QAAAAJiS0dEAP+Hj8y/AAAACXBIWXMAAAsTAAALEwEAmpwYAAAAB3RJTUUH3QURCAkEmo00MwAAAS9JREFUKM+tkj1IQmEUhp9j94LQj0FD4RRBLdLQ3ftb26PRcCiQIIiIDFwKC0OhaAiam5wVDBpqCKohQojMLYzaAiUatOtpuQrKVQl64fu+4Xt4OLwc+Fs+nNM16jsPAWS6gZXggoZfXmfhog3hcZ6aTXF87Sp68OmH4/YggAo8bmfyyeh6Z1AAKPVldyO1+Iz2uILq3AriJSe3l+H7aj+cuRnrTsVDxSxay+VYbMDnCtZxxQOU9G4nlU9E1HQBxRkCQMRGRnIbpxMARkvxCIoAorYMMrq0mJ0qu4COUW3xyVDqJC4P+86P0ewDQbQqgevhlc2C8ETApXAEFLzvwa3EXG9BoIE1GQUbv1h7k4fTXxBu6cKgUbX5M3ZzNC+a7rQ936HV56SlRpcle+Mf8wvgJ16zo/4BtQAAAABJRU5ErkJggg==\"></button>\n",
       "    <button onclick=\"animXUEEIVNBOEGCUGJR.next_frame()\"><img class=\"anim_icon\" src=\"data:image/png;base64,iVBORw0KGgoAAAANSUhEUgAAABQAAAAUCAQAAAAngNWGAAAAAXNSR0IArs4c6QAAAAJiS0dEAP+Hj8y/AAAACXBIWXMAAAsTAAALEwEAmpwYAAAAB3RJTUUH3QURCAkd/uac8wAAAMhJREFUKM9jYBie4DEUQ8B+fEq3+3UrMzAwMFxjYGBgYJizYubaOUxYFUaXh/6vWfRfEMIL/+//P5gZJoei4/f/7wxnY1PeNUXdE2RgYGZgYoCrY2BBVsjKwMDAwvCS4f3SG/dXxm5gYESSQ1HIwvCPgZmB8f8Pxv+Kxxb/YfiPJIdi9T8GJgaG/38ZFd4Fx0xUYsZt4h8GBgb2D2bLy7KnMTAwMEIxFoVCXIYr1IoDnkF4XAysqNIwUMDAwMDAsADKS2NkGL4AAIARMlfNIfZMAAAAAElFTkSuQmCC\"></button>\n",
       "    <button onclick=\"animXUEEIVNBOEGCUGJR.last_frame()\"><img class=\"anim_icon\" src=\"data:image/png;base64,iVBORw0KGgoAAAANSUhEUgAAABQAAAAUCAQAAAAngNWGAAAAAXNSR0IArs4c6QAAAAJiS0dEAP+Hj8y/AAAACXBIWXMAAAsTAAALEwEAmpwYAAAAB3RJTUUH3QURCAknOOpFQQAAAS9JREFUKM/dkrEvQ3EQxz/33mtoQxiYpANbLU26NAabSCcSUouGBVNDjYQaOiDpIEiKjURIw2Kx04hEYmkHEpGoJpSISaXq9Wd4P03/ht5y98197/u9XA4aK4rAWw3lgWddZ3S+/G9mEovtAB8AHE4pgTQAx8PbJweRmsq6GimmNpxaNYXVzMNNCI6A2figimwCGACK786zuWgh3qcsKf/w0pM4X0m/doNVFVzVGlEQsdRj193VxEWpH0RsdRu+zi3tVMqCAsDShoiYqiSV4OouVDFEqS9Pbiyg7vV62lpQ2BJ4Gg0meg0MbNpkYG/e+540NNFyrE1a8qHk5BaAjfnrzUaHfAWImVrLIXbgnx4/9X06s35cweWsVACa3a24PVp0X+rPv1aHFnSONdiL8Qci0lzwpOM5sQAAAABJRU5ErkJggg==\"></button>\n",
       "    <button onclick=\"animXUEEIVNBOEGCUGJR.faster()\">+</button>\n",
       "  <form action=\"#n\" name=\"_anim_loop_selectXUEEIVNBOEGCUGJR\" class=\"anim_control\">\n",
       "    <input type=\"radio\" name=\"state\" value=\"once\" > Once </input>\n",
       "    <input type=\"radio\" name=\"state\" value=\"loop\" checked> Loop </input>\n",
       "    <input type=\"radio\" name=\"state\" value=\"reflect\" > Reflect </input>\n",
       "  </form>\n",
       "</div>\n",
       "\n",
       "\n",
       "<script language=\"javascript\">\n",
       "  /* Instantiate the Animation class. */\n",
       "  /* The IDs given should match those used in the template above. */\n",
       "  (function() {\n",
       "    var img_id = \"_anim_imgXUEEIVNBOEGCUGJR\";\n",
       "    var slider_id = \"_anim_sliderXUEEIVNBOEGCUGJR\";\n",
       "    var loop_select_id = \"_anim_loop_selectXUEEIVNBOEGCUGJR\";\n",
       "    var frames = new Array(0);\n",
       "    \n",
       "  frames[0] = \"data:image/png;base64,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\"\n",
       "  frames[1] = \"data:image/png;base64,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\"\n",
       "  frames[2] = \"data:image/png;base64,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\"\n",
       "  frames[3] = \"data:image/png;base64,iVBORw0KGgoAAAANSUhEUgAAASAAAAEgCAYAAAAUg66AAAAABHNCSVQICAgIfAhkiAAAAAlwSFlzAAALEgAACxIB0t1+/AAAIABJREFUeJzt3XtYVVXeB/AvekipMVNR0gMzCIcQQsHUkDHtKCKgqXkLNB1LM3OsXs3uTY9M0+utt5omu2DjFY2hvER5Oaboacak8Db2ik4jweSRJovKvPSOAq73jxUoNznAPmftffb38zw8A7I5+zcEX9Zae138hBACREQKtFJdABGZFwOIiJRhABGRMgwgIlKGAUREyjCAiEgZBhARKcMAIiJlGEBEpAwDiIiUYQARkTIMICJShgFERMowgIhIGYvqAsgccnNzce7cOXzxxRcIDAzEb3/7W9UlkQ74cT8g8rTTp0/jxhtvxOnTp9GmTRsEBgbi4MGD+NWvfqW6NFKMXTByW2JiIioqKpr8dTfccAMOHDiAtm3bws/PDxUVFeDfPQLYBSM3lZaWQggBi+Xyj0xxcTHeeuutBr+mf//+GD16NADg5ptvBgDs2bMHdrsdoaGhHq2XjIFdMGrUjh078NZbb8FisSA1NRVTpkxp1uts3LgR7777Lv7whz/AZrNpXCUZEQOI3DJp0iTMmzcPffr0adHrnDt3Dr1798aOHTvYCiJ2wahxQggcOnSoTvi42wXbsmULFixYgI8//hi/+MUv0KVLF6xfvx6PPvqop0snnWMAUaOOHj2KqKgoAMBf/vIXpKenAwDCwsKwcOHCRr++devWsNvtAGSYuVwu9OrVy2P1knGwC0aN+vrrr/HUU09h2LBhsNvt6Nq1a5Nf4/XXX0dlZSW+/PJLREREYObMmR6olIyGAUREynAeEBEpwwAiImUYQESkDAOIiJTR3WN4Pz8/1SUQmZa3n0npsgUkhNDkbf78+Zq9FmtiTXqsScu6VNBlABGROTCAiEgZnw6gqun/esKa3MOa3KfXutyhu5nQfn5+yvqjRGam4nfPp1tARKRvDCAiUoYBRETKMICISBkGEBEpwwAiImV0GUDr1qmugIi8QbMAmjZtGoKCgtCzZ88Gr3n44YcRERGB2NhYHDp0qMHrHnsMyM7WqjIi0ivNAujee++Fw+Fo8PNbt25FUVERjh8/jmXLlmHWrFkNXvvhh8AjjwA5OVpVR0R6pFkADRw4EB06dGjw8++//z6mTp0KAIiPj8fp06dx6tSpeq+NiZEhNGcO8O67WlVIRHrjtf2ASktLERISUv1xcHAwTp48iaCgoHqv79kTcDiA5GSgdWtg7FhvVUpE3uLVDclqrzNpbPOx2Fhg2zYgJQVo1Qq4805PVkdE3ua1ALJarXC5XNUfnzx5Elartd5rMzIyqt+32+3YutWO4cNlS2jkSE9XSmQOTqcTTqdTbRFCQyUlJSImJqbez23ZskWkpqYKIYTIz88X8fHx9V7XUEkFBUJ07izE5s3a1EpENWkcB27RbDuOiRMn4qOPPkJZWRmCgoLw+9//HuXl5QBQfQrmgw8+CIfDgeuuuw4rV67ELbfcUud1rrYlwKefyhbQ6tVAaqoWVRNRFRXbcRhuP6BPPgFGjQKysuQANZGmtm8HXnxRvj9vnql+yBhAcO+bsHevHJBetw5ISvJSYeT7tm8HxowB/u//5McBAcCmTaYJIW5I5qZf/xrYuBGYNAnIy1NdDfmMF1+8HD6AfL+qNUQeYcgAAoDbbgM2bADS04Hdu1VXQ0TNYdgAAoBBg+RM6bQ04KOPVFdDhjdvnux2VQkIkP9GHmPIMaDadu2SLaENG4CBAz1UGJkDB6G9e09fCCAA2LkTmDgReO89YMAADxRG5OM4CN0CQ4fKp2JjxgD5+aqrISJ3+EwAAcCwYcCaNcDo0XLSIhHpm08FECAXrq5cKWdM79unuhoiuhqfCyAAGDECWL4cuOMOYP9+1dUQUUN8MoAA2QJatkyG0cGDqqvRwPbtso85bJh8n8gH+MxTsIZs2gTMmiU3N4uL0+xlvcvkSwTcZuJH6FrgY3h45puwYQMwe7bc5rVXL01f2juGDQN27Kj5b0lJ8v8QSQzpFuNjeA8ZNw7405/kz+KRI6qrIY/gOi5DMkUAAcBddwEvvywbE4WFqqtpIi4RIF8dA/TOvmfu83RJ69YJ0bWrEIWFHr2N9hwOIZKS5JvDoboa/XE4hAgIEAKQbwEBvvN98tL/NxVxYIoxoNrWrgWeeEJu5dGjh0dvRd7kq4PQXhoDVDEG5NVTMfRi8mSgslIu39i1C7jpJtUVkSaSk30ndEzCNGNAtU2dCjz3HJCYCBw/rrqaWny1v0/N48NjgKbsgl3pz3+WQbR7NxAe7rXbNoyPk6k+Xuhech4Q1HwTMjOBBQtkCIWFefXWdXHODynCMSBFZs4ELl0ChgwBnE4gNFR1RUTmYNoxoNpmzQIeewwYPBj48ksNXrC54zg+3N8nqo1dsFr+9Cfgj3+ULaFf/rKZL9LScRyjP042ev0mxTEgqA8gQM6Yfu01GULBwc14ATOP43AQ3bC4Fkwn5s4FHnhAdsdKS1VXYzBck0VNwABqwKOPAvfdJwem//3vJn4xx3HIHZzvxS5YYxYuBFavlt2xG29swheadRyEXTD36PD7xDEg6C+AAOD55+WJG04nEBSkuhoDMGv4NoUOxwkNPQbkcDjQo0cPREREYPHixXU+X1ZWhpSUFMTFxSEmJgarVq3S6tYe97vfyYMPb7vtAl577V1kZWWhqKhIdVn6lZwsf5E+/JDhQ1elSQuosrISkZGR2LlzJ6xWK/r164fs7GxERUVVX5ORkYELFy5g4cKFKCsrQ2RkJE6dOgWLpeZcSD22gACgqKgIM2b8G0eP3oSpU9egffuLSEtLg81mU10aGRG7YAA0agEVFBTAZrMhNDQU/v7+SE9PR25ubo1runbtijNnzgAAzpw5g06dOtUJHz3Lz8/H7bfvQmTkP7FmzRT8+KM/8nkCIjVXcrIMnKQk+WbScTJNAqi0tBQhISHVHwcHB6O01vPrGTNmoLCwEN26dUNsbCxeeeUVLW7tVX5+wJAhuxARUYSsrCk4e/Ya792cT0x8D7uq2gSQn59fo9csWLAAcXFx+Oqrr/D3v/8ds2fPxtmzZ7W4vVckJCTAYrHAzw9ITMyDzfYvvPbaaHz/vRduXtVc37FDvo0Z4/kQYuCRF2jSB7JarXC5XNUfu1wuBNeaQrx3714888wzAIDw8HB0794dn3/+Ofr27Vvn9TIyMqrft9vtsNvtWpTZIjabDWlpadXdrsGDy7FoUTH69AnC+vU/ok8fDy6jb2hyn6f+atYen9izx7RdBI9S/LTQ6XTC6XR69Z51aLGva3l5uQgLCxMlJSXiwoULIjY2Vhw9erTGNXPnzhUZGRlCCCG+/vprYbVaxXfffVfntTQqyaOOHz8unn/+eTF/foaIj88XVmupOHDgC8/dMCnp8n7AVW9JSb5zPzPS4R7WKn73NOmCWSwWLF26FMnJyYiOjkZaWhqioqKQmZmJzMxMAMDTTz+N/fv3IzY2FkOHDsWSJUvQsWNHLW7vdfn5+aioqICfH5CSsh1Wqwt33dUOP4+xa48zq31HVdd20iQuWQEnIjZLVlYWiouLqz8WAtizJx0//RSJ7duBdu08cFNvNtd1+IjYJ9T+vtZmwomIDKBmKCoqQk5ODioqKgDIFuCECWl4+WUb/vd/gW3bPBRC3sTZzNqrb/ZzFR2EPAMIxgggQIZQ1YB0QkICbDYbLl2Sq+iPHZMh9ItfKC6S9KW+AOrYEejTRxchzwCCcQKoIZcuAfffL0/a2LoVuO461RWRbui8a8sAgvEDCJAhNH263Np182bg2mtVV0S6oeOuLQMIvhFAgDz48N57ga++Aj74oOZDLCI9MuxaMKqrdWtg5Uq5h9Do0Q0/+CAyMwaQB7VuDaxaBQQGyq7/f/6juiIifWEAeZjFAqxZA9xwAzB2LHDhguqKiPSDAeQFFguwdq18IjZuHEOIqAoDyEssFuDtt4E2bYAJE4CLF1VXRKQeA8iL/P2B7GygVSsgLQ0oL1ddEZFaDCAvu+Ya4J135GP69HSGEJkbA0iBa64B3n1XjgVNmsQQIvNiACnSpg2wYQNw/jwweTLw87pWMgLuFqkZzoRW7D//Ae68U65JXLNGDlaTjmm5nktnyzK4FAPmCyBA/iyPHg106SJPYW3dWnVF1CCtDhTU4cJULsUwqYAA4L335Bn006bJAWrycQ3t820yDCCduPZauWj1xAngvvvkinrSIW6PqykGkI5ce63cvqO4WO4pxBDSIa0OFGSQAeAYkC6dOwcMHw706AG8+aacuEg+iIPQDCC9OnsWSE0FevYEXn9dnspK5EkchKZq7drJLV0PHwYefFCevEHkaxhAOnb99XJz+/37gf/6L4YQ+R4GkM61by+HCj75BJg7lyFEvoUBZAA33CDnue3ZAzz6KEOIfAcDyCCqQmj3buCJJxhC5BsYQAbSsaNcBfDhh8DTTzOEyPgYQAbTqROwcyewZQvw7LOKQ4irwqmFNAsgh8OBHj16ICIiAosXL673GqfTid69eyMmJgZ2u12rW5tOYCCQlwfk5gIZGYqKqFpMuWOHfBszhiFETSc0UFFRIcLDw0VJSYm4ePGiiI2NFUePHq1xzQ8//CCio6OFy+USQgjx7bff1vtaGpVkCqdOCREdLURGhoKbJyUJIRtgl9+SkhQUIoRwOOS9k5Lk+9QsKn73NNl9pqCgADabDaGhoQCA9PR05ObmIioqqvqat99+G+PGjUNwcDAAIDAwUItbm1qXLsCuXcDgwXILj9/9TnVFCtTe1mLPHuXbWpD7NOmClZaWIiQkpPrj4OBglJaW1rjm+PHj+P777zF48GD07dsXWVlZWtza9IKCZAitXQssXOjFG+tlMSW3tTA0TVpAfm4sVCovL8fBgweRl5eHn376CQkJCejfvz8iIiK0KMHUbrxRhpDdLltCjz/uhZtWrQrX0WJKMh5NAshqtcLlclV/7HK5qrtaVUJCQhAYGIiAgAAEBARg0KBBOHz4cL0BlHHFyKrdbueAtRu6dZNzhKpCyCuNkeRk9aEzb57sdl25s6AJt7VoDqfTCafTqbYILQaSysvLRVhYmCgpKREXLlyodxD62LFjIjExUVRUVIjz58+LmJgYUVhYWOe1NCrJtFwuIcLDhXjpJdWVeBEHoTWh4ndPkxaQxWLB0qVLkZycjMrKSkyfPh1RUVHIzMwEAMycORM9evRASkoKevXqhVatWmHGjBmIjo7W4vZ0heDgmgPTDz+suiIv0ENLjJqF+wH5qC+/lN2xefPkdh5EjVHxu8dDYHzUr35Vc0xo1izVFRHVxaUYPiw0VHbHFi0Cli1TXY0buLTDdNgC8nFhYZfHhFq1kidu6BInFJoSW0AmEB4u1479/vfAypWqq2kAJxSaEltAJhERIVfRJybKltDUqaorImILyFQiI2UIPf00oLuVMHpZ2kFexcfwJnTsmGwJ/c//AJMmqa7mCjo7J8tseC4YGEDeUlgIDB0KvPwykJ6uuhrSA54LRl5z881ya9e5c4F331VdjQ5xSoBXmKYFVFRUhPz8fABAQkICbDab5vcwosOHZU/ntdeAceMavs5U37/aUwICAkwxJYBdMHjmm1BUVIScnBxUVFQAkGvX0tLSfPuXqAn+/ncgJQV44w35e1ebrr9/nhg3GjZMbjN7paQk2WT0Ybrogp07dw6A3L+nsrLSq8V4Sn5+fvUvDwBUVFRU/zUnIC5OHgP9wANyn+nadPv9477UhlcjgJYsWYLnnnsOjzzyCH788Uc88MADquoiDRQVFSErKwtZWVkoKiq66rW33CJD6P77gQ8+8FKBLeWpyYucEuA1NSYixsfHIz4+Hv7+/sjJycGlS5dU1aWphIQEnDhxokYXIiEhQXFVnlW723TixIlGu019+gCbNwMjRgCrVgHDh8t/N933j7s9eo2fEEIUFxeja9euKCwsxP79+6tbPqtXr8ZUL0+Z5SC0NrKyslBcXFzj38LCwjBlypRGv/bTT4GRI4E1a+TYEKDT759JB4s9Rdkg9OzZszFhwgTY7Xb87W9/Q6tWrTBgwACvFlJdEOcBaaIlAQQA+fnA6NFys/thwzxRoUY4eVEzygahb731VpSUlKCkpAQDBw7EN99849Ui6OqaMpZTJSEhARbL5R52U7tNCQmyMTF5sly+oVvJyfLp1IcfejZ8OC/II/yEEOL5559HWFgY8vPzceTIEQwYMADPP/+8moLYAqqhJY/Ateg2/e1vwNixQE4OMGRIk7/cN5ikq6dsR8SwsDCMGzcOkyZNQllZGTZu3OjVIqhhDT0CdydMbDZbi8dqBg4E1q8Hxo+XM6ZNeUBJQ0/bfCyAVGgFAGlpaSgsLAQAlJSU4NSpU0qLIn25/XbgnXeACROAv/5VdTUtxK6UrphiJrSR6WkWcl6eXLi6aRNw221ev33LNbcrxS6Y5+7JANI/PT0C37EDuPtu4L33gF//WlkZzdOSJRYmeNrGAAIDyAi2bwemTAHefx/o3191NU1g0jVe7tLFWjCixiQnA6tXA6NGAQUFqqtpAi6x0B22gKjZNm8Gpk8HtmwB+vZVXY2bTNCVai52wcAAMpr33wdmzAC2bZMLWsm4eDIqGc6oUcClS0BqKuBwAL17q66IjIQBRC12552XQ2j7diA2VnVFZBSaDUI7HA706NEDERERWLx4cYPX7du3DxaLhbOtfczYscDSpXJI5bPPVFdDRqFJC6iyshIPPvggdu7cCavVin79+mHUqFGIioqqc90TTzyBlJQUjvMYiLvzkMaPByorZQjt2AHExHizSjIiTVpABQUFsNlsCA0Nhb+/P9LT05Fbz96er776KsaPH4/OnTtrcVvygqqZ2MXFxSguLkZOTs5VV+SnpQEvvSSn3Bw96sVCyZA0CaDS0lKEhIRUfxwcHIzS0tI61+Tm5mLWrFkA5Ig76V9z9oOeOBFYskTO8fvHPzxdIRmZJl0wd8Jkzpw5WLRoUfWjPnbBfNvkyXJgeuhQuYYsMlJ1RaRHmgSQ1WqFy+Wq/tjlciE4OLjGNQcOHED6z0dwlpWVYdu2bfD398eoUaPqvF5GRkb1+3a7HXad7wGhp7VaWmvJftC/+Y0MocREYNcu4KabPFkpNZXT6YTT6VRagyYTESsqKhAZGYm8vDx069YNt956K7Kzs+sMQle59957MXLkSIwdO7ZuQQabiKin1eqeCsKWvu6KFcD8+cDu3YAPZbPPMexERIvFgqVLlyI5ORmVlZWYPn06oqKikJmZCQCYOXOmFrfRpZZsGKal5pyC4a6Wbmw2bZp8OjZkiAyh8PAWl0Q+QrOJiKmpqUhNTa3xbw0Fz8qVK7W6Lf1ML0HYkBkzLoeQ0wl073716325W0uXmXomtBY/5KY7M6sFHnigZksoNFT+e+3/DgA81pojfTFtAGnVZbHZbEhLS1P+19ooQTh7thyYrmoJXbxY979DYGCgrltzpB3TBpCWXRYtNn9vKb0EoTseeki2hAYPBh566HCd/w4//vijwurIm0wbQL5ID0HorjlzZEto4cIk3H33l2jf/mz159q3b4/y8nLdt+Y0Z8K9ikwbQEbpsviyRx4BTp26iOXLp2Lq1FW4/vpzsFgsSExMBABDtOY0U3vj+z17fHLj+9pMvSEZn7Tow2OPlWHtWn88/fQOpKbGee3QRV3RwX7Vhp0HZFRG6rL4shdeCMQNNwCvvz4eEyY0fr0n5zyRd3FTetKFZ54BJk2SyzYaOxezOQtkdc+kG+abugVE+vLss/LpWNXasS5dVFfkRcnJcsyHg9BE6syfL0No6FAZQoGBda/x2QcIycmmCJ0rmXoQmvRJCNkl27JFhlCnTnWvMeQgtM4fs/NYHjCASBICePJJ+RAoLw/o2FF1RS1kgPPleTIq0c/8/IBFi+R4UFIS8MMPqitqoRdfvBw+gHy/qjVkYgwg0i0/P+CFF4Dbb5fTZE6fVl0RaY1dMNI9IYC5c4G9e4HMzGIcOfIxAAON/QDsgjV0TwYQGYEQwNSpp+F0nsPdd2ehbduLSnefbBYOQte9JwOIjGLNmiy8+moPnDoVhMmT16FNm4sICwvDlClTVJfmEzgITXQVfn7A8OFb0aXLt1i3bhIuXPBXXRK1EAOIDCMhIQHXXGPBiBGbERj4HbKz70Zs7K9Vl0UtwC4YGUrVBMRLl4APPhiN7767Hps3A9ddp7oy4+MYEBhA5L5Ll+SJGydOAJs3A9deq7oiY+MYEFETtGoFLF8OBAcDo0fXnOdHxsAWkMkYcg1VIyor5SmsZWVAbi7Qtq3qioyJXTAwgDxJT6e4aq2iApgyRc6W3rSJIdQc7IKRR/nkRl4/s1iArCygXTtg3DjgwgXVFZE7GEDkMywWYN06ucph/HiGkBEwgEwkISEBFsvlPeh8ZiOvK/j7A9nZ8n/vugu4eFF1RXQ1HAMyGV8chK7PxYsygFq1AnJyZCDR1Rl+ENrhcGDOnDmorKzEfffdhyeeeKLG59etW4clS5ZACIF27drhjTfeQK9evWoWxAAijVy8KMeD2rS53Cqihhk6gCorKxEZGYmdO3fCarWiX79+yM7ORlRUVPU1+fn5iI6ORvv27eFwOJCRkYFPPvmkZkEMINLQhQvA2LFypvTbb8txIneYpaV4JUM/BSsoKIDNZkNoaCj8/f2Rnp6O3NzcGtckJCSgffv2AID4+HicPHlSq9sT1atNG2DDBuDsWfmY/oqHgA2qmq5QXFyM4uJi5OTkoKioyPPFmpBmAVRaWoqQkJDqj4ODg1FaWtrg9cuXL8fw4cO1uj1Rg9q2lXODvv8emDpVTly8Gl+erqA3mgWQn5+f29fu3r0bK1aswOLFi7W6PdFVtW0LvPce8M03wD33NB5C5B2anQtmtVrhcrmqP3a5XAgODq5z3WeffYYZM2bA4XCgQ4cO9b5WRkZG9ft2ux12u12rMsnEAgLkUo2RI4Hp0+U6stat617ns+eO1eJ0OuF0OpXWoNkgdEVFBSIjI5GXl4du3brh1ltvrTMIfeLECQwZMgRr165F//796y+Ig9DkYefPA3fcAXTvDvz5z/JRfW0chPbSPbV8DL9t27bqx/DTp0/HU089hczMTADAzJkzcd9992HTpk345S9/CQDw9/dHQUFBzYIYQOQF588DqalAZCSQmVl/CJmN4QNICwwgdcz2V//cORlC0dHAG28whBhAYACp4ssr5a/m7FkgJQWIjQVee03uO21Whp4HRMZm1kfP7doB27YBhw4BDz0kj/8h72EAeUhRURGysrKQlZXFSWw6d/31gMMB7NsHzJnDEPImBpAHGHEmrRlWyl9N+/by3MC9e+WZgQwh72AAeYARuzM2mw1paWkICwtDWFiYKcZ/arvhBuDDD4GPPgIef5wh5A2aTUQk47PZbF4PHb09eevQAdixA0hMBJ58Eli0yNwD057GAPIAs8ykbanaT95OnDihi5ZXx47Azp0yhFq3Bv77vxlCnsIA8oCq7oye/rLrUUNdVT18rzp1kiE0ZIgMoeeeYwh5AgPIQ1R0Z0hbgYFAXh4weLAMoSuWKJJGGEA6pbexEU8wQle1c+eaIfTss6or8i2cCa1DRp+V3JTwNErQfv21DKEpU4Cnn1ZdjWeo+N1jC0iH9Dw20pimDiwbpat6443Arl0yhFq1kk/IqOU4D4g0ZcQ5UO7q2lWG0IoVwAsvqK7GNzCAdMjss5L1rFs3YPduuYXHSy+prsb42AXTISM/xjfCwHJLWa0yhOx22R2bM0d1RcbFQWjSnF4Glj1dx4kTMoTmzpUr6Y2O+wFB22+CXn4RyPu89STxX/+SIfT448Bvf6vpS3sdn4JpqDnT/BlYvsNbTxJDQ2t2xx54QNOX93k+G0BN/QHU67okszPCH4Xu3WuG0P33q67IOHw2gJrKyHNvfFVL/ih4ezA8LOzyPKHWreWxP9Q4nw0gMzyN8XUt+aOg4kmizVYzhO65x6O38wk+G0BN/QFkYPkeFbOsIyLk2rEhQ2R37De/8ertDcenn4I1lRHGG8zEyGvijh0Dhg4FliwB7r5bdTXu4WN4cB4Q1WTkPwpHj8oQevFFYOJE1dU0jgEEBhD5liNHgKQk4I9/BNLSVFdzdZwHRORjYmLkRvfDhskxoQkTVFekLwwgIg/r2VOeO5acLJ+OjR2ruiL9MF0AGXlMgYwrNlaewJqSIltCd96puiJ90Gw7DofDgR49eiAiIgKLFy+u95qHH34YERERiI2NxaFDh7S6tduMeGAg+Y7evYGtW4GZM4HMzK94ci40CqDKyko8+OCDcDgcOHr0KLKzs3Hs2LEa12zduhVFRUU4fvw4li1bhlmzZmlx6ybx5c2yyBj69AHefNOFefOux7ZtrU3/h1CTACooKIDNZkNoaCj8/f2Rnp6O3NzcGte8//77mDp1KgAgPj4ep0+fxqlTp7S4PZGhnDvnxMSJ2cjNHY1//tNm6j+EmgRQaWkpQkJCqj8ODg5GaWlpo9ecPHlSi9u7jTsNkl4EB3+FiROz8d57d6KoKFx1OcpoEkB+bp7YVnuOgbtfpxWef056UPWHMCSkFOnpf8GmTWNQWTlEdVlKaPIUzGq1wuVyVX/scrkQHBx81WtOnjwJq9Va7+tlXHECnN1uh91u16JMAMY5hYF815XrFMPCgKSkH/DQQ8EICZHHQXuL0+mE0+n03g3rIzRQXl4uwsLCRElJibhw4YKIjY0VR48erXHNli1bRGpqqhBCiPz8fBEfH1/va2lUEpGhfPSREJ07C7Frl7oaVPzuadICslgsWLp0KZKTk1FZWYnp06cjKioKmZmZAICZM2di+PDh2Lp1K2w2G6677jqsXLlSi1sT+YRBg4B33pEzpdevB26/XXVF3sG1YEQ6smuXXDO2cSMwcKB3763id4/nghHpyJAhQHa2XK7x8ceqq/E8BhCRzgwdCqxbB4wZA/j69CAGEJEODRsGrFkDjB4NfPqGdXCqAAAFkUlEQVSp6mo8hwFEpFMpKcCqVcDIkUBBgepqPIMBRKRjw4cDK1bIENq/X3U12mMAEencHXcAy5YBI0YABw+qrkZbptsPiMiIRo8GLl2SLSKHA4iLU12RNhhARAYxZowMoZQUuc1rr16qK2o5BhCRgYwbB1RWyu1dd+yQe04bGQOIyGDuuku2hIYNkyF0882qK2o+BhCRAaWnyxBKSgJ27gSio1VX1Dw+/RRM+VYD9WBN7mFNjZs0SZ68OmiQE//4h+pqmocB5GWsyT2syT2TJwO33ebE0KHAP/+pupqm8+kAIjKDuDjguefkZmbHj6uupmk4BkTkA6ZNk2NCiYlySw+jbPqpy/2AiEgNb8eB7lpAOstDIvIgjgERkTIMICJSxvABpNcz6Rura926dYiNjUWvXr0wYMAAfPbZZ8prqrJv3z5YLBZs3LhRFzU5nU707t0bMTExmh7R1NyaysrKkJKSgri4OMTExGDVqlUer2natGkICgpCz549G7xGxc95i3n9HA4NVVRUiPDwcFFSUiIuXrzY6HFAn3zySYPHAXm7rr1794rTp08LIYTYtm2bx+typ6aq6wYPHixGjBgh1q9fr7ymH374QURHRwuXyyWEEOLbb79VXtP8+fPFk08+WV1Px44dRXl5uUfr+utf/yoOHjwoYmJi6v28ip9zLRi6BaTXM+ndqSshIQHt27evrsvTx1S7UxMAvPrqqxg/fjw6d+7s0Xrcrentt9/GuHHjqg+6DAwMVF5T165dcebMGQDAmTNn0KlTpxpHfnvCwIED0aFDhwY/r+LnXAuGDiC9nknvTl1XWr58OYYPH668ptLSUuTm5mLWrFkAPD8lwp2ajh8/ju+//x6DBw9G3759kZWVpbymGTNmoLCwEN26dUNsbCxeeeUVj9bkDhU/51rQ3WP4ptDrmfRNef3du3djxYoV+NjDZ7C4U9OcOXOwaNGi6vOhan/fVNRUXl6OgwcPIi8vDz/99BMSEhLQv39/REREKKtpwYIFiIuLg9PpxBdffIGkpCQcPnwY7dq180hN7vL2z7kWDB1AWp9J7826AOCzzz7DjBkz4HA4rtq89lZNBw4cQHp6OgA50Lpt2zb4+/tj1KhRymoKCQlBYGAgAgICEBAQgEGDBuHw4cMeCyB3atq7dy+eeeYZAEB4eDi6d++Ozz//HH379vVITe5Q8XOuCbVDUC2j5Zn03q7ryy+/FOHh4SI/P9/j9bhb05XuuecesWHDBuU1HTt2TCQmJoqKigpx/vx5ERMTIwoLC5XWNHfuXJGRkSGEEOLrr78WVqtVfPfddx6rqUpJSYlbg9De+jnXgqEDSAghtm7dKm666SYRHh4uFixYIIQQ4s033xRvvvlm9TWzZ88W4eHholevXuLAgQO6qGv69OmiY8eOIi4uTsTFxYl+/fopr+lK3gggd2t64YUXRHR0tIiJiRGvvPKK8pq+/fZbcccdd4hevXqJmJgYsW7dOo/XlJ6eLrp27Sr8/f1FcHCwWL58uS5+zltKd2vBiMg8DP0UjIiMjQFERMowgIhIGQYQESnDACIiZRhARKQMA4iIlGEAEZEyhl4LRmpVVlYiJycHxcXFCAkJQUFBAebNm4ewsDDVpZFBsAVEzXb48GGMGzcOYWFhuHTpEiZMmICuXbuqLosMhAFEzXbLLbegTZs2yM/Ph91uh91uR0BAAHJzc/HVV1+pLo8MgAFEzbZv3z6UlZXhyJEj6N69O/bs2YNTp05h9erVPF6J3MIxIGo2h8OBoKAgDBgwAJs2bUKXLl0QFBSE2NhY1aWRQTCAqNmeffZZ1SWQwbELRpr65ptv8Pnnn2P37t2qSyED4H5ARKQMW0BEpAwDiIiUYQARkTIMICJShgFERMowgIhIGQYQESnz/3E85TZkYj2RAAAAAElFTkSuQmCC\"\n",
       "  frames[4] = \"data:image/png;base64,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\"\n",
       "  frames[5] = \"data:image/png;base64,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\"\n",
       "  frames[6] = \"data:image/png;base64,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\"\n",
       "  frames[7] = \"data:image/png;base64,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\"\n",
       "  frames[8] = \"data:image/png;base64,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\"\n",
       "  frames[9] = \"data:image/png;base64,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\"\n",
       "\n",
       "\n",
       "    /* set a timeout to make sure all the above elements are created before\n",
       "       the object is initialized. */\n",
       "    setTimeout(function() {\n",
       "        animXUEEIVNBOEGCUGJR = new Animation(frames, img_id, slider_id, 600, loop_select_id);\n",
       "    }, 0);\n",
       "  })()\n",
       "</script>\n"
      ],
      "text/plain": [
       "<matplotlib.animation.FuncAnimation at 0x107fbc630>"
      ]
     },
     "execution_count": 20,
     "metadata": {},
     "output_type": "execute_result"
    }
   ],
   "source": [
    "fig = plt.figure(figsize=(4,4))\n",
    "ax = fig.gca()\n",
    "perceptron = Perceptron([0.1,-0.1],0.02)\n",
    "animation.FuncAnimation(fig, lambda i: animate(i, perceptron, data, ax), frames=10, interval=600, \n",
    "                               blit=True)"
   ]
  },
  {
   "cell_type": "markdown",
   "metadata": {
    "slideshow": {
     "slide_type": "slide"
    }
   },
   "source": [
    "## Self-study\n",
    "\n",
    "* Experiment with the learning rate ($\\alpha$). How it impacts learning?\n",
    "* Create a new data set with a non-linear boundary. What happens now with our perceptron? How would you fix it?"
   ]
  },
  {
   "cell_type": "markdown",
   "metadata": {
    "slideshow": {
     "slide_type": "slide"
    }
   },
   "source": [
    "## Suggested reading\n",
    "\n",
    "* Minsky M. L. and Papert S. A. (1969). *Perceptrons*. Cambridge, MA: MIT Press.\n",
    "* Gallant, S. I. (1990). *Perceptron-based learning algorithms*. IEEE Transactions on Neural Networks, vol. 1, no. 2, pp. 179–191.\n",
    "* Mikel Olazaran (1996). *A Sociological Study of the Official History of the Perceptrons Controversy*. Social Studies of Science 26 (3): 611–659. doi:10.1177/030631296026003005."
   ]
  }
 ],
 "metadata": {
  "kernelspec": {
   "display_name": "Python 3",
   "language": "python",
   "name": "python3"
  },
  "language_info": {
   "codemirror_mode": {
    "name": "ipython",
    "version": 3
   },
   "file_extension": ".py",
   "mimetype": "text/x-python",
   "name": "python",
   "nbconvert_exporter": "python",
   "pygments_lexer": "ipython3",
   "version": "3.4.3"
  }
 },
 "nbformat": 4,
 "nbformat_minor": 0
}
