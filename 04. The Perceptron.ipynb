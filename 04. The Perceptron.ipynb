{
 "cells": [
  {
   "cell_type": "markdown",
   "metadata": {
    "slideshow": {
     "slide_type": "slide"
    }
   },
   "source": [
    "<div align='left' style=\"width:400px;height:120px;overflow:hidden;\">\n",
    "<a href='http://www.uff.br'>\n",
    "<img align='left' style='display: block;height: 92%' src='imgs/UFF.png' alt='UFF logo' title='UFF logo'/>\n",
    "</a>\n",
    "<a href='http://www.ic.uff.br'>\n",
    "<img align='left' style='display: block;height: 100%' src='imgs/logo-ic.png' alt='IC logo' title='IC logo'/>\n",
    "</a>\n",
    "</div>"
   ]
  },
  {
   "cell_type": "markdown",
   "metadata": {},
   "source": [
    "# Machine Learning:  The Perceptron"
   ]
  },
  {
   "cell_type": "markdown",
   "metadata": {},
   "source": [
    "### [Luis Martí](http://lmarti.com)\n",
    "#### [Instituto de Computação](http://www.ic.uff)\n",
    "#### [Universidade Federal Fluminense](http://www.uff.br)\n",
    "#### [`http://lmarti.com/2016-1-ml`](http://lmarti.com/2016-1-ml)"
   ]
  },
  {
   "cell_type": "markdown",
   "metadata": {},
   "source": [
    "### About the notebook/slides\n",
    "\n",
    "* The slides are _programmed_ as a [Jupyter](http://jupyter.org)/[IPython](https://ipython.org/) notebook.\n",
    "* **Feel free to try them and experiment on your own by launching the notebooks.**\n",
    "\n",
    "* You can run the notebook online: [![Binder](http://mybinder.org/badge.svg)](http://mybinder.org/repo/lmarti/machine-learning)"
   ]
  },
  {
   "cell_type": "markdown",
   "metadata": {},
   "source": [
    "If you are using [nbviewer](http://nbviewer.jupyter.org) you can change to slides mode by clicking on the icon:\n",
    "\n",
    "<div class=\"container-fluid\">\n",
    "  <div class=\"row\">\n",
    "      <div class=\"col-md-3\"><span/></div>\n",
    "      <div class=\"col-md-6\">\n",
    "      <div class='well well-sm'>\n",
    "              <img src='imgs/view-as-slides.png'/>\n",
    "      </div>\n",
    "      </div>\n",
    "      <div class=\"col-md-3\" align='center'><span/></div>\n",
    "  </div>\n",
    "</div>"
   ]
  },
  {
   "cell_type": "markdown",
   "metadata": {
    "slideshow": {
     "slide_type": "slide"
    }
   },
   "source": [
    "In this class we are going to study the [perceptron](https://en.wikipedia.org/wiki/Perceptron) and its learning algorithm.\n",
    "\n",
    "The perceptron is an algorithm for learning a binary classifier. That is a function that maps its input $\\newcommand{\\vec}[1]{\\mathbf{#1}}\\vec{x}\\in\\mathbb{R}^n$ (a real-valued vector) to an output value $f(\\vec{x})$ (a single binary value) as,\n",
    "\n",
    "$$\n",
    "f(\\vec{x}) = \\begin{cases}\n",
    "                1 & \\text{if }\\vec{w} \\cdot \\vec{x} + b > 0\\,,\\\\\n",
    "                0 & \\text{otherwise};\n",
    "             \\end{cases}\n",
    "$$\n",
    "\n",
    "where $\\vec{w}$ is a vector of real-valued *weights*, $\\vec{w} \\cdot \\vec{x}$ is the *dot product* $\\sum_{i=1}^n w_i x_i$, and $b$ is known as the *bias*. "
   ]
  },
  {
   "cell_type": "markdown",
   "metadata": {},
   "source": [
    "## A little bit of history\n",
    "\n",
    "\n",
    "<div class=\"container-fluid\">\n",
    "  <div class=\"row\">\n",
    "      <div class=\"col-md-4\">\n",
    "      <div class='well well-sm'>\n",
    "              <img src='imgs/04/mark1.png'/>\n",
    "      </div>\n",
    "      </div>\n",
    "      <div class=\"col-md-8\" align='center'>\n",
    "      The Perceptron was proposed by Frank Rosenblatt in the 1950's.\n",
    "      </div>\n",
    "  </div>\n",
    "</div>"
   ]
  },
  {
   "cell_type": "markdown",
   "metadata": {
    "slideshow": {
     "slide_type": "slide"
    }
   },
   "source": [
    "## Preparing the environment \n",
    "\n",
    "The environment used for the notebook is the following:"
   ]
  },
  {
   "cell_type": "code",
   "execution_count": 1,
   "metadata": {
    "collapsed": false,
    "slideshow": {
     "slide_type": "slide"
    }
   },
   "outputs": [],
   "source": [
    "import numpy as np\n",
    "import pandas as pd\n",
    "import matplotlib.pyplot as plt\n",
    "%matplotlib inline\n",
    "\n",
    "import random, itertools\n",
    "random.seed(a=42)"
   ]
  },
  {
   "cell_type": "markdown",
   "metadata": {},
   "source": [
    "*Note*: I am fixing a given random seed to always have a the same result. You should not do this in practice (nor in the exercises of the class). "
   ]
  },
  {
   "cell_type": "markdown",
   "metadata": {
    "slideshow": {
     "slide_type": "slide"
    }
   },
   "source": [
    "## Implementing the Perceptron"
   ]
  },
  {
   "cell_type": "markdown",
   "metadata": {},
   "source": [
    "We are going to start implementing a perceptron as a class. \n",
    "\n",
    "*Note*: Bear in mind that I have made the implementation as clear and easy to follow as possible and, therefore, I have sacrificed performance in the sake of clarity. There are many points where it can be improved."
   ]
  },
  {
   "cell_type": "code",
   "execution_count": 2,
   "metadata": {
    "collapsed": true,
    "slideshow": {
     "slide_type": "slide"
    }
   },
   "outputs": [],
   "source": [
    "class Perceptron:\n",
    "    'A simple Perceptron implementation.'\n",
    "    def __init__(self, weights, bias, alpha=0.1):\n",
    "        self.weights = weights\n",
    "        self.bias = bias\n",
    "        self.alpha = alpha\n",
    "    \n",
    "    def propagate(self, x):\n",
    "        return self.activation(self.net(x)) \n",
    "        \n",
    "    def activation(self, net):\n",
    "        if net > 0:\n",
    "            return 1\n",
    "        return 0\n",
    "    \n",
    "    def net(self, x):\n",
    "        return np.dot(self.weights, x) + self.bias\n",
    "    \n",
    "    def learn(self, x, y):\n",
    "        y_hat = self.propagate(x)\n",
    "        self.weights = [ w_i + self.alpha*x_i*(y-y_hat) for (w_i, x_i) in zip(self.weights, x)]\n",
    "        self.bias = self.bias + self.alpha*(y-y_hat)\n",
    "        return np.abs(y_hat - y)"
   ]
  },
  {
   "cell_type": "markdown",
   "metadata": {
    "slideshow": {
     "slide_type": "slide"
    }
   },
   "source": [
    "Perhaps the most tricky element of our `Perceptron` class is the `learn()` method. \n",
    "\n",
    "It goes by calculating the prediction of the perceptron, $\\hat{y}$, as\n",
    "\n",
    "$$\\hat{y} = f[\\mathbf{w}\\cdot\\mathbf{x} + b] = f[ w_{1}x_{1} + w_2x_{2} + \\cdots + w_nx_{n}+b]\\,.$$\n",
    "\n",
    "After that, we update the weights and the bias using the perceptron rule:\n",
    "\n",
    "$$\n",
    "\\begin{align*}\n",
    "w_i & = w_i + \\alpha (y - \\hat{y}) x_{i} \\,,\\  i=1,\\ldots,n\\,;\\\\\n",
    "b & = b + \\alpha (y - \\hat{y})\\,.\n",
    "\\end{align*}\n",
    "$$\n",
    "\n",
    "Here $\\alpha\\in\\left(0,1\\right]$ is known as the *learning rate*."
   ]
  },
  {
   "cell_type": "markdown",
   "metadata": {
    "slideshow": {
     "slide_type": "slide"
    }
   },
   "source": [
    "## Preparing the data set\n",
    "\n",
    "After having the perceptron implementation ready we need an example data set.\n",
    "\n",
    "We are going to create a dataset containing random points such that $\\mathbf{x}\\in\\left[0,1\\right]^2$."
   ]
  },
  {
   "cell_type": "code",
   "execution_count": 3,
   "metadata": {
    "collapsed": true
   },
   "outputs": [],
   "source": [
    "size = 50 # size of data set"
   ]
  },
  {
   "cell_type": "code",
   "execution_count": 4,
   "metadata": {
    "collapsed": false
   },
   "outputs": [],
   "source": [
    "data = pd.DataFrame(columns=('$x_1$', '$x_2$'),\n",
    "                    data=np.random.uniform(size=(size,2)))"
   ]
  },
  {
   "cell_type": "markdown",
   "metadata": {
    "slideshow": {
     "slide_type": "slide"
    }
   },
   "source": [
    "So far, our data set looks like this (we are showning only the first ten elements):"
   ]
  },
  {
   "cell_type": "code",
   "execution_count": 5,
   "metadata": {
    "collapsed": false
   },
   "outputs": [
    {
     "data": {
      "text/html": [
       "<div>\n",
       "<table border=\"1\" class=\"dataframe\">\n",
       "  <thead>\n",
       "    <tr style=\"text-align: right;\">\n",
       "      <th></th>\n",
       "      <th>$x_1$</th>\n",
       "      <th>$x_2$</th>\n",
       "    </tr>\n",
       "  </thead>\n",
       "  <tbody>\n",
       "    <tr>\n",
       "      <th>0</th>\n",
       "      <td>0.680498</td>\n",
       "      <td>0.166779</td>\n",
       "    </tr>\n",
       "    <tr>\n",
       "      <th>1</th>\n",
       "      <td>0.752460</td>\n",
       "      <td>0.991269</td>\n",
       "    </tr>\n",
       "    <tr>\n",
       "      <th>2</th>\n",
       "      <td>0.648221</td>\n",
       "      <td>0.867680</td>\n",
       "    </tr>\n",
       "    <tr>\n",
       "      <th>3</th>\n",
       "      <td>0.364663</td>\n",
       "      <td>0.728706</td>\n",
       "    </tr>\n",
       "    <tr>\n",
       "      <th>4</th>\n",
       "      <td>0.054853</td>\n",
       "      <td>0.753239</td>\n",
       "    </tr>\n",
       "    <tr>\n",
       "      <th>5</th>\n",
       "      <td>0.072602</td>\n",
       "      <td>0.689173</td>\n",
       "    </tr>\n",
       "    <tr>\n",
       "      <th>6</th>\n",
       "      <td>0.648953</td>\n",
       "      <td>0.984971</td>\n",
       "    </tr>\n",
       "    <tr>\n",
       "      <th>7</th>\n",
       "      <td>0.241567</td>\n",
       "      <td>0.560851</td>\n",
       "    </tr>\n",
       "    <tr>\n",
       "      <th>8</th>\n",
       "      <td>0.688331</td>\n",
       "      <td>0.486620</td>\n",
       "    </tr>\n",
       "    <tr>\n",
       "      <th>9</th>\n",
       "      <td>0.652694</td>\n",
       "      <td>0.977641</td>\n",
       "    </tr>\n",
       "  </tbody>\n",
       "</table>\n",
       "</div>"
      ],
      "text/plain": [
       "      $x_1$     $x_2$\n",
       "0  0.680498  0.166779\n",
       "1  0.752460  0.991269\n",
       "2  0.648221  0.867680\n",
       "3  0.364663  0.728706\n",
       "4  0.054853  0.753239\n",
       "5  0.072602  0.689173\n",
       "6  0.648953  0.984971\n",
       "7  0.241567  0.560851\n",
       "8  0.688331  0.486620\n",
       "9  0.652694  0.977641"
      ]
     },
     "execution_count": 5,
     "metadata": {},
     "output_type": "execute_result"
    }
   ],
   "source": [
    "data.head(10)"
   ]
  },
  {
   "cell_type": "markdown",
   "metadata": {
    "slideshow": {
     "slide_type": "slide"
    }
   },
   "source": [
    "We need to add a *target* or *classification* attribute. In this example, we are going to make this target to be equal to one if the point lies in the upper-right triangle of the $\\left[0,1\\right]\\times\\left[0,1\\right]$ square and zero otherwise:\n",
    "\n",
    "<div align='center'>\n",
    "<img src='figs/dataset.jpeg' alt='description of the data set' title='description of the data set' width='38%'/>\n",
    "</div>"
   ]
  },
  {
   "cell_type": "markdown",
   "metadata": {
    "slideshow": {
     "slide_type": "slide"
    }
   },
   "source": [
    "We can formalize this condition as:\n",
    "\n",
    "$$\n",
    "y = \\begin{cases}\n",
    "    1 & \\ \\text{if}\\ x_1 + x_2 > 1\\,,\\\\\n",
    "    0 & \\ \\text{otherwise}\\,.\n",
    "    \\end{cases}\n",
    "$$\n",
    "\n",
    "Lets code it..."
   ]
  },
  {
   "cell_type": "code",
   "execution_count": 6,
   "metadata": {
    "collapsed": false
   },
   "outputs": [],
   "source": [
    "def condition(x):\n",
    "    return int(np.sum(x) > 1)"
   ]
  },
  {
   "cell_type": "markdown",
   "metadata": {},
   "source": [
    "...and apply this condition to the data set."
   ]
  },
  {
   "cell_type": "code",
   "execution_count": 7,
   "metadata": {
    "collapsed": false
   },
   "outputs": [],
   "source": [
    "data['y'] = data.apply(condition, axis=1)"
   ]
  },
  {
   "cell_type": "markdown",
   "metadata": {
    "slideshow": {
     "slide_type": "slide"
    }
   },
   "source": [
    "The resulting data set looks like this:"
   ]
  },
  {
   "cell_type": "code",
   "execution_count": 8,
   "metadata": {
    "collapsed": false
   },
   "outputs": [
    {
     "data": {
      "text/html": [
       "<div>\n",
       "<table border=\"1\" class=\"dataframe\">\n",
       "  <thead>\n",
       "    <tr style=\"text-align: right;\">\n",
       "      <th></th>\n",
       "      <th>$x_1$</th>\n",
       "      <th>$x_2$</th>\n",
       "      <th>y</th>\n",
       "    </tr>\n",
       "  </thead>\n",
       "  <tbody>\n",
       "    <tr>\n",
       "      <th>0</th>\n",
       "      <td>0.680498</td>\n",
       "      <td>0.166779</td>\n",
       "      <td>0</td>\n",
       "    </tr>\n",
       "    <tr>\n",
       "      <th>1</th>\n",
       "      <td>0.752460</td>\n",
       "      <td>0.991269</td>\n",
       "      <td>1</td>\n",
       "    </tr>\n",
       "    <tr>\n",
       "      <th>2</th>\n",
       "      <td>0.648221</td>\n",
       "      <td>0.867680</td>\n",
       "      <td>1</td>\n",
       "    </tr>\n",
       "    <tr>\n",
       "      <th>3</th>\n",
       "      <td>0.364663</td>\n",
       "      <td>0.728706</td>\n",
       "      <td>1</td>\n",
       "    </tr>\n",
       "    <tr>\n",
       "      <th>4</th>\n",
       "      <td>0.054853</td>\n",
       "      <td>0.753239</td>\n",
       "      <td>0</td>\n",
       "    </tr>\n",
       "    <tr>\n",
       "      <th>5</th>\n",
       "      <td>0.072602</td>\n",
       "      <td>0.689173</td>\n",
       "      <td>0</td>\n",
       "    </tr>\n",
       "    <tr>\n",
       "      <th>6</th>\n",
       "      <td>0.648953</td>\n",
       "      <td>0.984971</td>\n",
       "      <td>1</td>\n",
       "    </tr>\n",
       "    <tr>\n",
       "      <th>7</th>\n",
       "      <td>0.241567</td>\n",
       "      <td>0.560851</td>\n",
       "      <td>0</td>\n",
       "    </tr>\n",
       "    <tr>\n",
       "      <th>8</th>\n",
       "      <td>0.688331</td>\n",
       "      <td>0.486620</td>\n",
       "      <td>1</td>\n",
       "    </tr>\n",
       "    <tr>\n",
       "      <th>9</th>\n",
       "      <td>0.652694</td>\n",
       "      <td>0.977641</td>\n",
       "      <td>1</td>\n",
       "    </tr>\n",
       "  </tbody>\n",
       "</table>\n",
       "</div>"
      ],
      "text/plain": [
       "      $x_1$     $x_2$  y\n",
       "0  0.680498  0.166779  0\n",
       "1  0.752460  0.991269  1\n",
       "2  0.648221  0.867680  1\n",
       "3  0.364663  0.728706  1\n",
       "4  0.054853  0.753239  0\n",
       "5  0.072602  0.689173  0\n",
       "6  0.648953  0.984971  1\n",
       "7  0.241567  0.560851  0\n",
       "8  0.688331  0.486620  1\n",
       "9  0.652694  0.977641  1"
      ]
     },
     "execution_count": 8,
     "metadata": {},
     "output_type": "execute_result"
    }
   ],
   "source": [
    "data.head(10)"
   ]
  },
  {
   "cell_type": "markdown",
   "metadata": {
    "slideshow": {
     "slide_type": "slide"
    }
   },
   "source": [
    "We can now take a better look at the data set in graphical form. Elements with $y=1$ are shown in red ($\\color{red}{\\bullet}$) and those with $y=0$ are shown in gray ($\\color{gray}{\\bullet}$):"
   ]
  },
  {
   "cell_type": "code",
   "execution_count": 9,
   "metadata": {
    "collapsed": true
   },
   "outputs": [],
   "source": [
    "def plot_data(data, ax):\n",
    "    data[data.y==1].plot(kind='scatter', \n",
    "                         x='$x_1$', y='$x_2$', \n",
    "                         color='Red', ax=ax)\n",
    "    data[data.y==0].plot(kind='scatter', \n",
    "                         x='$x_1$', y='$x_2$', \n",
    "                         color='Gray', ax=ax)\n",
    "    ax.set_xlim(-0.1,1.1); ax.set_ylim(-0.1,1.1)"
   ]
  },
  {
   "cell_type": "code",
   "execution_count": 10,
   "metadata": {
    "collapsed": false,
    "slideshow": {
     "slide_type": "slide"
    }
   },
   "outputs": [
    {
     "data": {
      "image/png": "[encoded data removed]",
      "text/plain": [
       "<matplotlib.figure.Figure at 0x10fd9c6d8>"
      ]
     },
     "metadata": {},
     "output_type": "display_data"
    }
   ],
   "source": [
    "fig = plt.figure(figsize=(5,5))\n",
    "ax = fig.gca()\n",
    "plot_data(data, ax)"
   ]
  },
  {
   "cell_type": "markdown",
   "metadata": {
    "slideshow": {
     "slide_type": "slide"
    }
   },
   "source": [
    "## Iterating the data set\n",
    "\n",
    "Having the data set we can now code how the perceptron learns it by iterating throu it."
   ]
  },
  {
   "cell_type": "code",
   "execution_count": 11,
   "metadata": {
    "collapsed": true
   },
   "outputs": [],
   "source": [
    "def learn_data(perceptron, data):\n",
    "    'Returns the number of errors made.'\n",
    "    count = 0 \n",
    "    for i, row in data.iterrows():\n",
    "        count += perceptron.learn(row[0:2], row[2])\n",
    "    return count"
   ]
  },
  {
   "cell_type": "markdown",
   "metadata": {
    "slideshow": {
     "slide_type": "slide"
    }
   },
   "source": [
    "## Visualizing learning\n",
    "\n",
    "We need now to plot the decision boundary or threshold of the perceptron.\n",
    "\n",
    "To calculate it we start with the equation that describes the boundary,\n",
    "$$w_1x_1+w_2x_2 + b =0.$$\n",
    "\n",
    "From it we can obtain $x_2$ from a given $x_1$ applying a fairy simple math,\n",
    "$$x_2 = \\frac{-w_1x_1-b}{w_2}.$$"
   ]
  },
  {
   "cell_type": "code",
   "execution_count": 12,
   "metadata": {
    "collapsed": false,
    "slideshow": {
     "slide_type": "slide"
    }
   },
   "outputs": [],
   "source": [
    "def threshold(perceptron, x_1):\n",
    "    return (-perceptron.weights[0] * x_1 - perceptron.bias) / perceptron.weights[1]"
   ]
  },
  {
   "cell_type": "code",
   "execution_count": 13,
   "metadata": {
    "collapsed": false
   },
   "outputs": [],
   "source": [
    "def plot_perceptron_threshold(perceptron, ax):\n",
    "    xlim = ax.get_xlim(); ylim = ax.get_ylim()\n",
    "    \n",
    "    x2s = [threshold(perceptron, x1) for x1 in xlim]\n",
    "    ax.plot(xlim, x2s)\n",
    "    \n",
    "    ax.set_xlim(-0.1,1.1); ax.set_ylim(-0.1,1.1)"
   ]
  },
  {
   "cell_type": "markdown",
   "metadata": {
    "slideshow": {
     "slide_type": "slide"
    }
   },
   "source": [
    "A function that plots a perceptron as the threshold and the data set."
   ]
  },
  {
   "cell_type": "code",
   "execution_count": 14,
   "metadata": {
    "collapsed": true
   },
   "outputs": [],
   "source": [
    "def plot_all(perceptron, data, t, ax=None):\n",
    "    if ax==None:\n",
    "        fig = plt.figure(figsize=(5,4))\n",
    "        ax = fig.gca()\n",
    "    plot_data(data, ax)\n",
    "    plot_perceptron_threshold(perceptron, ax)\n",
    "    \n",
    "    ax.set_title('$t='+str(t+1)+'$')"
   ]
  },
  {
   "cell_type": "markdown",
   "metadata": {
    "slideshow": {
     "slide_type": "slide"
    }
   },
   "source": [
    "## Our perceptron in action\n",
    "\n",
    "All set now! Let's create a perceptron and train it. \n",
    "\n",
    "*Note*: Normally the initial weights and the bias should be set to *small* random values. I am setting them by hand to a value that I know that looks good in the examples."
   ]
  },
  {
   "cell_type": "code",
   "execution_count": 15,
   "metadata": {
    "collapsed": false
   },
   "outputs": [],
   "source": [
    "perceptron = Perceptron([0.1,-0.1],0.02)"
   ]
  },
  {
   "cell_type": "code",
   "execution_count": 16,
   "metadata": {
    "collapsed": false,
    "slideshow": {
     "slide_type": "slide"
    }
   },
   "outputs": [
    {
     "data": {
      "image/png": "[encoded data removed]",
      "text/plain": [
       "<matplotlib.figure.Figure at 0x114899278>"
      ]
     },
     "metadata": {},
     "output_type": "display_data"
    }
   ],
   "source": [
    "f, axarr = plt.subplots(2, 5, sharex=True, sharey=True, figsize=(8,6))\n",
    "axs = list(itertools.chain.from_iterable(axarr))\n",
    "for t in range(10):\n",
    "    plot_all(perceptron, data, t, ax=axs[t])\n",
    "    learn_data(perceptron, data)\n",
    "f.tight_layout()"
   ]
  },
  {
   "cell_type": "markdown",
   "metadata": {},
   "source": [
    "It is clear how the Perceptron threshold is progresively adjusted according to the data set."
   ]
  },
  {
   "cell_type": "markdown",
   "metadata": {
    "slideshow": {
     "slide_type": "slide"
    }
   },
   "source": [
    "## Animating the Perceptron\n",
    "\n",
    "This results are better understood in animated from."
   ]
  },
  {
   "cell_type": "code",
   "execution_count": 17,
   "metadata": {
    "collapsed": false
   },
   "outputs": [],
   "source": [
    "from JSAnimation import IPython_display\n",
    "from matplotlib import animation"
   ]
  },
  {
   "cell_type": "code",
   "execution_count": 18,
   "metadata": {
    "collapsed": true,
    "slideshow": {
     "slide_type": "subslide"
    }
   },
   "outputs": [],
   "source": [
    "def animate(frame_index, perceptron, data, ax):\n",
    "    ax.clear()\n",
    "    plot_data(data, ax=ax)\n",
    "    ax.set_title('$t='+str(frame_index)+'$')\n",
    "    \n",
    "    if not frame_index:\n",
    "        return None\n",
    "    plot_perceptron_threshold(perceptron, ax=ax)\n",
    "    learn_data(perceptron, data)\n",
    "    return None"
   ]
  },
  {
   "cell_type": "code",
   "execution_count": 19,
   "metadata": {
    "collapsed": false,
    "slideshow": {
     "slide_type": "slide"
    }
   },
   "outputs": [
    {
     "data": {
      "text/html": [
       "\n",
       "<script language=\"javascript\">\n",
       "  /* Define the Animation class */\n",
       "  function Animation(frames, img_id, slider_id, interval, loop_select_id){\n",
       "    this.img_id = img_id;\n",
       "    this.slider_id = slider_id;\n",
       "    this.loop_select_id = loop_select_id;\n",
       "    this.interval = interval;\n",
       "    this.current_frame = 0;\n",
       "    this.direction = 0;\n",
       "    this.timer = null;\n",
       "    this.frames = new Array(frames.length);\n",
       "\n",
       "    for (var i=0; i<frames.length; i++)\n",
       "    {\n",
       "     this.frames[i] = new Image();\n",
       "     this.frames[i].src = frames[i];\n",
       "    }\n",
       "    document.getElementById(this.slider_id).max = this.frames.length - 1;\n",
       "    this.set_frame(this.current_frame);\n",
       "  }\n",
       "\n",
       "  Animation.prototype.get_loop_state = function(){\n",
       "    var button_group = document[this.loop_select_id].state;\n",
       "    for (var i = 0; i < button_group.length; i++) {\n",
       "        var button = button_group[i];\n",
       "        if (button.checked) {\n",
       "            return button.value;\n",
       "        }\n",
       "    }\n",
       "    return undefined;\n",
       "  }\n",
       "\n",
       "  Animation.prototype.set_frame = function(frame){\n",
       "    this.current_frame = frame;\n",
       "    document.getElementById(this.img_id).src = this.frames[this.current_frame].src;\n",
       "    document.getElementById(this.slider_id).value = this.current_frame;\n",
       "  }\n",
       "\n",
       "  Animation.prototype.next_frame = function()\n",
       "  {\n",
       "    this.set_frame(Math.min(this.frames.length - 1, this.current_frame + 1));\n",
       "  }\n",
       "\n",
       "  Animation.prototype.previous_frame = function()\n",
       "  {\n",
       "    this.set_frame(Math.max(0, this.current_frame - 1));\n",
       "  }\n",
       "\n",
       "  Animation.prototype.first_frame = function()\n",
       "  {\n",
       "    this.set_frame(0);\n",
       "  }\n",
       "\n",
       "  Animation.prototype.last_frame = function()\n",
       "  {\n",
       "    this.set_frame(this.frames.length - 1);\n",
       "  }\n",
       "\n",
       "  Animation.prototype.slower = function()\n",
       "  {\n",
       "    this.interval /= 0.7;\n",
       "    if(this.direction > 0){this.play_animation();}\n",
       "    else if(this.direction < 0){this.reverse_animation();}\n",
       "  }\n",
       "\n",
       "  Animation.prototype.faster = function()\n",
       "  {\n",
       "    this.interval *= 0.7;\n",
       "    if(this.direction > 0){this.play_animation();}\n",
       "    else if(this.direction < 0){this.reverse_animation();}\n",
       "  }\n",
       "\n",
       "  Animation.prototype.anim_step_forward = function()\n",
       "  {\n",
       "    this.current_frame += 1;\n",
       "    if(this.current_frame < this.frames.length){\n",
       "      this.set_frame(this.current_frame);\n",
       "    }else{\n",
       "      var loop_state = this.get_loop_state();\n",
       "      if(loop_state == \"loop\"){\n",
       "        this.first_frame();\n",
       "      }else if(loop_state == \"reflect\"){\n",
       "        this.last_frame();\n",
       "        this.reverse_animation();\n",
       "      }else{\n",
       "        this.pause_animation();\n",
       "        this.last_frame();\n",
       "      }\n",
       "    }\n",
       "  }\n",
       "\n",
       "  Animation.prototype.anim_step_reverse = function()\n",
       "  {\n",
       "    this.current_frame -= 1;\n",
       "    if(this.current_frame >= 0){\n",
       "      this.set_frame(this.current_frame);\n",
       "    }else{\n",
       "      var loop_state = this.get_loop_state();\n",
       "      if(loop_state == \"loop\"){\n",
       "        this.last_frame();\n",
       "      }else if(loop_state == \"reflect\"){\n",
       "        this.first_frame();\n",
       "        this.play_animation();\n",
       "      }else{\n",
       "        this.pause_animation();\n",
       "        this.first_frame();\n",
       "      }\n",
       "    }\n",
       "  }\n",
       "\n",
       "  Animation.prototype.pause_animation = function()\n",
       "  {\n",
       "    this.direction = 0;\n",
       "    if (this.timer){\n",
       "      clearInterval(this.timer);\n",
       "      this.timer = null;\n",
       "    }\n",
       "  }\n",
       "\n",
       "  Animation.prototype.play_animation = function()\n",
       "  {\n",
       "    this.pause_animation();\n",
       "    this.direction = 1;\n",
       "    var t = this;\n",
       "    if (!this.timer) this.timer = setInterval(function(){t.anim_step_forward();}, this.interval);\n",
       "  }\n",
       "\n",
       "  Animation.prototype.reverse_animation = function()\n",
       "  {\n",
       "    this.pause_animation();\n",
       "    this.direction = -1;\n",
       "    var t = this;\n",
       "    if (!this.timer) this.timer = setInterval(function(){t.anim_step_reverse();}, this.interval);\n",
       "  }\n",
       "</script>\n",
       "\n",
       "<div class=\"animation\" align=\"center\">\n",
       "    <img id=\"_anim_imgSNXOOVMQAHICGULG\">\n",
       "    <br>\n",
       "    <input id=\"_anim_sliderSNXOOVMQAHICGULG\" type=\"range\" style=\"width:350px\" name=\"points\" min=\"0\" max=\"1\" step=\"1\" value=\"0\" onchange=\"animSNXOOVMQAHICGULG.set_frame(parseInt(this.value));\"></input>\n",
       "    <br>\n",
       "    <button onclick=\"animSNXOOVMQAHICGULG.slower()\">&#8211;</button>\n",
       "    <button onclick=\"animSNXOOVMQAHICGULG.first_frame()\"><img class=\"anim_icon\" src=\"data:image/png;base64,iVBORw0KGgoAAAANSUhEUgAAABQAAAAUCAQAAAAngNWGAAAAAXNSR0IArs4c6QAAAAJiS0dEAP+Hj8y/AAAACXBIWXMAAAsTAAALEwEAmpwYAAAAB3RJTUUH3QURCAgaeZk4EQAAASlJREFUKM/dkj9LQnEUhp9zr3bpj1uBcKGiJWxzLWivKAIRjIhcCqcgqJbKRagPICiVSVEuNTu0tLYGUg4tkRGUdxLJ0u79Ndxr5FfwTO/L+xzO4XCgO+v2T70AFU+/A/Dhmlzg6Pr0DKAMwOH4zQxAAbAkv2xNeF2RoQUVc1ytgttXUbWVdN1dOPE8pz4j4APQsdFtKA0WY6vpKjqvVciHnvZTS6Ja4HgggJLs7MHxl9nCh8NYcO+iGG0agiaC4h9oa6Vsw2yiK+QHSZT934YoEQABNBcTNDszsrhm1m1B+bFS86PT6QFppx6oeSaeOwlMXRp1h4aK13Y2kuHhUo9ykPboPvFjeEvsrhTMt3ylHyB0r8KZyYdCrbfj4OveoHMANjuyx+76rV+/blxKMZUnLgAAAABJRU5ErkJggg==\"></button>\n",
       "    <button onclick=\"animSNXOOVMQAHICGULG.previous_frame()\"><img class=\"anim_icon\" src=\"data:image/png;base64,iVBORw0KGgoAAAANSUhEUgAAABQAAAAUCAQAAAAngNWGAAAAAXNSR0IArs4c6QAAAAJiS0dEAP+Hj8y/AAAACXBIWXMAAAsTAAALEwEAmpwYAAAAB3RJTUUH3QURCAgyTCyQ6wAAANRJREFUKM9jYBjO4AiUfgzFGGAp4+yayUvX6jMwMDCsYmBgOCS4OAOrSYmMgcc8/pd5Q3irC+Neh/1AlmeBMVgZmP8yMLD8/c/cqv9r90whzv/MX7Eq/MfAwMDIwCuZdfSV8U8WDgZGRmYGrAoZGRgY/jO8b3sj/J2F6T8j4z80pzEhmIwMjAxsSbqqlkeZGP//Z8SlkJnhPwMjwx/Guoe1NhmRwk+YGH5jV8jOwMPHzcDBysAwh8FrxQwtPU99HrwBXsnAwMDAsJiBgYGBoZ1xmKYqALHhMpn1o7igAAAAAElFTkSuQmCC\"></button>\n",
       "    <button onclick=\"animSNXOOVMQAHICGULG.reverse_animation()\"><img class=\"anim_icon\" src=\"data:image/png;base64,iVBORw0KGgoAAAANSUhEUgAAABQAAAAUCAQAAAAngNWGAAAAAXNSR0IArs4c6QAAAAJiS0dEAP+Hj8y/AAAACXBIWXMAAAsTAAALEwEAmpwYAAAAB3RJTUUH3QURCAgmVvZElgAAAVFJREFUKM+t0k8ow3EYx/H3s/2aLDUSZctFkgsHEi1XLi5ukpPSWsuJklwclsPSsDKFi7MSJ0I5qF2GHO2m0FY7+BdNv7Y9DpuxDSt5vsfvq+fT9/k+8D8VBxIAWH6H0ead4Qb5BRwCENoceZi5Stl/6BgCBmtWhjzxg4mUQ02rAhil7JgB9tze7aTLxFAKsUUd14B9ZzCyFUk401gQyQJaDNcBHwv7t7ETd0ZVQFEEzcNCdE/1wtj15imGWlEB8qkf2QaAWjbG/bPSamIDyX65/iwDIFx7tWjUvWCoSo5oGbYATN7PORt7W9IZEQXJH8ohuN7C0VVX91KNqYhq4a1lEGJI0j892tazXCWQRUpwAbYDcHczPxXuajq3mbnhfANz5eOJxsuNvs7+jud0UcuyL3QAkuEMx4rnIvBYq1JhEwPAUb3fG7x8tVdc292/7Po7f2VqA+Yz7ZwAAAAASUVORK5CYII=\"></button>\n",
       "    <button onclick=\"animSNXOOVMQAHICGULG.pause_animation()\"><img class=\"anim_icon\" src=\"data:image/png;base64,iVBORw0KGgoAAAANSUhEUgAAABQAAAAUCAQAAAAngNWGAAAAAXNSR0IArs4c6QAAAAJiS0dEAP+Hj8y/AAAACXBIWXMAAAsTAAALEwEAmpwYAAAAB3RJTUUH3QURCAkR91DQ2AAAAKtJREFUKM9jYCANTEVib2K4jcRbzQihGWEC00JuNjN8Z2Q0Zo3VYWA4lL005venH9+c3ZK5IfIsMIXMBtc12Bj+MMgxMDAwMPzWe2TBzPCf4SLcZCYY4/9/RgZGBiaYFf8gljFhKiQERhUOeoX/Gf8y/GX4y/APmlj+Mfxj+MfwH64Qnnq0zr9fyfLrPzP3eQYGBobvk5x4GX4xMIij23gdib0cRWYHiVmAAQDK5ircshCbHQAAAABJRU5ErkJggg==\"></button>\n",
       "    <button onclick=\"animSNXOOVMQAHICGULG.play_animation()\"><img class=\"anim_icon\" src=\"data:image/png;base64,iVBORw0KGgoAAAANSUhEUgAAABQAAAAUCAQAAAAngNWGAAAAAXNSR0IArs4c6QAAAAJiS0dEAP+Hj8y/AAAACXBIWXMAAAsTAAALEwEAmpwYAAAAB3RJTUUH3QURCAkEmo00MwAAAS9JREFUKM+tkj1IQmEUhp9j94LQj0FD4RRBLdLQ3ftb26PRcCiQIIiIDFwKC0OhaAiam5wVDBpqCKohQojMLYzaAiUatOtpuQrKVQl64fu+4Xt4OLwc+Fs+nNM16jsPAWS6gZXggoZfXmfhog3hcZ6aTXF87Sp68OmH4/YggAo8bmfyyeh6Z1AAKPVldyO1+Iz2uILq3AriJSe3l+H7aj+cuRnrTsVDxSxay+VYbMDnCtZxxQOU9G4nlU9E1HQBxRkCQMRGRnIbpxMARkvxCIoAorYMMrq0mJ0qu4COUW3xyVDqJC4P+86P0ewDQbQqgevhlc2C8ETApXAEFLzvwa3EXG9BoIE1GQUbv1h7k4fTXxBu6cKgUbX5M3ZzNC+a7rQ936HV56SlRpcle+Mf8wvgJ16zo/4BtQAAAABJRU5ErkJggg==\"></button>\n",
       "    <button onclick=\"animSNXOOVMQAHICGULG.next_frame()\"><img class=\"anim_icon\" src=\"data:image/png;base64,iVBORw0KGgoAAAANSUhEUgAAABQAAAAUCAQAAAAngNWGAAAAAXNSR0IArs4c6QAAAAJiS0dEAP+Hj8y/AAAACXBIWXMAAAsTAAALEwEAmpwYAAAAB3RJTUUH3QURCAkd/uac8wAAAMhJREFUKM9jYBie4DEUQ8B+fEq3+3UrMzAwMFxjYGBgYJizYubaOUxYFUaXh/6vWfRfEMIL/+//P5gZJoei4/f/7wxnY1PeNUXdE2RgYGZgYoCrY2BBVsjKwMDAwvCS4f3SG/dXxm5gYESSQ1HIwvCPgZmB8f8Pxv+Kxxb/YfiPJIdi9T8GJgaG/38ZFd4Fx0xUYsZt4h8GBgb2D2bLy7KnMTAwMEIxFoVCXIYr1IoDnkF4XAysqNIwUMDAwMDAsADKS2NkGL4AAIARMlfNIfZMAAAAAElFTkSuQmCC\"></button>\n",
       "    <button onclick=\"animSNXOOVMQAHICGULG.last_frame()\"><img class=\"anim_icon\" src=\"data:image/png;base64,iVBORw0KGgoAAAANSUhEUgAAABQAAAAUCAQAAAAngNWGAAAAAXNSR0IArs4c6QAAAAJiS0dEAP+Hj8y/AAAACXBIWXMAAAsTAAALEwEAmpwYAAAAB3RJTUUH3QURCAknOOpFQQAAAS9JREFUKM/dkrEvQ3EQxz/33mtoQxiYpANbLU26NAabSCcSUouGBVNDjYQaOiDpIEiKjURIw2Kx04hEYmkHEpGoJpSISaXq9Wd4P03/ht5y98197/u9XA4aK4rAWw3lgWddZ3S+/G9mEovtAB8AHE4pgTQAx8PbJweRmsq6GimmNpxaNYXVzMNNCI6A2figimwCGACK786zuWgh3qcsKf/w0pM4X0m/doNVFVzVGlEQsdRj193VxEWpH0RsdRu+zi3tVMqCAsDShoiYqiSV4OouVDFEqS9Pbiyg7vV62lpQ2BJ4Gg0meg0MbNpkYG/e+540NNFyrE1a8qHk5BaAjfnrzUaHfAWImVrLIXbgnx4/9X06s35cweWsVACa3a24PVp0X+rPv1aHFnSONdiL8Qci0lzwpOM5sQAAAABJRU5ErkJggg==\"></button>\n",
       "    <button onclick=\"animSNXOOVMQAHICGULG.faster()\">+</button>\n",
       "  <form action=\"#n\" name=\"_anim_loop_selectSNXOOVMQAHICGULG\" class=\"anim_control\">\n",
       "    <input type=\"radio\" name=\"state\" value=\"once\" > Once </input>\n",
       "    <input type=\"radio\" name=\"state\" value=\"loop\" checked> Loop </input>\n",
       "    <input type=\"radio\" name=\"state\" value=\"reflect\" > Reflect </input>\n",
       "  </form>\n",
       "</div>\n",
       "\n",
       "\n",
       "<script language=\"javascript\">\n",
       "  /* Instantiate the Animation class. */\n",
       "  /* The IDs given should match those used in the template above. */\n",
       "  (function() {\n",
       "    var img_id = \"_anim_imgSNXOOVMQAHICGULG\";\n",
       "    var slider_id = \"_anim_sliderSNXOOVMQAHICGULG\";\n",
       "    var loop_select_id = \"_anim_loop_selectSNXOOVMQAHICGULG\";\n",
       "    var frames = new Array(0);\n",
       "    \n",
       "  frames[0] = \"data:image/png;base64,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\"\n",
       "  frames[1] = \"data:image/png;base64,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\"\n",
       "  frames[2] = \"data:image/png;base64,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\"\n",
       "  frames[3] = \"data:image/png;base64,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\"\n",
       "  frames[4] = \"data:image/png;base64,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\"\n",
       "  frames[5] = \"data:image/png;base64,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\"\n",
       "  frames[6] = \"data:image/png;base64,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\"\n",
       "  frames[7] = \"data:image/png;base64,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\"\n",
       "  frames[8] = \"data:image/png;base64,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\"\n",
       "  frames[9] = \"data:image/png;base64,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\"\n",
       "\n",
       "\n",
       "    /* set a timeout to make sure all the above elements are created before\n",
       "       the object is initialized. */\n",
       "    setTimeout(function() {\n",
       "        animSNXOOVMQAHICGULG = new Animation(frames, img_id, slider_id, 600, loop_select_id);\n",
       "    }, 0);\n",
       "  })()\n",
       "</script>\n"
      ],
      "text/plain": [
       "<matplotlib.animation.FuncAnimation at 0x11626aa90>"
      ]
     },
     "execution_count": 19,
     "metadata": {},
     "output_type": "execute_result"
    }
   ],
   "source": [
    "fig = plt.figure(figsize=(4,4))\n",
    "ax = fig.gca()\n",
    "perceptron = Perceptron([0.1,-0.1],0.02)\n",
    "animation.FuncAnimation(fig, lambda i: animate(i, perceptron, data, ax), frames=10, interval=600, \n",
    "                               blit=False)"
   ]
  },
  {
   "cell_type": "markdown",
   "metadata": {
    "slideshow": {
     "slide_type": "slide"
    }
   },
   "source": [
    "## Self-study\n",
    "\n",
    "* Experiment with the learning rate ($\\alpha$). How it impacts learning?\n",
    "* Create a new data set with a non-linear boundary. What happens now with our perceptron? How would you fix it?"
   ]
  },
  {
   "cell_type": "markdown",
   "metadata": {
    "slideshow": {
     "slide_type": "slide"
    }
   },
   "source": [
    "## Suggested reading\n",
    "\n",
    "* Minsky M. L. and Papert S. A. (1969). *Perceptrons*. Cambridge, MA: MIT Press.\n",
    "* Gallant, S. I. (1990). *Perceptron-based learning algorithms*. IEEE Transactions on Neural Networks, vol. 1, no. 2, pp. 179–191.\n",
    "* Mikel Olazaran (1996). *A Sociological Study of the Official History of the Perceptrons Controversy*. Social Studies of Science 26 (3): 611–659. doi:10.1177/030631296026003005."
   ]
  },
  {
   "cell_type": "markdown",
   "metadata": {
    "slideshow": {
     "slide_type": "skip"
    }
   },
   "source": [
    "<hr/>\n",
    "<div class=\"container-fluid\">\n",
    "  <div class='well'>\n",
    "      <div class=\"row\">\n",
    "          <div class=\"col-md-3\" align='center'>\n",
    "              <img align='center'alt=\"Creative Commons License\" style=\"border-width:0\" src=\"https://i.creativecommons.org/l/by-nc-sa/4.0/88x31.png\"/>\n",
    "          </div>\n",
    "          <div class=\"col-md-9\">\n",
    "              This work is licensed under a [Creative Commons Attribution-NonCommercial-ShareAlike 4.0 International License](http://creativecommons.org/licenses/by-nc-sa/4.0/).\n",
    "          </div>\n",
    "      </div>\n",
    "  </div>\n",
    "</div>"
   ]
  },
  {
   "cell_type": "code",
   "execution_count": 20,
   "metadata": {
    "collapsed": false,
    "slideshow": {
     "slide_type": "skip"
    }
   },
   "outputs": [
    {
     "data": {
      "application/json": {
       "Software versions": [
        {
         "module": "Python",
         "version": "3.5.1 64bit [GCC 4.2.1 (Apple Inc. build 5577)]"
        },
        {
         "module": "IPython",
         "version": "4.2.0"
        },
        {
         "module": "OS",
         "version": "Darwin 15.4.0 x86_64 i386 64bit"
        },
        {
         "module": "scipy",
         "version": "0.17.0"
        },
        {
         "module": "numpy",
         "version": "1.10.4"
        },
        {
         "module": "matplotlib",
         "version": "1.5.1"
        }
       ]
      },
      "text/html": [
       "<table><tr><th>Software</th><th>Version</th></tr><tr><td>Python</td><td>3.5.1 64bit [GCC 4.2.1 (Apple Inc. build 5577)]</td></tr><tr><td>IPython</td><td>4.2.0</td></tr><tr><td>OS</td><td>Darwin 15.4.0 x86_64 i386 64bit</td></tr><tr><td>scipy</td><td>0.17.0</td></tr><tr><td>numpy</td><td>1.10.4</td></tr><tr><td>matplotlib</td><td>1.5.1</td></tr><tr><td colspan='2'>Mon May 09 07:58:54 2016 BRT</td></tr></table>"
      ],
      "text/latex": [
       "\\begin{tabular}{|l|l|}\\hline\n",
       "{\\bf Software} & {\\bf Version} \\\\ \\hline\\hline\n",
       "Python & 3.5.1 64bit [GCC 4.2.1 (Apple Inc. build 5577)] \\\\ \\hline\n",
       "IPython & 4.2.0 \\\\ \\hline\n",
       "OS & Darwin 15.4.0 x86\\_64 i386 64bit \\\\ \\hline\n",
       "scipy & 0.17.0 \\\\ \\hline\n",
       "numpy & 1.10.4 \\\\ \\hline\n",
       "matplotlib & 1.5.1 \\\\ \\hline\n",
       "\\hline \\multicolumn{2}{|l|}{Mon May 09 07:58:54 2016 BRT} \\\\ \\hline\n",
       "\\end{tabular}\n"
      ],
      "text/plain": [
       "Software versions\n",
       "Python 3.5.1 64bit [GCC 4.2.1 (Apple Inc. build 5577)]\n",
       "IPython 4.2.0\n",
       "OS Darwin 15.4.0 x86_64 i386 64bit\n",
       "scipy 0.17.0\n",
       "numpy 1.10.4\n",
       "matplotlib 1.5.1\n",
       "Mon May 09 07:58:54 2016 BRT"
      ]
     },
     "execution_count": 20,
     "metadata": {},
     "output_type": "execute_result"
    }
   ],
   "source": [
    "%load_ext version_information\n",
    "%version_information scipy, numpy, matplotlib"
   ]
  },
  {
   "cell_type": "code",
   "execution_count": 21,
   "metadata": {
    "collapsed": false,
    "slideshow": {
     "slide_type": "skip"
    }
   },
   "outputs": [
    {
     "data": {
      "text/html": [
       "<link href='https://fonts.googleapis.com/css?family=Inconsolata:400,700' rel='stylesheet' type='text/css'/>\n",
       "<style>\n",
       "@font-face {\n",
       "    font-family: 'Optima';\n",
       "    src: url('fonts/optima-webfont.eot');\n",
       "    src: url('fonts/optima-webfont.eot?#iefix') format('embedded-opentype'),\n",
       "         url('fonts/optima-webfont.woff') format('woff'),\n",
       "         url('fonts/optima-webfont.ttf') format('truetype');\n",
       "    font-weight: normal;\n",
       "    font-style: normal;\n",
       "}\n",
       ".text_cell_render h1 h2 h3 h4 h5 {\n",
       "font-style:regular;\n",
       "font-family: 'Optima', sans-serif;\n",
       "display: block;\n",
       "}\n",
       "/*font-weight: 200;*/\n",
       "/*text-align: left;\n",
       "line-height: 100%;\n",
       "display: block;\n",
       "}*/\n",
       ".text_cell_render h1 {\n",
       "/*font-size: 24pt;*/\n",
       "font-weight: bold;\n",
       "margin-bottom: 0.1em;\n",
       "margin-top: 0.5em;\n",
       "color:#4a4a4a;\n",
       "}\n",
       "\n",
       ".reveal h1 {\n",
       "font-family: 'Optima', sans-serif;\n",
       "/*font-size: 24pt;*/\n",
       "font-weight: bold;\n",
       "margin-bottom: 0.1em;\n",
       "margin-top: 0.5em;\n",
       "color:#4a4a4a;\n",
       "}\n",
       ".text_cell_render h2 {\n",
       "/*font-size: 21pt;*/\n",
       "margin-bottom: 0.1em;\n",
       "margin-top: 0.3em;\n",
       "color:#595959;\n",
       "}\n",
       ".text_cell_render h3 {\n",
       "/*font-size: 19pt;*/\n",
       "margin-bottom: 0.1em;\n",
       "margin-top: 0.3em;\n",
       "color:#595959;\n",
       "}\n",
       ".text_cell_render h4 {\n",
       "/*font-size: 17pt;*/\n",
       "margin-bottom: 0.1em;\n",
       "margin-top: 0.3em;\n",
       "color:#595959;\n",
       "}\n",
       ".text_cell_render h5 {\n",
       "/*font-size: 15pt;*/\n",
       "margin-bottom: 0.1em;\n",
       "margin-top: 0.3em;\n",
       "color:#595959;\n",
       "}\n",
       "div.text_cell_render{\n",
       "font-family: 'Optima', sans-serif;\n",
       "line-height: 120%;\n",
       "font-size: 100%;\n",
       "font-weight: 400;\n",
       "text-align: justify;\n",
       "margin-left:0em;\n",
       "margin-right:0em;\n",
       "}\n",
       ".reveal div.text_cell_render{\n",
       "font-family: 'Optima', sans-serif;\n",
       "line-height: 120%;\n",
       "font-size: 74%;\n",
       "font-weight: 400;\n",
       "text-align: justify;\n",
       "margin-left:0em;\n",
       "margin-right:0em;\n",
       "}\n",
       ".reveal h1 {\n",
       "font-family: 'Optima', sans-serif;\n",
       "/*font-size: 90%; */\n",
       "/*font-size: 24pt;*/\n",
       "font-weight: bold;\n",
       "margin-bottom: 0.1em;\n",
       "margin-top: 0.5em;\n",
       "color:#4a4a4a;\n",
       "}\n",
       ".reveal h2 {\n",
       "font-family: 'Optima', sans-serif;\n",
       "/*font-size: 24pt;*/\n",
       "font-weight: bold;\n",
       "margin-bottom: 0.1em;\n",
       "margin-top: 0.5em;\n",
       "color:#595959;\n",
       "}\n",
       ".reveal h3 {\n",
       "font-family: 'Optima', sans-serif;\n",
       "/*font-size: 24pt;*/\n",
       "font-weight: bold;\n",
       "margin-bottom: 0.1em;\n",
       "margin-top: 0.5em;\n",
       "color:#595959;\n",
       "}\n",
       ".reveal h4 {\n",
       "font-family: 'Optima', sans-serif;\n",
       "font-weight: bold;\n",
       "margin-bottom: 0.1em;\n",
       "margin-top: 0.5em;\n",
       "color:#595959;\n",
       "}\n",
       ".reveal code {\n",
       "font-family: 'Inconsolata', monospace;\n",
       "}\n",
       ".reveal pre {\n",
       "font-family: 'Inconsolata', monospace;\n",
       "}\n",
       "code {\n",
       "font-family: 'Inconsolata', monospace;\n",
       "}\n",
       "pre {\n",
       "font-family: 'Inconsolata', monospace;\n",
       "}\n",
       ".CodeMirror{\n",
       "font-family: \"Inconsolata\", monospace;\n",
       "}\n",
       "/*body{\n",
       "  font-family: 'Optima', sans-serif;\n",
       "}*/\n",
       "</style>\n",
       "<script>\n",
       "    MathJax.Hub.Config({\n",
       "                        TeX: {\n",
       "                           extensions: [\"AMSmath.js\"],\n",
       "                           equationNumbers: { autoNumber: \"AMS\", useLabelIds: true}\n",
       "                           },\n",
       "                tex2jax: {\n",
       "                    inlineMath: [ ['$','$'], [\"\\\\(\",\"\\\\)\"] ],\n",
       "                    displayMath: [ ['$$','$$'], [\"\\\\[\",\"\\\\]\"] ]\n",
       "                },\n",
       "                displayAlign: 'center', // Change this to 'center' to center equations.\n",
       "                \"HTML-CSS\": {\n",
       "                    styles: {'.MathJax_Display': {\"margin\": 4}}\n",
       "                }\n",
       "        });\n",
       "</script>\n"
      ],
      "text/plain": [
       "<IPython.core.display.HTML object>"
      ]
     },
     "execution_count": 21,
     "metadata": {},
     "output_type": "execute_result"
    }
   ],
   "source": [
    "# this code is here only for cosmetic reasons\n",
    "from IPython.core.display import HTML\n",
    "def css_styling():\n",
    "    return HTML(open('custom/custom.include', 'r').read())\n",
    "css_styling()"
   ]
  }
 ],
 "metadata": {
  "kernelspec": {
   "display_name": "Python 3",
   "language": "python",
   "name": "python3"
  },
  "language_info": {
   "codemirror_mode": {
    "name": "ipython",
    "version": 3
   },
   "file_extension": ".py",
   "mimetype": "text/x-python",
   "name": "python",
   "nbconvert_exporter": "python",
   "pygments_lexer": "ipython3",
   "version": "3.5.1"
  }
 },
 "nbformat": 4,
 "nbformat_minor": 0
}
