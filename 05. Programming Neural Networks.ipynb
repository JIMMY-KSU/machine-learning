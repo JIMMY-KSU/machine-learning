{
 "cells": [
  {
   "cell_type": "markdown",
   "metadata": {},
   "source": [
    "<div align='left' style=\"width:400px;height:120px;overflow:hidden;\">\n",
    "<a href='http://www.uff.br'>\n",
    "<img align='left' style='display: block;height: 92%' src='imgs/UFF.png' alt='UFF logo' title='UFF logo'/>\n",
    "</a>\n",
    "<a href='http://www.ic.uff.br'>\n",
    "<img align='left' style='display: block;height: 100%' src='imgs/logo-ic.png' alt='IC logo' title='IC logo'/>\n",
    "</a>\n",
    "</div>"
   ]
  },
  {
   "cell_type": "markdown",
   "metadata": {},
   "source": [
    "### Machine Learning\n",
    "# Programming Neural Networks with Theano"
   ]
  },
  {
   "cell_type": "markdown",
   "metadata": {},
   "source": [
    "### [Luis Martí](http://lmarti.com)\n",
    "#### [Instituto de Computação](http://www.ic.uff)\n",
    "#### [Universidade Federal Fluminense](http://www.uff.br)\n",
    "#### [`http://lmarti.com/2016-1-ml`](http://lmarti.com/2016-1-ml)\n",
    "$\\newcommand{\\vec}[1]{\\boldsymbol{#1}}$"
   ]
  },
  {
   "cell_type": "code",
   "execution_count": 1,
   "metadata": {
    "collapsed": true
   },
   "outputs": [],
   "source": [
    "import os\n",
    "import sys\n",
    "import timeit\n",
    "import six.moves.cPickle as pickle\n",
    "import gzip\n",
    "\n",
    "import numpy\n",
    "\n",
    "import theano\n",
    "import theano.tensor as T\n",
    "\n",
    "from IPython.display import Image, SVG\n",
    "\n",
    "import matplotlib as mpl\n",
    "import matplotlib.pyplot as plt\n",
    "import matplotlib.cm as cm\n",
    "import seaborn\n",
    "seaborn.set_style('whitegrid')\n",
    "from mpl_toolkits.mplot3d import Axes3D\n",
    "%matplotlib inline\n",
    "%config InlineBackend.figure_format = 'retina'"
   ]
  },
  {
   "cell_type": "markdown",
   "metadata": {},
   "source": [
    "# What about `theano`?\n",
    "\n",
    "* Mathematical symbolic expression compiler\n",
    "  * Easy to define expressions\n",
    "  * Expressions are similar numpy's syntax and semantics\n",
    "* Possible to manipulate those expressions\n",
    "  * Substitutions\n",
    "  * **Gradient**, R operator\n",
    "* Stability optimizations\n",
    "Fast to compute values for those expressions\n",
    "* Speed optimizations\n",
    "* Use fast back-ends (GPUs (CUDA), BLAS, custom C code)\n",
    "* Tools to inspect and check for correctness"
   ]
  },
  {
   "cell_type": "markdown",
   "metadata": {},
   "source": [
    "Theano defines a *language*, a *compiler*, and a *library*.\n",
    "  * Define a symbolic expression\n",
    "  * Compile a function that can compute values\n",
    "  * Execute that function on numeric values"
   ]
  },
  {
   "cell_type": "markdown",
   "metadata": {},
   "source": [
    "The graph that represents mathematical operations is bipartite, and has two sorts of nodes:\n",
    "* **Variable nodes**, that represent data\n",
    "* **Apply nodes**, that represent the application of mathematical operations \n",
    "\n",
    "In practice:\n",
    "* Variables values are used for the graph inputs and outputs, and intermediate values\n",
    "* Variables will hold data during the function execution phase\n",
    "* An Apply node has inputs and outputs, which are Variables\n",
    "* An Apply node represents the specific application of an Op on these input variables\n",
    "* The same Variable can be used as inputs by several Apply nodes"
   ]
  },
  {
   "cell_type": "markdown",
   "metadata": {},
   "source": [
    "## Shared variables\n",
    "* Symbolic variables, with a value associated to them\n",
    "*  The value is persistent across function calls\n",
    "*   The value is shared among all functions\n",
    "*   The variable has to be an input variable\n",
    "*   The variable is an implicit input to all functions using it"
   ]
  },
  {
   "cell_type": "markdown",
   "metadata": {},
   "source": [
    "An optimization replaces a part of the graph with different nodes.\n",
    "* The types of the replaced nodes have to match\n",
    "* Merge equivalent computations\n",
    "* Simplify expressions: $\\frac{x}{x}$ becomes $1$\n",
    "* Numerical stability: For example, gives the right answer for  $\\log(1 + x)$  even if $x$ is really small.\n",
    "* Insert in-place an destructive versions of operations\n",
    "* Use specialized, high-performance versions (Elemwise loop fusion, GEMV,\n",
    "GEMM)\n",
    "* Shape inference\n",
    "* Constant folding\n",
    "* Transfer to GPU"
   ]
  },
  {
   "cell_type": "markdown",
   "metadata": {},
   "source": [
    "## Using GPUs\n",
    "\n",
    "Theano tries to make the use of GPUs as transparent as possible,\n",
    "* Currently limited to `float32` `dtype`\n",
    "* Not easy to interact in Python with `CudaNdarrays`\n",
    "Select GPU by setting the device  flag to ’gpu’ or 'gpu{0,1,2,...}'.\n",
    "* All `float32` shared variables will be created in GPU memory\n",
    "* Enables optimizations moving supported operations to GPU\n",
    "You want to make sure you use `float32`\n",
    "* `floatX` is the default type of all tensors and sparse matrices.\n",
    "* By default, aliased to ’float64’ for double precision on CPU\n",
    "* Can be set to `float32` by a configuration  flag\n",
    "* You can always explicitly use `T.fmatrix()` or `T.matrix(dtype=’float32’)`"
   ]
  },
  {
   "cell_type": "markdown",
   "metadata": {},
   "source": [
    "Configuration  flags can be set in a couple of ways:\n",
    "* In the shell:\n",
    "```bash\n",
    "$ THEANO_FLAGS=device=gpu0,floatX=float32\n",
    "```\n",
    "* In Python:\n",
    "```python\n",
    "theano.config.device = 'gpu0'\n",
    "theano.config.floatX = 'float32'\n",
    "```\n",
    "* In the `.theanorc` configuration file:\n",
    "```\n",
    "[global]\n",
    "    device = gpu0\n",
    "    floatX = float32\n",
    "```"
   ]
  },
  {
   "cell_type": "markdown",
   "metadata": {},
   "source": [
    "# A first contact with `theano`"
   ]
  },
  {
   "cell_type": "markdown",
   "metadata": {},
   "source": [
    "Defining theano variables and expressions"
   ]
  },
  {
   "cell_type": "code",
   "execution_count": 2,
   "metadata": {
    "collapsed": true
   },
   "outputs": [],
   "source": [
    "x = T.dscalar('x')\n",
    "y = x ** 2"
   ]
  },
  {
   "cell_type": "code",
   "execution_count": 3,
   "metadata": {
    "collapsed": false
   },
   "outputs": [
    {
     "data": {
      "image/png": "[encoded data removed]",
      "text/plain": [
       "<IPython.core.display.Image object>"
      ]
     },
     "execution_count": 3,
     "metadata": {
      "image/png": {
       "height": 135,
       "width": 288
      }
     },
     "output_type": "execute_result"
    }
   ],
   "source": [
    "Image(data=theano.printing.pydotprint(y, return_image=True, high_contrast=False, format='png'), retina=True)"
   ]
  },
  {
   "cell_type": "markdown",
   "metadata": {},
   "source": [
    "Compiling the expression as a function"
   ]
  },
  {
   "cell_type": "code",
   "execution_count": 4,
   "metadata": {
    "collapsed": false
   },
   "outputs": [],
   "source": [
    "f = theano.function(inputs=[x], outputs=y)"
   ]
  },
  {
   "cell_type": "markdown",
   "metadata": {},
   "source": [
    "Using the function"
   ]
  },
  {
   "cell_type": "code",
   "execution_count": 5,
   "metadata": {
    "collapsed": false
   },
   "outputs": [
    {
     "data": {
      "text/plain": [
       "array(16.0)"
      ]
     },
     "execution_count": 5,
     "metadata": {},
     "output_type": "execute_result"
    }
   ],
   "source": [
    "f(4)"
   ]
  },
  {
   "cell_type": "code",
   "execution_count": 6,
   "metadata": {
    "collapsed": true
   },
   "outputs": [],
   "source": [
    "dy = T.grad(y, x)"
   ]
  },
  {
   "cell_type": "code",
   "execution_count": 7,
   "metadata": {
    "collapsed": false,
    "scrolled": true
   },
   "outputs": [
    {
     "data": {
      "image/png": "[encoded data removed]",
      "text/plain": [
       "<IPython.core.display.Image object>"
      ]
     },
     "execution_count": 7,
     "metadata": {
      "image/png": {
       "height": 356,
       "width": 524
      }
     },
     "output_type": "execute_result"
    }
   ],
   "source": [
    "Image(data=theano.printing.pydotprint(dy, return_image=True, high_contrast=False, format='png'), retina=True)"
   ]
  },
  {
   "cell_type": "code",
   "execution_count": 8,
   "metadata": {
    "collapsed": true
   },
   "outputs": [],
   "source": [
    "df = theano.function([x], dy)"
   ]
  },
  {
   "cell_type": "code",
   "execution_count": 9,
   "metadata": {
    "collapsed": false
   },
   "outputs": [
    {
     "data": {
      "text/plain": [
       "array(8.0)"
      ]
     },
     "execution_count": 9,
     "metadata": {},
     "output_type": "execute_result"
    }
   ],
   "source": [
    "df(4)"
   ]
  },
  {
   "cell_type": "code",
   "execution_count": 10,
   "metadata": {
    "collapsed": false
   },
   "outputs": [
    {
     "data": {
      "text/plain": [
       "False"
      ]
     },
     "execution_count": 10,
     "metadata": {},
     "output_type": "execute_result"
    }
   ],
   "source": [
    "numpy.allclose(f(94.2), 188.4)"
   ]
  },
  {
   "cell_type": "markdown",
   "metadata": {},
   "source": [
    "# Programming Multilayer Perceptrons with `theano`\n",
    "\n",
    "I have based this notebook on the code of the [theano deep learning tutorial](http://deeplearning.net/tutorial/) (&copy; 2008–2013, Theano Development Team All rights reserved)."
   ]
  },
  {
   "cell_type": "markdown",
   "metadata": {},
   "source": [
    "# Loading data\n",
    "\n",
    "* We are going to use the [MNIST database](https://en.wikipedia.org/wiki/MNIST_database)\n",
    "* Each MNIST image has size 28*28\n",
    "* Contains 60,000 training images and 10,000 testing images.\n",
    "* That is too much data to process at one time, we need to make batches!\n",
    "\n",
    "<hr/>\n",
    "<div class=\"container-fluid\">\n",
    "  <div class=\"row\">\n",
    "      <div class=\"col-md-4\" align='center'> \n",
    "      </div>\n",
    "      <div class='col-md-4' align='center'>\n",
    "      <img src='http://myselph.de/mnistExamples.png'/>\n",
    "      </div>\n",
    "      <div class=\"col-md-4\" align='center'>\n",
    "      </div>\n",
    "  </div>\n",
    "</div>"
   ]
  },
  {
   "cell_type": "code",
   "execution_count": 11,
   "metadata": {
    "collapsed": true
   },
   "outputs": [],
   "source": [
    "def load_data(dataset):\n",
    "    ''' Loads the dataset\n",
    "\n",
    "    :type dataset: string\n",
    "    :param dataset: the path to the dataset (here MNIST)\n",
    "    '''\n",
    "\n",
    "    # Download the MNIST dataset if it is not present\n",
    "    data_dir, data_file = os.path.split(dataset)\n",
    "    if data_dir == \"\" and not os.path.isfile(dataset):\n",
    "        # Check if dataset is in the data directory.\n",
    "        new_path = os.path.join(\n",
    "            os.getcwd(),\n",
    "            \"data\",\n",
    "            dataset\n",
    "        )\n",
    "        if os.path.isfile(new_path) or data_file == 'mnist.pkl.gz':\n",
    "            dataset = new_path\n",
    "\n",
    "    if (not os.path.isfile(dataset)) and data_file == 'mnist.pkl.gz':\n",
    "        from six.moves import urllib\n",
    "        origin = (\n",
    "            'http://www.iro.umontreal.ca/~lisa/deep/data/mnist/mnist.pkl.gz'\n",
    "        )\n",
    "        print('Downloading data from %s' % origin)\n",
    "        urllib.request.urlretrieve(origin, dataset)\n",
    "\n",
    "    # Load the dataset\n",
    "    with gzip.open(dataset, 'rb') as f:\n",
    "        try:\n",
    "            train_set, valid_set, test_set = pickle.load(f, encoding='latin1')\n",
    "        except:\n",
    "            train_set, valid_set, test_set = pickle.load(f)\n",
    "    # train_set, valid_set, test_set format: tuple(input, target)\n",
    "    # input is a numpy.ndarray of 2 dimensions (a matrix)\n",
    "    # where each row corresponds to an example. target is a\n",
    "    # numpy.ndarray of 1 dimension (vector) that has the same length as\n",
    "    # the number of rows in the input. It should give the target\n",
    "    # to the example with the same index in the input.\n",
    "\n",
    "    def shared_dataset(data_xy, borrow=True):\n",
    "        \"\"\" Function that loads the dataset into shared variables\n",
    "\n",
    "        The reason we store our dataset in shared variables is to allow\n",
    "        Theano to copy it into the GPU memory (when code is run on GPU).\n",
    "        Since copying data into the GPU is slow, copying a minibatch everytime\n",
    "        is needed (the default behaviour if the data is not in a shared\n",
    "        variable) would lead to a large decrease in performance.\n",
    "        \"\"\"\n",
    "        data_x, data_y = data_xy\n",
    "        shared_x = theano.shared(numpy.asarray(data_x,\n",
    "                                               dtype=theano.config.floatX),\n",
    "                                 borrow=borrow)\n",
    "        shared_y = theano.shared(numpy.asarray(data_y,\n",
    "                                               dtype=theano.config.floatX),\n",
    "                                 borrow=borrow)\n",
    "        # When storing data on the GPU it has to be stored as floats\n",
    "        # therefore we will store the labels as ``floatX`` as well\n",
    "        # (``shared_y`` does exactly that). But during our computations\n",
    "        # we need them as ints (we use labels as index, and if they are\n",
    "        # floats it doesn't make sense) therefore instead of returning\n",
    "        # ``shared_y`` we will have to cast it to int. This little hack\n",
    "        # lets ous get around this issue\n",
    "        return shared_x, T.cast(shared_y, 'int32')\n",
    "\n",
    "    test_set_x, test_set_y = shared_dataset(test_set)\n",
    "    valid_set_x, valid_set_y = shared_dataset(valid_set)\n",
    "    train_set_x, train_set_y = shared_dataset(train_set)\n",
    "\n",
    "    rval = [(train_set_x, train_set_y), (valid_set_x, valid_set_y),\n",
    "            (test_set_x, test_set_y)]\n",
    "    return rval"
   ]
  },
  {
   "cell_type": "markdown",
   "metadata": {},
   "source": [
    "## Programming a multi-class logistic regression\n",
    "\n",
    "* The logistic regression is fully described by a weight matrix $\\vec{W}$ and bias vector $\\vec{b}$. \n",
    "* Classification is done by projecting data points onto a set of hyperplanes, the distance to which is used to determine a class membership probability."
   ]
  },
  {
   "cell_type": "code",
   "execution_count": 12,
   "metadata": {
    "collapsed": true
   },
   "outputs": [],
   "source": [
    "class LogisticRegression(object):\n",
    "\n",
    "    def __init__(self, input, n_in, n_out):\n",
    "        # initialize with 0 the weights W as a matrix of shape (n_in, n_out)\n",
    "        self.W = theano.shared(value=numpy.zeros((n_in, n_out), dtype=theano.config.floatX),\n",
    "                               name='W', borrow=True)\n",
    "        # initialize the biases b as a vector of n_out 0s\n",
    "        self.b = theano.shared(value=numpy.zeros((n_out,), dtype=theano.config.floatX), \n",
    "                               name='b', borrow=True)\n",
    "\n",
    "        # symbolic expression for computing the matrix of class-membership\n",
    "        # probabilities\n",
    "        # Where:\n",
    "        # W is a matrix where column-k represent the separation hyperplane for\n",
    "        # class-k\n",
    "        # x is a matrix where row-j  represents input training sample-j\n",
    "        # b is a vector where element-k represent the free parameter of\n",
    "        # hyperplane-k\n",
    "        self.p_y_given_x = T.nnet.softmax(T.dot(input, self.W) + self.b)\n",
    "\n",
    "        # symbolic description of how to compute prediction as class whose\n",
    "        # probability is maximal\n",
    "        self.y_pred = T.argmax(self.p_y_given_x, axis=1)\n",
    "\n",
    "        # parameters of the model\n",
    "        self.params = [self.W, self.b]\n",
    "\n",
    "        # keep track of model input\n",
    "        self.input = input\n",
    "\n",
    "    def negative_log_likelihood(self, y):\n",
    "        \"\"\"Return the mean of the negative log-likelihood of the prediction\n",
    "        of this model under a given target distribution.\n",
    "\n",
    "        Note: we use the mean instead of the sum so that\n",
    "              the learning rate is less dependent on the batch size\n",
    "        \"\"\"\n",
    "        return -T.mean(T.log(self.p_y_given_x)[T.arange(y.shape[0]), y])\n",
    "\n",
    "    def errors(self, y):\n",
    "        \"\"\"Return a float representing the number of errors in the minibatch\n",
    "        over the total number of examples of the minibatch ; zero one\n",
    "        loss over the size of the minibatch\n",
    "\n",
    "        :type y: theano.tensor.TensorType\n",
    "        :param y: corresponds to a vector that gives for each example the\n",
    "                  correct label\n",
    "        \"\"\"\n",
    "\n",
    "        # check if y has same dimension of y_pred\n",
    "        if y.ndim != self.y_pred.ndim:\n",
    "            raise TypeError(\n",
    "                'y should have the same shape as self.y_pred',\n",
    "                ('y', y.type, 'y_pred', self.y_pred.type)\n",
    "            )\n",
    "        # check if y is of the correct datatype\n",
    "        if y.dtype.startswith('int'):\n",
    "            # the T.neq operator returns a vector of 0s and 1s, where 1\n",
    "            # represents a mistake in prediction\n",
    "            return T.mean(T.neq(self.y_pred, y))\n",
    "        else:\n",
    "            raise NotImplementedError()"
   ]
  },
  {
   "cell_type": "code",
   "execution_count": 13,
   "metadata": {
    "collapsed": true
   },
   "outputs": [],
   "source": [
    "learning_rate=0.13\n",
    "n_epochs=1000\n",
    "dataset='mnist.pkl.gz'\n",
    "batch_size=600"
   ]
  },
  {
   "cell_type": "markdown",
   "metadata": {},
   "source": [
    "Loading data"
   ]
  },
  {
   "cell_type": "code",
   "execution_count": 14,
   "metadata": {
    "collapsed": false
   },
   "outputs": [],
   "source": [
    "datasets = load_data(dataset)\n",
    "\n",
    "train_set_x, train_set_y = datasets[0]\n",
    "valid_set_x, valid_set_y = datasets[1]\n",
    "test_set_x, test_set_y = datasets[2]"
   ]
  },
  {
   "cell_type": "markdown",
   "metadata": {},
   "source": [
    "Compute number of minibatches for training, validation and testing"
   ]
  },
  {
   "cell_type": "code",
   "execution_count": 15,
   "metadata": {
    "collapsed": true
   },
   "outputs": [],
   "source": [
    "n_train_batches = train_set_x.get_value(borrow=True).shape[0] // batch_size\n",
    "n_valid_batches = valid_set_x.get_value(borrow=True).shape[0] // batch_size\n",
    "n_test_batches = test_set_x.get_value(borrow=True).shape[0] // batch_size"
   ]
  },
  {
   "cell_type": "code",
   "execution_count": 16,
   "metadata": {
    "collapsed": true
   },
   "outputs": [],
   "source": [
    "# allocate symbolic variables for the data\n",
    "index = T.lscalar()  # index to a [mini]batch\n",
    "\n",
    "# generate symbolic variables for input (x and y represent a\n",
    "# minibatch)\n",
    "x = T.matrix('x')  # data, presented as rasterized images\n",
    "y = T.ivector('y')  # labels, presented as 1D vector of [int] labels"
   ]
  },
  {
   "cell_type": "markdown",
   "metadata": {},
   "source": [
    "Construct the logistic regression class instance"
   ]
  },
  {
   "cell_type": "code",
   "execution_count": 17,
   "metadata": {
    "collapsed": true
   },
   "outputs": [],
   "source": [
    "classifier = LogisticRegression(input=x, n_in=28 * 28, n_out=10)"
   ]
  },
  {
   "cell_type": "markdown",
   "metadata": {},
   "source": [
    "The cost function (error or loss function) we minimize during training is the negative log likelihood of the model in symbolic format."
   ]
  },
  {
   "cell_type": "code",
   "execution_count": 18,
   "metadata": {
    "collapsed": true
   },
   "outputs": [],
   "source": [
    "cost = classifier.negative_log_likelihood(y)"
   ]
  },
  {
   "cell_type": "markdown",
   "metadata": {},
   "source": [
    "Compiling a Theano function that computes the mistakes that are made by the model on a validation minibatch."
   ]
  },
  {
   "cell_type": "code",
   "execution_count": 19,
   "metadata": {
    "collapsed": true
   },
   "outputs": [],
   "source": [
    "validate_model = theano.function(inputs=[index], outputs=classifier.errors(y),\n",
    "                                 givens={x: valid_set_x[index * batch_size: (index + 1) * batch_size],\n",
    "                                         y: valid_set_y[index * batch_size: (index + 1) * batch_size]})"
   ]
  },
  {
   "cell_type": "markdown",
   "metadata": {},
   "source": [
    "A similar function for testing"
   ]
  },
  {
   "cell_type": "code",
   "execution_count": 20,
   "metadata": {
    "collapsed": true
   },
   "outputs": [],
   "source": [
    "test_model = theano.function(inputs=[index], outputs=classifier.errors(y),\n",
    "                             givens={x: test_set_x[index * batch_size: (index + 1) * batch_size],\n",
    "                                     y: test_set_y[index * batch_size: (index + 1) * batch_size]})"
   ]
  },
  {
   "cell_type": "code",
   "execution_count": 21,
   "metadata": {
    "collapsed": true
   },
   "outputs": [],
   "source": [
    "train_set_loss = theano.function(inputs=[index], outputs=classifier.errors(y),\n",
    "                                 givens={x: train_set_x[index * batch_size: (index + 1) * batch_size],\n",
    "                                         y: train_set_y[index * batch_size: (index + 1) * batch_size]})"
   ]
  },
  {
   "cell_type": "markdown",
   "metadata": {},
   "source": [
    "Compute the gradient of cost with respect to $\\vec{W}$ and $\\vec{b}$."
   ]
  },
  {
   "cell_type": "code",
   "execution_count": 22,
   "metadata": {
    "collapsed": true
   },
   "outputs": [],
   "source": [
    "g_W = T.grad(cost=cost, wrt=classifier.W)\n",
    "g_b = T.grad(cost=cost, wrt=classifier.b)"
   ]
  },
  {
   "cell_type": "markdown",
   "metadata": {},
   "source": [
    "Specify how to update the parameters of the model as a list of (variable, update expression) pairs."
   ]
  },
  {
   "cell_type": "code",
   "execution_count": 23,
   "metadata": {
    "collapsed": true
   },
   "outputs": [],
   "source": [
    "updates = [(classifier.W, classifier.W - learning_rate * g_W),\n",
    "           (classifier.b, classifier.b - learning_rate * g_b)]"
   ]
  },
  {
   "cell_type": "markdown",
   "metadata": {},
   "source": [
    "Compiling a Theano function `train_model` that returns the cost, but in the same time updates the parameter of the model based on the rules\n",
    "defined in `updates`"
   ]
  },
  {
   "cell_type": "code",
   "execution_count": 24,
   "metadata": {
    "collapsed": true
   },
   "outputs": [],
   "source": [
    "train_model = theano.function(inputs=[index], outputs=cost, updates=updates,\n",
    "                              givens={x: train_set_x[index * batch_size: (index + 1) * batch_size],\n",
    "                                      y: train_set_y[index * batch_size: (index + 1) * batch_size]})"
   ]
  },
  {
   "cell_type": "markdown",
   "metadata": {},
   "source": [
    "All set! we are ready for training."
   ]
  },
  {
   "cell_type": "code",
   "execution_count": 25,
   "metadata": {
    "collapsed": false,
    "scrolled": false
   },
   "outputs": [],
   "source": [
    "def train(classifier, train_model, validate_model, test_model, n_epochs, \n",
    "          n_train_batches, n_valid_batches, n_test_batches, \n",
    "          validation_frequency, patience=5000,\n",
    "          patience_increase=2, improvement_threshold=0.995,\n",
    "          verbose=False, log_results=False):\n",
    "    train_errors = []\n",
    "    validation_errors = []\n",
    "    test_errors = []\n",
    "    \n",
    "    epoch = 0\n",
    "    done_looping = False\n",
    "    \n",
    "    best_validation_loss = numpy.inf\n",
    "    test_score = 0.\n",
    "    while epoch < n_epochs and not done_looping:\n",
    "        epoch = epoch + 1\n",
    "        for minibatch_index in range(n_train_batches):\n",
    "            minibatch_avg_cost = train_model(minibatch_index)\n",
    "            # iteration number\n",
    "            iter_num = (epoch - 1) * n_train_batches + minibatch_index\n",
    "\n",
    "            # is it time to compute the validation set error?\n",
    "            if (iter_num + 1) % validation_frequency == 0:\n",
    "                validation_losses = [validate_model(i) for i in range(n_valid_batches)]\n",
    "                current_validation_loss = numpy.mean(validation_losses)\n",
    "\n",
    "                if log_results:\n",
    "                    # test it on the test set\n",
    "                    test_losses = [test_model(i) for i in range(n_test_batches)]\n",
    "                    current_test_loss = numpy.mean(test_losses)\n",
    "\n",
    "                    # test it on the trainig set\n",
    "                    train_losses = [train_set_loss(i) for i in range(n_train_batches)]\n",
    "                    current_train_loss = numpy.mean(train_losses)\n",
    "\n",
    "                    train_errors += [current_train_loss]\n",
    "                    validation_errors += [current_validation_loss]\n",
    "                    test_errors += [current_test_loss]\n",
    "\n",
    "                if verbose:\n",
    "                    print('epoch %i, minibatch %i/%i, validation error %f%%' %\n",
    "                          (epoch, minibatch_index + 1, n_train_batches, current_validation_loss * 100.))\n",
    "\n",
    "                # if we got the best validation score until now\n",
    "                if current_validation_loss < best_validation_loss:\n",
    "                    #improve patience if loss improvement is good enough\n",
    "                    if current_validation_loss < best_validation_loss * improvement_threshold:\n",
    "                        patience = max(patience, iter_num * patience_increase)\n",
    "\n",
    "                    best_validation_loss = current_validation_loss\n",
    "                    ## save the best model\n",
    "                    # with open('best_model.pkl', 'wb') as f:\n",
    "                    #     pickle.dump(classifier, f)\n",
    "\n",
    "            if patience <= iter_num:\n",
    "                print('Ran out of patience!')\n",
    "                done_looping = True\n",
    "                break\n",
    "    return train_errors, validation_errors, test_errors"
   ]
  },
  {
   "cell_type": "code",
   "execution_count": 26,
   "metadata": {
    "collapsed": true
   },
   "outputs": [],
   "source": [
    "patience = 5000  # look as this many examples regardless\n",
    "patience_increase = 2  # wait this much longer when a new best is found\n",
    "improvement_threshold = 0.995  # a relative improvement of this much is\n",
    "                               # considered significant\n",
    "validation_frequency = min(n_train_batches, patience // 2)\n",
    "                              # go through this many\n",
    "                              # minibatches before checking the network\n",
    "                              # on the validation set; in this case we\n",
    "                              # check every epoch\n",
    "n_epochs = 100"
   ]
  },
  {
   "cell_type": "code",
   "execution_count": 27,
   "metadata": {
    "collapsed": false
   },
   "outputs": [
    {
     "name": "stdout",
     "output_type": "stream",
     "text": [
      "epoch 1, minibatch 83/83, validation error 12.458333%\n",
      "epoch 2, minibatch 83/83, validation error 11.010417%\n",
      "epoch 3, minibatch 83/83, validation error 10.312500%\n",
      "epoch 4, minibatch 83/83, validation error 9.875000%\n",
      "epoch 5, minibatch 83/83, validation error 9.562500%\n",
      "epoch 6, minibatch 83/83, validation error 9.322917%\n",
      "epoch 7, minibatch 83/83, validation error 9.187500%\n",
      "epoch 8, minibatch 83/83, validation error 8.989583%\n",
      "epoch 9, minibatch 83/83, validation error 8.937500%\n",
      "epoch 10, minibatch 83/83, validation error 8.750000%\n",
      "epoch 11, minibatch 83/83, validation error 8.666667%\n",
      "epoch 12, minibatch 83/83, validation error 8.583333%\n",
      "epoch 13, minibatch 83/83, validation error 8.489583%\n",
      "epoch 14, minibatch 83/83, validation error 8.427083%\n",
      "epoch 15, minibatch 83/83, validation error 8.354167%\n",
      "epoch 16, minibatch 83/83, validation error 8.302083%\n",
      "epoch 17, minibatch 83/83, validation error 8.250000%\n",
      "epoch 18, minibatch 83/83, validation error 8.229167%\n",
      "epoch 19, minibatch 83/83, validation error 8.260417%\n",
      "epoch 20, minibatch 83/83, validation error 8.260417%\n",
      "epoch 21, minibatch 83/83, validation error 8.208333%\n",
      "epoch 22, minibatch 83/83, validation error 8.187500%\n",
      "epoch 23, minibatch 83/83, validation error 8.156250%\n",
      "epoch 24, minibatch 83/83, validation error 8.114583%\n",
      "epoch 25, minibatch 83/83, validation error 8.093750%\n",
      "epoch 26, minibatch 83/83, validation error 8.104167%\n",
      "epoch 27, minibatch 83/83, validation error 8.104167%\n",
      "epoch 28, minibatch 83/83, validation error 8.052083%\n",
      "epoch 29, minibatch 83/83, validation error 8.052083%\n",
      "epoch 30, minibatch 83/83, validation error 8.031250%\n",
      "epoch 31, minibatch 83/83, validation error 8.010417%\n",
      "epoch 32, minibatch 83/83, validation error 7.979167%\n",
      "epoch 33, minibatch 83/83, validation error 7.947917%\n",
      "epoch 34, minibatch 83/83, validation error 7.875000%\n",
      "epoch 35, minibatch 83/83, validation error 7.885417%\n",
      "epoch 36, minibatch 83/83, validation error 7.843750%\n",
      "epoch 37, minibatch 83/83, validation error 7.802083%\n",
      "epoch 38, minibatch 83/83, validation error 7.812500%\n",
      "epoch 39, minibatch 83/83, validation error 7.812500%\n",
      "epoch 40, minibatch 83/83, validation error 7.822917%\n",
      "epoch 41, minibatch 83/83, validation error 7.791667%\n",
      "epoch 42, minibatch 83/83, validation error 7.770833%\n",
      "epoch 43, minibatch 83/83, validation error 7.750000%\n",
      "epoch 44, minibatch 83/83, validation error 7.739583%\n",
      "epoch 45, minibatch 83/83, validation error 7.739583%\n",
      "epoch 46, minibatch 83/83, validation error 7.739583%\n",
      "epoch 47, minibatch 83/83, validation error 7.739583%\n",
      "epoch 48, minibatch 83/83, validation error 7.708333%\n",
      "epoch 49, minibatch 83/83, validation error 7.677083%\n",
      "epoch 50, minibatch 83/83, validation error 7.677083%\n",
      "epoch 51, minibatch 83/83, validation error 7.677083%\n",
      "epoch 52, minibatch 83/83, validation error 7.656250%\n",
      "epoch 53, minibatch 83/83, validation error 7.656250%\n",
      "epoch 54, minibatch 83/83, validation error 7.635417%\n",
      "epoch 55, minibatch 83/83, validation error 7.635417%\n",
      "epoch 56, minibatch 83/83, validation error 7.635417%\n",
      "epoch 57, minibatch 83/83, validation error 7.604167%\n",
      "epoch 58, minibatch 83/83, validation error 7.583333%\n",
      "epoch 59, minibatch 83/83, validation error 7.572917%\n",
      "epoch 60, minibatch 83/83, validation error 7.572917%\n",
      "epoch 61, minibatch 83/83, validation error 7.583333%\n",
      "epoch 62, minibatch 83/83, validation error 7.572917%\n",
      "epoch 63, minibatch 83/83, validation error 7.562500%\n",
      "epoch 64, minibatch 83/83, validation error 7.572917%\n",
      "epoch 65, minibatch 83/83, validation error 7.562500%\n",
      "epoch 66, minibatch 83/83, validation error 7.552083%\n",
      "epoch 67, minibatch 83/83, validation error 7.552083%\n",
      "epoch 68, minibatch 83/83, validation error 7.531250%\n",
      "epoch 69, minibatch 83/83, validation error 7.531250%\n",
      "epoch 70, minibatch 83/83, validation error 7.510417%\n",
      "epoch 71, minibatch 83/83, validation error 7.520833%\n",
      "epoch 72, minibatch 83/83, validation error 7.510417%\n",
      "epoch 73, minibatch 83/83, validation error 7.500000%\n",
      "Ran out of patience!\n",
      "CPU times: user 38.5 s, sys: 1.19 s, total: 39.7 s\n",
      "Wall time: 14.5 s\n"
     ]
    }
   ],
   "source": [
    "%%time\n",
    "train_errors, validation_errors, test_errors = train(classifier, train_model, validate_model, test_model, \n",
    "                                                     n_epochs, \n",
    "                                                     n_train_batches, n_valid_batches, n_test_batches, \n",
    "                                                     validation_frequency, verbose=True,\n",
    "                                                     log_results=True)"
   ]
  },
  {
   "cell_type": "code",
   "execution_count": 28,
   "metadata": {
    "collapsed": false
   },
   "outputs": [
    {
     "data": {
      "text/plain": [
       "<matplotlib.text.Text at 0x1185f54e0>"
      ]
     },
     "execution_count": 28,
     "metadata": {},
     "output_type": "execute_result"
    },
    {
     "data": {
      "image/png": "[encoded data removed]",
      "text/plain": [
       "<matplotlib.figure.Figure at 0x118a67128>"
      ]
     },
     "metadata": {
      "image/png": {
       "height": 273,
       "width": 396
      }
     },
     "output_type": "display_data"
    }
   ],
   "source": [
    "plt.plot(train_errors, label='Training set')\n",
    "plt.plot(validation_errors, label='Validation set')\n",
    "plt.plot(test_errors, label='Test set')\n",
    "plt.legend(loc='best', frameon=True);\n",
    "plt.xlabel('Epochs');plt.ylabel('Error')"
   ]
  },
  {
   "cell_type": "markdown",
   "metadata": {
    "collapsed": true
   },
   "source": [
    "## Programming Multilayer Perceptron"
   ]
  },
  {
   "cell_type": "markdown",
   "metadata": {
    "collapsed": false
   },
   "source": [
    "We need to start by defining a hidden layer.\n",
    "\n",
    "Typical hidden layer of a MLP: units are fully-connected and have sigmoidal activation function. Weight matrix W is of shape (n_in,n_out) and the bias vector b is of shape (n_out,).\n",
    "\n",
    "**Note**: \n",
    "* The nonlinearity used here is $\\tanh()$\n",
    "* Hidden unit output is given by: `tanh(dot(input,W) + b)`."
   ]
  },
  {
   "cell_type": "code",
   "execution_count": 29,
   "metadata": {
    "collapsed": true
   },
   "outputs": [],
   "source": [
    "class HiddenLayer():\n",
    "    def __init__(self, rng, input, n_in, n_out, W=None, b=None,\n",
    "                 activation=T.tanh):\n",
    "        \"\"\"\n",
    "        :type rng: numpy.random.RandomState\n",
    "        :param rng: a random number generator used to initialize weights\n",
    "\n",
    "        :type input: theano.tensor.dmatrix\n",
    "        :param input: a symbolic tensor of shape (n_examples, n_in)\n",
    "\n",
    "        :type n_in: int\n",
    "        :param n_in: dimensionality of input\n",
    "\n",
    "        :type n_out: int\n",
    "        :param n_out: number of hidden units\n",
    "\n",
    "        :type activation: theano.Op or function\n",
    "        :param activation: Non linearity to be applied in the hidden\n",
    "                           layer\n",
    "        \"\"\"\n",
    "        self.input = input\n",
    "\n",
    "        # `W` is initialized with `W_values` which is uniformely sampled\n",
    "        # from sqrt(-6./(n_in+n_hidden)) and sqrt(6./(n_in+n_hidden))\n",
    "        # for tanh activation function\n",
    "        # the output of uniform if converted using asarray to dtype\n",
    "        # theano.config.floatX so that the code is runable on GPU\n",
    "        # Note : optimal initialization of weights is dependent on the\n",
    "        #        activation function used (among other things).\n",
    "        #        For example, results presented in [Xavier10] suggest that you\n",
    "        #        should use 4 times larger initial weights for sigmoid\n",
    "        #        compared to tanh\n",
    "        #        We have no info for other function, so we use the same as\n",
    "        #        tanh.\n",
    "        if W is None:\n",
    "            W_values = numpy.asarray(\n",
    "                rng.uniform(\n",
    "                    low=-numpy.sqrt(6. / (n_in + n_out)),\n",
    "                    high=numpy.sqrt(6. / (n_in + n_out)),\n",
    "                    size=(n_in, n_out)\n",
    "                ),\n",
    "                dtype=theano.config.floatX\n",
    "            )\n",
    "            if activation == theano.tensor.nnet.sigmoid:\n",
    "                W_values *= 4\n",
    "\n",
    "            W = theano.shared(value=W_values, name='W', borrow=True)\n",
    "\n",
    "        if b is None:\n",
    "            b_values = numpy.zeros((n_out,), dtype=theano.config.floatX)\n",
    "            b = theano.shared(value=b_values, name='b', borrow=True)\n",
    "\n",
    "        self.W = W\n",
    "        self.b = b\n",
    "\n",
    "        lin_output = T.dot(input, self.W) + self.b\n",
    "        self.output = (\n",
    "            lin_output if activation is None\n",
    "            else activation(lin_output)\n",
    "        )\n",
    "        # parameters of the model\n",
    "        self.params = [self.W, self.b]"
   ]
  },
  {
   "cell_type": "markdown",
   "metadata": {},
   "source": [
    "## Multi-Layer Perceptron Class\n",
    "\n",
    "A multilayer perceptron is a feedforward artificial neural network model that has one layer or more of hidden units and nonlinear activations. Intermediate layers usually have as activation function tanh or the sigmoid function (defined here by a ``HiddenLayer`` class)  while the top layer is a softmax layer (defined here by a ``LogisticRegression`` class)."
   ]
  },
  {
   "cell_type": "markdown",
   "metadata": {},
   "source": [
    "The softmax function, or normalized exponential, is a generalization of the logistic function that \"squashes\" a $K$-dimensional vector $\\vec{z}$ of arbitrary real values to a $K$-dimensional vector $\\sigma(\\vec{z})$ of real values in the range (0, 1) that add up to 1. The function is given by\n",
    "\n",
    "$$\n",
    "\\sigma(\\mathbf{z})_j = \\frac{e^{z_j}}{\\sum_{k=1}^K e^{z_k}}\\quad    \\text{for}\\ j = 1,\\ldots, K.\n",
    "$$"
   ]
  },
  {
   "cell_type": "code",
   "execution_count": 30,
   "metadata": {
    "collapsed": true
   },
   "outputs": [],
   "source": [
    "class MLP:\n",
    "    def __init__(self, rng, input, n_in, n_hidden, n_out, activation=T.tanh):\n",
    "        \"\"\"Initialize the parameters for the multilayer perceptron\n",
    "\n",
    "        :type rng: numpy.random.RandomState\n",
    "        :param rng: a random number generator used to initialize weights\n",
    "\n",
    "        :type input: theano.tensor.TensorType\n",
    "        :param input: symbolic variable that describes the input of the\n",
    "        architecture (one minibatch)\n",
    "\n",
    "        :type n_in: int\n",
    "        :param n_in: number of input units, the dimension of the space in\n",
    "        which the datapoints lie\n",
    "\n",
    "        :type n_hidden: int\n",
    "        :param n_hidden: number of hidden units\n",
    "\n",
    "        :type n_out: int\n",
    "        :param n_out: number of output units, the dimension of the space in\n",
    "        which the labels lie\n",
    "        \"\"\"\n",
    "\n",
    "        # Since we are dealing with a one hidden layer MLP, this will translate\n",
    "        # into a HiddenLayer with a tanh activation function connected to the\n",
    "        # LogisticRegression layer; the activation function can be replaced by\n",
    "        # sigmoid or any other nonlinear function\n",
    "        self.hidden_layer = HiddenLayer(rng=rng, input=input, n_in=n_in, \n",
    "                                        n_out=n_hidden, activation=activation)\n",
    "\n",
    "        # The logistic regression layer gets as input the hidden units\n",
    "        # of the hidden layer\n",
    "        self.log_regression_layer = LogisticRegression(input=self.hidden_layer.output,\n",
    "                                                       n_in=n_hidden, n_out=n_out)\n",
    "\n",
    "        # L1 norm ; one regularization option is to enforce L1 norm to be small\n",
    "        self.L1 = abs(self.hidden_layer.W).sum() + abs(self.log_regression_layer.W).sum()\n",
    "\n",
    "        # square of L2 norm ; one regularization option is to enforce\n",
    "        # square of L2 norm to be small\n",
    "        self.L2_sqr = (self.hidden_layer.W ** 2).sum() + (self.log_regression_layer.W ** 2).sum()\n",
    "\n",
    "        # negative log likelihood of the MLP is given by the negative\n",
    "        # log likelihood of the output of the model, computed in the\n",
    "        # logistic regression layer\n",
    "        self.negative_log_likelihood = self.log_regression_layer.negative_log_likelihood\n",
    "        \n",
    "        # same holds for the function computing the number of errors\n",
    "        self.errors = self.log_regression_layer.errors\n",
    "\n",
    "        # the parameters of the model are the parameters of the two layer it is\n",
    "        # made out of\n",
    "        self.params = self.hidden_layer.params + self.log_regression_layer.params\n",
    "\n",
    "        # keep track of model input\n",
    "        self.input = input"
   ]
  },
  {
   "cell_type": "code",
   "execution_count": 94,
   "metadata": {
    "collapsed": true
   },
   "outputs": [],
   "source": [
    "dataset='mnist.pkl.gz'\n",
    "batch_size=30"
   ]
  },
  {
   "cell_type": "code",
   "execution_count": 95,
   "metadata": {
    "collapsed": false
   },
   "outputs": [],
   "source": [
    "datasets = load_data(dataset)"
   ]
  },
  {
   "cell_type": "code",
   "execution_count": 96,
   "metadata": {
    "collapsed": true
   },
   "outputs": [],
   "source": [
    "train_set_x, train_set_y = datasets[0]\n",
    "valid_set_x, valid_set_y = datasets[1]\n",
    "test_set_x, test_set_y = datasets[2]"
   ]
  },
  {
   "cell_type": "markdown",
   "metadata": {},
   "source": [
    "Compute number of minibatches for training, validation and testing"
   ]
  },
  {
   "cell_type": "code",
   "execution_count": 97,
   "metadata": {
    "collapsed": true
   },
   "outputs": [],
   "source": [
    "n_train_batches = train_set_x.get_value(borrow=True).shape[0] // batch_size\n",
    "n_valid_batches = valid_set_x.get_value(borrow=True).shape[0] // batch_size\n",
    "n_test_batches = test_set_x.get_value(borrow=True).shape[0] // batch_size"
   ]
  },
  {
   "cell_type": "code",
   "execution_count": 98,
   "metadata": {
    "collapsed": true
   },
   "outputs": [],
   "source": [
    "patience = 5000  # look as this many examples regardless\n",
    "validation_frequency = min(n_train_batches, patience // 2)\n",
    "                              # go through this many\n",
    "                              # minibatches before checking the network\n",
    "                              # on the validation set; in this case we\n",
    "                              # check every epoch"
   ]
  },
  {
   "cell_type": "markdown",
   "metadata": {},
   "source": [
    "Allocate symbolic variables for the data"
   ]
  },
  {
   "cell_type": "code",
   "execution_count": 99,
   "metadata": {
    "collapsed": true
   },
   "outputs": [],
   "source": [
    "index = T.lscalar()  # index to a [mini]batch\n",
    "x = T.matrix('x')  # the data is presented as rasterized images\n",
    "y = T.ivector('y')  # the labels are presented as 1D vector of [int] labels"
   ]
  },
  {
   "cell_type": "code",
   "execution_count": 100,
   "metadata": {
    "collapsed": true
   },
   "outputs": [],
   "source": [
    "rng = numpy.random.RandomState(1234)"
   ]
  },
  {
   "cell_type": "markdown",
   "metadata": {},
   "source": [
    "Creating the MLP class instance"
   ]
  },
  {
   "cell_type": "code",
   "execution_count": 101,
   "metadata": {
    "collapsed": true
   },
   "outputs": [],
   "source": [
    "learning_rate=0.01\n",
    "L1_reg=0.0001\n",
    "L2_reg=0.0001 \n",
    "n_epochs=100\n",
    "n_hidden=500"
   ]
  },
  {
   "cell_type": "code",
   "execution_count": 102,
   "metadata": {
    "collapsed": false
   },
   "outputs": [],
   "source": [
    "mlp = MLP(rng=rng, input=x, n_in=28 * 28, n_hidden=n_hidden, n_out=10)"
   ]
  },
  {
   "cell_type": "markdown",
   "metadata": {},
   "source": [
    "The cost we minimize during training is the negative log likelihood of the model plus the regularization terms (L1 and L2); cost is expressed here symbolically."
   ]
  },
  {
   "cell_type": "code",
   "execution_count": 103,
   "metadata": {
    "collapsed": true
   },
   "outputs": [],
   "source": [
    "cost = mlp.negative_log_likelihood(y) + L1_reg * mlp.L1 + L2_reg * mlp.L2_sqr"
   ]
  },
  {
   "cell_type": "markdown",
   "metadata": {},
   "source": [
    "Compiling a Theano function that computes the mistakes that are made by the model on a minibatch"
   ]
  },
  {
   "cell_type": "code",
   "execution_count": 104,
   "metadata": {
    "collapsed": true
   },
   "outputs": [],
   "source": [
    "test_model = theano.function(inputs=[index], outputs=mlp.errors(y),\n",
    "                             givens={x: test_set_x[index * batch_size:(index + 1) * batch_size],\n",
    "                                     y: test_set_y[index * batch_size:(index + 1) * batch_size]})"
   ]
  },
  {
   "cell_type": "code",
   "execution_count": 105,
   "metadata": {
    "collapsed": true
   },
   "outputs": [],
   "source": [
    "validate_model = theano.function(inputs=[index], outputs=mlp.errors(y),\n",
    "                                 givens={x: valid_set_x[index * batch_size:(index + 1) * batch_size],\n",
    "                                         y: valid_set_y[index * batch_size:(index + 1) * batch_size]})"
   ]
  },
  {
   "cell_type": "code",
   "execution_count": 106,
   "metadata": {
    "collapsed": true
   },
   "outputs": [],
   "source": [
    "train_set_loss = theano.function(inputs=[index], outputs=mlp.errors(y),\n",
    "                                 givens={x: train_set_x[index * batch_size: (index + 1) * batch_size],\n",
    "                                         y: train_set_y[index * batch_size: (index + 1) * batch_size]})"
   ]
  },
  {
   "cell_type": "markdown",
   "metadata": {},
   "source": [
    "Compute the gradient of cost with respect to the parameters (sorted in `classifier.params`) the resulting gradients will be stored in a list `gparams`."
   ]
  },
  {
   "cell_type": "code",
   "execution_count": 107,
   "metadata": {
    "collapsed": true
   },
   "outputs": [],
   "source": [
    "gparams = [T.grad(cost, param) for param in mlp.params]"
   ]
  },
  {
   "cell_type": "markdown",
   "metadata": {},
   "source": [
    "Specify how to update the parameters of the model as a list of `(variable, update expression)` pairs.\n",
    "\n",
    "* given two lists of the same length, `A = [a1, a2, a3, a4]` and `B = [b1, b2, b3, b4]`, `zip()` generates a list `C` of same size, where eachnelement is a pair formed from the two lists:\n",
    "```python\n",
    "C = [(a1, b1), (a2, b2), (a3, b3), (a4, b4)]\n",
    "```"
   ]
  },
  {
   "cell_type": "code",
   "execution_count": 108,
   "metadata": {
    "collapsed": true
   },
   "outputs": [],
   "source": [
    "updates = [(param, param - learning_rate * gparam) \n",
    "           for param, gparam in zip(mlp.params, gparams)]"
   ]
  },
  {
   "cell_type": "markdown",
   "metadata": {},
   "source": [
    "Compiling a Theano function `train_model` that returns the cost, and at the same time, updates the parameter of the model based on the rules\n",
    "defined in `updates`."
   ]
  },
  {
   "cell_type": "code",
   "execution_count": 109,
   "metadata": {
    "collapsed": true
   },
   "outputs": [],
   "source": [
    "train_model = theano.function(inputs=[index], outputs=cost, updates=updates,\n",
    "                              givens={x: train_set_x[index * batch_size: (index + 1) * batch_size],\n",
    "                                      y: train_set_y[index * batch_size: (index + 1) * batch_size]})"
   ]
  },
  {
   "cell_type": "code",
   "execution_count": 110,
   "metadata": {
    "collapsed": false,
    "scrolled": false
   },
   "outputs": [
    {
     "name": "stdout",
     "output_type": "stream",
     "text": [
      "epoch 1, minibatch 1666/1666, validation error 10.460460%\n",
      "epoch 2, minibatch 1666/1666, validation error 9.319319%\n",
      "epoch 3, minibatch 1666/1666, validation error 8.778779%\n",
      "epoch 4, minibatch 1666/1666, validation error 8.368368%\n",
      "epoch 5, minibatch 1666/1666, validation error 8.118118%\n",
      "epoch 6, minibatch 1666/1666, validation error 7.887888%\n",
      "epoch 7, minibatch 1666/1666, validation error 7.737738%\n",
      "epoch 8, minibatch 1666/1666, validation error 7.607608%\n",
      "epoch 9, minibatch 1666/1666, validation error 7.497497%\n",
      "epoch 10, minibatch 1666/1666, validation error 7.367367%\n",
      "epoch 11, minibatch 1666/1666, validation error 7.287287%\n",
      "epoch 12, minibatch 1666/1666, validation error 7.197197%\n",
      "epoch 13, minibatch 1666/1666, validation error 7.057057%\n",
      "epoch 14, minibatch 1666/1666, validation error 6.866867%\n",
      "epoch 15, minibatch 1666/1666, validation error 6.746747%\n",
      "epoch 16, minibatch 1666/1666, validation error 6.626627%\n",
      "epoch 17, minibatch 1666/1666, validation error 6.486486%\n",
      "epoch 18, minibatch 1666/1666, validation error 6.296296%\n",
      "epoch 19, minibatch 1666/1666, validation error 6.226226%\n",
      "epoch 20, minibatch 1666/1666, validation error 6.076076%\n",
      "epoch 21, minibatch 1666/1666, validation error 5.975976%\n",
      "epoch 22, minibatch 1666/1666, validation error 5.925926%\n",
      "epoch 23, minibatch 1666/1666, validation error 5.785786%\n",
      "epoch 24, minibatch 1666/1666, validation error 5.685686%\n",
      "epoch 25, minibatch 1666/1666, validation error 5.585586%\n",
      "epoch 26, minibatch 1666/1666, validation error 5.475475%\n",
      "epoch 27, minibatch 1666/1666, validation error 5.355355%\n",
      "epoch 28, minibatch 1666/1666, validation error 5.305305%\n",
      "epoch 29, minibatch 1666/1666, validation error 5.175175%\n",
      "epoch 30, minibatch 1666/1666, validation error 5.055055%\n",
      "epoch 31, minibatch 1666/1666, validation error 4.974975%\n",
      "epoch 32, minibatch 1666/1666, validation error 4.884885%\n",
      "epoch 33, minibatch 1666/1666, validation error 4.824825%\n",
      "epoch 34, minibatch 1666/1666, validation error 4.744745%\n",
      "epoch 35, minibatch 1666/1666, validation error 4.664665%\n",
      "epoch 36, minibatch 1666/1666, validation error 4.644645%\n",
      "epoch 37, minibatch 1666/1666, validation error 4.564565%\n",
      "epoch 38, minibatch 1666/1666, validation error 4.474474%\n",
      "epoch 39, minibatch 1666/1666, validation error 4.434434%\n",
      "epoch 40, minibatch 1666/1666, validation error 4.384384%\n",
      "epoch 41, minibatch 1666/1666, validation error 4.314314%\n",
      "epoch 42, minibatch 1666/1666, validation error 4.274274%\n",
      "epoch 43, minibatch 1666/1666, validation error 4.234234%\n",
      "epoch 44, minibatch 1666/1666, validation error 4.164164%\n",
      "epoch 45, minibatch 1666/1666, validation error 4.124124%\n",
      "epoch 46, minibatch 1666/1666, validation error 4.054054%\n",
      "epoch 47, minibatch 1666/1666, validation error 3.973974%\n",
      "epoch 48, minibatch 1666/1666, validation error 3.943944%\n",
      "epoch 49, minibatch 1666/1666, validation error 3.933934%\n",
      "epoch 50, minibatch 1666/1666, validation error 3.883884%\n",
      "epoch 51, minibatch 1666/1666, validation error 3.823824%\n",
      "epoch 52, minibatch 1666/1666, validation error 3.763764%\n",
      "epoch 53, minibatch 1666/1666, validation error 3.713714%\n",
      "epoch 54, minibatch 1666/1666, validation error 3.683684%\n",
      "epoch 55, minibatch 1666/1666, validation error 3.653654%\n",
      "epoch 56, minibatch 1666/1666, validation error 3.613614%\n",
      "epoch 57, minibatch 1666/1666, validation error 3.593594%\n",
      "epoch 58, minibatch 1666/1666, validation error 3.593594%\n",
      "epoch 59, minibatch 1666/1666, validation error 3.543544%\n",
      "epoch 60, minibatch 1666/1666, validation error 3.563564%\n",
      "epoch 61, minibatch 1666/1666, validation error 3.523524%\n",
      "epoch 62, minibatch 1666/1666, validation error 3.513514%\n",
      "epoch 63, minibatch 1666/1666, validation error 3.453453%\n",
      "epoch 64, minibatch 1666/1666, validation error 3.433433%\n",
      "epoch 65, minibatch 1666/1666, validation error 3.393393%\n",
      "epoch 66, minibatch 1666/1666, validation error 3.373373%\n",
      "epoch 67, minibatch 1666/1666, validation error 3.343343%\n",
      "epoch 68, minibatch 1666/1666, validation error 3.313313%\n",
      "epoch 69, minibatch 1666/1666, validation error 3.313313%\n",
      "epoch 70, minibatch 1666/1666, validation error 3.273273%\n",
      "epoch 71, minibatch 1666/1666, validation error 3.223223%\n",
      "epoch 72, minibatch 1666/1666, validation error 3.203203%\n",
      "epoch 73, minibatch 1666/1666, validation error 3.183183%\n",
      "epoch 74, minibatch 1666/1666, validation error 3.173173%\n",
      "epoch 75, minibatch 1666/1666, validation error 3.163163%\n",
      "epoch 76, minibatch 1666/1666, validation error 3.123123%\n",
      "epoch 77, minibatch 1666/1666, validation error 3.123123%\n",
      "epoch 78, minibatch 1666/1666, validation error 3.093093%\n",
      "epoch 79, minibatch 1666/1666, validation error 3.063063%\n",
      "epoch 80, minibatch 1666/1666, validation error 3.043043%\n",
      "epoch 81, minibatch 1666/1666, validation error 3.013013%\n",
      "epoch 82, minibatch 1666/1666, validation error 3.003003%\n",
      "epoch 83, minibatch 1666/1666, validation error 3.003003%\n",
      "epoch 84, minibatch 1666/1666, validation error 2.972973%\n",
      "epoch 85, minibatch 1666/1666, validation error 2.942943%\n",
      "epoch 86, minibatch 1666/1666, validation error 2.902903%\n",
      "epoch 87, minibatch 1666/1666, validation error 2.892893%\n",
      "epoch 88, minibatch 1666/1666, validation error 2.882883%\n",
      "epoch 89, minibatch 1666/1666, validation error 2.862863%\n",
      "epoch 90, minibatch 1666/1666, validation error 2.852853%\n",
      "epoch 91, minibatch 1666/1666, validation error 2.842843%\n",
      "epoch 92, minibatch 1666/1666, validation error 2.812813%\n",
      "epoch 93, minibatch 1666/1666, validation error 2.822823%\n",
      "epoch 94, minibatch 1666/1666, validation error 2.812813%\n",
      "epoch 95, minibatch 1666/1666, validation error 2.802803%\n",
      "epoch 96, minibatch 1666/1666, validation error 2.782783%\n",
      "epoch 97, minibatch 1666/1666, validation error 2.772773%\n",
      "epoch 98, minibatch 1666/1666, validation error 2.762763%\n",
      "epoch 99, minibatch 1666/1666, validation error 2.762763%\n",
      "epoch 100, minibatch 1666/1666, validation error 2.742743%\n"
     ]
    }
   ],
   "source": [
    "%%time\n",
    "train_errors, validation_errors, test_errors = train(mlp, train_model, validate_model, test_model,\n",
    "                                                     n_epochs, \n",
    "                                                     n_train_batches, n_valid_batches, n_test_batches, \n",
    "                                                     validation_frequency, verbose=True, log_results=True)"
   ]
  },
  {
   "cell_type": "code",
   "execution_count": null,
   "metadata": {
    "collapsed": false
   },
   "outputs": [],
   "source": [
    "plt.plot(train_errors, label='Training')\n",
    "plt.plot(validation_errors, label='Validation')\n",
    "plt.plot(test_errors, label='Test')\n",
    "plt.legend(loc='best', frameon=True);\n",
    "plt.xlabel('Epochs');plt.ylabel('Error')"
   ]
  },
  {
   "cell_type": "markdown",
   "metadata": {},
   "source": [
    "## Improvement 1: Rectified Linear Unit activation"
   ]
  },
  {
   "cell_type": "code",
   "execution_count": null,
   "metadata": {
    "collapsed": true
   },
   "outputs": [],
   "source": [
    "def relu(x):\n",
    "    return x * (x > 0)"
   ]
  },
  {
   "cell_type": "code",
   "execution_count": null,
   "metadata": {
    "collapsed": false
   },
   "outputs": [],
   "source": [
    "rng = numpy.random.RandomState(1234)\n",
    "\n",
    "mlp_relu = MLP(rng=rng, input=x, n_in=28*28,\n",
    "               n_hidden=n_hidden, n_out=10, activation=relu)"
   ]
  },
  {
   "cell_type": "code",
   "execution_count": null,
   "metadata": {
    "collapsed": true
   },
   "outputs": [],
   "source": [
    "cost = mlp_relu.negative_log_likelihood(y) + L1_reg * mlp_relu.L1 + L2_reg * mlp_relu.L2_sqr"
   ]
  },
  {
   "cell_type": "markdown",
   "metadata": {},
   "source": [
    "Compiling a Theano function that computes the mistakes that are made by the model on a minibatch"
   ]
  },
  {
   "cell_type": "code",
   "execution_count": null,
   "metadata": {
    "collapsed": true
   },
   "outputs": [],
   "source": [
    "test_model = theano.function(inputs=[index], outputs=mlp_relu.errors(y),\n",
    "                             givens={x: test_set_x[index * batch_size:(index + 1) * batch_size],\n",
    "                                     y: test_set_y[index * batch_size:(index + 1) * batch_size]})"
   ]
  },
  {
   "cell_type": "code",
   "execution_count": null,
   "metadata": {
    "collapsed": true
   },
   "outputs": [],
   "source": [
    "validate_model = theano.function(inputs=[index], outputs=mlp_relu.errors(y),\n",
    "                                 givens={x: valid_set_x[index * batch_size:(index + 1) * batch_size],\n",
    "                                         y: valid_set_y[index * batch_size:(index + 1) * batch_size]})"
   ]
  },
  {
   "cell_type": "code",
   "execution_count": null,
   "metadata": {
    "collapsed": true
   },
   "outputs": [],
   "source": [
    "train_set_loss = theano.function(inputs=[index], outputs=mlp_relu.errors(y),\n",
    "                                 givens={x: train_set_x[index * batch_size: (index + 1) * batch_size],\n",
    "                                         y: train_set_y[index * batch_size: (index + 1) * batch_size]})"
   ]
  },
  {
   "cell_type": "markdown",
   "metadata": {},
   "source": [
    "Compute the gradient of cost with respect to the parameters (sorted in `classifier.params`) the resulting gradients will be stored in a list `gparams`."
   ]
  },
  {
   "cell_type": "code",
   "execution_count": null,
   "metadata": {
    "collapsed": true
   },
   "outputs": [],
   "source": [
    "gparams = [T.grad(cost, param) for param in mlp_relu.params]"
   ]
  },
  {
   "cell_type": "markdown",
   "metadata": {},
   "source": [
    "Specify how to update the parameters of the model as a list of `(variable, update expression)` pairs.\n",
    "\n",
    "* given two lists of the same length, `A = [a1, a2, a3, a4]` and `B = [b1, b2, b3, b4]`, `zip()` generates a list `C` of same size, where eachnelement is a pair formed from the two lists:\n",
    "```python\n",
    "C = [(a1, b1), (a2, b2), (a3, b3), (a4, b4)]\n",
    "```"
   ]
  },
  {
   "cell_type": "code",
   "execution_count": null,
   "metadata": {
    "collapsed": true
   },
   "outputs": [],
   "source": [
    "updates = [(param, param - learning_rate * gparam) \n",
    "           for param, gparam in zip(mlp_relu.params, gparams)]"
   ]
  },
  {
   "cell_type": "markdown",
   "metadata": {},
   "source": [
    "Compiling a Theano function `train_model` that returns the cost, and at the same time, updates the parameter of the model based on the rules\n",
    "defined in `updates`."
   ]
  },
  {
   "cell_type": "code",
   "execution_count": null,
   "metadata": {
    "collapsed": true
   },
   "outputs": [],
   "source": [
    "train_model = theano.function(inputs=[index], outputs=cost, updates=updates,\n",
    "                              givens={x: train_set_x[index * batch_size: (index + 1) * batch_size],\n",
    "                                      y: train_set_y[index * batch_size: (index + 1) * batch_size]})"
   ]
  },
  {
   "cell_type": "code",
   "execution_count": null,
   "metadata": {
    "collapsed": false
   },
   "outputs": [],
   "source": [
    "errors_relu = train(mlp_relu, train_model, validate_model, test_model, n_epochs, \n",
    "                    n_train_batches, n_valid_batches, n_test_batches, \n",
    "                    validation_frequency, verbose=True, log_results=True)"
   ]
  },
  {
   "cell_type": "code",
   "execution_count": null,
   "metadata": {
    "collapsed": true
   },
   "outputs": [],
   "source": [
    "train_errors_relu, validation_errors_relu, test_errors_relu = errors_relu"
   ]
  },
  {
   "cell_type": "code",
   "execution_count": null,
   "metadata": {
    "collapsed": false
   },
   "outputs": [],
   "source": [
    "plt.figure(figsize=(12,4))\n",
    "ax = plt.subplot(131)\n",
    "plt.plot(train_errors, label='Tanh')\n",
    "plt.plot(train_errors_relu, label='ReLU')\n",
    "plt.legend(loc='best', frameon=True)\n",
    "plt.xlabel('Epochs');plt.ylabel('Error')\n",
    "plt.title('Training set errors')\n",
    "plt.subplot(132, sharey=ax)\n",
    "plt.plot(validation_errors, label='Tanh')\n",
    "plt.plot(validation_errors_relu, label='ReLU')\n",
    "plt.legend(loc='best', frameon=True);\n",
    "plt.xlabel('Epochs')\n",
    "plt.title('Validation set errors')\n",
    "plt.subplot(133, sharey=ax)\n",
    "plt.plot(test_errors, label='Tanh')\n",
    "plt.plot(test_errors_relu, label='ReLU')\n",
    "plt.legend(loc='best', frameon=True);\n",
    "plt.xlabel('Epochs')\n",
    "plt.title('Test set errors');\n",
    "plt.tight_layout()"
   ]
  },
  {
   "cell_type": "markdown",
   "metadata": {},
   "source": [
    "## Your task:\n",
    "\n",
    "* Implement a MLP that can have different numbers of hidden layers.\n",
    "* Add the momentum term to gradients."
   ]
  },
  {
   "cell_type": "code",
   "execution_count": null,
   "metadata": {
    "collapsed": false
   },
   "outputs": [],
   "source": [
    "%load_ext version_information\n",
    "%version_information scipy, numpy, matplotlib, sklearn, theano"
   ]
  },
  {
   "cell_type": "code",
   "execution_count": null,
   "metadata": {
    "collapsed": false
   },
   "outputs": [],
   "source": [
    "# this code is here only for cosmetic reasons\n",
    "from IPython.core.display import HTML\n",
    "HTML(open('custom/custom.include', 'r').read())"
   ]
  },
  {
   "cell_type": "code",
   "execution_count": null,
   "metadata": {
    "collapsed": true
   },
   "outputs": [],
   "source": []
  }
 ],
 "metadata": {
  "kernelspec": {
   "display_name": "Python 3",
   "language": "python",
   "name": "python3"
  },
  "language_info": {
   "codemirror_mode": {
    "name": "ipython",
    "version": 3
   },
   "file_extension": ".py",
   "mimetype": "text/x-python",
   "name": "python",
   "nbconvert_exporter": "python",
   "pygments_lexer": "ipython3",
   "version": "3.5.1"
  }
 },
 "nbformat": 4,
 "nbformat_minor": 0
}
