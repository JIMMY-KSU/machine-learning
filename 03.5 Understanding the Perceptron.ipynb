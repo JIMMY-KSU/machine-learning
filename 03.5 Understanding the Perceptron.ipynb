{
 "cells": [
  {
   "cell_type": "markdown",
   "metadata": {
    "slideshow": {
     "slide_type": "slide"
    }
   },
   "source": [
    "<div align='left' style=\"width:400px;height:120px;overflow:hidden;\">\n",
    "<a href='http://www.uff.br'>\n",
    "<img align='left' style='display: block;height: 92%' src='imgs/UFF.png' alt='UFF logo' title='UFF logo'/>\n",
    "</a>\n",
    "<a href='http://www.ic.uff.br'>\n",
    "<img align='left' style='display: block;height: 100%' src='imgs/logo-ic.png' alt='IC logo' title='IC logo'/>\n",
    "</a>\n",
    "</div>"
   ]
  },
  {
   "cell_type": "markdown",
   "metadata": {},
   "source": [
    "# Machine Learning: Understanding the Perceptron"
   ]
  },
  {
   "cell_type": "markdown",
   "metadata": {},
   "source": [
    "### [Luis Martí](http://lmarti.com)\n",
    "#### [Instituto de Computação](http://www.ic.uff)\n",
    "#### [Universidade Federal Fluminense](http://www.uff.br)\n",
    "#### [`http://lmarti.com/2016-1-ml`](http://lmarti.com/2016-1-ml)"
   ]
  },
  {
   "cell_type": "markdown",
   "metadata": {
    "slideshow": {
     "slide_type": "slide"
    }
   },
   "source": [
    "In this notebook we are doing to study the [perceptron](https://en.wikipedia.org/wiki/Perceptron) and its learning algorithm.\n",
    "\n",
    "The perceptron is an algorithm for learning a binary classifier. That is a function that maps its input $\\newcommand{\\vec}[1]{\\mathbf{#1}}\\vec{x}\\in\\mathbb{R}^n$ (a real-valued vector) to an output value $f(\\vec{x})$ (a single binary value) as,\n",
    "\n",
    "$$\n",
    "f(\\vec{x}) = \\begin{cases}\n",
    "                1 & \\text{if }\\vec{w} \\cdot \\vec{x} + b > 0\\,,\\\\\n",
    "                0 & \\text{otherwise};\n",
    "             \\end{cases}\n",
    "$$\n",
    "\n",
    "where $\\vec{w}$ is a vector of real-valued *weights*, $\\vec{w} \\cdot \\vec{x}$ is the *dot product* $\\sum_{i=1}^n w_i x_i$, and $b$ is known as the *bias*. "
   ]
  },
  {
   "cell_type": "markdown",
   "metadata": {
    "slideshow": {
     "slide_type": "slide"
    }
   },
   "source": [
    "## Preparing the environment \n",
    "\n",
    "The environment used for the notebook is the following:"
   ]
  },
  {
   "cell_type": "code",
   "execution_count": 1,
   "metadata": {
    "collapsed": false,
    "slideshow": {
     "slide_type": "slide"
    }
   },
   "outputs": [],
   "source": [
    "import numpy as np\n",
    "import pandas as pd\n",
    "import matplotlib.pyplot as plt\n",
    "%matplotlib inline\n",
    "\n",
    "import random, itertools\n",
    "random.seed(a=42)"
   ]
  },
  {
   "cell_type": "markdown",
   "metadata": {},
   "source": [
    "*Note*: I am fixing a given random seed to always have a the same result. You should not do this in practice (nor in the exercises of the class). "
   ]
  },
  {
   "cell_type": "markdown",
   "metadata": {
    "slideshow": {
     "slide_type": "slide"
    }
   },
   "source": [
    "## Implementing the Perceptron"
   ]
  },
  {
   "cell_type": "markdown",
   "metadata": {},
   "source": [
    "We are going to start implementing a perceptron as a class. \n",
    "\n",
    "*Note*: Bear in mind that I have made the implementation as clear and easy to follow as possible and, therefore, I have sacrificed performance in the sake of clarity. There are many points where it can be improved."
   ]
  },
  {
   "cell_type": "code",
   "execution_count": 2,
   "metadata": {
    "collapsed": true,
    "slideshow": {
     "slide_type": "slide"
    }
   },
   "outputs": [],
   "source": [
    "class Perceptron:\n",
    "    'A simple Perceptron implementation.'\n",
    "    def __init__(self, weights, bias, alpha=0.1):\n",
    "        self.weights = weights\n",
    "        self.bias = bias\n",
    "        self.alpha = alpha\n",
    "    \n",
    "    def propagate(self, x):\n",
    "        return self.activation(self.net(x)) \n",
    "        \n",
    "    def activation(self, net):\n",
    "        if net > 0:\n",
    "            return 1\n",
    "        return 0\n",
    "    \n",
    "    def net(self, x):\n",
    "        return np.dot(self.weights, x) + self.bias\n",
    "    \n",
    "    def learn(self, x, y):\n",
    "        y_hat = self.propagate(x)\n",
    "        self.weights = [ w_i + self.alpha*x_i*(y-y_hat) for (w_i, x_i) in zip(self.weights, x)]\n",
    "        self.bias = self.bias + self.alpha*(y-y_hat)\n",
    "        return np.abs(y_hat - y)"
   ]
  },
  {
   "cell_type": "markdown",
   "metadata": {
    "slideshow": {
     "slide_type": "slide"
    }
   },
   "source": [
    "Perhaps the most tricky element of our `Perceptron` class is the `learn` method. \n",
    "\n",
    "It goes by calculating the prediction of the perceptron, $\\hat{y}$, as\n",
    "\n",
    "$$\\hat{y} = f[\\mathbf{w}\\cdot\\mathbf{x} + b] = f[ w_{1}x_{1} + w_2x_{2} + \\cdots + w_nx_{n}+b]\\,.$$\n",
    "\n",
    "After that, we update the weights and the bias using the perceptron rule:\n",
    "\n",
    "$$\n",
    "\\begin{align*}\n",
    "w_i & = w_i + \\alpha (y - \\hat{y}) x_{i} \\,,\\  i=1,\\ldots,n\\,;\\\\\n",
    "b & = b + \\alpha (y - \\hat{y})\\,.\n",
    "\\end{align*}\n",
    "$$\n",
    "\n",
    "Here $\\alpha\\in\\left(0,1\\right]$ is known as the *learning rate*."
   ]
  },
  {
   "cell_type": "markdown",
   "metadata": {
    "slideshow": {
     "slide_type": "slide"
    }
   },
   "source": [
    "## Preparing the data set\n",
    "\n",
    "After having the perceptron implementation ready we need an example data set.\n",
    "\n",
    "We are going to create a dataset containing random points such that $\\mathbf{x}\\in\\left[0,1\\right]^2$."
   ]
  },
  {
   "cell_type": "code",
   "execution_count": 3,
   "metadata": {
    "collapsed": true
   },
   "outputs": [],
   "source": [
    "size = 50 # size of data set"
   ]
  },
  {
   "cell_type": "code",
   "execution_count": 4,
   "metadata": {
    "collapsed": false
   },
   "outputs": [],
   "source": [
    "data = pd.DataFrame(columns=('$x_1$', '$x_2$'),\n",
    "                    data=np.random.uniform(size=(size,2)))"
   ]
  },
  {
   "cell_type": "markdown",
   "metadata": {
    "slideshow": {
     "slide_type": "slide"
    }
   },
   "source": [
    "So far, our data set looks like this (we are showning only the first ten elements):"
   ]
  },
  {
   "cell_type": "code",
   "execution_count": 5,
   "metadata": {
    "collapsed": false
   },
   "outputs": [
    {
     "data": {
      "text/html": [
       "<div>\n",
       "<table border=\"1\" class=\"dataframe\">\n",
       "  <thead>\n",
       "    <tr style=\"text-align: right;\">\n",
       "      <th></th>\n",
       "      <th>$x_1$</th>\n",
       "      <th>$x_2$</th>\n",
       "    </tr>\n",
       "  </thead>\n",
       "  <tbody>\n",
       "    <tr>\n",
       "      <th>0</th>\n",
       "      <td>0.950918</td>\n",
       "      <td>0.449202</td>\n",
       "    </tr>\n",
       "    <tr>\n",
       "      <th>1</th>\n",
       "      <td>0.908570</td>\n",
       "      <td>0.912950</td>\n",
       "    </tr>\n",
       "    <tr>\n",
       "      <th>2</th>\n",
       "      <td>0.886911</td>\n",
       "      <td>0.318883</td>\n",
       "    </tr>\n",
       "    <tr>\n",
       "      <th>3</th>\n",
       "      <td>0.889800</td>\n",
       "      <td>0.037656</td>\n",
       "    </tr>\n",
       "    <tr>\n",
       "      <th>4</th>\n",
       "      <td>0.405421</td>\n",
       "      <td>0.691890</td>\n",
       "    </tr>\n",
       "    <tr>\n",
       "      <th>5</th>\n",
       "      <td>0.905249</td>\n",
       "      <td>0.425809</td>\n",
       "    </tr>\n",
       "    <tr>\n",
       "      <th>6</th>\n",
       "      <td>0.862511</td>\n",
       "      <td>0.896763</td>\n",
       "    </tr>\n",
       "    <tr>\n",
       "      <th>7</th>\n",
       "      <td>0.751103</td>\n",
       "      <td>0.590287</td>\n",
       "    </tr>\n",
       "    <tr>\n",
       "      <th>8</th>\n",
       "      <td>0.847127</td>\n",
       "      <td>0.779482</td>\n",
       "    </tr>\n",
       "    <tr>\n",
       "      <th>9</th>\n",
       "      <td>0.253897</td>\n",
       "      <td>0.004847</td>\n",
       "    </tr>\n",
       "  </tbody>\n",
       "</table>\n",
       "</div>"
      ],
      "text/plain": [
       "      $x_1$     $x_2$\n",
       "0  0.950918  0.449202\n",
       "1  0.908570  0.912950\n",
       "2  0.886911  0.318883\n",
       "3  0.889800  0.037656\n",
       "4  0.405421  0.691890\n",
       "5  0.905249  0.425809\n",
       "6  0.862511  0.896763\n",
       "7  0.751103  0.590287\n",
       "8  0.847127  0.779482\n",
       "9  0.253897  0.004847"
      ]
     },
     "execution_count": 5,
     "metadata": {},
     "output_type": "execute_result"
    }
   ],
   "source": [
    "data.head(10)"
   ]
  },
  {
   "cell_type": "markdown",
   "metadata": {
    "slideshow": {
     "slide_type": "slide"
    }
   },
   "source": [
    "We need to add a *target* or *classification* attribute. In this example, we are going to make this target to be equal to one if the point lies in the upper-right triangle of the $\\left[0,1\\right]\\times\\left[0,1\\right]$ square and zero otherwise:\n",
    "\n",
    "<div align='center'>\n",
    "<img src='figs/dataset.jpeg' alt='description of the data set' title='description of the data set' width='38%'/>\n",
    "</div>"
   ]
  },
  {
   "cell_type": "markdown",
   "metadata": {
    "slideshow": {
     "slide_type": "slide"
    }
   },
   "source": [
    "We can formalize this condition as:\n",
    "\n",
    "$$\n",
    "y = \\begin{cases}\n",
    "    1 & \\ \\text{if}\\ x_1 + x_2 > 1\\,,\\\\\n",
    "    0 & \\ \\text{otherwise}\\,.\n",
    "    \\end{cases}\n",
    "$$\n",
    "\n",
    "Lets code it..."
   ]
  },
  {
   "cell_type": "code",
   "execution_count": 6,
   "metadata": {
    "collapsed": false
   },
   "outputs": [],
   "source": [
    "def condition(x):\n",
    "    return int(np.sum(x) > 1)"
   ]
  },
  {
   "cell_type": "markdown",
   "metadata": {},
   "source": [
    "...and apply this condition to the data set."
   ]
  },
  {
   "cell_type": "code",
   "execution_count": 7,
   "metadata": {
    "collapsed": false
   },
   "outputs": [],
   "source": [
    "data['y'] = data.apply(condition, axis=1)"
   ]
  },
  {
   "cell_type": "markdown",
   "metadata": {
    "slideshow": {
     "slide_type": "slide"
    }
   },
   "source": [
    "The resulting data set looks like this:"
   ]
  },
  {
   "cell_type": "code",
   "execution_count": 8,
   "metadata": {
    "collapsed": false
   },
   "outputs": [
    {
     "data": {
      "text/html": [
       "<div>\n",
       "<table border=\"1\" class=\"dataframe\">\n",
       "  <thead>\n",
       "    <tr style=\"text-align: right;\">\n",
       "      <th></th>\n",
       "      <th>$x_1$</th>\n",
       "      <th>$x_2$</th>\n",
       "      <th>y</th>\n",
       "    </tr>\n",
       "  </thead>\n",
       "  <tbody>\n",
       "    <tr>\n",
       "      <th>0</th>\n",
       "      <td>0.950918</td>\n",
       "      <td>0.449202</td>\n",
       "      <td>1</td>\n",
       "    </tr>\n",
       "    <tr>\n",
       "      <th>1</th>\n",
       "      <td>0.908570</td>\n",
       "      <td>0.912950</td>\n",
       "      <td>1</td>\n",
       "    </tr>\n",
       "    <tr>\n",
       "      <th>2</th>\n",
       "      <td>0.886911</td>\n",
       "      <td>0.318883</td>\n",
       "      <td>1</td>\n",
       "    </tr>\n",
       "    <tr>\n",
       "      <th>3</th>\n",
       "      <td>0.889800</td>\n",
       "      <td>0.037656</td>\n",
       "      <td>0</td>\n",
       "    </tr>\n",
       "    <tr>\n",
       "      <th>4</th>\n",
       "      <td>0.405421</td>\n",
       "      <td>0.691890</td>\n",
       "      <td>1</td>\n",
       "    </tr>\n",
       "    <tr>\n",
       "      <th>5</th>\n",
       "      <td>0.905249</td>\n",
       "      <td>0.425809</td>\n",
       "      <td>1</td>\n",
       "    </tr>\n",
       "    <tr>\n",
       "      <th>6</th>\n",
       "      <td>0.862511</td>\n",
       "      <td>0.896763</td>\n",
       "      <td>1</td>\n",
       "    </tr>\n",
       "    <tr>\n",
       "      <th>7</th>\n",
       "      <td>0.751103</td>\n",
       "      <td>0.590287</td>\n",
       "      <td>1</td>\n",
       "    </tr>\n",
       "    <tr>\n",
       "      <th>8</th>\n",
       "      <td>0.847127</td>\n",
       "      <td>0.779482</td>\n",
       "      <td>1</td>\n",
       "    </tr>\n",
       "    <tr>\n",
       "      <th>9</th>\n",
       "      <td>0.253897</td>\n",
       "      <td>0.004847</td>\n",
       "      <td>0</td>\n",
       "    </tr>\n",
       "  </tbody>\n",
       "</table>\n",
       "</div>"
      ],
      "text/plain": [
       "      $x_1$     $x_2$  y\n",
       "0  0.950918  0.449202  1\n",
       "1  0.908570  0.912950  1\n",
       "2  0.886911  0.318883  1\n",
       "3  0.889800  0.037656  0\n",
       "4  0.405421  0.691890  1\n",
       "5  0.905249  0.425809  1\n",
       "6  0.862511  0.896763  1\n",
       "7  0.751103  0.590287  1\n",
       "8  0.847127  0.779482  1\n",
       "9  0.253897  0.004847  0"
      ]
     },
     "execution_count": 8,
     "metadata": {},
     "output_type": "execute_result"
    }
   ],
   "source": [
    "data.head(10)"
   ]
  },
  {
   "cell_type": "markdown",
   "metadata": {
    "slideshow": {
     "slide_type": "slide"
    }
   },
   "source": [
    "We can now take a better look at the data set in graphical form. Elements with $y=1$ are shown in red ($\\color{red}{\\bullet}$) and those with $y=0$ are shown in gray ($\\color{gray}{\\bullet}$):"
   ]
  },
  {
   "cell_type": "code",
   "execution_count": 9,
   "metadata": {
    "collapsed": true
   },
   "outputs": [],
   "source": [
    "def plot_data(data, ax):\n",
    "    data[data.y==1].plot(kind='scatter', \n",
    "                         x='$x_1$', y='$x_2$', \n",
    "                         color='Red', ax=ax)\n",
    "    data[data.y==0].plot(kind='scatter', \n",
    "                         x='$x_1$', y='$x_2$', \n",
    "                         color='Gray', ax=ax)\n",
    "    ax.set_xlim(-0.1,1.1); ax.set_ylim(-0.1,1.1)"
   ]
  },
  {
   "cell_type": "code",
   "execution_count": 10,
   "metadata": {
    "collapsed": false,
    "slideshow": {
     "slide_type": "slide"
    }
   },
   "outputs": [
    {
     "data": {
      "image/png": "[encoded data removed]",
      "text/plain": [
       "<matplotlib.figure.Figure at 0x1129446d8>"
      ]
     },
     "metadata": {},
     "output_type": "display_data"
    }
   ],
   "source": [
    "fig = plt.figure(figsize=(5,5))\n",
    "ax = fig.gca()\n",
    "plot_data(data, ax)"
   ]
  },
  {
   "cell_type": "markdown",
   "metadata": {
    "slideshow": {
     "slide_type": "slide"
    }
   },
   "source": [
    "## Iterating the data set\n",
    "\n",
    "Having the data set we can now code how the perceptron learns it by iterating throu it."
   ]
  },
  {
   "cell_type": "code",
   "execution_count": 11,
   "metadata": {
    "collapsed": true
   },
   "outputs": [],
   "source": [
    "def learn_data(perceptron, data):\n",
    "    'Returns the number of errors made.'\n",
    "    count = 0 \n",
    "    for i, row in data.iterrows():\n",
    "        count += perceptron.learn(row[0:2], row[2])\n",
    "    return count"
   ]
  },
  {
   "cell_type": "markdown",
   "metadata": {
    "slideshow": {
     "slide_type": "slide"
    }
   },
   "source": [
    "## Visualizing learning\n",
    "\n",
    "We need now to plot the decision boundary or threshold of the perceptron.\n",
    "\n",
    "To calculate it we start with the equation that describes the boundary,\n",
    "$$w_1x_1+w_2x_2 + b =0.$$\n",
    "\n",
    "From it we can obtain $x_2$ from a given $x_1$ applying a fairy simple math,\n",
    "$$x_2 = \\frac{-w_1x_1-b}{w_2}.$$"
   ]
  },
  {
   "cell_type": "code",
   "execution_count": 12,
   "metadata": {
    "collapsed": false,
    "slideshow": {
     "slide_type": "slide"
    }
   },
   "outputs": [],
   "source": [
    "def threshold(perceptron, x_1):\n",
    "    return (-perceptron.weights[0] * x_1 - perceptron.bias) / perceptron.weights[1]"
   ]
  },
  {
   "cell_type": "code",
   "execution_count": 13,
   "metadata": {
    "collapsed": false
   },
   "outputs": [],
   "source": [
    "def plot_perceptron_threshold(perceptron, ax):\n",
    "    xlim = ax.get_xlim(); ylim = ax.get_ylim()\n",
    "    \n",
    "    x2s = [threshold(perceptron, x1) for x1 in xlim]\n",
    "    ax.plot(xlim, x2s)\n",
    "    \n",
    "    ax.set_xlim(-0.1,1.1); ax.set_ylim(-0.1,1.1)"
   ]
  },
  {
   "cell_type": "markdown",
   "metadata": {
    "slideshow": {
     "slide_type": "slide"
    }
   },
   "source": [
    "A function that plots a perceptron as the threshold and the data set."
   ]
  },
  {
   "cell_type": "code",
   "execution_count": 14,
   "metadata": {
    "collapsed": true
   },
   "outputs": [],
   "source": [
    "def plot_all(perceptron, data, t, ax=None):\n",
    "    if ax==None:\n",
    "        fig = plt.figure(figsize=(5,4))\n",
    "        ax = fig.gca()\n",
    "    plot_data(data, ax)\n",
    "    plot_perceptron_threshold(perceptron, ax)\n",
    "    \n",
    "    ax.set_title('$t='+str(t+1)+'$')"
   ]
  },
  {
   "cell_type": "markdown",
   "metadata": {
    "slideshow": {
     "slide_type": "slide"
    }
   },
   "source": [
    "## Our perceptron in action\n",
    "\n",
    "All set now! Let's create a perceptron and train it. \n",
    "\n",
    "*Note*: Normally the initial weights and the bias should be set to *small* random values. I am setting them by hand to a value that I know that looks good in the examples."
   ]
  },
  {
   "cell_type": "code",
   "execution_count": 15,
   "metadata": {
    "collapsed": true
   },
   "outputs": [],
   "source": [
    "perceptron = Perceptron([0.1,-0.1],0.02)"
   ]
  },
  {
   "cell_type": "code",
   "execution_count": 16,
   "metadata": {
    "collapsed": false,
    "slideshow": {
     "slide_type": "slide"
    }
   },
   "outputs": [
    {
     "data": {
      "image/png": "[encoded data removed]",
      "text/plain": [
       "<matplotlib.figure.Figure at 0x114a33978>"
      ]
     },
     "metadata": {},
     "output_type": "display_data"
    }
   ],
   "source": [
    "f, axarr = plt.subplots(2, 3, sharex=True, sharey=True, figsize=(8,6))\n",
    "axs = list(itertools.chain.from_iterable(axarr))\n",
    "for t in range(6):\n",
    "    plot_all(perceptron, data, t, ax=axs[t])\n",
    "    learn_data(perceptron, data)\n",
    "f.tight_layout()"
   ]
  },
  {
   "cell_type": "markdown",
   "metadata": {},
   "source": [
    "It is clear how the Perceptron threshold is progresively adjusted according to the data set."
   ]
  },
  {
   "cell_type": "markdown",
   "metadata": {
    "slideshow": {
     "slide_type": "slide"
    }
   },
   "source": [
    "## Animating the Perceptron\n",
    "\n",
    "This results are better understood in animated from."
   ]
  },
  {
   "cell_type": "code",
   "execution_count": 17,
   "metadata": {
    "collapsed": false
   },
   "outputs": [],
   "source": [
    "from JSAnimation import IPython_display\n",
    "from matplotlib import animation"
   ]
  },
  {
   "cell_type": "code",
   "execution_count": 18,
   "metadata": {
    "collapsed": true,
    "slideshow": {
     "slide_type": "subslide"
    }
   },
   "outputs": [],
   "source": [
    "def animate(frame_index, perceptron, data, ax):\n",
    "    ax.clear()\n",
    "    plot_data(data, ax=ax)\n",
    "    ax.set_title('$t='+str(frame_index)+'$')\n",
    "    \n",
    "    if not frame_index:\n",
    "        return None\n",
    "    plot_perceptron_threshold(perceptron, ax=ax)\n",
    "    learn_data(perceptron, data)\n",
    "    return None"
   ]
  },
  {
   "cell_type": "code",
   "execution_count": 19,
   "metadata": {
    "collapsed": false,
    "slideshow": {
     "slide_type": "slide"
    }
   },
   "outputs": [
    {
     "data": {
      "text/html": [
       "\n",
       "<script language=\"javascript\">\n",
       "  /* Define the Animation class */\n",
       "  function Animation(frames, img_id, slider_id, interval, loop_select_id){\n",
       "    this.img_id = img_id;\n",
       "    this.slider_id = slider_id;\n",
       "    this.loop_select_id = loop_select_id;\n",
       "    this.interval = interval;\n",
       "    this.current_frame = 0;\n",
       "    this.direction = 0;\n",
       "    this.timer = null;\n",
       "    this.frames = new Array(frames.length);\n",
       "\n",
       "    for (var i=0; i<frames.length; i++)\n",
       "    {\n",
       "     this.frames[i] = new Image();\n",
       "     this.frames[i].src = frames[i];\n",
       "    }\n",
       "    document.getElementById(this.slider_id).max = this.frames.length - 1;\n",
       "    this.set_frame(this.current_frame);\n",
       "  }\n",
       "\n",
       "  Animation.prototype.get_loop_state = function(){\n",
       "    var button_group = document[this.loop_select_id].state;\n",
       "    for (var i = 0; i < button_group.length; i++) {\n",
       "        var button = button_group[i];\n",
       "        if (button.checked) {\n",
       "            return button.value;\n",
       "        }\n",
       "    }\n",
       "    return undefined;\n",
       "  }\n",
       "\n",
       "  Animation.prototype.set_frame = function(frame){\n",
       "    this.current_frame = frame;\n",
       "    document.getElementById(this.img_id).src = this.frames[this.current_frame].src;\n",
       "    document.getElementById(this.slider_id).value = this.current_frame;\n",
       "  }\n",
       "\n",
       "  Animation.prototype.next_frame = function()\n",
       "  {\n",
       "    this.set_frame(Math.min(this.frames.length - 1, this.current_frame + 1));\n",
       "  }\n",
       "\n",
       "  Animation.prototype.previous_frame = function()\n",
       "  {\n",
       "    this.set_frame(Math.max(0, this.current_frame - 1));\n",
       "  }\n",
       "\n",
       "  Animation.prototype.first_frame = function()\n",
       "  {\n",
       "    this.set_frame(0);\n",
       "  }\n",
       "\n",
       "  Animation.prototype.last_frame = function()\n",
       "  {\n",
       "    this.set_frame(this.frames.length - 1);\n",
       "  }\n",
       "\n",
       "  Animation.prototype.slower = function()\n",
       "  {\n",
       "    this.interval /= 0.7;\n",
       "    if(this.direction > 0){this.play_animation();}\n",
       "    else if(this.direction < 0){this.reverse_animation();}\n",
       "  }\n",
       "\n",
       "  Animation.prototype.faster = function()\n",
       "  {\n",
       "    this.interval *= 0.7;\n",
       "    if(this.direction > 0){this.play_animation();}\n",
       "    else if(this.direction < 0){this.reverse_animation();}\n",
       "  }\n",
       "\n",
       "  Animation.prototype.anim_step_forward = function()\n",
       "  {\n",
       "    this.current_frame += 1;\n",
       "    if(this.current_frame < this.frames.length){\n",
       "      this.set_frame(this.current_frame);\n",
       "    }else{\n",
       "      var loop_state = this.get_loop_state();\n",
       "      if(loop_state == \"loop\"){\n",
       "        this.first_frame();\n",
       "      }else if(loop_state == \"reflect\"){\n",
       "        this.last_frame();\n",
       "        this.reverse_animation();\n",
       "      }else{\n",
       "        this.pause_animation();\n",
       "        this.last_frame();\n",
       "      }\n",
       "    }\n",
       "  }\n",
       "\n",
       "  Animation.prototype.anim_step_reverse = function()\n",
       "  {\n",
       "    this.current_frame -= 1;\n",
       "    if(this.current_frame >= 0){\n",
       "      this.set_frame(this.current_frame);\n",
       "    }else{\n",
       "      var loop_state = this.get_loop_state();\n",
       "      if(loop_state == \"loop\"){\n",
       "        this.last_frame();\n",
       "      }else if(loop_state == \"reflect\"){\n",
       "        this.first_frame();\n",
       "        this.play_animation();\n",
       "      }else{\n",
       "        this.pause_animation();\n",
       "        this.first_frame();\n",
       "      }\n",
       "    }\n",
       "  }\n",
       "\n",
       "  Animation.prototype.pause_animation = function()\n",
       "  {\n",
       "    this.direction = 0;\n",
       "    if (this.timer){\n",
       "      clearInterval(this.timer);\n",
       "      this.timer = null;\n",
       "    }\n",
       "  }\n",
       "\n",
       "  Animation.prototype.play_animation = function()\n",
       "  {\n",
       "    this.pause_animation();\n",
       "    this.direction = 1;\n",
       "    var t = this;\n",
       "    if (!this.timer) this.timer = setInterval(function(){t.anim_step_forward();}, this.interval);\n",
       "  }\n",
       "\n",
       "  Animation.prototype.reverse_animation = function()\n",
       "  {\n",
       "    this.pause_animation();\n",
       "    this.direction = -1;\n",
       "    var t = this;\n",
       "    if (!this.timer) this.timer = setInterval(function(){t.anim_step_reverse();}, this.interval);\n",
       "  }\n",
       "</script>\n",
       "\n",
       "<div class=\"animation\" align=\"center\">\n",
       "    <img id=\"_anim_imgKEKFCFEWZHCSDNCI\">\n",
       "    <br>\n",
       "    <input id=\"_anim_sliderKEKFCFEWZHCSDNCI\" type=\"range\" style=\"width:350px\" name=\"points\" min=\"0\" max=\"1\" step=\"1\" value=\"0\" onchange=\"animKEKFCFEWZHCSDNCI.set_frame(parseInt(this.value));\"></input>\n",
       "    <br>\n",
       "    <button onclick=\"animKEKFCFEWZHCSDNCI.slower()\">&#8211;</button>\n",
       "    <button onclick=\"animKEKFCFEWZHCSDNCI.first_frame()\"><img class=\"anim_icon\" src=\"data:image/png;base64,iVBORw0KGgoAAAANSUhEUgAAABQAAAAUCAQAAAAngNWGAAAAAXNSR0IArs4c6QAAAAJiS0dEAP+Hj8y/AAAACXBIWXMAAAsTAAALEwEAmpwYAAAAB3RJTUUH3QURCAgaeZk4EQAAASlJREFUKM/dkj9LQnEUhp9zr3bpj1uBcKGiJWxzLWivKAIRjIhcCqcgqJbKRagPICiVSVEuNTu0tLYGUg4tkRGUdxLJ0u79Ndxr5FfwTO/L+xzO4XCgO+v2T70AFU+/A/Dhmlzg6Pr0DKAMwOH4zQxAAbAkv2xNeF2RoQUVc1ytgttXUbWVdN1dOPE8pz4j4APQsdFtKA0WY6vpKjqvVciHnvZTS6Ja4HgggJLs7MHxl9nCh8NYcO+iGG0agiaC4h9oa6Vsw2yiK+QHSZT934YoEQABNBcTNDszsrhm1m1B+bFS86PT6QFppx6oeSaeOwlMXRp1h4aK13Y2kuHhUo9ykPboPvFjeEvsrhTMt3ylHyB0r8KZyYdCrbfj4OveoHMANjuyx+76rV+/blxKMZUnLgAAAABJRU5ErkJggg==\"></button>\n",
       "    <button onclick=\"animKEKFCFEWZHCSDNCI.previous_frame()\"><img class=\"anim_icon\" src=\"data:image/png;base64,iVBORw0KGgoAAAANSUhEUgAAABQAAAAUCAQAAAAngNWGAAAAAXNSR0IArs4c6QAAAAJiS0dEAP+Hj8y/AAAACXBIWXMAAAsTAAALEwEAmpwYAAAAB3RJTUUH3QURCAgyTCyQ6wAAANRJREFUKM9jYBjO4AiUfgzFGGAp4+yayUvX6jMwMDCsYmBgOCS4OAOrSYmMgcc8/pd5Q3irC+Neh/1AlmeBMVgZmP8yMLD8/c/cqv9r90whzv/MX7Eq/MfAwMDIwCuZdfSV8U8WDgZGRmYGrAoZGRgY/jO8b3sj/J2F6T8j4z80pzEhmIwMjAxsSbqqlkeZGP//Z8SlkJnhPwMjwx/Guoe1NhmRwk+YGH5jV8jOwMPHzcDBysAwh8FrxQwtPU99HrwBXsnAwMDAsJiBgYGBoZ1xmKYqALHhMpn1o7igAAAAAElFTkSuQmCC\"></button>\n",
       "    <button onclick=\"animKEKFCFEWZHCSDNCI.reverse_animation()\"><img class=\"anim_icon\" src=\"data:image/png;base64,iVBORw0KGgoAAAANSUhEUgAAABQAAAAUCAQAAAAngNWGAAAAAXNSR0IArs4c6QAAAAJiS0dEAP+Hj8y/AAAACXBIWXMAAAsTAAALEwEAmpwYAAAAB3RJTUUH3QURCAgmVvZElgAAAVFJREFUKM+t0k8ow3EYx/H3s/2aLDUSZctFkgsHEi1XLi5ukpPSWsuJklwclsPSsDKFi7MSJ0I5qF2GHO2m0FY7+BdNv7Y9DpuxDSt5vsfvq+fT9/k+8D8VBxIAWH6H0ead4Qb5BRwCENoceZi5Stl/6BgCBmtWhjzxg4mUQ02rAhil7JgB9tze7aTLxFAKsUUd14B9ZzCyFUk401gQyQJaDNcBHwv7t7ETd0ZVQFEEzcNCdE/1wtj15imGWlEB8qkf2QaAWjbG/bPSamIDyX65/iwDIFx7tWjUvWCoSo5oGbYATN7PORt7W9IZEQXJH8ohuN7C0VVX91KNqYhq4a1lEGJI0j892tazXCWQRUpwAbYDcHczPxXuajq3mbnhfANz5eOJxsuNvs7+jud0UcuyL3QAkuEMx4rnIvBYq1JhEwPAUb3fG7x8tVdc292/7Po7f2VqA+Yz7ZwAAAAASUVORK5CYII=\"></button>\n",
       "    <button onclick=\"animKEKFCFEWZHCSDNCI.pause_animation()\"><img class=\"anim_icon\" src=\"data:image/png;base64,iVBORw0KGgoAAAANSUhEUgAAABQAAAAUCAQAAAAngNWGAAAAAXNSR0IArs4c6QAAAAJiS0dEAP+Hj8y/AAAACXBIWXMAAAsTAAALEwEAmpwYAAAAB3RJTUUH3QURCAkR91DQ2AAAAKtJREFUKM9jYCANTEVib2K4jcRbzQihGWEC00JuNjN8Z2Q0Zo3VYWA4lL005venH9+c3ZK5IfIsMIXMBtc12Bj+MMgxMDAwMPzWe2TBzPCf4SLcZCYY4/9/RgZGBiaYFf8gljFhKiQERhUOeoX/Gf8y/GX4y/APmlj+Mfxj+MfwH64Qnnq0zr9fyfLrPzP3eQYGBobvk5x4GX4xMIij23gdib0cRWYHiVmAAQDK5ircshCbHQAAAABJRU5ErkJggg==\"></button>\n",
       "    <button onclick=\"animKEKFCFEWZHCSDNCI.play_animation()\"><img class=\"anim_icon\" src=\"data:image/png;base64,iVBORw0KGgoAAAANSUhEUgAAABQAAAAUCAQAAAAngNWGAAAAAXNSR0IArs4c6QAAAAJiS0dEAP+Hj8y/AAAACXBIWXMAAAsTAAALEwEAmpwYAAAAB3RJTUUH3QURCAkEmo00MwAAAS9JREFUKM+tkj1IQmEUhp9j94LQj0FD4RRBLdLQ3ftb26PRcCiQIIiIDFwKC0OhaAiam5wVDBpqCKohQojMLYzaAiUatOtpuQrKVQl64fu+4Xt4OLwc+Fs+nNM16jsPAWS6gZXggoZfXmfhog3hcZ6aTXF87Sp68OmH4/YggAo8bmfyyeh6Z1AAKPVldyO1+Iz2uILq3AriJSe3l+H7aj+cuRnrTsVDxSxay+VYbMDnCtZxxQOU9G4nlU9E1HQBxRkCQMRGRnIbpxMARkvxCIoAorYMMrq0mJ0qu4COUW3xyVDqJC4P+86P0ewDQbQqgevhlc2C8ETApXAEFLzvwa3EXG9BoIE1GQUbv1h7k4fTXxBu6cKgUbX5M3ZzNC+a7rQ936HV56SlRpcle+Mf8wvgJ16zo/4BtQAAAABJRU5ErkJggg==\"></button>\n",
       "    <button onclick=\"animKEKFCFEWZHCSDNCI.next_frame()\"><img class=\"anim_icon\" src=\"data:image/png;base64,iVBORw0KGgoAAAANSUhEUgAAABQAAAAUCAQAAAAngNWGAAAAAXNSR0IArs4c6QAAAAJiS0dEAP+Hj8y/AAAACXBIWXMAAAsTAAALEwEAmpwYAAAAB3RJTUUH3QURCAkd/uac8wAAAMhJREFUKM9jYBie4DEUQ8B+fEq3+3UrMzAwMFxjYGBgYJizYubaOUxYFUaXh/6vWfRfEMIL/+//P5gZJoei4/f/7wxnY1PeNUXdE2RgYGZgYoCrY2BBVsjKwMDAwvCS4f3SG/dXxm5gYESSQ1HIwvCPgZmB8f8Pxv+Kxxb/YfiPJIdi9T8GJgaG/38ZFd4Fx0xUYsZt4h8GBgb2D2bLy7KnMTAwMEIxFoVCXIYr1IoDnkF4XAysqNIwUMDAwMDAsADKS2NkGL4AAIARMlfNIfZMAAAAAElFTkSuQmCC\"></button>\n",
       "    <button onclick=\"animKEKFCFEWZHCSDNCI.last_frame()\"><img class=\"anim_icon\" src=\"data:image/png;base64,iVBORw0KGgoAAAANSUhEUgAAABQAAAAUCAQAAAAngNWGAAAAAXNSR0IArs4c6QAAAAJiS0dEAP+Hj8y/AAAACXBIWXMAAAsTAAALEwEAmpwYAAAAB3RJTUUH3QURCAknOOpFQQAAAS9JREFUKM/dkrEvQ3EQxz/33mtoQxiYpANbLU26NAabSCcSUouGBVNDjYQaOiDpIEiKjURIw2Kx04hEYmkHEpGoJpSISaXq9Wd4P03/ht5y98197/u9XA4aK4rAWw3lgWddZ3S+/G9mEovtAB8AHE4pgTQAx8PbJweRmsq6GimmNpxaNYXVzMNNCI6A2figimwCGACK786zuWgh3qcsKf/w0pM4X0m/doNVFVzVGlEQsdRj193VxEWpH0RsdRu+zi3tVMqCAsDShoiYqiSV4OouVDFEqS9Pbiyg7vV62lpQ2BJ4Gg0meg0MbNpkYG/e+540NNFyrE1a8qHk5BaAjfnrzUaHfAWImVrLIXbgnx4/9X06s35cweWsVACa3a24PVp0X+rPv1aHFnSONdiL8Qci0lzwpOM5sQAAAABJRU5ErkJggg==\"></button>\n",
       "    <button onclick=\"animKEKFCFEWZHCSDNCI.faster()\">+</button>\n",
       "  <form action=\"#n\" name=\"_anim_loop_selectKEKFCFEWZHCSDNCI\" class=\"anim_control\">\n",
       "    <input type=\"radio\" name=\"state\" value=\"once\" > Once </input>\n",
       "    <input type=\"radio\" name=\"state\" value=\"loop\" checked> Loop </input>\n",
       "    <input type=\"radio\" name=\"state\" value=\"reflect\" > Reflect </input>\n",
       "  </form>\n",
       "</div>\n",
       "\n",
       "\n",
       "<script language=\"javascript\">\n",
       "  /* Instantiate the Animation class. */\n",
       "  /* The IDs given should match those used in the template above. */\n",
       "  (function() {\n",
       "    var img_id = \"_anim_imgKEKFCFEWZHCSDNCI\";\n",
       "    var slider_id = \"_anim_sliderKEKFCFEWZHCSDNCI\";\n",
       "    var loop_select_id = \"_anim_loop_selectKEKFCFEWZHCSDNCI\";\n",
       "    var frames = new Array(0);\n",
       "    \n",
       "  frames[0] = \"data:image/png;base64,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\"\n",
       "  frames[1] = \"data:image/png;base64,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\"\n",
       "  frames[2] = \"data:image/png;base64,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\"\n",
       "  frames[3] = \"data:image/png;base64,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\"\n",
       "  frames[4] = \"data:image/png;base64,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\"\n",
       "  frames[5] = \"data:image/png;base64,iVBORw0KGgoAAAANSUhEUgAAASAAAAEgCAYAAAAUg66AAAAABHNCSVQICAgIfAhkiAAAAAlwSFlzAAALEgAACxIB0t1+/AAAIABJREFUeJzt3XtclGXaB/DfiENOGuQkis4QIEcVGHEjrbTG86E333fTFOhkUYBo2r6rKWWK2+ap2mp1K0rDtpzBDqa9KViaU25Rg6bgiuiagoKrDOCRVE73+8cTsyCnAZ557ueZub6fT58YeZjn+jAzF/d93ScVY4yBEEI46MY7AEKI+6IERAjhhhIQIYQbSkCEEG4oARFCuKEERAjhhhIQIYQbSkCEEG4oARFCuKEERAjhhhIQIYQbSkCEEG4oARFCuKEERCTx3Xff4dq1a7h+/Tr27t3LOxwiE5SAiCQef/xx3HzzzfD390dlZSXvcIhMqGg/ICKF9evXY9KkSejfvz88PDx4h0NkglpAxCFjx45FbW1tp39erVZDr9dT8iFNdOcdAJG/0tJSAED37v95u5w4cQLvvfceVCoVGhrRDV+rVCqMGDECU6dOtV9vtVrBGENFRQVCQkKafI+4L+qCkTZ9/fXXWL9+Pbp3747JkyfjkUce6dTzHDhwANHR0QCAoUOH4ttvv4W3t7eYoRIFoi4YadP48ePh4eGB//3f/+108gEAg8Fg/7p3796wWCwiREeUjrpgpF0HDx7E7373uyb/1rgL1lhLXbBNmzZhx44d2LRpEwDgypUrVAsiACgBkXYUFBRg0KBBAIDMzEzExsYCAAYOHIiVK1c69BwBAQFISkoCAFRVVaG8vBxjxoxxTsBEUSgBkTZptVp4e3sjMzMTRqOxU89xzz33YNOmTXjjjTdQVFSEzMxM3HzzzeIGShSJitCEEG6oCE0I4YYSECGEG0pAhBBuKAERQriR3SjYjfNKCCHSkXpMSpYtIMaYKP8tW7ZMtOdyVkwLFzI8/bS8YpLDfxST9HHxIMsE5E5SU4GtW4HDh3lHQoj0KAFx1ru3kIQWL+YdCSHSc+kE1NmZu87UUkwpKUILiNf6TKX8nniTY0yAfONyhOxmQjfeX8adZGYCr70G/PQT0M2l/ywQueLx2aO3ukzMmCH8/+OP+cZBiJSoBSQjFgvw5JPAkSPATTfxjoa4G2oBuTmjERgyBHjrLd6RECINagHJTEGBkIiOHhVGyAiRCrWACAYPBv7nfwAH9/oiRNGoBSRDZ84AkZHAzz8D/v68oyHuglpABAAwYAAwZw6wZAnvSAhxLlESUEJCAvr164eoqKhWr5k3bx5CQkIwdOhQHDx4UIzburSFC4Fdu4ADB3hHQojziJKAnnjiCezcubPV72dlZeGXX37Bv/71L6SnpyM5OVmM27q0W24Bli4VEpGb90iJCxMlAY0cORK92xiy2bZtGx577DEAwPDhw3Hx4kWcO3dOjFu7tKeeAkpKgDZyOyGKJkkNqLS0FH5+fvbHOp3OftwvaZ1aDaxaJbSC6up4R0OI+KgILXP//d/ArbcCf/8770jcl81mQ25uLmw2G+9QXI4kOyLqdDqcPn3a/rikpAQ6na7V69PS0uxfG41GRa/27SqVCnjlFWD6dGDmTICO05LWZrMZKQkJCPD0RFF1Nd7asAEz4+J4hyUKi8XC/4hsJpKTJ0+yiIiIFr+3fft2NmXKFMYYYzk5OWz48OGtPo+IIbmU6dMZe/ll3lG4l7KyMqbVaFieMA7A8gCm1WhYWVkZ79CcgsdnT5QWUHx8PCwWCyoqKnD77bdj+fLlqK6uhkqlQmJiIqZMmYIdO3YgODgYPXv2REZGhhi3dSsrVwIjRgBPPw34+PCOxj0UFRUhwNMTUVevAgCiAPir1SgqKoIPvQiioJnQCjJvnvCneO1a3pG4B5vNhnB/f+y5ehVRAPIBjNZoUFhc7JIJiGZCkza9+CJgNgP/+hfvSNyDj48P3tqwAaM1Ggzz8sJojQZvbdjgksmHF2oBKczKlcIasU8+4R2J67DZbEJ3KyCgxeTS3vddBY/PHiUghfn1VyAsTNg58a67eEejfK48ytVRlIBACcgRGzcC69cDe/cKw/Skc9ytxtMeqgERhzz6KHDpknCeGOk8+yjXb48bj3IRaVACUiAPD2Fy4uLFQE0N72iaUtKs4YCAABRVVyP/t8f5AIprahAQEMAxKvdCCUihJkwAbr9d6IrJxWazGeH+/kgePx7h/v7YbDbzDqlNNMrFH9WAFOzAAWDKFODYMWH7Dp6UXE9xl1Gu9lANiHRIdDQwfrzQHeNNyfUUHx8fxMTEuHXy4YUSkMK99BLwt78J+0jzRPUU0hmUgBTO31/YuGzZMr5xUD2l45RUsHcWqgG5gAsXgNBQYM8e4WBDnqie4hg5ToCkiYigBNRZb7whbGL/5Ze8IyHtkWvBnorQpNNmzxZOVd2zh3ckBBCSzFdffYWvvvqqWRdLyQV7sVECcgIeffubbgJWrBD2j66vl+y2pAWbzWYE6XT4/cSJmDNxIkL0+iZzoqhg34g0+545ToYhdUimycS0Gg0b5u3NtBoNyzSZJLt3XR1jMTGMSXhLcoOysjJ2a48erPdvOyi2tpNiw/sk2stL8vdJa3h89qgGJCI59O2//RaYNQsoLBRaRURaubm5eHT0aPSsqsL+Rv9u6NkT6/fsQUxMjP3f5FawpxqQwsmhb3/ffcK58n/7m2S3JI0EBATgXF0dTgJNulgl9fXNulg0AZISkKjk0rdftUr47/x5SW9LICSVd95/HzVqNe4CEAzgXk9PmhPVCuqCiaxhfoe/Wo3imhpu8zsSEwFvb3ks03BHNpsNBw4cAABER0crIvnQPCAoPwEB8ujb//vfQEQEsH8/4I6DK6TjKAHBNRKQXCxbBvzyC/DRR7wjIa2Rwx+rBlSEJqJasADYvVvYxJ7Ij9L2T3IGagG5uHfeEU7Q2LWL9o+WEzlM2bgRtYCI6BISgNJSIDubdySkMTlM2ZADSkAuTq0GVq8GnnsOqKvjHQ1pIJcpG7xRAnIDU6cCt94KfPAB70hIA9o/SUA1IBfgyEjKTz8B06YJ+0fffLPEAZJW0SgYUTRHR1KGDwfuvht4/XXHnpd265OG2y/HEGtVa1ZWFgsLC2MhISFs1apVzb5/8eJF9sADDzCDwcAiIiJYRkZGi88jYkgur6ysjGk1mjZXXTd2/Dhjt93G2LlzbT8vzxX9hB8enz1R7lhXV8eCgoJYUVERq66uZgaDgR05cqTJNStWrGCLFy9mjDFms9mYVqtlNTU1zQOiBOQwq9XKhnl7M/ZbAmIAi/byYlartdWfmTePsblzW3/OjiY14jp4fPZE6YJZrVaEhITA398farUasbGx2LZtW5NrVCoVLl++DAC4fPkybrvtNnTv3l2M27utzoykvPgiYDYLtaCW0PAwkZIoCai0tBR+fn72x3q9HqWlpU2umTt3LgoKCjBgwAAYDAa8+eabYtzarXVmJKVPH2GG9PPPt/x9Gh4mUpKsCL1z505ER0fjzJkzOHDgAObMmYMrV65IdXvunFXUnRkXh8LiYqTv2oXC4mKHVt7Pnw9YrcAPPzT/Hg0PEymJ0gfS6XQ4deqU/XFJSQl0Ol2TazIyMpCamgoACAoKQmBgIAoLC3HHHXc0e760tDT710ajEUajUYwwuTGbzUhOToZWq0VlZSXS09MRGxsr2vP7+Ph0KEFoNMKBhgsXAv/4R/MlGjPj4jBm3DjZDA8rhZyG1B1hsVhgsVj4BiFGIam2ttZehL5+/TozGAysoKCgyTUpKSksLS2NMcbY2bNnmV6vZxUVFc2eS6SQZKOsrIx5eXmx5ORklpaWxpKTk5mXlxf3om5tLWNRUYxt2cI1DJfhCiOHPD57onTBPDw8sG7dOkyYMAFDhgxBbGwsBg0ahPT0dLz77rsAgCVLluCHH35AVFQUxo8fjzVr1kCr1Ypxe1krKiqCVquFr68vAMDX1xdarZZ7UdfDA1izBli0CKip4RqK4tlsNqQkJGDP1avYf/Ei9ly9ipSEBJpD5QDRhqEmTZqEo0ePNvm3pKQk+9f9+/fHzp07xbqdYgQEBKCyshJnz56Fr68vzp49i/Lycpw/fx42m41rU33iRGGzsvfeA1JSuIWhePaRw6tXATQdOVRCV4wnt1qKwauPnpmZiaSkJGi1Wpw7dw4qlQp9+/Z1Sj2oow4eBCZNEoblvby4haFoctxaozNoR0Q475fg7EJwexr2CJ4+fToefvhhe2vIZDLh+PHjXN+ojz8O3H67UJgmnSOXvcC7ghIQnPNLsNlsCA4ORnx8PNcPfm5uLmbMmIFZs2bZ/23jxo34+OOPm5wXJbVTp4DoaODQIWDAAG5hKJ7SRsFuRItRnUQuheDG9SAAOHv2LCorK7lP8rv9duCpp4ClS7mGoXhuv7C0E9xiLURLhWAeH3wfHx+kp6fb60ENXUE5vGFTU4HQUOCf/xRO0yBECm7RBQOaFoJ5F3/l2lR/4w3g66+B7dt5R0J4oBoQXHMUTCmqq4FBg4Rh+TFjeEdDpEYJCO65I6KcEuPmzcIExdxcoJtbVAhJAypCuyGz2Yzg4GDMmDEDwcHByMzM5BrPjBnCLGnOYRA3QS0gjuQyPeBG334LzJoFFBYCN93ELQwiMWoBuRm5TA+40X33AZGRwLp1XMMgboASkMQa7wsk13lBgHCW2KpVQGUl70iIK6MumIRaWg4CQDbTA26UlATccgvw6qu8IyFSoFEwuG4CaqveA4DrKFhro3BnzwJDhgD79wur5olroxqQC2ur3sNzCn9b54r5+gLPPAMsWSJ5WMRNUAKSiBzrPY5spLVgAfDNN0IriBCxucVaMDmQ4zowRzbS6tULWLZM2D969+7m+0cT0hVUA5KYnGY9O7qRVm2tMCz/2mvAlCncwiVORjUgBejq8Tpy2rLB0SN4uncXhuWfew6oq+MULHFJ1ALqAN67KjqLI60yxoQJio8/DiQkSBwgkQQNw0O+CUiuyyakZLUCDz4IHD0K9OzJOxoiNuqCyZhcl01I6c47gXvuEfYNIkQMlIAcJMdhdB5WrABefx0oK+MdCXEF1AXrADntqsjTs88KI2O0WNW1UA0I8k5AgLyG0XkpLxd2Tvz+e2EfaeIaKAFB/gmICFavForSn33GOxIiFkpAoASkFFevAmFhws6Jd9/NOxoiBhoFI4qh0QgnqS5YIMwRIqQzREtA2dnZCA8PR2hoKFavXt3iNRaLBdHR0YiIiMDo0aPFujXh5JFHgF9/BT7/nHckytXVmfWKx0RQV1fHgoKCWFFREauurmYGg4EdOXKkyTUXLlxggwcPZiUlJYwxxmw2W4vPJVJIRCI7dzIWEsJYdTXvSJQn02RiWo2GDfP2ZlqNhmWaTFzj4fHZE6UFZLVaERISAn9/f6jVasTGxmLbtm1NrjGZTJg2bRp0Oh0AoE+fPmLcmnA2YQIQGAi8+y7vSJTFka1Q3IEoCai0tBR+fn72x3q9HqWlpU2uOXbsGCorKzF69GjExMTgww8/FOPWRAZWrxbqQZcu8Y5EOexbofz2uPFWKO5EsiJ0bW0tfv75Z2RlZSE7OxsvvfSSfTtSomxDhwITJwoHGioRjzpMQEAAiqqrkf/b43wAxTU1bjezXpQNyXQ6HU6dOmV/XFJSYu9qNdDr9ejTpw969OiBHj164N5770VeXh6Cg4ObPV9aWpr9a6PRCKPRKEaYxIn+/GchEc2eDdzw0svaZrMZKQkJCPD0RFF1Nd7asAEz4+Kcfl/7VigJCfBXq1FcU9PiVijOZLFYYLFYJLtfi8QoJNXW1tqL0NevX2cGg4EVFBQ0uebIkSNs3LhxrLa2llVVVbGIiAh2+PDhZs8lUkiEg0WLGHvySd5ROK6srIxpNRqWJ8wkYHkA02o0rKysTNIYrFarpPdsDY/PnigtIA8PD6xbtw4TJkxAfX09EhISMGjQIKSnp0OlUiExMRHh4eGYOHEioqKi4OHhgcTERAwePFiM2xOZSE0VlmYcOiTsoCh3jmxJ62w+Pj5uu6QHoJnQRGRvvgns3Ans2ME7kvY5uiWtu6CZ0KQJJU5Smz1b2LBs927ekbTP0S1pifNQC0imlLz968cfC0PzublANwX8iaMdDgS0GBWUgADlb//KGDBiBDBvHvDww7yjIY6iLhgBoPztX1Uq4JVXgBdeAK5d4x0NkTNKQDLkCtu/3nsvYDDQromkbdQFkylX2P61sBAYNUooSmu1vKMh7aEaEKT7JSih8KiEGNuTnCwc7/zqq7wjIe2hBARpfglKHmFSmrNngSFDgH37hFXzRL4oAcH5vwSljzAp0fLlwLFjwKZNvCMhbaFRMAkofYRJif74R2DPHqEVREhjbpeAXGGESWl69QLS0oCFC2n/aNJUky5YVVUVevbsidraWnTr1g3dOExjlaIZ6AojTEpTWyssUH3tNWDKFN7RkJZwrQGtWbMG5eXlqK+vR2pqKlJTU/Euh302aRTMdX3xBfD888DBg0B3UfZhIGLikYDsb4Phw4djxIgRUKvV+PTTT1FfXy9pIFJz920QeHjgAaEF9MEHQEIC72iIHHQDgJMnT0KlUmHjxo3o1q0bZsyYgTFjxvCOjbiYhiUaS5cCVVW8oyFyoGKMsTlz5uChhx6C0WjE3r17oVKpMHLkSD4B0UxolxcbC0REAEuW8I6ENMZtGP7OO+9EUVERTp48iVGjRqG8vFzSIJxBiXvpuIsVK4A33gDOneMdCeGtGwCcPn0anp6e+Mtf/oIxY8Zgn8InbJjNZgQHB2PGjBkIDg5GZmYm75BIIwMHAo8+CvzpT7wjIbypGGPMZDJh+vTp8PT0REVFBbZs2YKnn36aT0BdbAbSTGdlqKgAwsKA778X/k/aJsWoLbcu2MyZM/HPf/4TAHDixAn7JD0lopnOynDbbcLExNRU3pHI32azGeH+/kgePx7h/v7YbDbzDkk0LrcWjFpAynH1qtD6MZuBe+7hHY08SblxPtd5QK7Cx8cH6enpzWY6U/KRH41GONBw4UKhK6ZS8Y5IPhq6XOfPn+d+dJAzuVwLqIGSZjorKVax1dcDw4YBL74ITJvGOxp5aHxa64nr18Hq6/FddbVLtoBkdwypDENyKpPJxLy8vFhAQADz8vJiZrOZd0iS++orxoKDGauu5h0Jfy2d1tpLrWZajYZFe3kxrUbDMk0mp9ybx2fPZVtASkD1qv+YOFFYqjF3Lu9I+MrNzUXy+PHYf/Gi/d+GeXlh1SefoHfv3q45Ckb4oBG7/1izRqgHXbrEOxJpJrG2do+AgAAUVVcj/7fH+QCKa2oQHR2NmJgYl/vDRAmII9qb6D8MBmDSJOFAQ56kGPJu6x5ud1qr5J2+dsgwJKcym81uXwNqcOoUY1otY6dP87l/S/UXrUbDysrKJL9HWVkZs1qtot67PTw+e6K1gLKzsxEeHo7Q0FCsbuPPWG5uLtRqNbZs2SLWrRUtNjYWx48fx8cff4zjx4+79cZofn5AYiKwbBmf+xcVFQlD3r89bjzkLfU9fHx8XLLL1YwYWayuro4FBQWxoqIiVl1dzQwGAzty5EiL140ZM4bdf//97LPPPmvxuUQKiSjUhQuM9e3LWH6+9PeWUwuIBx6fPVFaQFarFSEhIfD394darUZsbCy2bdvW7Lq1a9di+vTp6Nu3rxi3JRKTojjr7Q3Mn38FyckXJN/JQIr6i9vVeNohSgIqLS2Fn5+f/bFer0dpaWmTa86cOYOtW7di9uzZbjPM7kqk2mFgs9mMV1/SYf+PlQjSPy75uqeZcXEoLC5G+q5dKCwuxsy4OEXeQykkW4rx7LPPNqkNURJSDpvNhuTk5CbzlZKSkjB27FhR/3LbbDakJCTAcu0qjmIRllb/GbOfHIUx48ZJ2kKQYrte2hJYIEoC0ul0OHXqlP1xSUkJdDpdk2v27duH2NhYMMZQXl6OrKwsqNVqTJ06tdnzpaWl2b82Go0wGo1ihEk6qa35SmJ+iOwF2qtXEYlP8Rr+iKuId5l1T3JjsVhgsVi4xiDKTOi6ujqEhYVh9+7d6N+/P+68806YzWYMGjSoxeufeOIJPPDAA3jwwQebB+RGM6GVQqoZ2zeu/N6IkUhQbUJRsQZ+fpSAnE2xq+E9PDywbt06TJgwAfX19UhISMCgQYOQnp4OlUqFxMTEJteraNmzoki1w4C9QJuQAH+1GsU1+zFscDds3uyDBQtEvRWRCVoLpgByWS0vVRyN71NR4YNRo4CjRwGt1mm3JOB8MKFcUAJqymw2Izk52a1PcZ09G7j5ZuFMMeI8lIBACaix1movP/74I65cucK9RSSVs2eBIUOAffuAwEDe0YhPLi1cWg1Pmmhp9OmWW25BTEyMW5344esLzJ8PvPAC70jE58r7PTuCWkAy1lILaMOGDYiPj0dgYKBb7R905QoQGiqcL3/HHbyjEYeU+z07QrGjYMQ5bhx9Ki8vx6233orA3/ohzpqPI0e9egFpacL+0d984xr7Rzee9wS43n7PjqAumMw1Xi1vtVpx/fp1t90/6MknhdNUd+zgHYk4Wtt8zF1eTwDyW3ouw5Bkxd33D/riC8YGD2aspoZ3JOLINJkk2e/ZETw+e1QDUiC5jJrwwBgwejTwyCPAU0/xjkYccnk9aRgelIBI+6xW4Pe/B44dA3r25B2N4+SSaFpDw/CEOODOO4FRo4C//IV3JI5z9+H21lALiCjSiRNATAxQUAD068c7mrbJbbi9NdQCIsRBAwcCjz0GLF/OO5KmWto1Uoq9ppWKEhBRrCVLgE8+ERaqykFr3Swabm8ddcGIoq1ZA+TkAJ9/zjeO9rpZDee9C9uM1OCtDRtktxUrjYKBEhDpmGvXgLAwYNMmYORIfnG0dqRy+q5diImJAUCjYC3ekxIQUboPPwTeegv44Qd+SzSUUmhuCxWhCemEhx8WWkKffcYvBjpup3OoBURcwq5dwsZlhw8Dnp784pB7N6st1AUDJSDSeZMmAfffDzzzDO9IlIkSEFw/ASn5L6Tc5ecD48cLSzS8vXlHozxUA3JxUp0u6q6iooApU4SheaIM1AKSiFRna7m7khLAYADy8gC9nnc0ykItIBfW1umiRDx6PZCUBCxdyjsS4ghKQBIJCAhAZWWl2+5mKKVFi4Dt24WaEJE36oJJKDMzs9npou52xpdU1q4Vtm7NyhLn+dxh8IBGweC6CajhDdyrVy+3OtOLl+pq4Syxt98Gxo3r2nM1rOMK8PREUXW1LNdxiYESEFwzAdHppnx8+inw8svA/v1At04WG1xhiYWjqAjtgmw2G5KTkxEfH49Zs2YhPj4eSUlJTfaLIc4xbRpw002AydT556C9fJxLtASUnZ2N8PBwhIaGYvXq1c2+bzKZYDAYYDAYMHLkSBw6dEisW8sajX7xo1IBr74qnKh67VrnnoP28nEuURJQfX095s6di507d+Lw4cMwm80oLCxscs3AgQPx3XffIS8vD0uWLMHTTz8txq1lj0a/xNPSboPtGTkSGDZMKEp3Bi0ydTIxzvbJyclhkyZNsj9euXIlW7VqVavXnz9/nun1+ha/J1JIsuLuZ3mJwWQydfp3WFjIWJ8+jJWXd/7+ZWVlzGq1srKyss4/iczx+OyJcjRzaWkp/Pz87I/1ej2sVmur169fvx6TJ08W49aKEBsbi7Fjx7r8MG5XtTbU3biO1jCLPCkpCWPHjnXodxkWBjz0kFCQ7uxJGj4+PvS6OYHkReg9e/YgIyOjxTqRK/Px8UFMTAy9iVvR1jo5Mepoy5YBH3wAnDwpduSkK0RpAel0Opw6dcr+uKSkBDqdrtl1+fn5SExMRHZ2Nnr37t3q86Wlpdm/NhqNMBqNYoRJZKq9Fk7jOlrD9ztaR+vXD5g/H3j+eYCO5BJYLBZYLBa+QYjRj6utrWVBQUGsqKiIXb9+nRkMBlZQUNDkmuLiYhYcHMxycnLafC6RQiIKYrVaWUBAAEtLS7P/FxAQwKxWq/0aMepoV64wNmAAY42eljTC47MnSgvIw8MD69atw4QJE1BfX4+EhAQMGjQI6enpUKlUSExMxEsvvYTKykqkpKSAMQa1Wt1mnUiJ3GG6vjM40sIRo47WsyeQlgYsXAjs2dPx/aPp9XUCyVNeO2QYkkO6MkpDpBsprKlhbPBgxv7v/zr2c+7w+vL47NFSDBHQXj/ikKqF8eWXwor5vDyguwN9AHd5fWkphkLRbGdxSDVSeP/9gI8PkJHh2PVSvb6dmWipdJSARECznR0jlw+YSgW88opQD6qqav96KV7f1o51dnmSd/raIcOQHCLlbGclzsqVYw0lNpax5csdu9aZr29ZWRnTajQsD2AMYHkA02o0kr++PD57VAMSkRQ1DCVu7SHXGsrJk8AddwAFBcI8ofY46/V15FhnKfD47IkyDE8Ezp6u39UlCby0VUPhGXdgIPD440JX7O2327/eWa9v4xX3DXsOucuKe6oBKYhSi91yrpEtWSJsXHbD5g2ScucV99QCUhAxliTw4OPjg/T09Gb7YcvhA6bVAs89B6SmAp9/zi+OmXFxGDNunNtNdKQakMIoeWN7uc4kvnZNWDH/0UfAqFG8o+GH9oQGJSBHyPWDrGQffQSsWwfk5HR8iYaroAQESkCEj/p6YUQsNVXYO8gdUQICJSDCz+7dwqmqBQWApyfvaKRHSzEI4WjsWCAkBEhP5x2JfGaNOxslIEIaWb0a+POfgUZzAiXnTssyqAtGyA2efBLw9QVWrJD+3jwPQqQuGCEy8Kc/Cd2w06elv7e7HYRICYjIDu/6h14PJCcDS5dKf293OwiREhCRlbZOx5DSc88BO3YA+fntXysmd1uWQTUgIhtyWzW/di2wfTuQnS35rblMNqUaEHFrcltsm5QE/PIL8PXX0t/bXc6RowREZENuq+Y9PYGVK4XuWH09lxBcHnXBiKzIbbEtY8DddwMpKcCjj3ILQxK0FAOUgIj8Ftt+/z0QHy/sGaTR8I7GeSgBgRIQkacHHwRGjBC6Y53V1cTq7MRMRWhCZGrlSuEkjYrnR5BSAAAIEUlEQVSKzv18V6cXuOryDGoBEeKglBTgppuA11/v2M91dXqBVMszqAVEiIwtWwb8/e/AiRMd+7muTi9w5eUZlIAIcVC/fsCzzwLPP9+xn+vq9AKXXp4h1gFjWVlZLCwsjIWEhLBVq1a1eM0zzzzDgoODmcFgYAcOHGjxGhFDIkR0V64wNmAAYz/91LGf6+rBhpkmE9NqNCzay4tpNRqWaTJ1LAAH8PjsiXLHuro6FhQUxIqKilh1dTUzGAzsyJEjTa7ZsWMHmzJlCmOMsR9//JENHz685YAoASny5FN38t57jN13H2P19R37ua6+rs5+X/D47InSBbNarQgJCYG/vz/UajViY2Oxbdu2Jtds27YNjz32GABg+PDhuHjxIs6dOyfG7V2KXBZjktbNmgXYbMCXX3bs57q6vMIVl2eIkoBKS0vh5+dnf6zX61FaWtrmNTqdrtk17q7xyaezZs1CfHw8kpKSXH5bTqXp3h1YswZYtAioreUdjbJREVpG5LYYk7RuyhShKP3++7wjUTZRTkbV6XQ4deqU/XFJSQl0Ol2za0432mKupWsapKWl2b82Go0wGo1ihCl7Sj351B2pVMLExKlThWUavXrxjqjjLBYLLBYL3yDEKCTV1tbai9DXr19nBoOBFRQUNLlm+/bt9iJ0Tk4OFaFb0dXREiKtuDjGli/nHYU4eHz2RJsJnZ2djfnz56O+vh4JCQlYvHgx0tPToVKpkJiYCACYO3cusrOz0bNnT2RkZGDYsGHNnodmQstvMSZp3cmTwoGGhw8LG9krGS1GBSUgojx//CPw66/A22/zjqRrKAGBEhBRnspKICwM2LsXCA/nHU3n0VowQhRIqxWG5Bcv5h2J8lALiBARXLsmtH4+/BAYNYp3NJ1DLSBCFKpHD+Dll4EFC4RtXIljKAERIpK4OKCmBvj0U96RKAd1wQgR0e7dwnE+BQXCqRpKQl0wQhRu7FggNBR45x3ekSgDtYAIEdmhQ8C4ccDRo8Ctt/KOxnHUAiLEBURGAv/1X8Dq1bwjkT9qARHiBCUlgMEAHDwINNqFRtZoJjQoARHX8cILQGkpsHEj70gcQ10wkXHfaqAFFJNjXCGmRYuA7GwgL8858TSQ4+/KUZSAJEYxOcYVYvLyApYs6dppqo6Q4+/KUS6dgAjhLSlJ2LLjq694RyJPlIAIcSK1WjjW+bnngLo63tHIjyyL0IQQPqROB6LsCS0mmeVDQogTUReMEMINJSBCCDeKT0DZ2dkIDw9HaGgoVrcy933evHkICQnB0KFDcfDgQe4xmUwmGAwGGAwGjBw5EocOHXJ6TI7E1SA3NxdqtRpbtmyRRUwWiwXR0dGIiIjA6NGjucd06dIlTJ06FUOHDkVkZCQ2SjDTMCEhAf369UNUVFSr10j9PheFcw/dcC4xz6SXMqacnBx24cIFxhhjWVlZTo/J0bgarhszZgy7//772WeffcY9pgsXLrDBgwezkpISxhhjNpuNe0wrVqxgixcvtsej1WpZTU2NU+Pau3cvO3DgAIuMjGzx+1K/z8Wi6BaQHM+kdySmESNGwNvb2/61FEdUOxIXAKxduxbTp09H3759ZRGTyWTCtGnT7IdY9unTh3tMKpUKly9fBgBcvnwZt912G7p3d+54zsiRI9G7d+9Wvy/1+1wsik5AcjyT3pGYGlu/fj0mT57stHg6EteZM2ewdetWzJ49W5LRSEdiOnbsGCorKzF69GjExMTgww8/5B7T3LlzUVBQgAEDBsBgMODNN990akyOkPp9LhbZDcO7kz179iAjIwP/+Mc/eIcCAHj22Web1DykSELtqa2txc8//4xvvvkGVVVVuOuuu3DXXXchODiYW0w7d+5EdHQ0vvnmG/zyyy8YP3488vPz0UuJ5zNzpugEJPaZ9FLFBAD5+flITExEdnZ2m01rKePat28fYmNjwRhDeXk5srKyoFarMXXqVG4x6fV69OnTBz169ECPHj1w7733Ii8vz2kJyJGYMjIykJqaCgAICgpCYGAgCgsLcccddzglJkdI/T4XDecaVJeIeSa9lDEVFxez4OBglpOT49RYOhpXY7NmzXJ6EdqRmI4cOcLGjRvHamtrWVVVFYuIiGCHDx/mGlNKSgpLS0tjjDF29uxZptfrWUVFhdNianDy5EkWERHR4vekfp+LRdEJiDFhFCk0NJQFBwezlStXMsYYe+edd1h6err9mjlz5rCgoCAWFRXF9u/fzz2mp556imm1WhYdHc2GDh3KYmJinB6TI3E19sQTTzg9ATka0yuvvMIGDx7MIiMj2V//+lfuMZ05c4ZNmDCBRUZGssjISGYymZweU1xcHOvfvz/z9PRkfn5+7P333+f+PheD7NaCEULch6JHwQghykYJiBDCDSUgQgg3lIAIIdxQAiKEcEMJiBDCDSUgQgg3lIAIIdwoei0Y4auurg6bN2/GiRMn4OfnB6vVigULFiAwMJB3aEQhqAVEOi0vLw/Tp0/HwIEDwRjDQw89BF9fX3zxxRf497//zTs8ogCUgEinDRs2DJ6ensjJycF9990Ho9GIS5cuYePGjbLYyoPIHyUg0mm5ubmoqKjA4cOHERgYiL1796Jfv34YOnQo79CIQlANiHRadnY2fH19cffdd2Pr1q327VKp9UMcRavhiajKysrwhz/8AZMnT8YjjzzCOxwic5SACCHcUA2IEMINJSBCCDeUgAgh3FACIoRwQwmIEMINJSBCCDeUgAgh3FACIoRw8//GsHvom+1g7gAAAABJRU5ErkJggg==\"\n",
       "  frames[6] = \"data:image/png;base64,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\"\n",
       "  frames[7] = \"data:image/png;base64,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\"\n",
       "  frames[8] = \"data:image/png;base64,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\"\n",
       "  frames[9] = \"data:image/png;base64,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\"\n",
       "\n",
       "\n",
       "    /* set a timeout to make sure all the above elements are created before\n",
       "       the object is initialized. */\n",
       "    setTimeout(function() {\n",
       "        animKEKFCFEWZHCSDNCI = new Animation(frames, img_id, slider_id, 600, loop_select_id);\n",
       "    }, 0);\n",
       "  })()\n",
       "</script>\n"
      ],
      "text/plain": [
       "<matplotlib.animation.FuncAnimation at 0x1152c8550>"
      ]
     },
     "execution_count": 19,
     "metadata": {},
     "output_type": "execute_result"
    }
   ],
   "source": [
    "fig = plt.figure(figsize=(4,4))\n",
    "ax = fig.gca()\n",
    "perceptron = Perceptron([0.1,-0.1],0.02)\n",
    "animation.FuncAnimation(fig, lambda i: animate(i, perceptron, data, ax), frames=10, interval=600, \n",
    "                               blit=False)"
   ]
  },
  {
   "cell_type": "markdown",
   "metadata": {
    "slideshow": {
     "slide_type": "slide"
    }
   },
   "source": [
    "## Self-study\n",
    "\n",
    "* Experiment with the learning rate ($\\alpha$). How it impacts learning?\n",
    "* Create a new data set with a non-linear boundary. What happens now with our perceptron? How would you fix it?"
   ]
  },
  {
   "cell_type": "markdown",
   "metadata": {
    "slideshow": {
     "slide_type": "slide"
    }
   },
   "source": [
    "## Suggested reading\n",
    "\n",
    "* Minsky M. L. and Papert S. A. (1969). *Perceptrons*. Cambridge, MA: MIT Press.\n",
    "* Gallant, S. I. (1990). *Perceptron-based learning algorithms*. IEEE Transactions on Neural Networks, vol. 1, no. 2, pp. 179–191.\n",
    "* Mikel Olazaran (1996). *A Sociological Study of the Official History of the Perceptrons Controversy*. Social Studies of Science 26 (3): 611–659. doi:10.1177/030631296026003005."
   ]
  },
  {
   "cell_type": "markdown",
   "metadata": {
    "slideshow": {
     "slide_type": "skip"
    }
   },
   "source": [
    "<hr/>\n",
    "<div class=\"container-fluid\">\n",
    "  <div class='well'>\n",
    "      <div class=\"row\">\n",
    "          <div class=\"col-md-3\" align='center'>\n",
    "              <img align='center'alt=\"Creative Commons License\" style=\"border-width:0\" src=\"https://i.creativecommons.org/l/by-nc-sa/4.0/88x31.png\"/>\n",
    "          </div>\n",
    "          <div class=\"col-md-9\">\n",
    "              This work is licensed under a [Creative Commons Attribution-NonCommercial-ShareAlike 4.0 International License](http://creativecommons.org/licenses/by-nc-sa/4.0/).\n",
    "          </div>\n",
    "      </div>\n",
    "  </div>\n",
    "</div>"
   ]
  },
  {
   "cell_type": "code",
   "execution_count": 20,
   "metadata": {
    "collapsed": false,
    "slideshow": {
     "slide_type": "skip"
    }
   },
   "outputs": [
    {
     "data": {
      "application/json": {
       "Software versions": [
        {
         "module": "Python",
         "version": "3.5.1 64bit [GCC 4.2.1 (Apple Inc. build 5577)]"
        },
        {
         "module": "IPython",
         "version": "4.2.0"
        },
        {
         "module": "OS",
         "version": "Darwin 15.4.0 x86_64 i386 64bit"
        },
        {
         "module": "scipy",
         "version": "0.17.0"
        },
        {
         "module": "numpy",
         "version": "1.10.4"
        },
        {
         "module": "matplotlib",
         "version": "1.5.1"
        }
       ]
      },
      "text/html": [
       "<table><tr><th>Software</th><th>Version</th></tr><tr><td>Python</td><td>3.5.1 64bit [GCC 4.2.1 (Apple Inc. build 5577)]</td></tr><tr><td>IPython</td><td>4.2.0</td></tr><tr><td>OS</td><td>Darwin 15.4.0 x86_64 i386 64bit</td></tr><tr><td>scipy</td><td>0.17.0</td></tr><tr><td>numpy</td><td>1.10.4</td></tr><tr><td>matplotlib</td><td>1.5.1</td></tr><tr><td colspan='2'>Wed May 04 10:40:50 2016 BRT</td></tr></table>"
      ],
      "text/latex": [
       "\\begin{tabular}{|l|l|}\\hline\n",
       "{\\bf Software} & {\\bf Version} \\\\ \\hline\\hline\n",
       "Python & 3.5.1 64bit [GCC 4.2.1 (Apple Inc. build 5577)] \\\\ \\hline\n",
       "IPython & 4.2.0 \\\\ \\hline\n",
       "OS & Darwin 15.4.0 x86\\_64 i386 64bit \\\\ \\hline\n",
       "scipy & 0.17.0 \\\\ \\hline\n",
       "numpy & 1.10.4 \\\\ \\hline\n",
       "matplotlib & 1.5.1 \\\\ \\hline\n",
       "\\hline \\multicolumn{2}{|l|}{Wed May 04 10:40:50 2016 BRT} \\\\ \\hline\n",
       "\\end{tabular}\n"
      ],
      "text/plain": [
       "Software versions\n",
       "Python 3.5.1 64bit [GCC 4.2.1 (Apple Inc. build 5577)]\n",
       "IPython 4.2.0\n",
       "OS Darwin 15.4.0 x86_64 i386 64bit\n",
       "scipy 0.17.0\n",
       "numpy 1.10.4\n",
       "matplotlib 1.5.1\n",
       "Wed May 04 10:40:50 2016 BRT"
      ]
     },
     "execution_count": 20,
     "metadata": {},
     "output_type": "execute_result"
    }
   ],
   "source": [
    "%load_ext version_information\n",
    "%version_information scipy, numpy, matplotlib"
   ]
  },
  {
   "cell_type": "code",
   "execution_count": 21,
   "metadata": {
    "collapsed": false,
    "slideshow": {
     "slide_type": "skip"
    }
   },
   "outputs": [
    {
     "data": {
      "text/html": [
       "<link href='https://fonts.googleapis.com/css?family=Inconsolata:400,700' rel='stylesheet' type='text/css'/>\n",
       "<style>\n",
       "@font-face {\n",
       "    font-family: 'Optima';\n",
       "    src: url('fonts/optima-webfont.eot');\n",
       "    src: url('fonts/optima-webfont.eot?#iefix') format('embedded-opentype'),\n",
       "         url('fonts/optima-webfont.woff') format('woff'),\n",
       "         url('fonts/optima-webfont.ttf') format('truetype');\n",
       "    font-weight: normal;\n",
       "    font-style: normal;\n",
       "}\n",
       ".text_cell_render h1 h2 h3 h4 h5 {\n",
       "font-style:regular;\n",
       "font-family: 'Optima', sans-serif;\n",
       "display: block;\n",
       "}\n",
       "/*font-weight: 200;*/\n",
       "/*text-align: left;\n",
       "line-height: 100%;\n",
       "display: block;\n",
       "}*/\n",
       ".text_cell_render h1 {\n",
       "/*font-size: 24pt;*/\n",
       "font-weight: bold;\n",
       "margin-bottom: 0.1em;\n",
       "margin-top: 0.5em;\n",
       "color:#4a4a4a;\n",
       "}\n",
       "\n",
       ".reveal h1 {\n",
       "font-family: 'Optima', sans-serif;\n",
       "/*font-size: 24pt;*/\n",
       "font-weight: bold;\n",
       "margin-bottom: 0.1em;\n",
       "margin-top: 0.5em;\n",
       "color:#4a4a4a;\n",
       "}\n",
       ".text_cell_render h2 {\n",
       "/*font-size: 21pt;*/\n",
       "margin-bottom: 0.1em;\n",
       "margin-top: 0.3em;\n",
       "color:#595959;\n",
       "}\n",
       ".text_cell_render h3 {\n",
       "/*font-size: 19pt;*/\n",
       "margin-bottom: 0.1em;\n",
       "margin-top: 0.3em;\n",
       "color:#595959;\n",
       "}\n",
       ".text_cell_render h4 {\n",
       "/*font-size: 17pt;*/\n",
       "margin-bottom: 0.1em;\n",
       "margin-top: 0.3em;\n",
       "color:#595959;\n",
       "}\n",
       ".text_cell_render h5 {\n",
       "/*font-size: 15pt;*/\n",
       "margin-bottom: 0.1em;\n",
       "margin-top: 0.3em;\n",
       "color:#595959;\n",
       "}\n",
       "div.text_cell_render{\n",
       "font-family: 'Optima', sans-serif;\n",
       "line-height: 120%;\n",
       "font-size: 100%;\n",
       "font-weight: 400;\n",
       "text-align: justify;\n",
       "margin-left:0em;\n",
       "margin-right:0em;\n",
       "}\n",
       ".reveal div.text_cell_render{\n",
       "font-family: 'Optima', sans-serif;\n",
       "line-height: 120%;\n",
       "font-size: 74%;\n",
       "font-weight: 400;\n",
       "text-align: justify;\n",
       "margin-left:0em;\n",
       "margin-right:0em;\n",
       "}\n",
       ".reveal h1 {\n",
       "font-family: 'Optima', sans-serif;\n",
       "/*font-size: 90%; */\n",
       "/*font-size: 24pt;*/\n",
       "font-weight: bold;\n",
       "margin-bottom: 0.1em;\n",
       "margin-top: 0.5em;\n",
       "color:#4a4a4a;\n",
       "}\n",
       ".reveal h2 {\n",
       "font-family: 'Optima', sans-serif;\n",
       "/*font-size: 24pt;*/\n",
       "font-weight: bold;\n",
       "margin-bottom: 0.1em;\n",
       "margin-top: 0.5em;\n",
       "color:#595959;\n",
       "}\n",
       ".reveal h3 {\n",
       "font-family: 'Optima', sans-serif;\n",
       "/*font-size: 24pt;*/\n",
       "font-weight: bold;\n",
       "margin-bottom: 0.1em;\n",
       "margin-top: 0.5em;\n",
       "color:#595959;\n",
       "}\n",
       ".reveal h4 {\n",
       "font-family: 'Optima', sans-serif;\n",
       "font-weight: bold;\n",
       "margin-bottom: 0.1em;\n",
       "margin-top: 0.5em;\n",
       "color:#595959;\n",
       "}\n",
       ".reveal code {\n",
       "font-family: 'Inconsolata', monospace;\n",
       "}\n",
       ".reveal pre {\n",
       "font-family: 'Inconsolata', monospace;\n",
       "}\n",
       "code {\n",
       "font-family: 'Inconsolata', monospace;\n",
       "}\n",
       "pre {\n",
       "font-family: 'Inconsolata', monospace;\n",
       "}\n",
       ".CodeMirror{\n",
       "font-family: \"Inconsolata\", monospace;\n",
       "}\n",
       "/*body{\n",
       "  font-family: 'Optima', sans-serif;\n",
       "}*/\n",
       "</style>\n",
       "<script>\n",
       "    MathJax.Hub.Config({\n",
       "                        TeX: {\n",
       "                           extensions: [\"AMSmath.js\"],\n",
       "                           equationNumbers: { autoNumber: \"AMS\", useLabelIds: true}\n",
       "                           },\n",
       "                tex2jax: {\n",
       "                    inlineMath: [ ['$','$'], [\"\\\\(\",\"\\\\)\"] ],\n",
       "                    displayMath: [ ['$$','$$'], [\"\\\\[\",\"\\\\]\"] ]\n",
       "                },\n",
       "                displayAlign: 'center', // Change this to 'center' to center equations.\n",
       "                \"HTML-CSS\": {\n",
       "                    styles: {'.MathJax_Display': {\"margin\": 4}}\n",
       "                }\n",
       "        });\n",
       "</script>\n"
      ],
      "text/plain": [
       "<IPython.core.display.HTML object>"
      ]
     },
     "execution_count": 21,
     "metadata": {},
     "output_type": "execute_result"
    }
   ],
   "source": [
    "# this code is here only for cosmetic reasons\n",
    "from IPython.core.display import HTML\n",
    "def css_styling():\n",
    "    return HTML(open('custom/custom.include', 'r').read())\n",
    "css_styling()"
   ]
  }
 ],
 "metadata": {
  "kernelspec": {
   "display_name": "Python 3",
   "language": "python",
   "name": "python3"
  },
  "language_info": {
   "codemirror_mode": {
    "name": "ipython",
    "version": 3
   },
   "file_extension": ".py",
   "mimetype": "text/x-python",
   "name": "python",
   "nbconvert_exporter": "python",
   "pygments_lexer": "ipython3",
   "version": "3.5.1"
  }
 },
 "nbformat": 4,
 "nbformat_minor": 0
}
